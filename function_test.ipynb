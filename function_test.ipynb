{
 "cells": [
  {
   "cell_type": "code",
   "execution_count": 4,
   "metadata": {},
   "outputs": [],
   "source": [
    "# Load packages\n",
    "import time\n",
    "from utilities import *"
   ]
  },
  {
   "cell_type": "code",
   "execution_count": 9,
   "metadata": {},
   "outputs": [
    {
     "name": "stdout",
     "output_type": "stream",
     "text": [
      "--- Iteration: 0 ---\n",
      "Bounds: (-1.1,-0.9)\n",
      "Error: 0.20000000000000007\n",
      "--- Iteration: 1 ---\n",
      "Bounds: (-1.1,-0.9)\n",
      "Error: 0.20000000000000007\n",
      "Derivative at mid point: -2.0189654132557466e-05\n",
      "--- Iteration: 2 ---\n",
      "Bounds: (-1.1,-0.9999)\n",
      "Error: 0.10010000000000008\n",
      "Derivative at mid point: 9.2026198952877e-05\n",
      "--- Iteration: 3 ---\n",
      "Bounds: (-1.05005,-0.9999)\n",
      "Error: 0.05014999999999992\n",
      "Derivative at mid point: 3.575469491659544e-05\n",
      "--- Iteration: 4 ---\n",
      "Bounds: (-1.025075,-0.9999)\n",
      "Error: 0.025174999999999947\n",
      "Derivative at mid point: 9.225007598090418e-06\n",
      "--- Iteration: 5 ---\n",
      "Bounds: (-1.0125875,-0.9999)\n",
      "Error: 0.012687499999999963\n",
      "Derivative at mid point: -1.7199358257058428e-06\n",
      "--- Iteration: 6 ---\n",
      "Bounds: (-1.0125875,-1.00614375)\n",
      "Error: 0.006443750000000081\n",
      "Derivative at mid point: 2.132240148333686e-06\n",
      "--- Iteration: 7 ---\n",
      "Bounds: (-1.009465625,-1.00614375)\n",
      "Error: 0.0033218750000001407\n",
      "Derivative at mid point: 1.978074353620185e-06\n",
      "--- Iteration: 8 ---\n",
      "Bounds: (-1.0079046875,-1.00614375)\n",
      "Error: 0.0017609375000000593\n",
      "Derivative at mid point: -1.6444753891953212e-06\n",
      "--- Iteration: 9 ---\n",
      "Bounds: (-1.0079046875,-1.0069242187499998)\n",
      "Error: 0.0009804687500001297\n",
      "Time spent: 273.3152 seconds ---\n"
     ]
    }
   ],
   "source": [
    "# Count time\n",
    "time_start = time.time()\n",
    "\n",
    "ζ_optimal = find_ζ(x_min_RE=1.2,lower=False,bounds=(-1.1,-0.9),ζ_tol=1e-4,ξ_tol=1e-7,max_iter=100,print_option=True)\n",
    "\n",
    "# Print out the time spent\n",
    "time_spent = round(time.time()-time_start,4)\n",
    "print(\"Time spent: %s seconds ---\" % (time_spent))"
   ]
  },
  {
   "cell_type": "code",
   "execution_count": 10,
   "metadata": {},
   "outputs": [
    {
     "data": {
      "text/plain": [
       "-1.007414453125"
      ]
     },
     "execution_count": 10,
     "metadata": {},
     "output_type": "execute_result"
    }
   ],
   "source": [
    "ζ_optimal"
   ]
  },
  {
   "cell_type": "code",
   "execution_count": 11,
   "metadata": {},
   "outputs": [
    {
     "data": {
      "text/plain": [
       "0.008142974014493059"
      ]
     },
     "execution_count": 11,
     "metadata": {},
     "output_type": "execute_result"
    }
   ],
   "source": [
    "risk_premia(ζ_optimal,x_min_RE=1.2,lower=False,ξ_tol=1e-7)"
   ]
  }
 ],
 "metadata": {
  "kernelspec": {
   "display_name": "Python 3",
   "language": "python",
   "name": "python3"
  },
  "language_info": {
   "codemirror_mode": {
    "name": "ipython",
    "version": 3
   },
   "file_extension": ".py",
   "mimetype": "text/x-python",
   "name": "python",
   "nbconvert_exporter": "python",
   "pygments_lexer": "ipython3",
   "version": "3.7.1"
  }
 },
 "nbformat": 4,
 "nbformat_minor": 4
}
