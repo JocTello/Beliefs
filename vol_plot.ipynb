{
 "cells": [
  {
   "cell_type": "code",
   "execution_count": 2,
   "metadata": {},
   "outputs": [],
   "source": [
    "# Load packages\n",
    "import time\n",
    "from utilities import *"
   ]
  },
  {
   "cell_type": "code",
   "execution_count": null,
   "metadata": {},
   "outputs": [],
   "source": [
    "# Count time\n",
    "time_start = time.time()\n",
    "\n",
    "lower = True\n",
    "ζ_optimal = find_ζ_vol(x_min_RE=1.2,lower=lower,bounds=(-1.1,-0.9),ζ_tol=5e-5,ξ_tol=1e-7,max_iter=100,print_option=True)\n",
    "\n",
    "# Print out the time spent\n",
    "time_spent = round(time.time()-time_start,4)\n",
    "print(\"Time spent: %s seconds ---\" % (time_spent))"
   ]
  },
  {
   "cell_type": "code",
   "execution_count": null,
   "metadata": {},
   "outputs": [],
   "source": [
    "ζ_optimal"
   ]
  },
  {
   "cell_type": "code",
   "execution_count": null,
   "metadata": {},
   "outputs": [],
   "source": [
    "volatility(ζ_optimal,x_min_RE=1.2,lower=lower,ξ_tol=1e-7)"
   ]
  },
  {
   "cell_type": "code",
   "execution_count": 3,
   "metadata": {},
   "outputs": [],
   "source": [
    "# Min RE\n",
    "solver = InterDivConstraint(tol=1e-9,max_iter=1000)\n",
    "solver.g = solver.log_Rw\n",
    "result = solver.iterate(100.,lower=True)\n",
    "\n",
    "g1 = np.exp(solver.log_Rw)\n",
    "g2 = solver.log_Rw\n",
    "\n",
    "# Calculate volatility, distorted, under min case\n",
    "# Term 1\n",
    "moment_bound_cond_g1 = []\n",
    "for i in np.arange(1,solver.n_states+1,1):\n",
    "    temp = np.mean(result['N'][solver.pd_lag_indicator[:,i-1]]*g1[solver.pd_lag_indicator[:,i-1]])\n",
    "    moment_bound_cond_g1.append(temp)\n",
    "moment_bound_cond_g1 = np.array(moment_bound_cond_g1)\n",
    "moment_bound_g1 = moment_bound_cond_g1@result['π_tilde']\n",
    "\n",
    "# Term 2\n",
    "moment_bound_cond_g2 = []\n",
    "for i in np.arange(1,solver.n_states+1,1):\n",
    "    temp = np.mean(result['N'][solver.pd_lag_indicator[:,i-1]]*g2[solver.pd_lag_indicator[:,i-1]])\n",
    "    moment_bound_cond_g2.append(temp)\n",
    "moment_bound_cond_g2 = np.array(moment_bound_cond_g2)\n",
    "moment_bound_g2 = moment_bound_cond_g2@result['π_tilde']\n",
    "\n",
    "# Combine term 1 and term 2\n",
    "vol_min = np.log(moment_bound_g1) - moment_bound_g2\n",
    "vol_cond_min = np.log(moment_bound_cond_g1) - moment_bound_cond_g2"
   ]
  },
  {
   "cell_type": "code",
   "execution_count": 4,
   "metadata": {},
   "outputs": [],
   "source": [
    "# 20% higher RE, lower bound\n",
    "vol_lower, vol_cond_lower, vol_empirical, vol_cond_empirical = volatility(-1.0074,x_min_RE=1.2,lower=True,ξ_tol=1e-7)\n",
    "\n",
    "# 20% higher RE, upper bound\n",
    "vol_upper, vol_cond_upper,_,_ = volatility(-1.009,x_min_RE=1.2,lower=False,ξ_tol=1e-7)"
   ]
  },
  {
   "cell_type": "code",
   "execution_count": 5,
   "metadata": {},
   "outputs": [
    {
     "name": "stdout",
     "output_type": "stream",
     "text": [
      "--- volatility (empirical, annualized) ---\n",
      "State 1: 1.42 \n",
      "State 2: 1.16 \n",
      "State 3: 1.52 \n",
      "Unconditional: 1.39 \n",
      " \n",
      "--- volatility (min rel entropy, annualized) ---\n",
      "State 1: 1.48 \n",
      "State 2: 1.08 \n",
      "State 3: 1.77 \n",
      "Unconditional: 1.41 \n",
      " \n",
      "--- volatility (lower bound, annualized) ---\n",
      "State 1: 1.32 \n",
      "State 2: 0.91 \n",
      "State 3: 1.47 \n",
      "Unconditional: 1.22 \n",
      " \n",
      "--- volatility (upper bound, annualized) ---\n",
      "State 1: 1.66 \n",
      "State 2: 1.27 \n",
      "State 3: 2.11 \n",
      "Unconditional: 1.62 \n"
     ]
    }
   ],
   "source": [
    "print(\"--- volatility (empirical, annualized) ---\")\n",
    "print(\"State 1: %s \" % (np.round(vol_cond_empirical[0]*400,2)))\n",
    "print(\"State 2: %s \" % (np.round(vol_cond_empirical[1]*400,2)))\n",
    "print(\"State 3: %s \" % (np.round(vol_cond_empirical[2]*400,2)))\n",
    "print(\"Unconditional: %s \" % (np.round(vol_empirical*400,2)))\n",
    "print(\" \")\n",
    "print(\"--- volatility (min rel entropy, annualized) ---\")\n",
    "print(\"State 1: %s \" % (np.round(vol_cond_min[0]*400,2)))\n",
    "print(\"State 2: %s \" % (np.round(vol_cond_min[1]*400,2)))\n",
    "print(\"State 3: %s \" % (np.round(vol_cond_min[2]*400,2)))\n",
    "print(\"Unconditional: %s \" % (np.round(vol_min*400,2)))\n",
    "print(\" \")\n",
    "print(\"--- volatility (lower bound, annualized) ---\")\n",
    "print(\"State 1: %s \" % (np.round(vol_cond_lower[0]*400,2)))\n",
    "print(\"State 2: %s \" % (np.round(vol_cond_lower[1]*400,2)))\n",
    "print(\"State 3: %s \" % (np.round(vol_cond_lower[2]*400,2)))\n",
    "print(\"Unconditional: %s \" % (np.round(vol_lower*400,2)))\n",
    "print(\" \")\n",
    "print(\"--- volatility (upper bound, annualized) ---\")\n",
    "print(\"State 1: %s \" % (np.round(vol_cond_upper[0]*400,2)))\n",
    "print(\"State 2: %s \" % (np.round(vol_cond_upper[1]*400,2)))\n",
    "print(\"State 3: %s \" % (np.round(vol_cond_upper[2]*400,2)))\n",
    "print(\"Unconditional: %s \" % (np.round(vol_upper*400,2)))"
   ]
  },
  {
   "cell_type": "code",
   "execution_count": 13,
   "metadata": {},
   "outputs": [
    {
     "data": {
      "image/png": "[encoded data removed]",
      "text/plain": [
       "<Figure size 432x288 with 1 Axes>"
      ]
     },
     "metadata": {
      "needs_background": "light"
     },
     "output_type": "display_data"
    }
   ],
   "source": [
    "import matplotlib.pyplot as plt\n",
    "\n",
    "conditioning = ['low D/P', 'middle D/P', 'high D/P', 'unconditional']\n",
    "min_entropy_implied = np.array([vol_cond_min[0]*400, vol_cond_min[1]*400, vol_cond_min[2]*400, vol_min*400])\n",
    "empirical_average = np.array([vol_cond_empirical[0]*400, vol_cond_empirical[1]*400, vol_cond_empirical[2]*400, vol_empirical*400])\n",
    "\n",
    "# Each number is repeated once in order to form a desirable shape of boxes\n",
    "low_bound_20 = np.array([vol_cond_lower[0]*400, vol_cond_lower[0]*400, vol_cond_upper[0]*400, vol_cond_upper[0]*400]) \n",
    "middle_bound_20 = np.array([vol_cond_lower[1]*400, vol_cond_lower[1]*400, vol_cond_upper[1]*400, vol_cond_upper[1]*400])\n",
    "high_bound_20 = np.array([vol_cond_lower[2]*400,vol_cond_lower[2]*400,vol_cond_upper[2]*400,vol_cond_upper[2]*400])\n",
    "unconditional_bound_20 = np.array([vol_lower*400, vol_lower*400, vol_upper*400, vol_upper*400])\n",
    "\n",
    "fig, ax = plt.subplots()\n",
    "bplot = ax.boxplot(np.vstack((low_bound_20, middle_bound_20, high_bound_20, unconditional_bound_20)).T,\n",
    "               usermedians = min_entropy_implied, #override the automatically calculated median\n",
    "               labels = conditioning, widths = 0.4, \n",
    "               medianprops = dict(linestyle='-.', linewidth = 0, color = 'black'),\n",
    "               patch_artist = True)\n",
    "\n",
    "for box in bplot['boxes']:\n",
    "    box.set(facecolor = 'salmon')\n",
    "\n",
    "splot = ax.scatter(x = np.arange(1, 5), y = empirical_average, c = 'black',zorder=10)\n",
    "\n",
    "ax.axvline(x = 3.5, color = 'black', linestyle = '--', linewidth = 1)\n",
    "\n",
    "ax.set_ylim(0.,3.)\n",
    "\n",
    "plt.show()\n",
    "    \n",
    "fig.savefig(\"volatility_full_20%.png\",dpi=100)"
   ]
  },
  {
   "cell_type": "code",
   "execution_count": null,
   "metadata": {},
   "outputs": [],
   "source": []
  }
 ],
 "metadata": {
  "kernelspec": {
   "display_name": "Python 3",
   "language": "python",
   "name": "python3"
  },
  "language_info": {
   "codemirror_mode": {
    "name": "ipython",
    "version": 3
   },
   "file_extension": ".py",
   "mimetype": "text/x-python",
   "name": "python",
   "nbconvert_exporter": "python",
   "pygments_lexer": "ipython3",
   "version": "3.7.1"
  }
 },
 "nbformat": 4,
 "nbformat_minor": 4
}
