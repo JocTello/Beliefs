{
 "cells": [
  {
   "cell_type": "markdown",
   "metadata": {},
   "source": [
    "# Robust Identification of Investor Beliefs\n",
    "\n",
    "by [Xiaohong Chen](https://economics.yale.edu/people/faculty/xiaohong-chen), [Lars Peter Hansen](http://larspeterhansen.org/) and [Peter G. Hansen](https://mitsloan.mit.edu/phd/students/peter-hansen).\n",
    "\n",
    "The latest draft of the paper can be found [here](http://larspeterhansen.org/research/papers/).\n",
    "\n",
    "Notebook by: Han Xu"
   ]
  },
  {
   "cell_type": "markdown",
   "metadata": {},
   "source": [
    "## 1. Overview\n",
    "\n",
    "This notebook provides source code and explanations for how we solve the dynamic problem in Section 5. It also provides source code for the tables in Section 6. "
   ]
  },
  {
   "cell_type": "markdown",
   "metadata": {},
   "source": [
    "## 2. Intertemporal Divergence\n",
    "\n",
    "Recall Problem 5.4 in the paper:\n",
    "\n",
    "\\begin{equation}\n",
    "\\mu = \\min_{N_1\\in \\mathcal{N}} \\mathbb{E}\\left(N_1\\left[g(X_1)+\\xi\\log N_1 + v_1\\right]\\mid \\mathfrak{I}_0\\right) - v_0\n",
    "\\end{equation}\n",
    "subject to constraints:\n",
    "\\begin{equation}\n",
    "\\mathbb{E}\\left[N_1 f(X_1)\\mid\\mathfrak{I}_0\\right] = 0\n",
    "\\end{equation}\n",
    "\n",
    "By Proposition 5.6, this problem can be solved by finding the solution to:\n",
    "\n",
    "\\begin{equation}\n",
    "\\epsilon = \\min_{\\lambda_0}\\mathbb E \\left(\\exp \\left[-\\frac{1}{\\xi}g(X_1)+\\lambda_0\\cdot f(X_1)\\right]\\left( \\frac{e_1}{e_0}\\right) \\mid \\mathfrak{I}_0\\right)\n",
    "\\end{equation}\n",
    "\n",
    "where\n",
    "\\begin{align*}\n",
    "\\mu &= -\\xi \\log \\epsilon,\\\\\n",
    "v_0 &= -\\xi \\log e_0.\n",
    "\\end{align*}\n",
    "\n",
    "The implied solution for the probablity distortion is:\n",
    "\n",
    "\\begin{equation}\n",
    "N_1^* = \\frac{\\exp \\left[-\\frac{1}{\\xi}g(X_1)+\\lambda^*_0(Z_0)\\cdot f(X_1)\\right]e_1^*}{\\epsilon^*e_0^*}\n",
    "\\end{equation}\n",
    "\n",
    "where $\\lambda^*_0$ is the optimizing choice for $\\lambda_0$ and $\\left(\\epsilon^*,e_0^*\\right)$ are selected to that the resulting $\\sf Q$ implies that the process is stochastically stable. The conditional expectation implied by the bound is\n",
    "\n",
    "\\begin{equation}\n",
    "\\mathbb{E}\\left[N_1^*g(X_1)\\mid \\mathfrak{I}_0\\right]\n",
    "\\end{equation}\n",
    "\n",
    "which in turn implies a bound on the unconditional expectation equal to\n",
    "\n",
    "\\begin{equation}\n",
    "\\int \\mathbb{E}\\left[N_1^*g(X_1)\\mid\\mathfrak{I}_0\\right]d \\sf Q_0^*\n",
    "\\end{equation}\n",
    "\n",
    "The implied relative entropy is\n",
    "\n",
    "\\begin{equation}\n",
    "\\int \\mathbb{E}\\left(N_1^*\\log N_1^*\\mid \\mathfrak{I}_0\\right)d \\sf Q_0^*\n",
    "\\end{equation}"
   ]
  },
  {
   "cell_type": "markdown",
   "metadata": {},
   "source": [
    "## 3. Code Implementation"
   ]
  },
  {
   "cell_type": "code",
   "execution_count": null,
   "metadata": {},
   "outputs": [],
   "source": [
    "# Load packages\n",
    "import time\n",
    "from utilities import *\n",
    "from plotting_module import *"
   ]
  },
  {
   "cell_type": "markdown",
   "metadata": {},
   "source": [
    "### 3.1 Data\n",
    "The file “UnitaryData.csv” contains the following variables:\n",
    "\n",
    "- The first four columns contain Euler equation errors from the unitary risk aversion model corresponding to the 3-month T-bill rate, the market excess return, the SMB excess return, and the HML excess return respectively. Under a feasible belief distortion, all four of these variables should have expectation zero (conditional or unconditional).\n",
    "\n",
    "\n",
    "- The column “d.p” contains the dividend-price ratio for the CRSP value weighted index, computed at the start of the return period. Hence functions of d.p[i] (i.e. quantile indicator functions) are valid instruments for the returns in row i.\n",
    "\n",
    "\n",
    "- The final column “log.RW” contains values of the logarithmic return on wealth. This is the random variable who’s expectation we are intersted in bounding.\n",
    "\n",
    "All returns are quarterly and inflation adjusted."
   ]
  },
  {
   "cell_type": "code",
   "execution_count": null,
   "metadata": {},
   "outputs": [],
   "source": [
    "# Load data\n",
    "data = pd.read_csv('UnitaryData.csv')\n",
    "# Show statistics of the data\n",
    "data.describe()"
   ]
  },
  {
   "cell_type": "markdown",
   "metadata": {},
   "source": [
    "We first compute the terciles of dividend-price ratio and form indicator functions of these terciles. Then we multiply the first four columns by the indicator functions to form a 12-dimensional $f$. The last column log.RW is our $g$."
   ]
  },
  {
   "cell_type": "markdown",
   "metadata": {},
   "source": [
    "### 3.2 Computational Strategy\n",
    "\n",
    "In our application, we just have 3 distinct states, so we can represent the function $e(\\cdot)$ as a 3-dimensional vector. Additionally, we are free to impose the normalization $e_1=1$. We can solve the dual problem numerically by something analogous to value function iteration for $e=(1,e_2,e_3)$. Here is the iteration scheme:\n",
    "\n",
    "1\\. Guess $e=(1,1,1)$.\n",
    "\n",
    "2\\. For $k \\in \\{1,2,3\\}$, solve\n",
    "\\begin{equation}\n",
    "v_k = \\min_{\\lambda_0} \\hat{\\mathbb{E}}\\left(\\exp \\left[-\\frac{1}{\\xi}g(X_1) + \\lambda_0f(X_1)\\right]e(X_1)\\mid \\text{state today = } k\\right)\n",
    "\\end{equation}\n",
    "\n",
    "3\\. Store\n",
    "\\begin{align*}\n",
    "\\hat{e} &= v/v_1 \\\\\n",
    "\\hat{\\epsilon} &= v_1 \\\\\n",
    "\\text{error} &= \\|\\hat{e}-e\\|\n",
    "\\end{align*}\n",
    "\n",
    "4\\. Set $e = \\hat{e}$.\n",
    "\n",
    "5\\. Iterate steps 2-4 until error is arbitrarily close to zero.\n",
    "\n",
    "Once we have (approximately) stationary values for $\\epsilon$ and $e$, we can form the conditional belief distortion\n",
    "\\begin{equation}\n",
    "N_1 = \\frac{1}{\\epsilon} \\exp \\left[-\\frac{1}{\\xi}g(X_1)+\\lambda_0 \\cdot f(X_1)\\right]\\frac{e_1}{e_0}\n",
    "\\end{equation}\n",
    "\n",
    "To obtain the unconditional relative entropy, we need to average across states using the implied stationary distribution coming from the distorted probabilities. Define a $3\\times 3$ matrix $\\tilde{P}$ by \n",
    "$$\n",
    "\\tilde{P}_{i,j} = \\hat{\\mathbb{E}}\\left[N_1 \\mathcal{1}\\left(\\text{state tomorrow = j}\\right)\\mid \\text{state today = i}\\right]\n",
    "$$\n",
    "\n",
    "We should have that $\\tilde{P}$ is a transition probability matrix, so $\\tilde{P}\\mathcal{1}=\\mathcal{1}$. Next, solve for the stationary distribution $\\pi\\in \\mathbb{R}^3$ as the dominant left eigenvector of $\\tilde{P}$, i.e.\n",
    "\\begin{equation}\n",
    "\\tilde{\\pi}^\\prime \\tilde{P} = \\tilde{\\pi}^\\prime\n",
    "\\end{equation}\n",
    "\n",
    "Then, the unconditional relative entropy can be computed as\n",
    "\\begin{equation}\n",
    "\\text{RE}(\\xi) = \\sum_{k=1}^{3}\\hat{\\mathbb{E}}\\left[N_1\\log N_1 \\mid \\text{state today = k}\\right]\\cdot \\tilde{\\pi}_k\n",
    "\\end{equation}"
   ]
  },
  {
   "cell_type": "code",
   "execution_count": null,
   "metadata": {},
   "outputs": [],
   "source": [
    "# Initialize the solver\n",
    "solver = InterDivConstraint(tol=1e-10,max_iter=1000)\n",
    "\n",
    "# Define g(X) = log Rw\n",
    "solver.g = solver.log_Rw\n",
    "\n",
    "# Set ξ, corresponding to 110% min RE\n",
    "ξ = 0.2  \n",
    "\n",
    "time_start = time.time() \n",
    "result_lower = solver.iterate(ξ,lower=True)\n",
    "result_upper = solver.iterate(ξ,lower=False)\n",
    "time_spent = round(time.time()-time_start,4)"
   ]
  },
  {
   "cell_type": "markdown",
   "metadata": {},
   "source": [
    "### 3.3 Results"
   ]
  },
  {
   "cell_type": "code",
   "execution_count": null,
   "metadata": {
    "scrolled": false
   },
   "outputs": [],
   "source": [
    "# Print iteration information\n",
    "print(\"--- Iteration Ends ---\")\n",
    "print(\"ξ = %s\" % ξ)\n",
    "print(\"Time spent: %s seconds ---\" % (time_spent))\n",
    "\n",
    "# Print converged parameter results\n",
    "print(\"\\n\")\n",
    "print(\"--- Converged vlues for the lower bound problem ---\")\n",
    "print(\"ϵ: %s\" % result_lower['ϵ'])\n",
    "print(\"e: %s\" % result_lower['e'])\n",
    "print(\"λ: %s\" % result_lower['λ'])\n",
    "print(\"μ: %s\" % result_lower['μ'])\n",
    "\n",
    "print(\" \")\n",
    "print(\"--- Converged vlues for the upper bound problem ---\")\n",
    "print(\"ϵ: %s\" % result_upper['ϵ'])\n",
    "print(\"e: %s\" % result_upper['e'])\n",
    "print(\"λ: %s\" % result_upper['λ'])\n",
    "print(\"μ: %s\" % result_upper['μ'])\n",
    "\n",
    "# Print transition probability matrix under the original empirical probability\n",
    "print(\"\\n\")\n",
    "print(\"--- Transition Probability Matrix (Original) ---\")\n",
    "print(result_lower['P'])\n",
    "\n",
    "# Print transition probability matrix under distorted probability, lower bound\n",
    "print(\" \")\n",
    "print(\"--- Transition Probability Matrix (Distorted, lower bound problem) ---\")\n",
    "print(result_lower['P_tilde'])\n",
    "\n",
    "# Print transition probability matrix under distorted probability, upper bound\n",
    "print(\" \")\n",
    "print(\"--- Transition Probability Matrix (Distorted, upper bound problem) ---\")\n",
    "print(result_upper['P_tilde'])\n",
    "\n",
    "\n",
    "# Print stationary distribution under the original empirical probability\n",
    "print(\"\\n\")\n",
    "print(\"--- Stationary Distribution (Original) ---\")\n",
    "print(result_lower['π'])\n",
    "\n",
    "# Print stationary distribution under distorted probability, lower bound\n",
    "print(\" \")\n",
    "print(\"--- Stationary Distribution (Distorted, lower bound problem) ---\")\n",
    "print(result_lower['π_tilde'])\n",
    "\n",
    "# Print stationary distribution under distorted probability, upper bound\n",
    "print(\" \")\n",
    "print(\"--- Stationary Distribution (Distorted, upper bound problem) ---\")\n",
    "print(result_upper['π_tilde'])\n",
    "\n",
    "# Print relative entropy\n",
    "print(\"\\n\")\n",
    "print(\"--- Relative Entropy (lower bound problem) ---\")\n",
    "print(\"E[MlogM|state 1] = %s \" % result_lower['RE_cond'][0])\n",
    "print(\"E[MlogM|state 2] = %s \" % result_lower['RE_cond'][1])\n",
    "print(\"E[MlogM|state 3] = %s \" % result_lower['RE_cond'][2])\n",
    "print(\"E[MlogM]         = %s \" % result_lower['RE'])\n",
    "\n",
    "# Print relative entropy\n",
    "print(\" \")\n",
    "print(\"--- Relative Entropy (Upper bound problem) ---\")\n",
    "print(\"E[MlogM|state 1] = %s \" % result_upper['RE_cond'][0])\n",
    "print(\"E[MlogM|state 2] = %s \" % result_upper['RE_cond'][1])\n",
    "print(\"E[MlogM|state 3] = %s \" % result_upper['RE_cond'][2])\n",
    "print(\"E[MlogM]         = %s \" % result_upper['RE'])\n",
    "\n",
    "# Print conditional moment & bounds\n",
    "print(\"\\n\")\n",
    "print(\"--- Moment (Original, annualized, %) ---\")\n",
    "print(\"E[g(X)|state 1]  = %s \" % (result_lower['moment_cond'][0]*400))\n",
    "print(\"E[g(X)|state 2]  = %s \" % (result_lower['moment_cond'][1]*400))\n",
    "print(\"E[g(X)|state 3]  = %s \" % (result_lower['moment_cond'][2]*400))\n",
    "print(\"E[g(X)]  = %s \" % (result_lower['moment']*400))\n",
    "print(\" \")\n",
    "print(\"--- Moment (Lower bound, annualized, %) ---\")\n",
    "print(\"E[Mg(X)|state 1] = %s \" % (result_lower['moment_bound_cond'][0]*400))\n",
    "print(\"E[Mg(X)|state 2] = %s \" % (result_lower['moment_bound_cond'][1]*400))\n",
    "print(\"E[Mg(X)|state 3] = %s \" % (result_lower['moment_bound_cond'][2]*400))\n",
    "print(\"E[Mg(X)] = %s \" % (result_lower['moment_bound']*400))\n",
    "print(\" \")\n",
    "print(\"--- Moment (Upper bound, annualized, %) ---\")\n",
    "print(\"E[Mg(X)|state 1] = %s \" % (result_upper['moment_bound_cond'][0]*400))\n",
    "print(\"E[Mg(X)|state 2] = %s \" % (result_upper['moment_bound_cond'][1]*400))\n",
    "print(\"E[Mg(X)|state 3] = %s \" % (result_upper['moment_bound_cond'][2]*400))\n",
    "print(\"E[Mg(X)] = %s \" % (result_upper['moment_bound']*400))"
   ]
  },
  {
   "cell_type": "markdown",
   "metadata": {},
   "source": [
    "### 3.4 Plots"
   ]
  },
  {
   "cell_type": "code",
   "execution_count": null,
   "metadata": {},
   "outputs": [],
   "source": [
    "time_start = time.time() \n",
    "entropy_moment_bounds()\n",
    "print(\"Time spent: %s seconds ---\" % (round(time.time()-time_start,4)))"
   ]
  },
  {
   "cell_type": "code",
   "execution_count": null,
   "metadata": {},
   "outputs": [],
   "source": [
    "import numpy as np\n",
    "import matplotlib.pyplot as plt\n",
    "\n",
    "conditioning = ['low D/P', 'middle D/P', 'high D/P', 'unconditional']\n",
    "min_entropy_implied = np.array([2.18, 2.73, 4.80, 2.40])\n",
    "empirical_average = np.array([5.12, 3.54, 13.90, 7.54])\n",
    "\n",
    "#each number is repeated once in order to form a desirable shape of boxes\n",
    "low_bound_20 = np.array([1.54, 1.54, 2.96, 2.96]) \n",
    "middle_bound_20 = np.array([2.54, 2.54, 2.93, 2.93])\n",
    "high_bound_20 = np.array([4.54,4.54,5.10,5.10])\n",
    "unconditional_bound_20 = np.array([1.72, 1.72, 3.13, 3.13])\n",
    "\n",
    "fig, ax = plt.subplots()\n",
    "bplot = ax.boxplot(np.vstack((low_bound_20, middle_bound_20, high_bound_20, unconditional_bound_20)).T,\n",
    "                   usermedians = min_entropy_implied, #override the automatically calculated median\n",
    "                   labels = conditioning, widths = 0.4, \n",
    "                   medianprops = dict(linestyle='-.', linewidth = 0, color = 'black'),\n",
    "                   patch_artist = True)\n",
    "\n",
    "for box in bplot['boxes']:\n",
    "    box.set(facecolor = 'salmon')\n",
    "\n",
    "splot = ax.scatter(x = np.arange(1, 5), y = empirical_average, c = 'black')\n",
    "\n",
    "ax.axvline(x = 3.5, color = 'black', linestyle = '--', linewidth = 1)\n",
    "\n",
    "#ax.legend([bplot[\"boxes\"][0], splot], ['distorted', 'empirical'], loc='upper left')\n",
    "\n",
    "#ax.set_title('20%')\n",
    "plt.show()\n",
    "#fig.savefig(\"box_20%.png\")"
   ]
  },
  {
   "cell_type": "markdown",
   "metadata": {},
   "source": [
    "## 4. Tables in Section 6"
   ]
  }
 ],
 "metadata": {
  "kernelspec": {
   "display_name": "Python 3",
   "language": "python",
   "name": "python3"
  },
  "language_info": {
   "codemirror_mode": {
    "name": "ipython",
    "version": 3
   },
   "file_extension": ".py",
   "mimetype": "text/x-python",
   "name": "python",
   "nbconvert_exporter": "python",
   "pygments_lexer": "ipython3",
   "version": "3.7.1"
  }
 },
 "nbformat": 4,
 "nbformat_minor": 4
}
