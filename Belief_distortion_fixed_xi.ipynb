{
 "cells": [
  {
   "cell_type": "code",
   "execution_count": 5,
   "metadata": {},
   "outputs": [],
   "source": [
    "# Load packages\n",
    "import time\n",
    "import numpy as np\n",
    "import pandas as pd\n",
    "from numba import jit,float64\n",
    "from scipy.optimize import minimize"
   ]
  },
  {
   "cell_type": "code",
   "execution_count": 6,
   "metadata": {},
   "outputs": [],
   "source": [
    "# Load data\n",
    "data = pd.read_csv('UnitaryData.csv')\n",
    "pd_lag = np.array(data['d.p'])\n",
    "\n",
    "# Calculate terciles for pd ratio\n",
    "tercile_1 = np.quantile(pd_lag,1./3)\n",
    "tercile_2 = np.quantile(pd_lag,2./3)\n",
    "\n",
    "# Calculate indicator based on today's pd ratio\n",
    "pd_lag_indicator = np.array([pd_lag <= tercile_1,(pd_lag <= tercile_2) & (pd_lag > tercile_1),pd_lag > tercile_2]).T\n",
    "\n",
    "# Calculate indicator for tomorrow's pd ratio\n",
    "pd_indicator = pd_lag_indicator[1:]\n",
    "\n",
    "# Drop last row since we do not have tomorrow's pd ratio at that point\n",
    "pd_lag_indicator = pd_lag_indicator[:-1]\n",
    "X = np.array(data[['Rf','Rm-Rf','SMB','HML']])[:-1]\n",
    "f = np.hstack((X * pd_lag_indicator[:,:1],X * pd_lag_indicator[:,1:2],X * pd_lag_indicator[:,2:3]))\n",
    "g = np.array(data['log.RW'])[:-1]"
   ]
  },
  {
   "cell_type": "markdown",
   "metadata": {},
   "source": [
    "## 8 Intertemporal Divergence Constraints\n",
    "\n",
    "### Proposition 8.6\n",
    "Problem 8.4 can be solved by finding the solution to:\n",
    "\n",
    "\\begin{equation}\n",
    "\\epsilon = \\min_\\hat{\\lambda}\\mathbb E \\left(\\exp \\left[-\\frac{1}{\\xi}g(X_1)+\\hat{\\lambda}\\cdot f(X_1)\\right]\\left( \\frac{e_1}{e_0}\\right) \\mid \\mathfrak{F}_0\\right)\n",
    "\\end{equation}\n",
    "\n",
    "*where*\n",
    "\\begin{align*}\n",
    "\\mu &= -\\xi \\log \\epsilon,\\\\\n",
    "v_0 &= -\\xi \\log e_0.\n",
    "\\end{align*}\n",
    "\n",
    "Denote $e_0^*$, $e_1^*$, $\\hat{\\lambda}^*$ as the solution to the above optimization problem. The implied solution for the probablity distortion is:\n",
    "\n",
    "\\begin{equation}\n",
    "M_1^* = \\frac{\\exp \\left[-\\frac{1}{\\xi}g(X_1)+\\hat{\\lambda}^*(Z_0)\\cdot f(X_1)\\right]e_1^*}{\\epsilon^*e_0^*}\n",
    "\\end{equation}"
   ]
  },
  {
   "cell_type": "code",
   "execution_count": 11,
   "metadata": {},
   "outputs": [],
   "source": [
    "def objective(λ):\n",
    "    selector = pd_lag_indicator[:,state-1]\n",
    "    term_1 = -g[selector]/ξ\n",
    "    term_2 = f[:,(state-1)*4:state*4][selector]@λ\n",
    "    term_3 = np.log(pd_indicator[selector]@e)\n",
    "    x = term_1 + term_2 + term_3\n",
    "    # use \"max trick\" to improve accuracy\n",
    "    a = x.max()\n",
    "    # log_E_exp(x)\n",
    "    return np.log(np.sum(np.exp(x-a))) + a\n",
    "\n",
    "def objective_gradient(λ):\n",
    "    selector = pd_lag_indicator[:,state-1]\n",
    "    temp1 = -g[selector]/ξ + f[:,(state-1)*4:state*4][selector]@λ + np.log(pd_indicator[selector]@e)\n",
    "    temp2 = f[:,(state-1)*4:state*4][selector]*(np.exp(temp1.reshape((len(temp1),1)))/np.mean(np.exp(temp1)))\n",
    "    temp3 = np.empty(temp2.shape[1])\n",
    "    for i in range(temp2.shape[1]):\n",
    "        temp3[i] = np.mean(temp2[:,i])\n",
    "    return temp3\n",
    "\n",
    "def min_objective():\n",
    "    model = minimize(objective, \n",
    "                     np.ones(4), \n",
    "                     method='L-BFGS-B',\n",
    "                     jac = objective_gradient,\n",
    "                     tol=1e-10,\n",
    "                     options={'maxiter': 1000})\n",
    "    v = np.exp(model.fun)/np.sum(pd_lag_indicator[:,state-1])\n",
    "    λ = model.x\n",
    "    return v,λ\n",
    "\n",
    "def iteration():\n",
    "    # set global variables\n",
    "    global state\n",
    "    global e\n",
    "    \n",
    "    # initial error\n",
    "    error = 1.\n",
    "    # count times\n",
    "    count = 0\n",
    "\n",
    "    while error > 1e-10:\n",
    "        if count == 0:\n",
    "            # initial guess for e\n",
    "            e = np.array([1,1,1])\n",
    "            # placeholder for v\n",
    "            v = np.zeros(3)   \n",
    "            # placeholder for λ\n",
    "            λ = np.zeros(12)\n",
    "        for k in [1,2,3]:\n",
    "            state = k\n",
    "            v[state-1],λ[(state-1)*4:state*4] = min_objective()\n",
    "        # update e and ϵ\n",
    "        e_old = e\n",
    "        ϵ = v[0]\n",
    "        e = v/v[0]\n",
    "        error = np.max(np.abs(e - e_old))\n",
    "        count += 1\n",
    "        \n",
    "    return ϵ,e,λ,count"
   ]
  },
  {
   "cell_type": "code",
   "execution_count": 32,
   "metadata": {},
   "outputs": [
    {
     "name": "stdout",
     "output_type": "stream",
     "text": [
      "--- 1.0462 seconds ---\n",
      "--- 238 iterations ---\n",
      "--- ϵ: 0.9713812958970629 ---\n",
      "--- e: [1.         0.45242489 0.20311627] ---\n",
      "--- λ: [ 1.63080641  0.36919359 -0.30577571 -0.73402231  1.84110182  0.15889818\n",
      "  0.6526375  -5.89695635  3.12723834 -1.12723834 -3.44674047 -7.91157793] ---\n"
     ]
    }
   ],
   "source": [
    "ξ = 10.\n",
    "\n",
    "time_start = time.time() \n",
    "ϵ,e,λ,count = iteration()\n",
    "\n",
    "print(\"--- %s seconds ---\" % (round(time.time()-time_start,4)))\n",
    "print(\"--- %s iterations ---\" % count)\n",
    "print(\"--- ϵ: %s ---\" % ϵ)\n",
    "print(\"--- e: %s ---\" % e)\n",
    "print(\"--- λ: %s ---\" % λ)"
   ]
  },
  {
   "cell_type": "code",
   "execution_count": 33,
   "metadata": {},
   "outputs": [
    {
     "name": "stdout",
     "output_type": "stream",
     "text": [
      "E[M|state 1] = 0.9999999999953286 \n",
      "E[M|state 2] = 0.9999999997949776 \n",
      "E[M|state 3] = 0.9999999996663353 \n"
     ]
    }
   ],
   "source": [
    "# Calculate M\n",
    "M = 1./ϵ * np.exp(-g/ξ+f@λ) * (pd_indicator@e) / (pd_lag_indicator@e)\n",
    "\n",
    "# Check 1: E[M|state k] = 1\n",
    "print(\"E[M|state 1] = %s \" % np.mean(M[pd_lag_indicator[:,0]]))\n",
    "print(\"E[M|state 2] = %s \" % np.mean(M[pd_lag_indicator[:,1]]))\n",
    "print(\"E[M|state 3] = %s \" % np.mean(M[pd_lag_indicator[:,2]]))"
   ]
  },
  {
   "cell_type": "code",
   "execution_count": 34,
   "metadata": {},
   "outputs": [
    {
     "name": "stdout",
     "output_type": "stream",
     "text": [
      "E[MlogM|state 1] = 0.011489543970283003 \n",
      "E[MlogM|state 2] = 0.06470958916017636 \n",
      "E[MlogM|state 3] = 0.16595891072934774 \n"
     ]
    }
   ],
   "source": [
    "# Calculate  conditional relative entropy\n",
    "RE_1 = np.mean(M[pd_lag_indicator[:,0]]*np.log(M[pd_lag_indicator[:,0]]))\n",
    "RE_2 = np.mean(M[pd_lag_indicator[:,1]]*np.log(M[pd_lag_indicator[:,1]]))\n",
    "RE_3 = np.mean(M[pd_lag_indicator[:,2]]*np.log(M[pd_lag_indicator[:,2]]))\n",
    "\n",
    "# Print conditional relative entropy\n",
    "print(\"E[MlogM|state 1] = %s \" % RE_1)\n",
    "print(\"E[MlogM|state 2] = %s \" % RE_2)\n",
    "print(\"E[MlogM|state 3] = %s \" % RE_3)"
   ]
  },
  {
   "cell_type": "code",
   "execution_count": 35,
   "metadata": {},
   "outputs": [
    {
     "name": "stdout",
     "output_type": "stream",
     "text": [
      "P_tilde:\n",
      " [[0.97856179 0.02143821 0.        ]\n",
      " [0.08214167 0.88190482 0.03595351]\n",
      " [0.         0.17247155 0.82752845]]\n"
     ]
    }
   ],
   "source": [
    "# Calculate transition matrix under the distorted belief\n",
    "P = np.zeros((3,3))\n",
    "for i in [1,2,3]:\n",
    "    for j in [1,2,3]:\n",
    "        P[i-1,j-1] = np.mean(M[pd_lag_indicator[:,i-1]]*pd_indicator[pd_lag_indicator[:,i-1]][:,j-1])\n",
    "# Print out the transition matrix\n",
    "print(\"P_tilde:\\n\", P)\n",
    "# P@np.ones(3).reshape(3,1)"
   ]
  },
  {
   "cell_type": "code",
   "execution_count": 36,
   "metadata": {},
   "outputs": [
    {
     "name": "stdout",
     "output_type": "stream",
     "text": [
      "π = [0.76022678 0.19841213 0.0413611 ]\n"
     ]
    }
   ],
   "source": [
    "# Calculate the stationary distribution\n",
    "A = P.T - np.eye(3)\n",
    "A[-1] = np.ones(3)\n",
    "B = np.zeros(3)\n",
    "B[-1] = 1.\n",
    "π = np.linalg.solve(A, B)\n",
    "# π_check = np.linalg.matrix_power(P, 500)\n",
    "print(\"π = %s\" % π)"
   ]
  },
  {
   "cell_type": "code",
   "execution_count": 37,
   "metadata": {},
   "outputs": [
    {
     "name": "stdout",
     "output_type": "stream",
     "text": [
      "E[MlogM] = 0.028438069060564265\n"
     ]
    }
   ],
   "source": [
    "# Calculate unconditional relative entropy\n",
    "RE = np.array([RE_1,RE_2,RE_3]) @ π\n",
    "print(\"E[MlogM] = %s\" % RE)"
   ]
  },
  {
   "cell_type": "code",
   "execution_count": 42,
   "metadata": {},
   "outputs": [
    {
     "name": "stdout",
     "output_type": "stream",
     "text": [
      "E[Mg(X)] = -0.2814770702010629\n"
     ]
    }
   ],
   "source": [
    "# Implied moment bound, 1st approach: use \\mu-\\xi*RE\n",
    "μ = - 1./ξ * np.log(ϵ)\n",
    "moment_bound = μ - ξ*RE\n",
    "\n",
    "print(\"E[Mg(X)] = %s\" % moment_bound)"
   ]
  },
  {
   "cell_type": "code",
   "execution_count": 39,
   "metadata": {},
   "outputs": [],
   "source": [
    "# Implied moment bound, 2nd approach: use E[Mg(X)|state]π\n",
    "Mg_1 = np.mean(M[pd_lag_indicator[:,0]]*g[pd_lag_indicator[:,0]])\n",
    "Mg_2 = np.mean(M[pd_lag_indicator[:,1]]*g[pd_lag_indicator[:,1]])\n",
    "Mg_3 = np.mean(M[pd_lag_indicator[:,2]]*g[pd_lag_indicator[:,2]])\n",
    "moment_bound_check = np.array([Mg_1,Mg_2,Mg_3]) @ π"
   ]
  },
  {
   "cell_type": "code",
   "execution_count": 40,
   "metadata": {},
   "outputs": [
    {
     "data": {
      "text/plain": [
       "0.005980572378843476"
      ]
     },
     "execution_count": 40,
     "metadata": {},
     "output_type": "execute_result"
    }
   ],
   "source": [
    "moment_bound_check"
   ]
  },
  {
   "cell_type": "code",
   "execution_count": 51,
   "metadata": {},
   "outputs": [
    {
     "data": {
      "text/plain": [
       "0.003076951974263723"
      ]
     },
     "execution_count": 51,
     "metadata": {},
     "output_type": "execute_result"
    }
   ],
   "source": [
    "moment_bound_check - μ"
   ]
  },
  {
   "cell_type": "code",
   "execution_count": 52,
   "metadata": {},
   "outputs": [
    {
     "data": {
      "text/plain": [
       "0.028438069060564265"
      ]
     },
     "execution_count": 52,
     "metadata": {},
     "output_type": "execute_result"
    }
   ],
   "source": [
    "RE"
   ]
  }
 ],
 "metadata": {
  "kernelspec": {
   "display_name": "Python 3",
   "language": "python",
   "name": "python3"
  },
  "language_info": {
   "codemirror_mode": {
    "name": "ipython",
    "version": 3
   },
   "file_extension": ".py",
   "mimetype": "text/x-python",
   "name": "python",
   "nbconvert_exporter": "python",
   "pygments_lexer": "ipython3",
   "version": "3.7.1"
  }
 },
 "nbformat": 4,
 "nbformat_minor": 4
}
