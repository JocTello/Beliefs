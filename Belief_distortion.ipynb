{
 "cells": [
  {
   "cell_type": "code",
   "execution_count": null,
   "metadata": {},
   "outputs": [],
   "source": [
    "import time\n",
    "import plotly.graph_objects as go\n",
    "from plotly.subplots import make_subplots\n",
    "from utilities_s7 import *\n",
    "from utilities_s8 import *"
   ]
  },
  {
   "cell_type": "markdown",
   "metadata": {},
   "source": [
    "## 7 Incorporating Conditional Information"
   ]
  },
  {
   "cell_type": "code",
   "execution_count": 2,
   "metadata": {},
   "outputs": [],
   "source": [
    "# Set k\n",
    "k = 0.5\n",
    "\n",
    "# Set model paramters\n",
    "tol = 1e-8\n",
    "max_iter = 1000\n",
    "\n",
    "solver = StaDivConstraint(tol,max_iter)"
   ]
  },
  {
   "cell_type": "markdown",
   "metadata": {},
   "source": [
    "### 7.1 Approach I\n",
    "\n",
    "#### Basic problem:\n",
    "\n",
    "\\begin{equation}\n",
    "\\min_{M_1\\geq0}{\\mathbb E}\\left[M_1g(X_1)\\right]\n",
    "\\end{equation}\n",
    "*subject to constraints:*\n",
    "\\begin{align*}\n",
    "&{\\mathbb E}\\left[M_1 \\log M_1\\right] \\leq \\kappa, \\\\\n",
    "&{\\mathbb E}\\left[B^j M_1 Y_1\\right] = 0, \\\\\n",
    "&{\\mathbb E}\\left[M_1\\right] = 1.\n",
    "\\end{align*}\n",
    "\n",
    "#### Dual problem:\n",
    "\n",
    "For computational purposes, we solve the dual problem after minimizing over $M_1$.  \n",
    "\n",
    "\\begin{equation*}\n",
    "\\sup_{\\xi>0}\\max_{\\hat{\\lambda}_j}    - \\xi \\log {\\mathbb E} \\left[ \\exp\\left( - {\\frac 1 {\\xi}} \\left[ g(X_1) + \\sum_{j}\\hat{\\lambda}_j \\cdot Y_1B^j \\right] \\right)\\right]  -  \\xi \\kappa  \n",
    "\\end{equation*}\n",
    "\n",
    "$\\hat{\\lambda}$ and $\\xi$ are multipliers on the moment condition and relative entropy constraints. "
   ]
  },
  {
   "cell_type": "code",
   "execution_count": 7,
   "metadata": {},
   "outputs": [
    {
     "data": {
      "text/plain": [
       "{'result': -0.0033416026418756407,\n",
       " 'success': True,\n",
       " 'message': 'Optimization terminated successfully.',\n",
       " 'nit': 88}"
      ]
     },
     "execution_count": 7,
     "metadata": {},
     "output_type": "execute_result"
    }
   ],
   "source": [
    "solver.min_objective(k,approach=1)"
   ]
  },
  {
   "cell_type": "markdown",
   "metadata": {},
   "source": [
    "### 7.2 Approach II\n",
    "\n",
    "#### Basic problem:\n",
    "\n",
    "\\begin{equation}\n",
    "\\min_{M_1\\geq0}{\\mathbb E}\\left[M_1g(X_1)\\right]\n",
    "\\end{equation}\n",
    "*subject to constraints:*\n",
    "\\begin{align*}\n",
    "&{\\mathbb E}\\left[M_1 \\log M_1\\right] \\leq \\kappa, \\\\\n",
    "&{\\mathbb E}\\left[B^j M_1 Y_1\\right] = 0, \\\\\n",
    "&{\\mathbb E}\\left[B^j M_1-B^j\\right] = 0.\n",
    "\\end{align*}\n",
    "\n",
    "#### Dual problem:\n",
    "\n",
    "For computational purposes, we solve the dual problem after minimizing over $M_1$.  \n",
    "\n",
    "\\begin{equation*}\n",
    "\\sup_{\\xi>0}\\max_{\\hat{\\lambda}_j}    - \\xi \\sum_{j}\\mathbb E[B^j]\\log {\\mathbb E} \\left[ \\exp\\left( - {\\frac 1 {\\xi}} \\left[ g(X_1) + \\hat{\\lambda}_j \\cdot Y_1 \\right] \\right)\\right]  -  \\xi \\kappa  \n",
    "\\end{equation*}\n",
    "\n",
    "$\\hat{\\lambda}$ and $\\xi$ are multipliers on the moment condition and relative entropy constraints. "
   ]
  },
  {
   "cell_type": "code",
   "execution_count": 5,
   "metadata": {},
   "outputs": [
    {
     "data": {
      "text/plain": [
       "{'result': -0.00267947461084405,\n",
       " 'success': True,\n",
       " 'message': 'Optimization terminated successfully.',\n",
       " 'nit': 92}"
      ]
     },
     "execution_count": 5,
     "metadata": {},
     "output_type": "execute_result"
    }
   ],
   "source": [
    "solver.min_objective(k,approach=2)"
   ]
  },
  {
   "cell_type": "markdown",
   "metadata": {},
   "source": [
    "### 7.3 Approach III\n",
    "\n",
    "#### Basic problem:\n",
    "\n",
    "\\begin{equation}\n",
    "\\min_{M_1\\geq0}{\\mathbb E}\\left[M_1g(X_1)\\mid\\mathfrak{F}_0\\right]\n",
    "\\end{equation}\n",
    "*subject to constraints:*\n",
    "\\begin{align*}\n",
    "&{\\mathbb E}\\left[M_1 \\log M_1\\mid\\mathfrak{F}_0\\right] \\leq \\kappa, \\\\\n",
    "&{\\mathbb E}\\left[M_1  Y_1\\mid\\mathfrak{F}_0\\right] = 0, \\\\\n",
    "&{\\mathbb E}\\left[M_1\\mid\\mathfrak{F}_0\\right] = 1.\n",
    "\\end{align*}\n",
    "\n",
    "#### Dual problem:\n",
    "For computational purposes, we solve the dual problem after minimizing over $M_1$.  \n",
    "\n",
    "\\begin{equation*}\n",
    "\\sup_{\\xi>0}\\max_{\\hat{\\lambda}}    - \\xi \\log {\\mathbb E} \\left[ \\exp\\left( - {\\frac 1 {\\xi}} \\left[ g(X_1) + \\hat{\\lambda} \\cdot Y_1 \\right] \\right)\\mid\\mathfrak{F}_0\\right]  -  \\xi \\kappa  \n",
    "\\end{equation*}\n",
    "\n",
    "$\\hat{\\lambda}$ and $\\xi$ are multipliers on the moment condition and relative entropy constraints. "
   ]
  },
  {
   "cell_type": "code",
   "execution_count": 12,
   "metadata": {},
   "outputs": [
    {
     "data": {
      "text/plain": [
       "{'result': 0.001516038972147745,\n",
       " 'success': True,\n",
       " 'message': 'Optimization terminated successfully.',\n",
       " 'nit': 68}"
      ]
     },
     "execution_count": 12,
     "metadata": {},
     "output_type": "execute_result"
    }
   ],
   "source": [
    "solver.min_objective(k,approach=3,state=3)"
   ]
  },
  {
   "cell_type": "markdown",
   "metadata": {},
   "source": [
    "## 8 Intertemporal Divergence Constraints\n",
    "\n",
    "### Proposition 8.6\n",
    "Problem 8.4 can be solved by finding the solution to:\n",
    "\n",
    "\\begin{equation}\n",
    "\\epsilon = \\min_\\hat{\\lambda}\\mathbb E \\left(\\exp \\left[-\\frac{1}{\\xi}g(X_1)+\\hat{\\lambda}\\cdot f(X_1)\\right]\\left( \\frac{e_1}{e_0}\\right) \\mid \\mathfrak{F}_0\\right)\n",
    "\\end{equation}\n",
    "\n",
    "*where*\n",
    "\\begin{align*}\n",
    "\\mu &= -\\xi \\log \\epsilon,\\\\\n",
    "v_0 &= -\\xi \\log e_0.\n",
    "\\end{align*}\n",
    "\n",
    "Denote $e^*$, $\\hat{\\lambda}^*$ as the solution to the above optimization problem. The implied solution for the probablity distortion is:\n",
    "\n",
    "\\begin{equation}\n",
    "M_1^* = \\frac{\\exp \\left[-\\frac{1}{\\xi}g(X_1)+\\hat{\\lambda}^*(Z_0)\\cdot f(X_1)\\right]e_1^*}{\\epsilon^*e_0^*}\n",
    "\\end{equation}"
   ]
  },
  {
   "cell_type": "code",
   "execution_count": null,
   "metadata": {},
   "outputs": [],
   "source": [
    "# Set ξ\n",
    "ξ = 1.\n",
    "\n",
    "# Set model paramters\n",
    "tol = 1e-8\n",
    "max_iter = 1000\n",
    "\n",
    "solver = InterDivConstraint(tol,max_iter)\n",
    "\n",
    "time_start = time.time() \n",
    "result = solver.iterate(ξ)\n",
    "\n",
    "# Print iteration information\n",
    "print(\"--- Iteration Ends ---\")\n",
    "print(\"ξ = %s\" % ξ)\n",
    "print(\"Time spent: %s seconds ---\" % (round(time.time()-time_start,4)))\n",
    "print(\"Numer of iterations: %s ---\" % result['count'])\n",
    "\n",
    "# Print converged parameter results\n",
    "print(\"\\n\")\n",
    "print(\"--- Converged parameter vlues ---\")\n",
    "print(\"ϵ: %s\" % result['ϵ'])\n",
    "print(\"e: %s\" % result['e'])\n",
    "print(\"λ: %s\" % result['λ'])\n",
    "print(\"μ: %s\" % result['μ'])\n",
    "\n",
    "# Print E[M|state k]\n",
    "print(\"\\n\")\n",
    "print(\"--- Check 1 ---\")\n",
    "print(\"E[M|state 1] = %s \" % result['E_M_cond'][0])\n",
    "print(\"E[M|state 2] = %s \" % result['E_M_cond'][0])\n",
    "print(\"E[M|state 3] = %s \" % result['E_M_cond'][0])\n",
    "\n",
    "# Print two ways of calculating moment bound\n",
    "print(\"\\n\")\n",
    "print(\"--- Check 2 ---\")\n",
    "print(\"E[Mg(X)] = %s (directly using M)\" % result['moment_bound'])\n",
    "print(\"E[Mg(X)] = %s (indirectly using μ and RE)\" % result['moment_bound_check'])\n",
    "print(\"Difference: %s\" % (result['moment_bound']-result['moment_bound_check']))\n",
    "\n",
    "# Print transition probability matrix\n",
    "print(\"\\n\")\n",
    "print(\"--- Transition Probability Matrix ---\")\n",
    "print(result['P'])\n",
    "\n",
    "# Print stationary distribution\n",
    "print(\"\\n\")\n",
    "print(\"--- Stationary Distribution ---\")\n",
    "print(result['π'])\n",
    "\n",
    "# Print conditional relative entropy\n",
    "print(\"\\n\")\n",
    "print(\"--- Conditional Relative Entropy ---\")\n",
    "print(\"E[MlogM|state 1] = %s \" % result['RE_cond'][0])\n",
    "print(\"E[MlogM|state 2] = %s \" % result['RE_cond'][1])\n",
    "print(\"E[MlogM|state 3] = %s \" % result['RE_cond'][2])\n",
    "\n",
    "# Print unconditional relative entropy\n",
    "print(\"\\n\")\n",
    "print(\"--- Unconditional Relative Entropy ---\")\n",
    "print(\"E[MlogM] = %s \" % result['RE'])\n",
    "\n",
    "# Print conditional moment bound\n",
    "print(\"\\n\")\n",
    "print(\"--- Conditional Moment Bound ---\")\n",
    "print(\"E[Mg(X)|state 1] = %s \" % result['moment_bound_cond'][0])\n",
    "print(\"E[Mg(X)|state 2] = %s \" % result['moment_bound_cond'][1])\n",
    "print(\"E[Mg(X)|state 3] = %s \" % result['moment_bound_cond'][2])\n",
    "\n",
    "# Print unconditional moment bound\n",
    "print(\"\\n\")\n",
    "print(\"--- Unconditional Moment Bound ---\")\n",
    "print(\"E[Mg(X)] = %s \" % result['moment_bound'])"
   ]
  },
  {
   "cell_type": "code",
   "execution_count": null,
   "metadata": {},
   "outputs": [],
   "source": [
    "# Solve the minimization problems over a grid of ξ\n",
    "tol = 1e-8\n",
    "max_iter = 1000\n",
    "\n",
    "solver = InterDivConstraint(tol,max_iter)\n",
    "\n",
    "# Grid for ξ\n",
    "ξ_grid = np.arange(.01,1.,.01)\n",
    "μs = np.zeros_like(ξ_grid)\n",
    "REs = np.zeros_like(ξ_grid)\n",
    "bounds = np.zeros_like(ξ_grid)\n",
    "ϵs = np.zeros_like(ξ_grid)\n",
    "\n",
    "time_start = time.time() \n",
    "for i in range(len(ξ_grid)):\n",
    "    ξ = ξ_grid[i]\n",
    "    result = solver.iterate(ξ)\n",
    "    μs[i] = result['μ']\n",
    "    REs[i] = result['RE']\n",
    "    bounds[i] = result['moment_bound']\n",
    "    ϵs[i] = result['ϵ']\n",
    "\n",
    "print(\"Time spent: %s seconds ---\" % (round(time.time()-time_start,4)))"
   ]
  },
  {
   "cell_type": "code",
   "execution_count": null,
   "metadata": {
    "scrolled": false
   },
   "outputs": [],
   "source": [
    "# Plots for μ and RE\n",
    "fig = make_subplots(rows=1, cols=2)\n",
    "fig.add_trace(\n",
    "    go.Scatter(x=ξ_grid, y=bounds, name='E[Mg(X)]'),\n",
    "    row=1, col=1\n",
    ")\n",
    "fig.add_trace(\n",
    "    go.Scatter(x=ξ_grid, y=REs, name='RE'),\n",
    "    row=1, col=2\n",
    ")\n",
    "fig.update_layout(height=400, width=1000,title_text='Plots over ξ')\n",
    "fig.update_xaxes(rangemode=\"tozero\",title_text='ξ')\n",
    "fig.update_yaxes(rangemode=\"tozero\")\n",
    "fig.show()"
   ]
  },
  {
   "cell_type": "code",
   "execution_count": null,
   "metadata": {},
   "outputs": [],
   "source": []
  }
 ],
 "metadata": {
  "kernelspec": {
   "display_name": "Python 3",
   "language": "python",
   "name": "python3"
  },
  "language_info": {
   "codemirror_mode": {
    "name": "ipython",
    "version": 3
   },
   "file_extension": ".py",
   "mimetype": "text/x-python",
   "name": "python",
   "nbconvert_exporter": "python",
   "pygments_lexer": "ipython3",
   "version": "3.7.1"
  }
 },
 "nbformat": 4,
 "nbformat_minor": 4
}
