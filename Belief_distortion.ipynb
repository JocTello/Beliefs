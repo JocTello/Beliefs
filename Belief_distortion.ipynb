{
 "cells": [
  {
   "cell_type": "code",
   "execution_count": 1,
   "metadata": {},
   "outputs": [],
   "source": [
    "import time\n",
    "import plotly.graph_objects as go\n",
    "from plotly.subplots import make_subplots\n",
    "from utilities_s7 import *\n",
    "from utilities_s8 import *"
   ]
  },
  {
   "cell_type": "markdown",
   "metadata": {},
   "source": [
    "## 7 Incorporating Conditional Information"
   ]
  },
  {
   "cell_type": "code",
   "execution_count": 32,
   "metadata": {},
   "outputs": [],
   "source": [
    "# Set k\n",
    "k = .35\n",
    "\n",
    "# Set model paramters\n",
    "tol = 1e-12\n",
    "max_iter = 1000\n",
    "\n",
    "solver_s7 = StaDivConstraint(tol,max_iter)"
   ]
  },
  {
   "cell_type": "markdown",
   "metadata": {},
   "source": [
    "### 7.1 Approach I\n",
    "\n",
    "#### Basic problem:\n",
    "\n",
    "\\begin{equation}\n",
    "\\min_{M\\geq0}{\\mathbb E}\\left[Mg(X)\\right]\n",
    "\\end{equation}\n",
    "*subject to constraints:*\n",
    "\\begin{align*}\n",
    "&{\\mathbb E}\\left[M \\log M\\right] \\leq \\kappa, \\\\\n",
    "&{\\mathbb E}\\left[B^j M Y\\right] = 0, \\\\\n",
    "&{\\mathbb E}\\left[M\\right] = 1.\n",
    "\\end{align*}\n",
    "\n",
    "#### Dual problem:\n",
    "\n",
    "For computational purposes, we solve the dual problem after minimizing over $M$.  \n",
    "\n",
    "\\begin{equation*}\n",
    "\\sup_{\\xi>0}\\max_{\\hat{\\lambda}_j}    - \\xi \\log {\\mathbb E} \\left[ \\exp\\left( - {\\frac 1 {\\xi}} \\left[ g(X) + \\sum_{j}\\hat{\\lambda}_j \\cdot YB^j \\right] \\right)\\right]  -  \\xi \\kappa  \n",
    "\\end{equation*}\n",
    "\n",
    "$\\hat{\\lambda}$ and $\\xi$ are multipliers on the moment condition and relative entropy constraints. \n",
    "\n",
    "#### "
   ]
  },
  {
   "cell_type": "code",
   "execution_count": 33,
   "metadata": {},
   "outputs": [
    {
     "data": {
      "text/plain": [
       "{'result': -0.0012555407709053032,\n",
       " 'success': True,\n",
       " 'message': b'CONVERGENCE: REL_REDUCTION_OF_F_<=_FACTR*EPSMCH',\n",
       " 'nit': 251,\n",
       " 'ξ': 0.014494884363684863,\n",
       " 'λ': array([-32.51661838,  34.5278038 ,  -1.51313383,  -0.59976914,\n",
       "        -32.71514832,  34.7333553 ,  -2.91885325,  -8.12546545,\n",
       "        -31.43125151,  33.44428399,  -4.7133821 ,  -4.47243499])}"
      ]
     },
     "execution_count": 33,
     "metadata": {},
     "output_type": "execute_result"
    }
   ],
   "source": [
    "solver_s7.solve(k,approach=1)"
   ]
  },
  {
   "cell_type": "markdown",
   "metadata": {},
   "source": [
    "### 7.2 Approach II\n",
    "\n",
    "#### Basic problem:\n",
    "\n",
    "\\begin{equation}\n",
    "\\min_{M\\geq0}{\\mathbb E}\\left[Mg(X)\\right]\n",
    "\\end{equation}\n",
    "*subject to constraints:*\n",
    "\\begin{align*}\n",
    "&{\\mathbb E}\\left[M \\log M\\right] \\leq \\kappa, \\\\\n",
    "&{\\mathbb E}\\left[B^j M Y\\right] = 0, \\\\\n",
    "&{\\mathbb E}\\left[B^j M-B^j\\right] = 0.\n",
    "\\end{align*}\n",
    "\n",
    "#### Dual problem:\n",
    "\n",
    "For computational purposes, we solve the dual problem after minimizing over $M_1$.  \n",
    "\n",
    "\\begin{equation*}\n",
    "\\sup_{\\xi>0}\\max_{\\hat{\\lambda}_j}    - \\xi \\sum_{j}\\mathbb E[B^j]\\log {\\mathbb E} \\left[ \\exp\\left( - {\\frac 1 {\\xi}} \\left[ g(X) + \\hat{\\lambda}_j \\cdot Y \\right] \\right)\\right]  -  \\xi \\kappa  \n",
    "\\end{equation*}\n",
    "\n",
    "$\\hat{\\lambda}$ and $\\xi$ are multipliers on the moment condition and relative entropy constraints. "
   ]
  },
  {
   "cell_type": "code",
   "execution_count": 4,
   "metadata": {},
   "outputs": [
    {
     "data": {
      "text/plain": [
       "{'result': -0.0024944273503736147,\n",
       " 'success': True,\n",
       " 'message': b'CONVERGENCE: REL_REDUCTION_OF_F_<=_FACTR*EPSMCH',\n",
       " 'nit': 205,\n",
       " 'ξ': 0.010298853066474024,\n",
       " 'λ': array([-46.54706704,  48.54715479,  -2.3126995 ,  -0.26138998,\n",
       "        -47.33513665,  49.33582501,  -5.13699403, -11.05599556,\n",
       "        -45.62418906,  47.62300862,  -5.46868445,  -3.53841202])}"
      ]
     },
     "execution_count": 4,
     "metadata": {},
     "output_type": "execute_result"
    }
   ],
   "source": [
    "solver_s7.solve(k,approach=2)"
   ]
  },
  {
   "cell_type": "markdown",
   "metadata": {},
   "source": [
    "### 7.3 Approach III\n",
    "\n",
    "#### Basic problem:\n",
    "\n",
    "\\begin{equation}\n",
    "\\min_{M\\geq0}{\\mathbb E}\\left[Mg(X)\\mid\\mathfrak{F}_0\\right]\n",
    "\\end{equation}\n",
    "*subject to constraints:*\n",
    "\\begin{align*}\n",
    "&{\\mathbb E}\\left[M \\log M\\mid\\mathfrak{F}_0\\right] \\leq \\kappa, \\\\\n",
    "&{\\mathbb E}\\left[M  Y\\mid\\mathfrak{F}_0\\right] = 0, \\\\\n",
    "&{\\mathbb E}\\left[M\\mid\\mathfrak{F}_0\\right] = 1.\n",
    "\\end{align*}\n",
    "\n",
    "#### Dual problem:\n",
    "For computational purposes, we solve the dual problem after minimizing over $M$.  \n",
    "\n",
    "\\begin{equation*}\n",
    "\\sup_{\\xi>0}\\max_{\\hat{\\lambda}}    - \\xi \\log {\\mathbb E} \\left[ \\exp\\left( - {\\frac 1 {\\xi}} \\left[ g(X) + \\hat{\\lambda} \\cdot Y \\right] \\right)\\mid\\mathfrak{F}_0\\right]  -  \\xi \\kappa  \n",
    "\\end{equation*}\n",
    "\n",
    "$\\hat{\\lambda}$ and $\\xi$ are multipliers on the moment condition and relative entropy constraints. "
   ]
  },
  {
   "cell_type": "code",
   "execution_count": 20,
   "metadata": {},
   "outputs": [
    {
     "data": {
      "text/plain": [
       "{'result': -0.007400179754244963,\n",
       " 'success': True,\n",
       " 'message': b'CONVERGENCE: REL_REDUCTION_OF_F_<=_FACTR*EPSMCH',\n",
       " 'nit': 80,\n",
       " 'ξ': 0.011701089944077793,\n",
       " 'λ': array([-40.64950159,  42.65034821,  -1.29198338,  -0.28876155])}"
      ]
     },
     "execution_count": 20,
     "metadata": {},
     "output_type": "execute_result"
    }
   ],
   "source": [
    "solver_s7.solve(k,approach=3,state=1)"
   ]
  },
  {
   "cell_type": "markdown",
   "metadata": {},
   "source": [
    "## 8 Intertemporal Divergence Constraints\n",
    "\n",
    "### Proposition 8.6\n",
    "Problem 8.4 can be solved by finding the solution to:\n",
    "\n",
    "\\begin{equation}\n",
    "\\epsilon = \\min_\\hat{\\lambda}\\mathbb E \\left(\\exp \\left[-\\frac{1}{\\xi}g(X_1)+\\hat{\\lambda}\\cdot f(X_1)\\right]\\left( \\frac{e_1}{e_0}\\right) \\mid \\mathfrak{F}_0\\right)\n",
    "\\end{equation}\n",
    "\n",
    "*where*\n",
    "\\begin{align*}\n",
    "\\mu &= -\\xi \\log \\epsilon,\\\\\n",
    "v_0 &= -\\xi \\log e_0.\n",
    "\\end{align*}\n",
    "\n",
    "Denote $e^*$, $\\hat{\\lambda}^*$ as the solution to the above optimization problem. The implied solution for the probablity distortion is:\n",
    "\n",
    "\\begin{equation}\n",
    "M_1^* = \\frac{\\exp \\left[-\\frac{1}{\\xi}g(X_1)+\\hat{\\lambda}^*(Z_0)\\cdot f(X_1)\\right]e_1^*}{\\epsilon^*e_0^*}\n",
    "\\end{equation}"
   ]
  },
  {
   "cell_type": "code",
   "execution_count": 6,
   "metadata": {},
   "outputs": [
    {
     "name": "stdout",
     "output_type": "stream",
     "text": [
      "--- Iteration Ends ---\n",
      "ξ = 1.0\n",
      "Time spent: 2.3822 seconds ---\n",
      "Numer of iterations: 208 ---\n",
      "\n",
      "\n",
      "--- Converged parameter vlues ---\n",
      "ϵ: 0.9662646505331379\n",
      "e: [1.         0.44191813 0.19224315]\n",
      "λ: [ 1.20464269  0.79535731 -0.31081682 -0.76069675  1.42671132  0.57328868\n",
      "  0.66140712 -5.97031608  2.68482733 -0.68482733 -3.48386646 -7.80331602]\n",
      "μ: 0.034317516936058806\n",
      "\n",
      "\n",
      "--- Check 1 ---\n",
      "E[M|state 1] = 0.9999999999543142 \n",
      "E[M|state 2] = 0.9999999999543142 \n",
      "E[M|state 3] = 0.9999999999543142 \n",
      "\n",
      "\n",
      "--- Check 2 ---\n",
      "E[Mg(X)] = 0.00575620608160032 (directly using M)\n",
      "E[Mg(X)] = 0.005755997437009986 (indirectly using μ and RE)\n",
      "Difference: 2.0864459033403948e-07\n",
      "\n",
      "\n",
      "--- Transition Probability Matrix ---\n",
      "[[0.9795479  0.0204521  0.        ]\n",
      " [0.0840223  0.88101517 0.03496253]\n",
      " [0.         0.17514752 0.82485248]]\n",
      "\n",
      "\n",
      "--- Stationary Distribution ---\n",
      "[0.7739925  0.18839962 0.03760788]\n",
      "\n",
      "\n",
      "--- Conditional Relative Entropy ---\n",
      "E[MlogM|state 1] = 0.012404221376960935 \n",
      "E[MlogM|state 2] = 0.06706674330664886 \n",
      "E[MlogM|state 3] = 0.16819336033938262 \n",
      "\n",
      "\n",
      "--- Unconditional Relative Entropy ---\n",
      "E[MlogM] = 0.02856151949904882 \n",
      "\n",
      "\n",
      "--- Conditional Moment Bound ---\n",
      "E[Mg(X)|state 1] = 0.0052117256171998584 \n",
      "E[Mg(X)|state 2] = 0.006764340164084067 \n",
      "E[Mg(X)|state 3] = 0.01191161009992886 \n",
      "\n",
      "\n",
      "--- Unconditional Moment Bound ---\n",
      "E[Mg(X)] = 0.00575620608160032 \n"
     ]
    }
   ],
   "source": [
    "# Set ξ\n",
    "ξ = 1.\n",
    "\n",
    "# Set model paramters\n",
    "tol = 1e-9\n",
    "max_iter = 1000\n",
    "\n",
    "solver_s8 = InterDivConstraint(tol,max_iter)\n",
    "\n",
    "time_start = time.time() \n",
    "result = solver_s8.iterate(ξ)\n",
    "\n",
    "# Print iteration information\n",
    "print(\"--- Iteration Ends ---\")\n",
    "print(\"ξ = %s\" % ξ)\n",
    "print(\"Time spent: %s seconds ---\" % (round(time.time()-time_start,4)))\n",
    "print(\"Numer of iterations: %s ---\" % result['count'])\n",
    "\n",
    "# Print converged parameter results\n",
    "print(\"\\n\")\n",
    "print(\"--- Converged parameter vlues ---\")\n",
    "print(\"ϵ: %s\" % result['ϵ'])\n",
    "print(\"e: %s\" % result['e'])\n",
    "print(\"λ: %s\" % result['λ'])\n",
    "print(\"μ: %s\" % result['μ'])\n",
    "\n",
    "# Print E[M|state k]\n",
    "print(\"\\n\")\n",
    "print(\"--- Check 1 ---\")\n",
    "print(\"E[M|state 1] = %s \" % result['E_M_cond'][0])\n",
    "print(\"E[M|state 2] = %s \" % result['E_M_cond'][0])\n",
    "print(\"E[M|state 3] = %s \" % result['E_M_cond'][0])\n",
    "\n",
    "# Print two ways of calculating moment bound\n",
    "print(\"\\n\")\n",
    "print(\"--- Check 2 ---\")\n",
    "print(\"E[Mg(X)] = %s (directly using M)\" % result['moment_bound'])\n",
    "print(\"E[Mg(X)] = %s (indirectly using μ and RE)\" % result['moment_bound_check'])\n",
    "print(\"Difference: %s\" % (result['moment_bound']-result['moment_bound_check']))\n",
    "\n",
    "# Print transition probability matrix\n",
    "print(\"\\n\")\n",
    "print(\"--- Transition Probability Matrix ---\")\n",
    "print(result['P'])\n",
    "\n",
    "# Print stationary distribution\n",
    "print(\"\\n\")\n",
    "print(\"--- Stationary Distribution ---\")\n",
    "print(result['π'])\n",
    "\n",
    "# Print conditional relative entropy\n",
    "print(\"\\n\")\n",
    "print(\"--- Conditional Relative Entropy ---\")\n",
    "print(\"E[MlogM|state 1] = %s \" % result['RE_cond'][0])\n",
    "print(\"E[MlogM|state 2] = %s \" % result['RE_cond'][1])\n",
    "print(\"E[MlogM|state 3] = %s \" % result['RE_cond'][2])\n",
    "\n",
    "# Print unconditional relative entropy\n",
    "print(\"\\n\")\n",
    "print(\"--- Unconditional Relative Entropy ---\")\n",
    "print(\"E[MlogM] = %s \" % result['RE'])\n",
    "\n",
    "# Print conditional moment bound\n",
    "print(\"\\n\")\n",
    "print(\"--- Conditional Moment Bound ---\")\n",
    "print(\"E[Mg(X)|state 1] = %s \" % result['moment_bound_cond'][0])\n",
    "print(\"E[Mg(X)|state 2] = %s \" % result['moment_bound_cond'][1])\n",
    "print(\"E[Mg(X)|state 3] = %s \" % result['moment_bound_cond'][2])\n",
    "\n",
    "# Print unconditional moment bound\n",
    "print(\"\\n\")\n",
    "print(\"--- Unconditional Moment Bound ---\")\n",
    "print(\"E[Mg(X)] = %s \" % result['moment_bound'])"
   ]
  },
  {
   "cell_type": "code",
   "execution_count": 24,
   "metadata": {},
   "outputs": [
    {
     "name": "stdout",
     "output_type": "stream",
     "text": [
      "Time spent: 5.1853 seconds ---\n"
     ]
    }
   ],
   "source": [
    "# Solve the minimization problems over a grid of ξ\n",
    "tol = 1e-9\n",
    "max_iter = 1000\n",
    "\n",
    "solver_s8 = InterDivConstraint(tol,max_iter)\n",
    "\n",
    "# Grid for ξ\n",
    "ξ_grid = np.arange(.1,2.,.1)\n",
    "μs = np.zeros_like(ξ_grid)\n",
    "REs = np.zeros_like(ξ_grid)\n",
    "bounds = np.zeros_like(ξ_grid)\n",
    "ϵs = np.zeros_like(ξ_grid)\n",
    "\n",
    "time_start = time.time() \n",
    "for i in range(len(ξ_grid)):\n",
    "    ξ = ξ_grid[i]\n",
    "    result = solver_s8.iterate(ξ)\n",
    "    μs[i] = result['μ']\n",
    "    REs[i] = result['RE']\n",
    "    bounds[i] = result['moment_bound']\n",
    "    ϵs[i] = result['ϵ']\n",
    "\n",
    "print(\"Time spent: %s seconds ---\" % (round(time.time()-time_start,4)))"
   ]
  },
  {
   "cell_type": "code",
   "execution_count": 25,
   "metadata": {
    "scrolled": false
   },
   "outputs": [
    {
     "data": {
      "application/vnd.plotly.v1+json": {
       "config": {
        "plotlyServerURL": "https://plot.ly"
       },
       "data": [
        {
         "name": "E[Mg(X)]",
         "type": "scatter",
         "x": [
          0.1,
          0.2,
          0.30000000000000004,
          0.4,
          0.5,
          0.6,
          0.7000000000000001,
          0.8,
          0.9,
          1,
          1.1,
          1.2000000000000002,
          1.3000000000000003,
          1.4000000000000001,
          1.5000000000000002,
          1.6,
          1.7000000000000002,
          1.8000000000000003,
          1.9000000000000001
         ],
         "xaxis": "x",
         "y": [
          0.0037008990862720196,
          0.004794755641883109,
          0.005186674068077642,
          0.005387904400403172,
          0.0055096850515826265,
          0.005591490190816676,
          0.005650093465479929,
          0.0056940503649815285,
          0.005728575550741196,
          0.00575620608160032,
          0.005778646381575471,
          0.005797392379519553,
          0.005813313660364677,
          0.005827062270011103,
          0.005838888848602717,
          0.0058493072723977925,
          0.005858496598182257,
          0.005866672878411584,
          0.005873963052022205
         ],
         "yaxis": "y"
        },
        {
         "name": "RE",
         "type": "scatter",
         "x": [
          0.1,
          0.2,
          0.30000000000000004,
          0.4,
          0.5,
          0.6,
          0.7000000000000001,
          0.8,
          0.9,
          1,
          1.1,
          1.2000000000000002,
          1.3000000000000003,
          1.4000000000000001,
          1.5000000000000002,
          1.6,
          1.7000000000000002,
          1.8000000000000003,
          1.9000000000000001
         ],
         "xaxis": "x2",
         "y": [
          0.03957377784764999,
          0.031423150969151804,
          0.029791012577360935,
          0.029204862655005166,
          0.02893070840367665,
          0.028780843761201644,
          0.028690114308700103,
          0.02863115667279473,
          0.028590285283799487,
          0.02856151949904882,
          0.028539877910753443,
          0.028523875451949853,
          0.028510960489062702,
          0.028500632028924965,
          0.02849246937178428,
          0.028485707768137393,
          0.028480158884283548,
          0.028475575269825863,
          0.02847162996278931
         ],
         "yaxis": "y2"
        }
       ],
       "layout": {
        "height": 400,
        "template": {
         "data": {
          "bar": [
           {
            "error_x": {
             "color": "#2a3f5f"
            },
            "error_y": {
             "color": "#2a3f5f"
            },
            "marker": {
             "line": {
              "color": "#E5ECF6",
              "width": 0.5
             }
            },
            "type": "bar"
           }
          ],
          "barpolar": [
           {
            "marker": {
             "line": {
              "color": "#E5ECF6",
              "width": 0.5
             }
            },
            "type": "barpolar"
           }
          ],
          "carpet": [
           {
            "aaxis": {
             "endlinecolor": "#2a3f5f",
             "gridcolor": "white",
             "linecolor": "white",
             "minorgridcolor": "white",
             "startlinecolor": "#2a3f5f"
            },
            "baxis": {
             "endlinecolor": "#2a3f5f",
             "gridcolor": "white",
             "linecolor": "white",
             "minorgridcolor": "white",
             "startlinecolor": "#2a3f5f"
            },
            "type": "carpet"
           }
          ],
          "choropleth": [
           {
            "colorbar": {
             "outlinewidth": 0,
             "ticks": ""
            },
            "type": "choropleth"
           }
          ],
          "contour": [
           {
            "colorbar": {
             "outlinewidth": 0,
             "ticks": ""
            },
            "colorscale": [
             [
              0,
              "#0d0887"
             ],
             [
              0.1111111111111111,
              "#46039f"
             ],
             [
              0.2222222222222222,
              "#7201a8"
             ],
             [
              0.3333333333333333,
              "#9c179e"
             ],
             [
              0.4444444444444444,
              "#bd3786"
             ],
             [
              0.5555555555555556,
              "#d8576b"
             ],
             [
              0.6666666666666666,
              "#ed7953"
             ],
             [
              0.7777777777777778,
              "#fb9f3a"
             ],
             [
              0.8888888888888888,
              "#fdca26"
             ],
             [
              1,
              "#f0f921"
             ]
            ],
            "type": "contour"
           }
          ],
          "contourcarpet": [
           {
            "colorbar": {
             "outlinewidth": 0,
             "ticks": ""
            },
            "type": "contourcarpet"
           }
          ],
          "heatmap": [
           {
            "colorbar": {
             "outlinewidth": 0,
             "ticks": ""
            },
            "colorscale": [
             [
              0,
              "#0d0887"
             ],
             [
              0.1111111111111111,
              "#46039f"
             ],
             [
              0.2222222222222222,
              "#7201a8"
             ],
             [
              0.3333333333333333,
              "#9c179e"
             ],
             [
              0.4444444444444444,
              "#bd3786"
             ],
             [
              0.5555555555555556,
              "#d8576b"
             ],
             [
              0.6666666666666666,
              "#ed7953"
             ],
             [
              0.7777777777777778,
              "#fb9f3a"
             ],
             [
              0.8888888888888888,
              "#fdca26"
             ],
             [
              1,
              "#f0f921"
             ]
            ],
            "type": "heatmap"
           }
          ],
          "heatmapgl": [
           {
            "colorbar": {
             "outlinewidth": 0,
             "ticks": ""
            },
            "colorscale": [
             [
              0,
              "#0d0887"
             ],
             [
              0.1111111111111111,
              "#46039f"
             ],
             [
              0.2222222222222222,
              "#7201a8"
             ],
             [
              0.3333333333333333,
              "#9c179e"
             ],
             [
              0.4444444444444444,
              "#bd3786"
             ],
             [
              0.5555555555555556,
              "#d8576b"
             ],
             [
              0.6666666666666666,
              "#ed7953"
             ],
             [
              0.7777777777777778,
              "#fb9f3a"
             ],
             [
              0.8888888888888888,
              "#fdca26"
             ],
             [
              1,
              "#f0f921"
             ]
            ],
            "type": "heatmapgl"
           }
          ],
          "histogram": [
           {
            "marker": {
             "colorbar": {
              "outlinewidth": 0,
              "ticks": ""
             }
            },
            "type": "histogram"
           }
          ],
          "histogram2d": [
           {
            "colorbar": {
             "outlinewidth": 0,
             "ticks": ""
            },
            "colorscale": [
             [
              0,
              "#0d0887"
             ],
             [
              0.1111111111111111,
              "#46039f"
             ],
             [
              0.2222222222222222,
              "#7201a8"
             ],
             [
              0.3333333333333333,
              "#9c179e"
             ],
             [
              0.4444444444444444,
              "#bd3786"
             ],
             [
              0.5555555555555556,
              "#d8576b"
             ],
             [
              0.6666666666666666,
              "#ed7953"
             ],
             [
              0.7777777777777778,
              "#fb9f3a"
             ],
             [
              0.8888888888888888,
              "#fdca26"
             ],
             [
              1,
              "#f0f921"
             ]
            ],
            "type": "histogram2d"
           }
          ],
          "histogram2dcontour": [
           {
            "colorbar": {
             "outlinewidth": 0,
             "ticks": ""
            },
            "colorscale": [
             [
              0,
              "#0d0887"
             ],
             [
              0.1111111111111111,
              "#46039f"
             ],
             [
              0.2222222222222222,
              "#7201a8"
             ],
             [
              0.3333333333333333,
              "#9c179e"
             ],
             [
              0.4444444444444444,
              "#bd3786"
             ],
             [
              0.5555555555555556,
              "#d8576b"
             ],
             [
              0.6666666666666666,
              "#ed7953"
             ],
             [
              0.7777777777777778,
              "#fb9f3a"
             ],
             [
              0.8888888888888888,
              "#fdca26"
             ],
             [
              1,
              "#f0f921"
             ]
            ],
            "type": "histogram2dcontour"
           }
          ],
          "mesh3d": [
           {
            "colorbar": {
             "outlinewidth": 0,
             "ticks": ""
            },
            "type": "mesh3d"
           }
          ],
          "parcoords": [
           {
            "line": {
             "colorbar": {
              "outlinewidth": 0,
              "ticks": ""
             }
            },
            "type": "parcoords"
           }
          ],
          "pie": [
           {
            "automargin": true,
            "type": "pie"
           }
          ],
          "scatter": [
           {
            "marker": {
             "colorbar": {
              "outlinewidth": 0,
              "ticks": ""
             }
            },
            "type": "scatter"
           }
          ],
          "scatter3d": [
           {
            "line": {
             "colorbar": {
              "outlinewidth": 0,
              "ticks": ""
             }
            },
            "marker": {
             "colorbar": {
              "outlinewidth": 0,
              "ticks": ""
             }
            },
            "type": "scatter3d"
           }
          ],
          "scattercarpet": [
           {
            "marker": {
             "colorbar": {
              "outlinewidth": 0,
              "ticks": ""
             }
            },
            "type": "scattercarpet"
           }
          ],
          "scattergeo": [
           {
            "marker": {
             "colorbar": {
              "outlinewidth": 0,
              "ticks": ""
             }
            },
            "type": "scattergeo"
           }
          ],
          "scattergl": [
           {
            "marker": {
             "colorbar": {
              "outlinewidth": 0,
              "ticks": ""
             }
            },
            "type": "scattergl"
           }
          ],
          "scattermapbox": [
           {
            "marker": {
             "colorbar": {
              "outlinewidth": 0,
              "ticks": ""
             }
            },
            "type": "scattermapbox"
           }
          ],
          "scatterpolar": [
           {
            "marker": {
             "colorbar": {
              "outlinewidth": 0,
              "ticks": ""
             }
            },
            "type": "scatterpolar"
           }
          ],
          "scatterpolargl": [
           {
            "marker": {
             "colorbar": {
              "outlinewidth": 0,
              "ticks": ""
             }
            },
            "type": "scatterpolargl"
           }
          ],
          "scatterternary": [
           {
            "marker": {
             "colorbar": {
              "outlinewidth": 0,
              "ticks": ""
             }
            },
            "type": "scatterternary"
           }
          ],
          "surface": [
           {
            "colorbar": {
             "outlinewidth": 0,
             "ticks": ""
            },
            "colorscale": [
             [
              0,
              "#0d0887"
             ],
             [
              0.1111111111111111,
              "#46039f"
             ],
             [
              0.2222222222222222,
              "#7201a8"
             ],
             [
              0.3333333333333333,
              "#9c179e"
             ],
             [
              0.4444444444444444,
              "#bd3786"
             ],
             [
              0.5555555555555556,
              "#d8576b"
             ],
             [
              0.6666666666666666,
              "#ed7953"
             ],
             [
              0.7777777777777778,
              "#fb9f3a"
             ],
             [
              0.8888888888888888,
              "#fdca26"
             ],
             [
              1,
              "#f0f921"
             ]
            ],
            "type": "surface"
           }
          ],
          "table": [
           {
            "cells": {
             "fill": {
              "color": "#EBF0F8"
             },
             "line": {
              "color": "white"
             }
            },
            "header": {
             "fill": {
              "color": "#C8D4E3"
             },
             "line": {
              "color": "white"
             }
            },
            "type": "table"
           }
          ]
         },
         "layout": {
          "annotationdefaults": {
           "arrowcolor": "#2a3f5f",
           "arrowhead": 0,
           "arrowwidth": 1
          },
          "coloraxis": {
           "colorbar": {
            "outlinewidth": 0,
            "ticks": ""
           }
          },
          "colorscale": {
           "diverging": [
            [
             0,
             "#8e0152"
            ],
            [
             0.1,
             "#c51b7d"
            ],
            [
             0.2,
             "#de77ae"
            ],
            [
             0.3,
             "#f1b6da"
            ],
            [
             0.4,
             "#fde0ef"
            ],
            [
             0.5,
             "#f7f7f7"
            ],
            [
             0.6,
             "#e6f5d0"
            ],
            [
             0.7,
             "#b8e186"
            ],
            [
             0.8,
             "#7fbc41"
            ],
            [
             0.9,
             "#4d9221"
            ],
            [
             1,
             "#276419"
            ]
           ],
           "sequential": [
            [
             0,
             "#0d0887"
            ],
            [
             0.1111111111111111,
             "#46039f"
            ],
            [
             0.2222222222222222,
             "#7201a8"
            ],
            [
             0.3333333333333333,
             "#9c179e"
            ],
            [
             0.4444444444444444,
             "#bd3786"
            ],
            [
             0.5555555555555556,
             "#d8576b"
            ],
            [
             0.6666666666666666,
             "#ed7953"
            ],
            [
             0.7777777777777778,
             "#fb9f3a"
            ],
            [
             0.8888888888888888,
             "#fdca26"
            ],
            [
             1,
             "#f0f921"
            ]
           ],
           "sequentialminus": [
            [
             0,
             "#0d0887"
            ],
            [
             0.1111111111111111,
             "#46039f"
            ],
            [
             0.2222222222222222,
             "#7201a8"
            ],
            [
             0.3333333333333333,
             "#9c179e"
            ],
            [
             0.4444444444444444,
             "#bd3786"
            ],
            [
             0.5555555555555556,
             "#d8576b"
            ],
            [
             0.6666666666666666,
             "#ed7953"
            ],
            [
             0.7777777777777778,
             "#fb9f3a"
            ],
            [
             0.8888888888888888,
             "#fdca26"
            ],
            [
             1,
             "#f0f921"
            ]
           ]
          },
          "colorway": [
           "#636efa",
           "#EF553B",
           "#00cc96",
           "#ab63fa",
           "#FFA15A",
           "#19d3f3",
           "#FF6692",
           "#B6E880",
           "#FF97FF",
           "#FECB52"
          ],
          "font": {
           "color": "#2a3f5f"
          },
          "geo": {
           "bgcolor": "white",
           "lakecolor": "white",
           "landcolor": "#E5ECF6",
           "showlakes": true,
           "showland": true,
           "subunitcolor": "white"
          },
          "hoverlabel": {
           "align": "left"
          },
          "hovermode": "closest",
          "mapbox": {
           "style": "light"
          },
          "paper_bgcolor": "white",
          "plot_bgcolor": "#E5ECF6",
          "polar": {
           "angularaxis": {
            "gridcolor": "white",
            "linecolor": "white",
            "ticks": ""
           },
           "bgcolor": "#E5ECF6",
           "radialaxis": {
            "gridcolor": "white",
            "linecolor": "white",
            "ticks": ""
           }
          },
          "scene": {
           "xaxis": {
            "backgroundcolor": "#E5ECF6",
            "gridcolor": "white",
            "gridwidth": 2,
            "linecolor": "white",
            "showbackground": true,
            "ticks": "",
            "zerolinecolor": "white"
           },
           "yaxis": {
            "backgroundcolor": "#E5ECF6",
            "gridcolor": "white",
            "gridwidth": 2,
            "linecolor": "white",
            "showbackground": true,
            "ticks": "",
            "zerolinecolor": "white"
           },
           "zaxis": {
            "backgroundcolor": "#E5ECF6",
            "gridcolor": "white",
            "gridwidth": 2,
            "linecolor": "white",
            "showbackground": true,
            "ticks": "",
            "zerolinecolor": "white"
           }
          },
          "shapedefaults": {
           "line": {
            "color": "#2a3f5f"
           }
          },
          "ternary": {
           "aaxis": {
            "gridcolor": "white",
            "linecolor": "white",
            "ticks": ""
           },
           "baxis": {
            "gridcolor": "white",
            "linecolor": "white",
            "ticks": ""
           },
           "bgcolor": "#E5ECF6",
           "caxis": {
            "gridcolor": "white",
            "linecolor": "white",
            "ticks": ""
           }
          },
          "title": {
           "x": 0.05
          },
          "xaxis": {
           "automargin": true,
           "gridcolor": "white",
           "linecolor": "white",
           "ticks": "",
           "title": {
            "standoff": 15
           },
           "zerolinecolor": "white",
           "zerolinewidth": 2
          },
          "yaxis": {
           "automargin": true,
           "gridcolor": "white",
           "linecolor": "white",
           "ticks": "",
           "title": {
            "standoff": 15
           },
           "zerolinecolor": "white",
           "zerolinewidth": 2
          }
         }
        },
        "width": 1000,
        "xaxis": {
         "anchor": "y",
         "domain": [
          0,
          0.45
         ],
         "rangemode": "tozero",
         "title": {
          "text": "ξ"
         }
        },
        "xaxis2": {
         "anchor": "y2",
         "domain": [
          0.55,
          1
         ],
         "rangemode": "tozero",
         "title": {
          "text": "ξ"
         }
        },
        "yaxis": {
         "anchor": "x",
         "domain": [
          0,
          1
         ],
         "rangemode": "tozero"
        },
        "yaxis2": {
         "anchor": "x2",
         "domain": [
          0,
          1
         ],
         "rangemode": "tozero"
        }
       }
      },
      "text/html": [
       "<div>\n",
       "        \n",
       "        \n",
       "            <div id=\"72404bce-1a58-4601-87da-10c6996835f3\" class=\"plotly-graph-div\" style=\"height:400px; width:1000px;\"></div>\n",
       "            <script type=\"text/javascript\">\n",
       "                require([\"plotly\"], function(Plotly) {\n",
       "                    window.PLOTLYENV=window.PLOTLYENV || {};\n",
       "                    \n",
       "                if (document.getElementById(\"72404bce-1a58-4601-87da-10c6996835f3\")) {\n",
       "                    Plotly.newPlot(\n",
       "                        '72404bce-1a58-4601-87da-10c6996835f3',\n",
       "                        [{\"name\": \"E[Mg(X)]\", \"type\": \"scatter\", \"x\": [0.1, 0.2, 0.30000000000000004, 0.4, 0.5, 0.6, 0.7000000000000001, 0.8, 0.9, 1.0, 1.1, 1.2000000000000002, 1.3000000000000003, 1.4000000000000001, 1.5000000000000002, 1.6, 1.7000000000000002, 1.8000000000000003, 1.9000000000000001], \"xaxis\": \"x\", \"y\": [0.0037008990862720196, 0.004794755641883109, 0.005186674068077642, 0.005387904400403172, 0.0055096850515826265, 0.005591490190816676, 0.005650093465479929, 0.0056940503649815285, 0.005728575550741196, 0.00575620608160032, 0.005778646381575471, 0.005797392379519553, 0.005813313660364677, 0.005827062270011103, 0.005838888848602717, 0.0058493072723977925, 0.005858496598182257, 0.005866672878411584, 0.005873963052022205], \"yaxis\": \"y\"}, {\"name\": \"RE\", \"type\": \"scatter\", \"x\": [0.1, 0.2, 0.30000000000000004, 0.4, 0.5, 0.6, 0.7000000000000001, 0.8, 0.9, 1.0, 1.1, 1.2000000000000002, 1.3000000000000003, 1.4000000000000001, 1.5000000000000002, 1.6, 1.7000000000000002, 1.8000000000000003, 1.9000000000000001], \"xaxis\": \"x2\", \"y\": [0.03957377784764999, 0.031423150969151804, 0.029791012577360935, 0.029204862655005166, 0.02893070840367665, 0.028780843761201644, 0.028690114308700103, 0.02863115667279473, 0.028590285283799487, 0.02856151949904882, 0.028539877910753443, 0.028523875451949853, 0.028510960489062702, 0.028500632028924965, 0.02849246937178428, 0.028485707768137393, 0.028480158884283548, 0.028475575269825863, 0.02847162996278931], \"yaxis\": \"y2\"}],\n",
       "                        {\"height\": 400, \"template\": {\"data\": {\"bar\": [{\"error_x\": {\"color\": \"#2a3f5f\"}, \"error_y\": {\"color\": \"#2a3f5f\"}, \"marker\": {\"line\": {\"color\": \"#E5ECF6\", \"width\": 0.5}}, \"type\": \"bar\"}], \"barpolar\": [{\"marker\": {\"line\": {\"color\": \"#E5ECF6\", \"width\": 0.5}}, \"type\": \"barpolar\"}], \"carpet\": [{\"aaxis\": {\"endlinecolor\": \"#2a3f5f\", \"gridcolor\": \"white\", \"linecolor\": \"white\", \"minorgridcolor\": \"white\", \"startlinecolor\": \"#2a3f5f\"}, \"baxis\": {\"endlinecolor\": \"#2a3f5f\", \"gridcolor\": \"white\", \"linecolor\": \"white\", \"minorgridcolor\": \"white\", \"startlinecolor\": \"#2a3f5f\"}, \"type\": \"carpet\"}], \"choropleth\": [{\"colorbar\": {\"outlinewidth\": 0, \"ticks\": \"\"}, \"type\": \"choropleth\"}], \"contour\": [{\"colorbar\": {\"outlinewidth\": 0, \"ticks\": \"\"}, \"colorscale\": [[0.0, \"#0d0887\"], [0.1111111111111111, \"#46039f\"], [0.2222222222222222, \"#7201a8\"], [0.3333333333333333, \"#9c179e\"], [0.4444444444444444, \"#bd3786\"], [0.5555555555555556, \"#d8576b\"], [0.6666666666666666, \"#ed7953\"], [0.7777777777777778, \"#fb9f3a\"], [0.8888888888888888, \"#fdca26\"], [1.0, \"#f0f921\"]], \"type\": \"contour\"}], \"contourcarpet\": [{\"colorbar\": {\"outlinewidth\": 0, \"ticks\": \"\"}, \"type\": \"contourcarpet\"}], \"heatmap\": [{\"colorbar\": {\"outlinewidth\": 0, \"ticks\": \"\"}, \"colorscale\": [[0.0, \"#0d0887\"], [0.1111111111111111, \"#46039f\"], [0.2222222222222222, \"#7201a8\"], [0.3333333333333333, \"#9c179e\"], [0.4444444444444444, \"#bd3786\"], [0.5555555555555556, \"#d8576b\"], [0.6666666666666666, \"#ed7953\"], [0.7777777777777778, \"#fb9f3a\"], [0.8888888888888888, \"#fdca26\"], [1.0, \"#f0f921\"]], \"type\": \"heatmap\"}], \"heatmapgl\": [{\"colorbar\": {\"outlinewidth\": 0, \"ticks\": \"\"}, \"colorscale\": [[0.0, \"#0d0887\"], [0.1111111111111111, \"#46039f\"], [0.2222222222222222, \"#7201a8\"], [0.3333333333333333, \"#9c179e\"], [0.4444444444444444, \"#bd3786\"], [0.5555555555555556, \"#d8576b\"], [0.6666666666666666, \"#ed7953\"], [0.7777777777777778, \"#fb9f3a\"], [0.8888888888888888, \"#fdca26\"], [1.0, \"#f0f921\"]], \"type\": \"heatmapgl\"}], \"histogram\": [{\"marker\": {\"colorbar\": {\"outlinewidth\": 0, \"ticks\": \"\"}}, \"type\": \"histogram\"}], \"histogram2d\": [{\"colorbar\": {\"outlinewidth\": 0, \"ticks\": \"\"}, \"colorscale\": [[0.0, \"#0d0887\"], [0.1111111111111111, \"#46039f\"], [0.2222222222222222, \"#7201a8\"], [0.3333333333333333, \"#9c179e\"], [0.4444444444444444, \"#bd3786\"], [0.5555555555555556, \"#d8576b\"], [0.6666666666666666, \"#ed7953\"], [0.7777777777777778, \"#fb9f3a\"], [0.8888888888888888, \"#fdca26\"], [1.0, \"#f0f921\"]], \"type\": \"histogram2d\"}], \"histogram2dcontour\": [{\"colorbar\": {\"outlinewidth\": 0, \"ticks\": \"\"}, \"colorscale\": [[0.0, \"#0d0887\"], [0.1111111111111111, \"#46039f\"], [0.2222222222222222, \"#7201a8\"], [0.3333333333333333, \"#9c179e\"], [0.4444444444444444, \"#bd3786\"], [0.5555555555555556, \"#d8576b\"], [0.6666666666666666, \"#ed7953\"], [0.7777777777777778, \"#fb9f3a\"], [0.8888888888888888, \"#fdca26\"], [1.0, \"#f0f921\"]], \"type\": \"histogram2dcontour\"}], \"mesh3d\": [{\"colorbar\": {\"outlinewidth\": 0, \"ticks\": \"\"}, \"type\": \"mesh3d\"}], \"parcoords\": [{\"line\": {\"colorbar\": {\"outlinewidth\": 0, \"ticks\": \"\"}}, \"type\": \"parcoords\"}], \"pie\": [{\"automargin\": true, \"type\": \"pie\"}], \"scatter\": [{\"marker\": {\"colorbar\": {\"outlinewidth\": 0, \"ticks\": \"\"}}, \"type\": \"scatter\"}], \"scatter3d\": [{\"line\": {\"colorbar\": {\"outlinewidth\": 0, \"ticks\": \"\"}}, \"marker\": {\"colorbar\": {\"outlinewidth\": 0, \"ticks\": \"\"}}, \"type\": \"scatter3d\"}], \"scattercarpet\": [{\"marker\": {\"colorbar\": {\"outlinewidth\": 0, \"ticks\": \"\"}}, \"type\": \"scattercarpet\"}], \"scattergeo\": [{\"marker\": {\"colorbar\": {\"outlinewidth\": 0, \"ticks\": \"\"}}, \"type\": \"scattergeo\"}], \"scattergl\": [{\"marker\": {\"colorbar\": {\"outlinewidth\": 0, \"ticks\": \"\"}}, \"type\": \"scattergl\"}], \"scattermapbox\": [{\"marker\": {\"colorbar\": {\"outlinewidth\": 0, \"ticks\": \"\"}}, \"type\": \"scattermapbox\"}], \"scatterpolar\": [{\"marker\": {\"colorbar\": {\"outlinewidth\": 0, \"ticks\": \"\"}}, \"type\": \"scatterpolar\"}], \"scatterpolargl\": [{\"marker\": {\"colorbar\": {\"outlinewidth\": 0, \"ticks\": \"\"}}, \"type\": \"scatterpolargl\"}], \"scatterternary\": [{\"marker\": {\"colorbar\": {\"outlinewidth\": 0, \"ticks\": \"\"}}, \"type\": \"scatterternary\"}], \"surface\": [{\"colorbar\": {\"outlinewidth\": 0, \"ticks\": \"\"}, \"colorscale\": [[0.0, \"#0d0887\"], [0.1111111111111111, \"#46039f\"], [0.2222222222222222, \"#7201a8\"], [0.3333333333333333, \"#9c179e\"], [0.4444444444444444, \"#bd3786\"], [0.5555555555555556, \"#d8576b\"], [0.6666666666666666, \"#ed7953\"], [0.7777777777777778, \"#fb9f3a\"], [0.8888888888888888, \"#fdca26\"], [1.0, \"#f0f921\"]], \"type\": \"surface\"}], \"table\": [{\"cells\": {\"fill\": {\"color\": \"#EBF0F8\"}, \"line\": {\"color\": \"white\"}}, \"header\": {\"fill\": {\"color\": \"#C8D4E3\"}, \"line\": {\"color\": \"white\"}}, \"type\": \"table\"}]}, \"layout\": {\"annotationdefaults\": {\"arrowcolor\": \"#2a3f5f\", \"arrowhead\": 0, \"arrowwidth\": 1}, \"coloraxis\": {\"colorbar\": {\"outlinewidth\": 0, \"ticks\": \"\"}}, \"colorscale\": {\"diverging\": [[0, \"#8e0152\"], [0.1, \"#c51b7d\"], [0.2, \"#de77ae\"], [0.3, \"#f1b6da\"], [0.4, \"#fde0ef\"], [0.5, \"#f7f7f7\"], [0.6, \"#e6f5d0\"], [0.7, \"#b8e186\"], [0.8, \"#7fbc41\"], [0.9, \"#4d9221\"], [1, \"#276419\"]], \"sequential\": [[0.0, \"#0d0887\"], [0.1111111111111111, \"#46039f\"], [0.2222222222222222, \"#7201a8\"], [0.3333333333333333, \"#9c179e\"], [0.4444444444444444, \"#bd3786\"], [0.5555555555555556, \"#d8576b\"], [0.6666666666666666, \"#ed7953\"], [0.7777777777777778, \"#fb9f3a\"], [0.8888888888888888, \"#fdca26\"], [1.0, \"#f0f921\"]], \"sequentialminus\": [[0.0, \"#0d0887\"], [0.1111111111111111, \"#46039f\"], [0.2222222222222222, \"#7201a8\"], [0.3333333333333333, \"#9c179e\"], [0.4444444444444444, \"#bd3786\"], [0.5555555555555556, \"#d8576b\"], [0.6666666666666666, \"#ed7953\"], [0.7777777777777778, \"#fb9f3a\"], [0.8888888888888888, \"#fdca26\"], [1.0, \"#f0f921\"]]}, \"colorway\": [\"#636efa\", \"#EF553B\", \"#00cc96\", \"#ab63fa\", \"#FFA15A\", \"#19d3f3\", \"#FF6692\", \"#B6E880\", \"#FF97FF\", \"#FECB52\"], \"font\": {\"color\": \"#2a3f5f\"}, \"geo\": {\"bgcolor\": \"white\", \"lakecolor\": \"white\", \"landcolor\": \"#E5ECF6\", \"showlakes\": true, \"showland\": true, \"subunitcolor\": \"white\"}, \"hoverlabel\": {\"align\": \"left\"}, \"hovermode\": \"closest\", \"mapbox\": {\"style\": \"light\"}, \"paper_bgcolor\": \"white\", \"plot_bgcolor\": \"#E5ECF6\", \"polar\": {\"angularaxis\": {\"gridcolor\": \"white\", \"linecolor\": \"white\", \"ticks\": \"\"}, \"bgcolor\": \"#E5ECF6\", \"radialaxis\": {\"gridcolor\": \"white\", \"linecolor\": \"white\", \"ticks\": \"\"}}, \"scene\": {\"xaxis\": {\"backgroundcolor\": \"#E5ECF6\", \"gridcolor\": \"white\", \"gridwidth\": 2, \"linecolor\": \"white\", \"showbackground\": true, \"ticks\": \"\", \"zerolinecolor\": \"white\"}, \"yaxis\": {\"backgroundcolor\": \"#E5ECF6\", \"gridcolor\": \"white\", \"gridwidth\": 2, \"linecolor\": \"white\", \"showbackground\": true, \"ticks\": \"\", \"zerolinecolor\": \"white\"}, \"zaxis\": {\"backgroundcolor\": \"#E5ECF6\", \"gridcolor\": \"white\", \"gridwidth\": 2, \"linecolor\": \"white\", \"showbackground\": true, \"ticks\": \"\", \"zerolinecolor\": \"white\"}}, \"shapedefaults\": {\"line\": {\"color\": \"#2a3f5f\"}}, \"ternary\": {\"aaxis\": {\"gridcolor\": \"white\", \"linecolor\": \"white\", \"ticks\": \"\"}, \"baxis\": {\"gridcolor\": \"white\", \"linecolor\": \"white\", \"ticks\": \"\"}, \"bgcolor\": \"#E5ECF6\", \"caxis\": {\"gridcolor\": \"white\", \"linecolor\": \"white\", \"ticks\": \"\"}}, \"title\": {\"x\": 0.05}, \"xaxis\": {\"automargin\": true, \"gridcolor\": \"white\", \"linecolor\": \"white\", \"ticks\": \"\", \"title\": {\"standoff\": 15}, \"zerolinecolor\": \"white\", \"zerolinewidth\": 2}, \"yaxis\": {\"automargin\": true, \"gridcolor\": \"white\", \"linecolor\": \"white\", \"ticks\": \"\", \"title\": {\"standoff\": 15}, \"zerolinecolor\": \"white\", \"zerolinewidth\": 2}}}, \"width\": 1000, \"xaxis\": {\"anchor\": \"y\", \"domain\": [0.0, 0.45], \"rangemode\": \"tozero\", \"title\": {\"text\": \"\\u03be\"}}, \"xaxis2\": {\"anchor\": \"y2\", \"domain\": [0.55, 1.0], \"rangemode\": \"tozero\", \"title\": {\"text\": \"\\u03be\"}}, \"yaxis\": {\"anchor\": \"x\", \"domain\": [0.0, 1.0], \"rangemode\": \"tozero\"}, \"yaxis2\": {\"anchor\": \"x2\", \"domain\": [0.0, 1.0], \"rangemode\": \"tozero\"}},\n",
       "                        {\"responsive\": true}\n",
       "                    ).then(function(){\n",
       "                            \n",
       "var gd = document.getElementById('72404bce-1a58-4601-87da-10c6996835f3');\n",
       "var x = new MutationObserver(function (mutations, observer) {{\n",
       "        var display = window.getComputedStyle(gd).display;\n",
       "        if (!display || display === 'none') {{\n",
       "            console.log([gd, 'removed!']);\n",
       "            Plotly.purge(gd);\n",
       "            observer.disconnect();\n",
       "        }}\n",
       "}});\n",
       "\n",
       "// Listen for the removal of the full notebook cells\n",
       "var notebookContainer = gd.closest('#notebook-container');\n",
       "if (notebookContainer) {{\n",
       "    x.observe(notebookContainer, {childList: true});\n",
       "}}\n",
       "\n",
       "// Listen for the clearing of the current output cell\n",
       "var outputEl = gd.closest('.output');\n",
       "if (outputEl) {{\n",
       "    x.observe(outputEl, {childList: true});\n",
       "}}\n",
       "\n",
       "                        })\n",
       "                };\n",
       "                });\n",
       "            </script>\n",
       "        </div>"
      ]
     },
     "metadata": {},
     "output_type": "display_data"
    }
   ],
   "source": [
    "# Plots for μ and RE\n",
    "fig = make_subplots(rows=1, cols=2)\n",
    "fig.add_trace(\n",
    "    go.Scatter(x=ξ_grid, y=bounds, name='E[Mg(X)]'),\n",
    "    row=1, col=1\n",
    ")\n",
    "fig.add_trace(\n",
    "    go.Scatter(x=ξ_grid, y=REs, name='RE'),\n",
    "    row=1, col=2\n",
    ")\n",
    "fig.update_layout(height=400, width=1000)\n",
    "fig.update_xaxes(rangemode=\"tozero\",title_text='ξ')\n",
    "fig.update_yaxes(rangemode=\"tozero\")\n",
    "fig.show()"
   ]
  },
  {
   "cell_type": "code",
   "execution_count": 31,
   "metadata": {},
   "outputs": [
    {
     "data": {
      "text/plain": [
       "0.34317516936058806"
      ]
     },
     "execution_count": 31,
     "metadata": {},
     "output_type": "execute_result"
    }
   ],
   "source": [
    "(μs/0.1)[9]"
   ]
  },
  {
   "cell_type": "code",
   "execution_count": 12,
   "metadata": {},
   "outputs": [
    {
     "data": {
      "text/plain": [
       "0.031295"
      ]
     },
     "execution_count": 12,
     "metadata": {},
     "output_type": "execute_result"
    }
   ],
   "source": [
    "# Plots for μ and RE\n",
    "fig = make_subplots(rows=1, cols=2)\n",
    "fig.add_trace(\n",
    "    go.Scatter(x=ξ_grid, y=bounds, name='E[Mg(X)]'),\n",
    "    row=1, col=1\n",
    ")\n",
    "fig.add_trace(\n",
    "    go.Scatter(x=bounds, y=REs, name='RE'),\n",
    "    row=1, col=2\n",
    ")\n",
    "fig.update_layout(height=400, width=1000)\n",
    "fig.show()"
   ]
  }
 ],
 "metadata": {
  "kernelspec": {
   "display_name": "Python 3",
   "language": "python",
   "name": "python3"
  },
  "language_info": {
   "codemirror_mode": {
    "name": "ipython",
    "version": 3
   },
   "file_extension": ".py",
   "mimetype": "text/x-python",
   "name": "python",
   "nbconvert_exporter": "python",
   "pygments_lexer": "ipython3",
   "version": "3.7.1"
  }
 },
 "nbformat": 4,
 "nbformat_minor": 4
}
