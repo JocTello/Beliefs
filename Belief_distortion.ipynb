{
 "cells": [
  {
   "cell_type": "code",
   "execution_count": 1,
   "metadata": {},
   "outputs": [],
   "source": [
    "# Load packages\n",
    "import numpy as np\n",
    "import pandas as pd\n",
    "from numba import jit,float64\n",
    "from scipy.optimize import minimize"
   ]
  },
  {
   "cell_type": "code",
   "execution_count": 2,
   "metadata": {},
   "outputs": [],
   "source": [
    "# Load data\n",
    "data = pd.read_csv('UnitaryData.csv')\n",
    "pd_lag = np.array(data['d.p'])\n",
    "\n",
    "# Calculate terciles for pd ratio\n",
    "tercile_1 = np.quantile(pd_lag,1./3)\n",
    "tercile_2 = np.quantile(pd_lag,2./3)\n",
    "\n",
    "# Calculate indicator based on today's pd ratio\n",
    "pd_lag_indicator = np.array([pd_lag <= tercile_1,(pd_lag <= tercile_2) & (pd_lag > tercile_1),pd_lag > tercile_2]).T\n",
    "\n",
    "# Calculate indicator for tomorrow's pd ratio\n",
    "pd_indicator = pd_lag_indicator[1:]\n",
    "\n",
    "# Drop last row since we do not have tomorrow's pd ratio at that point\n",
    "pd_lag_indicator = pd_lag_indicator[:-1]\n",
    "X = np.array(data[['Rf','Rm-Rf','SMB','HML']])[:-1]\n",
    "f \n",
    "g = np.array(data['log.RW'])[:-1]"
   ]
  },
  {
   "cell_type": "markdown",
   "metadata": {},
   "source": [
    "## 7 Incorporating Conditional Information\n",
    "\n",
    "### 7.1 Approach I\n",
    "\\begin{equation}\n",
    "\\min_{M\\geq0}{\\mathbb E}\\left[Mg(X)\\right]\n",
    "\\end{equation}\n",
    "*subject to constraints:*\n",
    "\\begin{align*}\n",
    "&{\\mathbb E}\\left[M \\log M\\right] \\leq \\kappa, \\\\\n",
    "&{\\mathbb E}\\left[B^j M f(X)\\right] = 0, \\\\\n",
    "&{\\mathbb E}\\left[M\\right] = 1.\n",
    "\\end{align*}\n"
   ]
  },
  {
   "cell_type": "code",
   "execution_count": null,
   "metadata": {},
   "outputs": [],
   "source": []
  },
  {
   "cell_type": "markdown",
   "metadata": {},
   "source": [
    "### 7.2 Approach II\n",
    "\\begin{equation}\n",
    "\\min_{M\\geq0}{\\mathbb E}\\left[Mg(X)\\right]\n",
    "\\end{equation}\n",
    "*subject to constraints:*\n",
    "\\begin{align*}\n",
    "&{\\mathbb E}\\left[M \\log M\\right] \\leq \\kappa, \\\\\n",
    "&{\\mathbb E}\\left[B^j M {f(X)}\\right] = 0, \\\\\n",
    "&{\\mathbb E}\\left[B^j M-B^j\\right] = 0.\n",
    "\\end{align*}"
   ]
  },
  {
   "cell_type": "code",
   "execution_count": null,
   "metadata": {},
   "outputs": [],
   "source": []
  },
  {
   "cell_type": "markdown",
   "metadata": {},
   "source": [
    "### 7.3 Approach III\n",
    "\n",
    "#### Basic problem:\n",
    "\n",
    "\\begin{equation}\n",
    "\\min_{M\\geq0}{\\mathbb E}\\left[Mg(X)\\mid\\mathfrak{J}\\right]\n",
    "\\end{equation}\n",
    "*subject to constraints:*\n",
    "\\begin{align*}\n",
    "&{\\mathbb E}\\left[M \\log M\\mid\\mathfrak{J}\\right] \\leq \\kappa, \\\\\n",
    "&{\\mathbb E}\\left[M  f(X)\\mid\\mathfrak{J}\\right] = 0, \\\\\n",
    "&{\\mathbb E}\\left[M\\mid\\mathfrak{J}\\right] = 1.\n",
    "\\end{align*}\n",
    "\n",
    "#### Dual problem:\n",
    "For computational purposes, we solve the dual problem after minimizing over $M$.  \n",
    "\n",
    "\\begin{equation*}\n",
    "\\max_{\\xi \\ge 0, \\hat{\\lambda}}    - \\xi \\log {\\mathbb E} \\left[ \\exp\\left( - {\\frac 1 {\\xi}} \\left[ g(X) + \\hat{\\lambda} \\cdot f(X) \\right] \\right)\\mid\\mathfrak{F}\\right]  -  \\xi \\kappa  \n",
    "\\end{equation*}\n",
    "\n",
    "$\\hat{\\lambda}$ and $\\xi$ are multipliers on the moment condition and relative entropy constraints. "
   ]
  },
  {
   "cell_type": "code",
   "execution_count": null,
   "metadata": {},
   "outputs": [],
   "source": []
  },
  {
   "cell_type": "markdown",
   "metadata": {},
   "source": [
    "## 8 Intertemporal Divergence Constraints\n",
    "\n",
    "### Proposition 8.6\n",
    "Problem 8.4 can be solved by finding the solution to:\n",
    "\n",
    "\\begin{equation}\n",
    "\\epsilon = \\min_\\hat{\\lambda}\\mathbb E \\left(\\exp \\left[-\\frac{1}{\\xi}g(X_1)+\\hat{\\lambda}\\cdot f(X_1)\\right]\\left( \\frac{e_1}{e_0}\\right) \\mid \\mathfrak{F}_0\\right)\n",
    "\\end{equation}\n",
    "\n",
    "*where*\n",
    "\\begin{align*}\n",
    "\\mu &= -\\xi \\log \\epsilon,\\\\\n",
    "v_0 &= -\\xi \\log e_0.\n",
    "\\end{align*}\n",
    "\n",
    "Denote $e_0^*$, $e_1^*$, $\\hat{\\lambda}^*$ as the solution to the above optimization problem. The implied solution for the probablity distortion is:\n",
    "\n",
    "\\begin{equation}\n",
    "M_1^* = \\frac{\\exp \\left[-\\frac{1}{\\xi}g(X_1)+\\hat{\\lambda}^*(Z_0)\\cdot f(X_1)\\right]e_1^*}{\\epsilon^*e_0^*}\n",
    "\\end{equation}"
   ]
  },
  {
   "cell_type": "code",
   "execution_count": 171,
   "metadata": {},
   "outputs": [],
   "source": [
    "def objective(λ):\n",
    "    selector = pd_lag_indicator[:,state-1]\n",
    "    term_1 = -g[selector]/ξ\n",
    "    term_2 = f[selector]@λ\n",
    "    term_3 = np.log(pd_indicator[selector]@e)\n",
    "    x = term_1 + term_2 + term_3\n",
    "    # use \"max trick\" to improve accuracy\n",
    "    a = x.max()\n",
    "    # log_E_exp(x)\n",
    "    return np.log(np.sum(np.exp(x-a))) + a\n",
    "\n",
    "def min_objective():\n",
    "    model = minimize(objective, \n",
    "                     np.ones(f.shape[1]), \n",
    "                     method='L-BFGS-B',\n",
    "                     tol=1e-10,\n",
    "                     options={'maxiter': 1000})\n",
    "    v = np.exp(model.fun)/np.sum(pd_lag_indicator[:,state-1])\n",
    "    λ = model.x\n",
    "    return v,λ\n",
    "\n",
    "def iteration():\n",
    "    # set global variables\n",
    "    global state\n",
    "    global e\n",
    "    \n",
    "    # initial error\n",
    "    error = 1.\n",
    "    # count times\n",
    "    count = 0\n",
    "\n",
    "    while error > 1e-10:\n",
    "        if count == 0:\n",
    "            # initial guess for e\n",
    "            e = np.array([1,1,1])\n",
    "            # placeholder for v\n",
    "            v = np.zeros(3)        \n",
    "        for k in [1,2,3]:\n",
    "            state = k\n",
    "            v[state-1],λ = min_objective()\n",
    "        # update e and ϵ\n",
    "        e_old = e\n",
    "        ϵ = v[0]\n",
    "        e = v/v[0]\n",
    "        error = np.max(np.abs(e - e_old))\n",
    "        count += 1\n",
    "        \n",
    "    return ϵ,e,λ,count"
   ]
  },
  {
   "cell_type": "code",
   "execution_count": 174,
   "metadata": {},
   "outputs": [
    {
     "name": "stdout",
     "output_type": "stream",
     "text": [
      "--- 1.5485 seconds ---\n",
      "--- 235 iterations ---\n",
      "--- ϵ: 0.9662646500347174 ---\n",
      "--- e: [1.         0.44191812 0.19224314] ---\n"
     ]
    }
   ],
   "source": [
    "ξ = 1.\n",
    "\n",
    "time_start = time.time() \n",
    "ϵ,e,λ,count = iteration()\n",
    "\n",
    "print(\"--- %s seconds ---\" % (round(time.time()-time_start,4)))\n",
    "print(\"--- %s iterations ---\" % count)\n",
    "print(\"--- ϵ: %s ---\" % ϵ)\n",
    "print(\"--- e: %s ---\" % e)"
   ]
  },
  {
   "cell_type": "code",
   "execution_count": 175,
   "metadata": {},
   "outputs": [
    {
     "data": {
      "text/plain": [
       "0.9999999996547466"
      ]
     },
     "execution_count": 175,
     "metadata": {},
     "output_type": "execute_result"
    }
   ],
   "source": [
    "# Calculate M\n",
    "M = 1./ϵ * np.exp(-g/ξ+f@λ) * (pd_indicator@e) / (pd_lag_indicator@e)\n",
    "\n",
    "# Check 1: E[M|state k] = 1\n",
    "# np.average(M[pd_lag_indicator[:,0]])\n",
    "# np.average(M[pd_lag_indicator[:,1]])\n",
    "np.average(M[pd_lag_indicator[:,2]])"
   ]
  },
  {
   "cell_type": "code",
   "execution_count": 177,
   "metadata": {},
   "outputs": [
    {
     "data": {
      "text/plain": [
       "82.66666666666667"
      ]
     },
     "execution_count": 177,
     "metadata": {},
     "output_type": "execute_result"
    }
   ],
   "source": [
    "len(data)/3"
   ]
  }
 ],
 "metadata": {
  "kernelspec": {
   "display_name": "Python 3",
   "language": "python",
   "name": "python3"
  },
  "language_info": {
   "codemirror_mode": {
    "name": "ipython",
    "version": 3
   },
   "file_extension": ".py",
   "mimetype": "text/x-python",
   "name": "python",
   "nbconvert_exporter": "python",
   "pygments_lexer": "ipython3",
   "version": "3.7.1"
  }
 },
 "nbformat": 4,
 "nbformat_minor": 4
}
