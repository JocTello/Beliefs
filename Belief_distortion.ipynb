{
 "cells": [
  {
   "cell_type": "code",
   "execution_count": 1,
   "metadata": {},
   "outputs": [],
   "source": [
    "import time\n",
    "import plotly.graph_objects as go\n",
    "from plotly.subplots import make_subplots\n",
    "from utilities import *"
   ]
  },
  {
   "cell_type": "markdown",
   "metadata": {},
   "source": [
    "## 7 Incorporating Conditional Information\n",
    "\n",
    "### 7.1 Approach I\n",
    "\n",
    "#### Basic problem:\n",
    "\n",
    "\\begin{equation}\n",
    "\\min_{M_1\\geq0}{\\mathbb E}\\left[M_1g(X_1)\\right]\n",
    "\\end{equation}\n",
    "*subject to constraints:*\n",
    "\\begin{align*}\n",
    "&{\\mathbb E}\\left[M_1 \\log M_1\\right] \\leq \\kappa, \\\\\n",
    "&{\\mathbb E}\\left[B^j M_1 f(X_1)\\right] = 0, \\\\\n",
    "&{\\mathbb E}\\left[M_1\\right] = 1.\n",
    "\\end{align*}\n",
    "\n",
    "#### Dual problem:\n",
    "\n",
    "For computational purposes, we solve the dual problem after minimizing over $M_1$.  \n",
    "\n",
    "\\begin{equation*}\n",
    "\\sup_{\\xi>0}\\max_{\\hat{\\lambda}_j}    - \\xi \\log {\\mathbb E} \\left[ \\exp\\left( - {\\frac 1 {\\xi}} \\left[ g(X_1) + \\sum_{j=1}^{3}\\hat{\\lambda}_j \\cdot f(X_1)B^j \\right] \\right)\\right]  -  \\xi \\kappa  \n",
    "\\end{equation*}\n",
    "\n",
    "$\\hat{\\lambda}$ and $\\xi$ are multipliers on the moment condition and relative entropy constraints. "
   ]
  },
  {
   "cell_type": "code",
   "execution_count": null,
   "metadata": {},
   "outputs": [],
   "source": []
  },
  {
   "cell_type": "markdown",
   "metadata": {},
   "source": [
    "### 7.2 Approach II\n",
    "\n",
    "#### Basic problem:\n",
    "\n",
    "\\begin{equation}\n",
    "\\min_{M_1\\geq0}{\\mathbb E}\\left[M_1g(X_1)\\right]\n",
    "\\end{equation}\n",
    "*subject to constraints:*\n",
    "\\begin{align*}\n",
    "&{\\mathbb E}\\left[M_1 \\log M_1\\right] \\leq \\kappa, \\\\\n",
    "&{\\mathbb E}\\left[B^j M_1 {f(X_1)}\\right] = 0, \\\\\n",
    "&{\\mathbb E}\\left[B^j M_1-B^j\\right] = 0.\n",
    "\\end{align*}\n",
    "\n",
    "#### Dual problem:\n",
    "\n",
    "??"
   ]
  },
  {
   "cell_type": "code",
   "execution_count": null,
   "metadata": {},
   "outputs": [],
   "source": []
  },
  {
   "cell_type": "markdown",
   "metadata": {},
   "source": [
    "### 7.3 Approach III\n",
    "\n",
    "#### Basic problem:\n",
    "\n",
    "\\begin{equation}\n",
    "\\min_{M_1\\geq0}{\\mathbb E}\\left[M_1g(X_1)\\mid\\mathfrak{F}_0\\right]\n",
    "\\end{equation}\n",
    "*subject to constraints:*\n",
    "\\begin{align*}\n",
    "&{\\mathbb E}\\left[M_1 \\log M_1\\mid\\mathfrak{F}_0\\right] \\leq \\kappa, \\\\\n",
    "&{\\mathbb E}\\left[M_1  f(X_1)\\mid\\mathfrak{F}_0\\right] = 0, \\\\\n",
    "&{\\mathbb E}\\left[M_1\\mid\\mathfrak{F}_0\\right] = 1.\n",
    "\\end{align*}\n",
    "\n",
    "#### Dual problem:\n",
    "For computational purposes, we solve the dual problem after minimizing over $M_1$.  \n",
    "\n",
    "\\begin{equation*}\n",
    "\\sup_{\\xi>0}\\max_{\\hat{\\lambda}}    - \\xi \\log {\\mathbb E} \\left[ \\exp\\left( - {\\frac 1 {\\xi}} \\left[ g(X_1) + \\hat{\\lambda} \\cdot f(X_1) \\right] \\right)\\mid\\mathfrak{F}_0\\right]  -  \\xi \\kappa  \n",
    "\\end{equation*}\n",
    "\n",
    "$\\hat{\\lambda}$ and $\\xi$ are multipliers on the moment condition and relative entropy constraints. "
   ]
  },
  {
   "cell_type": "code",
   "execution_count": null,
   "metadata": {},
   "outputs": [],
   "source": []
  },
  {
   "cell_type": "markdown",
   "metadata": {},
   "source": [
    "## 8 Intertemporal Divergence Constraints\n",
    "\n",
    "### Proposition 8.6\n",
    "Problem 8.4 can be solved by finding the solution to:\n",
    "\n",
    "\\begin{equation}\n",
    "\\epsilon = \\min_\\hat{\\lambda}\\mathbb E \\left(\\exp \\left[-\\frac{1}{\\xi}g(X_1)+\\hat{\\lambda}\\cdot f(X_1)\\right]\\left( \\frac{e_1}{e_0}\\right) \\mid \\mathfrak{F}_0\\right)\n",
    "\\end{equation}\n",
    "\n",
    "*where*\n",
    "\\begin{align*}\n",
    "\\mu &= -\\xi \\log \\epsilon,\\\\\n",
    "v_0 &= -\\xi \\log e_0.\n",
    "\\end{align*}\n",
    "\n",
    "Denote $e^*$, $\\hat{\\lambda}^*$ as the solution to the above optimization problem. The implied solution for the probablity distortion is:\n",
    "\n",
    "\\begin{equation}\n",
    "M_1^* = \\frac{\\exp \\left[-\\frac{1}{\\xi}g(X_1)+\\hat{\\lambda}^*(Z_0)\\cdot f(X_1)\\right]e_1^*}{\\epsilon^*e_0^*}\n",
    "\\end{equation}"
   ]
  },
  {
   "cell_type": "code",
   "execution_count": 5,
   "metadata": {},
   "outputs": [
    {
     "name": "stdout",
     "output_type": "stream",
     "text": [
      "--- Iteration Ends ---\n",
      "ξ = 1.0\n",
      "Time spent: 0.3192 seconds ---\n",
      "Numer of iterations: 148 ---\n",
      "\n",
      "\n",
      "--- Converged parameter vlues ---\n",
      "ϵ: 0.9662646649208998\n",
      "e: [1.         0.44191842 0.19224352]\n",
      "λ: [ 1.20452948  0.79543571 -0.31097385 -0.76108306  1.42677063  0.57334818\n",
      "  0.66141466 -5.97029601  2.68481185 -0.68484044 -3.48387392 -7.80333534]\n",
      "μ: 0.034317502045974856\n",
      "\n",
      "\n",
      "--- Check 1 ---\n",
      "E[M|state 1] = 0.9999999995442487 \n",
      "E[M|state 2] = 0.9999999995442487 \n",
      "E[M|state 3] = 0.9999999995442487 \n",
      "\n",
      "\n",
      "--- Check 2 ---\n",
      "E[Mg(X)] = 0.00575736621110245 (directly using M)\n",
      "E[Mg(X)] = 0.005756523067879365 (indirectly using μ and RE)\n",
      "Difference: 8.431432230848052e-07\n",
      "\n",
      "\n",
      "--- Transition Probability Matrix ---\n",
      "[[0.97954806 0.02045194 0.        ]\n",
      " [0.0840223  0.88101511 0.03496256]\n",
      " [0.         0.17514739 0.82485237]]\n",
      "\n",
      "\n",
      "--- Stationary Distribution ---\n",
      "[0.77399375 0.1883985  0.03760776]\n",
      "\n",
      "\n",
      "--- Conditional Relative Entropy ---\n",
      "E[MlogM|state 1] = 0.0124037070667327 \n",
      "E[MlogM|state 2] = 0.06706643710381138 \n",
      "E[MlogM|state 3] = 0.16819326623173544 \n",
      "\n",
      "\n",
      "--- Unconditional Relative Entropy ---\n",
      "E[MlogM] = 0.02856097897809549 \n",
      "\n",
      "\n",
      "--- Conditional Moment Bound ---\n",
      "E[Mg(X)|state 1] = 0.005213225926479015 \n",
      "E[Mg(X)|state 2] = 0.0067643397317026345 \n",
      "E[Mg(X)|state 3] = 0.011911652024645511 \n",
      "\n",
      "\n",
      "--- Unconditional Moment Bound ---\n",
      "E[Mg(X)] = 0.00575736621110245 \n"
     ]
    }
   ],
   "source": [
    "# Set ξ\n",
    "ξ = 1.\n",
    "\n",
    "# Set model paramters\n",
    "tol = 1e-7\n",
    "max_iter = 1000\n",
    "\n",
    "solver = intertemporal_div_constraint(tol,max_iter)\n",
    "\n",
    "time_start = time.time() \n",
    "result = solver.iterate(ξ)\n",
    "\n",
    "# Print iteration information\n",
    "print(\"--- Iteration Ends ---\")\n",
    "print(\"ξ = %s\" % ξ)\n",
    "print(\"Time spent: %s seconds ---\" % (round(time.time()-time_start,4)))\n",
    "print(\"Numer of iterations: %s ---\" % result['count'])\n",
    "\n",
    "# Print converged parameter results\n",
    "print(\"\\n\")\n",
    "print(\"--- Converged parameter vlues ---\")\n",
    "print(\"ϵ: %s\" % result['ϵ'])\n",
    "print(\"e: %s\" % result['e'])\n",
    "print(\"λ: %s\" % result['λ'])\n",
    "print(\"μ: %s\" % result['μ'])\n",
    "\n",
    "# Print E[M|state k]\n",
    "print(\"\\n\")\n",
    "print(\"--- Check 1 ---\")\n",
    "print(\"E[M|state 1] = %s \" % result['E_M_cond'][0])\n",
    "print(\"E[M|state 2] = %s \" % result['E_M_cond'][0])\n",
    "print(\"E[M|state 3] = %s \" % result['E_M_cond'][0])\n",
    "\n",
    "# Print two ways of calculating moment bound\n",
    "print(\"\\n\")\n",
    "print(\"--- Check 2 ---\")\n",
    "print(\"E[Mg(X)] = %s (directly using M)\" % result['moment_bound'])\n",
    "print(\"E[Mg(X)] = %s (indirectly using μ and RE)\" % result['moment_bound_check'])\n",
    "print(\"Difference: %s\" % (result['moment_bound']-result['moment_bound_check']))\n",
    "\n",
    "# Print transition probability matrix\n",
    "print(\"\\n\")\n",
    "print(\"--- Transition Probability Matrix ---\")\n",
    "print(result['P'])\n",
    "\n",
    "# Print stationary distribution\n",
    "print(\"\\n\")\n",
    "print(\"--- Stationary Distribution ---\")\n",
    "print(result['π'])\n",
    "\n",
    "# Print conditional relative entropy\n",
    "print(\"\\n\")\n",
    "print(\"--- Conditional Relative Entropy ---\")\n",
    "print(\"E[MlogM|state 1] = %s \" % result['RE_cond'][0])\n",
    "print(\"E[MlogM|state 2] = %s \" % result['RE_cond'][1])\n",
    "print(\"E[MlogM|state 3] = %s \" % result['RE_cond'][2])\n",
    "\n",
    "# Print unconditional relative entropy\n",
    "print(\"\\n\")\n",
    "print(\"--- Unconditional Relative Entropy ---\")\n",
    "print(\"E[MlogM] = %s \" % result['RE'])\n",
    "\n",
    "# Print conditional moment bound\n",
    "print(\"\\n\")\n",
    "print(\"--- Conditional Moment Bound ---\")\n",
    "print(\"E[Mg(X)|state 1] = %s \" % result['moment_bound_cond'][0])\n",
    "print(\"E[Mg(X)|state 2] = %s \" % result['moment_bound_cond'][1])\n",
    "print(\"E[Mg(X)|state 3] = %s \" % result['moment_bound_cond'][2])\n",
    "\n",
    "# Print unconditional moment bound\n",
    "print(\"\\n\")\n",
    "print(\"--- Unconditional Moment Bound ---\")\n",
    "print(\"E[Mg(X)] = %s \" % result['moment_bound'])"
   ]
  },
  {
   "cell_type": "code",
   "execution_count": 14,
   "metadata": {},
   "outputs": [
    {
     "name": "stdout",
     "output_type": "stream",
     "text": [
      "Time spent: 30.9794 seconds ---\n"
     ]
    }
   ],
   "source": [
    "# Solve the minimization problems over a grid of ξ\n",
    "tol = 1e-7\n",
    "max_iter = 1000\n",
    "\n",
    "solver = intertemporal_div_constraint(tol,max_iter)\n",
    "\n",
    "# Grid for ξ\n",
    "ξ_grid = np.arange(.01,1.,.01)\n",
    "μs = np.zeros_like(ξ_grid)\n",
    "REs = np.zeros_like(ξ_grid)\n",
    "bounds = np.zeros_like(ξ_grid)\n",
    "ϵs = np.zeros_like(ξ_grid)\n",
    "\n",
    "time_start = time.time() \n",
    "for i in range(len(ξ_grid)):\n",
    "    ξ = ξ_grid[i]\n",
    "    result = solver.iterate(ξ)\n",
    "    μs[i] = result['μ']\n",
    "    REs[i] = result['RE']\n",
    "    bounds[i] = result['moment_bound']\n",
    "    ϵs[i] = result['ϵ']\n",
    "\n",
    "print(\"Time spent: %s seconds ---\" % (round(time.time()-time_start,4)))"
   ]
  },
  {
   "cell_type": "code",
   "execution_count": 16,
   "metadata": {
    "scrolled": false
   },
   "outputs": [
    {
     "data": {
      "application/vnd.plotly.v1+json": {
       "config": {
        "plotlyServerURL": "https://plot.ly"
       },
       "data": [
        {
         "name": "E[Mg(X)]",
         "type": "scatter",
         "x": [
          0.01,
          0.02,
          0.03,
          0.04,
          0.05,
          0.060000000000000005,
          0.06999999999999999,
          0.08,
          0.09,
          0.09999999999999999,
          0.11,
          0.12,
          0.13,
          0.14,
          0.15000000000000002,
          0.16,
          0.17,
          0.18000000000000002,
          0.19,
          0.2,
          0.21000000000000002,
          0.22,
          0.23,
          0.24000000000000002,
          0.25,
          0.26,
          0.27,
          0.28,
          0.29000000000000004,
          0.3,
          0.31,
          0.32,
          0.33,
          0.34,
          0.35000000000000003,
          0.36000000000000004,
          0.37,
          0.38,
          0.39,
          0.4,
          0.41000000000000003,
          0.42000000000000004,
          0.43,
          0.44,
          0.45,
          0.46,
          0.47000000000000003,
          0.48000000000000004,
          0.49,
          0.5,
          0.51,
          0.52,
          0.53,
          0.54,
          0.55,
          0.56,
          0.5700000000000001,
          0.5800000000000001,
          0.59,
          0.6,
          0.61,
          0.62,
          0.63,
          0.64,
          0.65,
          0.66,
          0.67,
          0.68,
          0.6900000000000001,
          0.7000000000000001,
          0.7100000000000001,
          0.72,
          0.73,
          0.74,
          0.75,
          0.76,
          0.77,
          0.78,
          0.79,
          0.8,
          0.81,
          0.8200000000000001,
          0.8300000000000001,
          0.8400000000000001,
          0.85,
          0.86,
          0.87,
          0.88,
          0.89,
          0.9,
          0.91,
          0.92,
          0.93,
          0.9400000000000001,
          0.9500000000000001,
          0.9600000000000001,
          0.97,
          0.98,
          0.99
         ],
         "xaxis": "x",
         "y": [
          -0.00827947376553585,
          -0.0025152376647582723,
          -0.00022854371189647802,
          0.0010317592642497442,
          0.0018437077493878933,
          0.0024239426857553827,
          0.0028617397677111467,
          0.0031997062257194233,
          0.0034752486538579823,
          0.0037001980966331386,
          0.0038872800544740424,
          0.004047845356118009,
          0.004188143537146493,
          0.0043098121379474205,
          0.004415807009004544,
          0.0045090505631554334,
          0.004592237172048328,
          0.004666905864460632,
          0.004734164738603662,
          0.004794926759373206,
          0.004850020004650146,
          0.004902224221492218,
          0.004947559098061728,
          0.00498889129752592,
          0.005026890825593076,
          0.0050618578627675565,
          0.005094535590117539,
          0.005125491261513233,
          0.005155195324302425,
          0.0051836386861658056,
          0.005210559430940894,
          0.005236385226059323,
          0.0052603895332133015,
          0.005282192300322377,
          0.005301735232562635,
          0.00530959964089262,
          0.0053395884339820215,
          0.005365025433030765,
          0.005379831187966484,
          0.005393217993490686,
          0.005407081313843845,
          0.005421001348299504,
          0.005434410801904313,
          0.005441597594742465,
          0.005459398991648745,
          0.005470399148589573,
          0.0054801708787941255,
          0.005488850734230335,
          0.005497735029396506,
          0.005508681139499653,
          0.005520470344125782,
          0.005528574445964487,
          0.0055371250021789215,
          0.005549666484252739,
          0.005554320160926397,
          0.005558453849827212,
          0.0055701219770971505,
          0.005576798191810201,
          0.0055847958936730965,
          0.005591846037375705,
          0.005598343732400545,
          0.005604836797631485,
          0.005611064577901937,
          0.005617114141460983,
          0.00562261402752398,
          0.0056288872388203515,
          0.005634342259388447,
          0.005639852297673098,
          0.0056450175937818705,
          0.005650093025442964,
          0.005655054890853512,
          0.005659292541024701,
          0.005663920846309073,
          0.005668978632834597,
          0.005673608336461947,
          0.0056778981355477265,
          0.0056820892889144865,
          0.005686229951522728,
          0.005690129908857687,
          0.005694041694702183,
          0.0056978438789257735,
          0.005701642562115435,
          0.005705552113232164,
          0.005708716600639027,
          0.0057122343419161,
          0.005715887637294879,
          0.005719103977879462,
          0.0057225839239332475,
          0.005725612211672536,
          0.005730040617669568,
          0.005730190893130479,
          0.005732695316929143,
          0.005736800573233896,
          0.0057447071354137375,
          0.0057423343051585035,
          0.005745765430406928,
          0.005748341215943093,
          0.005751042381724568,
          0.005753612997026498
         ],
         "yaxis": "y"
        },
        {
         "name": "RE",
         "type": "scatter",
         "x": [
          0.01,
          0.02,
          0.03,
          0.04,
          0.05,
          0.060000000000000005,
          0.06999999999999999,
          0.08,
          0.09,
          0.09999999999999999,
          0.11,
          0.12,
          0.13,
          0.14,
          0.15000000000000002,
          0.16,
          0.17,
          0.18000000000000002,
          0.19,
          0.2,
          0.21000000000000002,
          0.22,
          0.23,
          0.24000000000000002,
          0.25,
          0.26,
          0.27,
          0.28,
          0.29000000000000004,
          0.3,
          0.31,
          0.32,
          0.33,
          0.34,
          0.35000000000000003,
          0.36000000000000004,
          0.37,
          0.38,
          0.39,
          0.4,
          0.41000000000000003,
          0.42000000000000004,
          0.43,
          0.44,
          0.45,
          0.46,
          0.47000000000000003,
          0.48000000000000004,
          0.49,
          0.5,
          0.51,
          0.52,
          0.53,
          0.54,
          0.55,
          0.56,
          0.5700000000000001,
          0.5800000000000001,
          0.59,
          0.6,
          0.61,
          0.62,
          0.63,
          0.64,
          0.65,
          0.66,
          0.67,
          0.68,
          0.6900000000000001,
          0.7000000000000001,
          0.7100000000000001,
          0.72,
          0.73,
          0.74,
          0.75,
          0.76,
          0.77,
          0.78,
          0.79,
          0.8,
          0.81,
          0.8200000000000001,
          0.8300000000000001,
          0.8400000000000001,
          0.85,
          0.86,
          0.87,
          0.88,
          0.89,
          0.9,
          0.91,
          0.92,
          0.93,
          0.9400000000000001,
          0.9500000000000001,
          0.9600000000000001,
          0.97,
          0.98,
          0.99
         ],
         "xaxis": "x2",
         "y": [
          0.643229194530781,
          0.21728955796403307,
          0.12208711217208291,
          0.0853936107305067,
          0.06709041129512575,
          0.05649407598217197,
          0.04975785216662588,
          0.045200078057049904,
          0.041960414783713165,
          0.03957885197254424,
          0.03777488403437954,
          0.036371112276465806,
          0.03525703491057949,
          0.034361838946549865,
          0.03363202487357483,
          0.03302886708237142,
          0.03252439832660915,
          0.03209828034302245,
          0.03173488733501967,
          0.031423323570649184,
          0.031153782866742388,
          0.030918721733301985,
          0.03071426595353893,
          0.03053387369369943,
          0.03037491575044149,
          0.030234707329614547,
          0.030107985471158224,
          0.02999350166213995,
          0.02989215435666577,
          0.02979795525652945,
          0.02971013348656942,
          0.029633323006125027,
          0.029559105821335495,
          0.02949447171854514,
          0.029436138343218416,
          0.029397028080451137,
          0.029331449621514682,
          0.029274375639520782,
          0.029234208418604562,
          0.02919777566738556,
          0.02916251298726556,
          0.029128278620856932,
          0.029096921937942694,
          0.02908165003905714,
          0.029040167121038477,
          0.029015283050796745,
          0.02899305009105862,
          0.028972659725823094,
          0.02895299812577761,
          0.028931666455924036,
          0.02891025544453186,
          0.028893573361195295,
          0.02887716298758601,
          0.028855667585046478,
          0.02884578916867879,
          0.02883234285365497,
          0.02881740971066154,
          0.02880599011420916,
          0.028792580411008427,
          0.028781656141399943,
          0.02876944572985178,
          0.028758805579002417,
          0.028748873660068272,
          0.028739428159331577,
          0.02873070786509648,
          0.02872108141365732,
          0.028713130259226248,
          0.02870562095364526,
          0.02869763280226587,
          0.028689797072534298,
          0.028683452994310275,
          0.0286765175118565,
          0.02866973887382962,
          0.02866205822224,
          0.028657736670952928,
          0.028652056135058362,
          0.02864666359552192,
          0.02864078268465654,
          0.0286360479718674,
          0.028631170445436383,
          0.02862638856211702,
          0.028621963451701714,
          0.02861836705313579,
          0.028614211497354707,
          0.028609217856224157,
          0.028604879889841336,
          0.02860111572037147,
          0.0285965928526729,
          0.028593177588534947,
          0.028584887594558753,
          0.028587834863389432,
          0.028586531530589897,
          0.028581785771411836,
          0.02857134256025951,
          0.028575169697375977,
          0.028571924197039085,
          0.028568938800250715,
          0.028566474892058706,
          0.02856399589967269
         ],
         "yaxis": "y2"
        }
       ],
       "layout": {
        "height": 400,
        "template": {
         "data": {
          "bar": [
           {
            "error_x": {
             "color": "#2a3f5f"
            },
            "error_y": {
             "color": "#2a3f5f"
            },
            "marker": {
             "line": {
              "color": "#E5ECF6",
              "width": 0.5
             }
            },
            "type": "bar"
           }
          ],
          "barpolar": [
           {
            "marker": {
             "line": {
              "color": "#E5ECF6",
              "width": 0.5
             }
            },
            "type": "barpolar"
           }
          ],
          "carpet": [
           {
            "aaxis": {
             "endlinecolor": "#2a3f5f",
             "gridcolor": "white",
             "linecolor": "white",
             "minorgridcolor": "white",
             "startlinecolor": "#2a3f5f"
            },
            "baxis": {
             "endlinecolor": "#2a3f5f",
             "gridcolor": "white",
             "linecolor": "white",
             "minorgridcolor": "white",
             "startlinecolor": "#2a3f5f"
            },
            "type": "carpet"
           }
          ],
          "choropleth": [
           {
            "colorbar": {
             "outlinewidth": 0,
             "ticks": ""
            },
            "type": "choropleth"
           }
          ],
          "contour": [
           {
            "colorbar": {
             "outlinewidth": 0,
             "ticks": ""
            },
            "colorscale": [
             [
              0,
              "#0d0887"
             ],
             [
              0.1111111111111111,
              "#46039f"
             ],
             [
              0.2222222222222222,
              "#7201a8"
             ],
             [
              0.3333333333333333,
              "#9c179e"
             ],
             [
              0.4444444444444444,
              "#bd3786"
             ],
             [
              0.5555555555555556,
              "#d8576b"
             ],
             [
              0.6666666666666666,
              "#ed7953"
             ],
             [
              0.7777777777777778,
              "#fb9f3a"
             ],
             [
              0.8888888888888888,
              "#fdca26"
             ],
             [
              1,
              "#f0f921"
             ]
            ],
            "type": "contour"
           }
          ],
          "contourcarpet": [
           {
            "colorbar": {
             "outlinewidth": 0,
             "ticks": ""
            },
            "type": "contourcarpet"
           }
          ],
          "heatmap": [
           {
            "colorbar": {
             "outlinewidth": 0,
             "ticks": ""
            },
            "colorscale": [
             [
              0,
              "#0d0887"
             ],
             [
              0.1111111111111111,
              "#46039f"
             ],
             [
              0.2222222222222222,
              "#7201a8"
             ],
             [
              0.3333333333333333,
              "#9c179e"
             ],
             [
              0.4444444444444444,
              "#bd3786"
             ],
             [
              0.5555555555555556,
              "#d8576b"
             ],
             [
              0.6666666666666666,
              "#ed7953"
             ],
             [
              0.7777777777777778,
              "#fb9f3a"
             ],
             [
              0.8888888888888888,
              "#fdca26"
             ],
             [
              1,
              "#f0f921"
             ]
            ],
            "type": "heatmap"
           }
          ],
          "heatmapgl": [
           {
            "colorbar": {
             "outlinewidth": 0,
             "ticks": ""
            },
            "colorscale": [
             [
              0,
              "#0d0887"
             ],
             [
              0.1111111111111111,
              "#46039f"
             ],
             [
              0.2222222222222222,
              "#7201a8"
             ],
             [
              0.3333333333333333,
              "#9c179e"
             ],
             [
              0.4444444444444444,
              "#bd3786"
             ],
             [
              0.5555555555555556,
              "#d8576b"
             ],
             [
              0.6666666666666666,
              "#ed7953"
             ],
             [
              0.7777777777777778,
              "#fb9f3a"
             ],
             [
              0.8888888888888888,
              "#fdca26"
             ],
             [
              1,
              "#f0f921"
             ]
            ],
            "type": "heatmapgl"
           }
          ],
          "histogram": [
           {
            "marker": {
             "colorbar": {
              "outlinewidth": 0,
              "ticks": ""
             }
            },
            "type": "histogram"
           }
          ],
          "histogram2d": [
           {
            "colorbar": {
             "outlinewidth": 0,
             "ticks": ""
            },
            "colorscale": [
             [
              0,
              "#0d0887"
             ],
             [
              0.1111111111111111,
              "#46039f"
             ],
             [
              0.2222222222222222,
              "#7201a8"
             ],
             [
              0.3333333333333333,
              "#9c179e"
             ],
             [
              0.4444444444444444,
              "#bd3786"
             ],
             [
              0.5555555555555556,
              "#d8576b"
             ],
             [
              0.6666666666666666,
              "#ed7953"
             ],
             [
              0.7777777777777778,
              "#fb9f3a"
             ],
             [
              0.8888888888888888,
              "#fdca26"
             ],
             [
              1,
              "#f0f921"
             ]
            ],
            "type": "histogram2d"
           }
          ],
          "histogram2dcontour": [
           {
            "colorbar": {
             "outlinewidth": 0,
             "ticks": ""
            },
            "colorscale": [
             [
              0,
              "#0d0887"
             ],
             [
              0.1111111111111111,
              "#46039f"
             ],
             [
              0.2222222222222222,
              "#7201a8"
             ],
             [
              0.3333333333333333,
              "#9c179e"
             ],
             [
              0.4444444444444444,
              "#bd3786"
             ],
             [
              0.5555555555555556,
              "#d8576b"
             ],
             [
              0.6666666666666666,
              "#ed7953"
             ],
             [
              0.7777777777777778,
              "#fb9f3a"
             ],
             [
              0.8888888888888888,
              "#fdca26"
             ],
             [
              1,
              "#f0f921"
             ]
            ],
            "type": "histogram2dcontour"
           }
          ],
          "mesh3d": [
           {
            "colorbar": {
             "outlinewidth": 0,
             "ticks": ""
            },
            "type": "mesh3d"
           }
          ],
          "parcoords": [
           {
            "line": {
             "colorbar": {
              "outlinewidth": 0,
              "ticks": ""
             }
            },
            "type": "parcoords"
           }
          ],
          "pie": [
           {
            "automargin": true,
            "type": "pie"
           }
          ],
          "scatter": [
           {
            "marker": {
             "colorbar": {
              "outlinewidth": 0,
              "ticks": ""
             }
            },
            "type": "scatter"
           }
          ],
          "scatter3d": [
           {
            "line": {
             "colorbar": {
              "outlinewidth": 0,
              "ticks": ""
             }
            },
            "marker": {
             "colorbar": {
              "outlinewidth": 0,
              "ticks": ""
             }
            },
            "type": "scatter3d"
           }
          ],
          "scattercarpet": [
           {
            "marker": {
             "colorbar": {
              "outlinewidth": 0,
              "ticks": ""
             }
            },
            "type": "scattercarpet"
           }
          ],
          "scattergeo": [
           {
            "marker": {
             "colorbar": {
              "outlinewidth": 0,
              "ticks": ""
             }
            },
            "type": "scattergeo"
           }
          ],
          "scattergl": [
           {
            "marker": {
             "colorbar": {
              "outlinewidth": 0,
              "ticks": ""
             }
            },
            "type": "scattergl"
           }
          ],
          "scattermapbox": [
           {
            "marker": {
             "colorbar": {
              "outlinewidth": 0,
              "ticks": ""
             }
            },
            "type": "scattermapbox"
           }
          ],
          "scatterpolar": [
           {
            "marker": {
             "colorbar": {
              "outlinewidth": 0,
              "ticks": ""
             }
            },
            "type": "scatterpolar"
           }
          ],
          "scatterpolargl": [
           {
            "marker": {
             "colorbar": {
              "outlinewidth": 0,
              "ticks": ""
             }
            },
            "type": "scatterpolargl"
           }
          ],
          "scatterternary": [
           {
            "marker": {
             "colorbar": {
              "outlinewidth": 0,
              "ticks": ""
             }
            },
            "type": "scatterternary"
           }
          ],
          "surface": [
           {
            "colorbar": {
             "outlinewidth": 0,
             "ticks": ""
            },
            "colorscale": [
             [
              0,
              "#0d0887"
             ],
             [
              0.1111111111111111,
              "#46039f"
             ],
             [
              0.2222222222222222,
              "#7201a8"
             ],
             [
              0.3333333333333333,
              "#9c179e"
             ],
             [
              0.4444444444444444,
              "#bd3786"
             ],
             [
              0.5555555555555556,
              "#d8576b"
             ],
             [
              0.6666666666666666,
              "#ed7953"
             ],
             [
              0.7777777777777778,
              "#fb9f3a"
             ],
             [
              0.8888888888888888,
              "#fdca26"
             ],
             [
              1,
              "#f0f921"
             ]
            ],
            "type": "surface"
           }
          ],
          "table": [
           {
            "cells": {
             "fill": {
              "color": "#EBF0F8"
             },
             "line": {
              "color": "white"
             }
            },
            "header": {
             "fill": {
              "color": "#C8D4E3"
             },
             "line": {
              "color": "white"
             }
            },
            "type": "table"
           }
          ]
         },
         "layout": {
          "annotationdefaults": {
           "arrowcolor": "#2a3f5f",
           "arrowhead": 0,
           "arrowwidth": 1
          },
          "coloraxis": {
           "colorbar": {
            "outlinewidth": 0,
            "ticks": ""
           }
          },
          "colorscale": {
           "diverging": [
            [
             0,
             "#8e0152"
            ],
            [
             0.1,
             "#c51b7d"
            ],
            [
             0.2,
             "#de77ae"
            ],
            [
             0.3,
             "#f1b6da"
            ],
            [
             0.4,
             "#fde0ef"
            ],
            [
             0.5,
             "#f7f7f7"
            ],
            [
             0.6,
             "#e6f5d0"
            ],
            [
             0.7,
             "#b8e186"
            ],
            [
             0.8,
             "#7fbc41"
            ],
            [
             0.9,
             "#4d9221"
            ],
            [
             1,
             "#276419"
            ]
           ],
           "sequential": [
            [
             0,
             "#0d0887"
            ],
            [
             0.1111111111111111,
             "#46039f"
            ],
            [
             0.2222222222222222,
             "#7201a8"
            ],
            [
             0.3333333333333333,
             "#9c179e"
            ],
            [
             0.4444444444444444,
             "#bd3786"
            ],
            [
             0.5555555555555556,
             "#d8576b"
            ],
            [
             0.6666666666666666,
             "#ed7953"
            ],
            [
             0.7777777777777778,
             "#fb9f3a"
            ],
            [
             0.8888888888888888,
             "#fdca26"
            ],
            [
             1,
             "#f0f921"
            ]
           ],
           "sequentialminus": [
            [
             0,
             "#0d0887"
            ],
            [
             0.1111111111111111,
             "#46039f"
            ],
            [
             0.2222222222222222,
             "#7201a8"
            ],
            [
             0.3333333333333333,
             "#9c179e"
            ],
            [
             0.4444444444444444,
             "#bd3786"
            ],
            [
             0.5555555555555556,
             "#d8576b"
            ],
            [
             0.6666666666666666,
             "#ed7953"
            ],
            [
             0.7777777777777778,
             "#fb9f3a"
            ],
            [
             0.8888888888888888,
             "#fdca26"
            ],
            [
             1,
             "#f0f921"
            ]
           ]
          },
          "colorway": [
           "#636efa",
           "#EF553B",
           "#00cc96",
           "#ab63fa",
           "#FFA15A",
           "#19d3f3",
           "#FF6692",
           "#B6E880",
           "#FF97FF",
           "#FECB52"
          ],
          "font": {
           "color": "#2a3f5f"
          },
          "geo": {
           "bgcolor": "white",
           "lakecolor": "white",
           "landcolor": "#E5ECF6",
           "showlakes": true,
           "showland": true,
           "subunitcolor": "white"
          },
          "hoverlabel": {
           "align": "left"
          },
          "hovermode": "closest",
          "mapbox": {
           "style": "light"
          },
          "paper_bgcolor": "white",
          "plot_bgcolor": "#E5ECF6",
          "polar": {
           "angularaxis": {
            "gridcolor": "white",
            "linecolor": "white",
            "ticks": ""
           },
           "bgcolor": "#E5ECF6",
           "radialaxis": {
            "gridcolor": "white",
            "linecolor": "white",
            "ticks": ""
           }
          },
          "scene": {
           "xaxis": {
            "backgroundcolor": "#E5ECF6",
            "gridcolor": "white",
            "gridwidth": 2,
            "linecolor": "white",
            "showbackground": true,
            "ticks": "",
            "zerolinecolor": "white"
           },
           "yaxis": {
            "backgroundcolor": "#E5ECF6",
            "gridcolor": "white",
            "gridwidth": 2,
            "linecolor": "white",
            "showbackground": true,
            "ticks": "",
            "zerolinecolor": "white"
           },
           "zaxis": {
            "backgroundcolor": "#E5ECF6",
            "gridcolor": "white",
            "gridwidth": 2,
            "linecolor": "white",
            "showbackground": true,
            "ticks": "",
            "zerolinecolor": "white"
           }
          },
          "shapedefaults": {
           "line": {
            "color": "#2a3f5f"
           }
          },
          "ternary": {
           "aaxis": {
            "gridcolor": "white",
            "linecolor": "white",
            "ticks": ""
           },
           "baxis": {
            "gridcolor": "white",
            "linecolor": "white",
            "ticks": ""
           },
           "bgcolor": "#E5ECF6",
           "caxis": {
            "gridcolor": "white",
            "linecolor": "white",
            "ticks": ""
           }
          },
          "title": {
           "x": 0.05
          },
          "xaxis": {
           "automargin": true,
           "gridcolor": "white",
           "linecolor": "white",
           "ticks": "",
           "title": {
            "standoff": 15
           },
           "zerolinecolor": "white",
           "zerolinewidth": 2
          },
          "yaxis": {
           "automargin": true,
           "gridcolor": "white",
           "linecolor": "white",
           "ticks": "",
           "title": {
            "standoff": 15
           },
           "zerolinecolor": "white",
           "zerolinewidth": 2
          }
         }
        },
        "title": {
         "text": "Plots over ξ"
        },
        "width": 1000,
        "xaxis": {
         "anchor": "y",
         "domain": [
          0,
          0.45
         ],
         "rangemode": "tozero",
         "title": {
          "text": "ξ"
         }
        },
        "xaxis2": {
         "anchor": "y2",
         "domain": [
          0.55,
          1
         ],
         "rangemode": "tozero",
         "title": {
          "text": "ξ"
         }
        },
        "yaxis": {
         "anchor": "x",
         "domain": [
          0,
          1
         ],
         "rangemode": "tozero"
        },
        "yaxis2": {
         "anchor": "x2",
         "domain": [
          0,
          1
         ],
         "rangemode": "tozero"
        }
       }
      },
      "text/html": [
       "<div>\n",
       "        \n",
       "        \n",
       "            <div id=\"6418fa2b-0bf4-498c-8cf5-77cbdc74c092\" class=\"plotly-graph-div\" style=\"height:400px; width:1000px;\"></div>\n",
       "            <script type=\"text/javascript\">\n",
       "                require([\"plotly\"], function(Plotly) {\n",
       "                    window.PLOTLYENV=window.PLOTLYENV || {};\n",
       "                    \n",
       "                if (document.getElementById(\"6418fa2b-0bf4-498c-8cf5-77cbdc74c092\")) {\n",
       "                    Plotly.newPlot(\n",
       "                        '6418fa2b-0bf4-498c-8cf5-77cbdc74c092',\n",
       "                        [{\"name\": \"E[Mg(X)]\", \"type\": \"scatter\", \"x\": [0.01, 0.02, 0.03, 0.04, 0.05, 0.060000000000000005, 0.06999999999999999, 0.08, 0.09, 0.09999999999999999, 0.11, 0.12, 0.13, 0.14, 0.15000000000000002, 0.16, 0.17, 0.18000000000000002, 0.19, 0.2, 0.21000000000000002, 0.22, 0.23, 0.24000000000000002, 0.25, 0.26, 0.27, 0.28, 0.29000000000000004, 0.3, 0.31, 0.32, 0.33, 0.34, 0.35000000000000003, 0.36000000000000004, 0.37, 0.38, 0.39, 0.4, 0.41000000000000003, 0.42000000000000004, 0.43, 0.44, 0.45, 0.46, 0.47000000000000003, 0.48000000000000004, 0.49, 0.5, 0.51, 0.52, 0.53, 0.54, 0.55, 0.56, 0.5700000000000001, 0.5800000000000001, 0.59, 0.6, 0.61, 0.62, 0.63, 0.64, 0.65, 0.66, 0.67, 0.68, 0.6900000000000001, 0.7000000000000001, 0.7100000000000001, 0.72, 0.73, 0.74, 0.75, 0.76, 0.77, 0.78, 0.79, 0.8, 0.81, 0.8200000000000001, 0.8300000000000001, 0.8400000000000001, 0.85, 0.86, 0.87, 0.88, 0.89, 0.9, 0.91, 0.92, 0.93, 0.9400000000000001, 0.9500000000000001, 0.9600000000000001, 0.97, 0.98, 0.99], \"xaxis\": \"x\", \"y\": [-0.00827947376553585, -0.0025152376647582723, -0.00022854371189647802, 0.0010317592642497442, 0.0018437077493878933, 0.0024239426857553827, 0.0028617397677111467, 0.0031997062257194233, 0.0034752486538579823, 0.0037001980966331386, 0.0038872800544740424, 0.004047845356118009, 0.004188143537146493, 0.0043098121379474205, 0.004415807009004544, 0.0045090505631554334, 0.004592237172048328, 0.004666905864460632, 0.004734164738603662, 0.004794926759373206, 0.004850020004650146, 0.004902224221492218, 0.004947559098061728, 0.00498889129752592, 0.005026890825593076, 0.0050618578627675565, 0.005094535590117539, 0.005125491261513233, 0.005155195324302425, 0.0051836386861658056, 0.005210559430940894, 0.005236385226059323, 0.0052603895332133015, 0.005282192300322377, 0.005301735232562635, 0.00530959964089262, 0.0053395884339820215, 0.005365025433030765, 0.005379831187966484, 0.005393217993490686, 0.005407081313843845, 0.005421001348299504, 0.005434410801904313, 0.005441597594742465, 0.005459398991648745, 0.005470399148589573, 0.0054801708787941255, 0.005488850734230335, 0.005497735029396506, 0.005508681139499653, 0.005520470344125782, 0.005528574445964487, 0.0055371250021789215, 0.005549666484252739, 0.005554320160926397, 0.005558453849827212, 0.0055701219770971505, 0.005576798191810201, 0.0055847958936730965, 0.005591846037375705, 0.005598343732400545, 0.005604836797631485, 0.005611064577901937, 0.005617114141460983, 0.00562261402752398, 0.0056288872388203515, 0.005634342259388447, 0.005639852297673098, 0.0056450175937818705, 0.005650093025442964, 0.005655054890853512, 0.005659292541024701, 0.005663920846309073, 0.005668978632834597, 0.005673608336461947, 0.0056778981355477265, 0.0056820892889144865, 0.005686229951522728, 0.005690129908857687, 0.005694041694702183, 0.0056978438789257735, 0.005701642562115435, 0.005705552113232164, 0.005708716600639027, 0.0057122343419161, 0.005715887637294879, 0.005719103977879462, 0.0057225839239332475, 0.005725612211672536, 0.005730040617669568, 0.005730190893130479, 0.005732695316929143, 0.005736800573233896, 0.0057447071354137375, 0.0057423343051585035, 0.005745765430406928, 0.005748341215943093, 0.005751042381724568, 0.005753612997026498], \"yaxis\": \"y\"}, {\"name\": \"RE\", \"type\": \"scatter\", \"x\": [0.01, 0.02, 0.03, 0.04, 0.05, 0.060000000000000005, 0.06999999999999999, 0.08, 0.09, 0.09999999999999999, 0.11, 0.12, 0.13, 0.14, 0.15000000000000002, 0.16, 0.17, 0.18000000000000002, 0.19, 0.2, 0.21000000000000002, 0.22, 0.23, 0.24000000000000002, 0.25, 0.26, 0.27, 0.28, 0.29000000000000004, 0.3, 0.31, 0.32, 0.33, 0.34, 0.35000000000000003, 0.36000000000000004, 0.37, 0.38, 0.39, 0.4, 0.41000000000000003, 0.42000000000000004, 0.43, 0.44, 0.45, 0.46, 0.47000000000000003, 0.48000000000000004, 0.49, 0.5, 0.51, 0.52, 0.53, 0.54, 0.55, 0.56, 0.5700000000000001, 0.5800000000000001, 0.59, 0.6, 0.61, 0.62, 0.63, 0.64, 0.65, 0.66, 0.67, 0.68, 0.6900000000000001, 0.7000000000000001, 0.7100000000000001, 0.72, 0.73, 0.74, 0.75, 0.76, 0.77, 0.78, 0.79, 0.8, 0.81, 0.8200000000000001, 0.8300000000000001, 0.8400000000000001, 0.85, 0.86, 0.87, 0.88, 0.89, 0.9, 0.91, 0.92, 0.93, 0.9400000000000001, 0.9500000000000001, 0.9600000000000001, 0.97, 0.98, 0.99], \"xaxis\": \"x2\", \"y\": [0.643229194530781, 0.21728955796403307, 0.12208711217208291, 0.0853936107305067, 0.06709041129512575, 0.05649407598217197, 0.04975785216662588, 0.045200078057049904, 0.041960414783713165, 0.03957885197254424, 0.03777488403437954, 0.036371112276465806, 0.03525703491057949, 0.034361838946549865, 0.03363202487357483, 0.03302886708237142, 0.03252439832660915, 0.03209828034302245, 0.03173488733501967, 0.031423323570649184, 0.031153782866742388, 0.030918721733301985, 0.03071426595353893, 0.03053387369369943, 0.03037491575044149, 0.030234707329614547, 0.030107985471158224, 0.02999350166213995, 0.02989215435666577, 0.02979795525652945, 0.02971013348656942, 0.029633323006125027, 0.029559105821335495, 0.02949447171854514, 0.029436138343218416, 0.029397028080451137, 0.029331449621514682, 0.029274375639520782, 0.029234208418604562, 0.02919777566738556, 0.02916251298726556, 0.029128278620856932, 0.029096921937942694, 0.02908165003905714, 0.029040167121038477, 0.029015283050796745, 0.02899305009105862, 0.028972659725823094, 0.02895299812577761, 0.028931666455924036, 0.02891025544453186, 0.028893573361195295, 0.02887716298758601, 0.028855667585046478, 0.02884578916867879, 0.02883234285365497, 0.02881740971066154, 0.02880599011420916, 0.028792580411008427, 0.028781656141399943, 0.02876944572985178, 0.028758805579002417, 0.028748873660068272, 0.028739428159331577, 0.02873070786509648, 0.02872108141365732, 0.028713130259226248, 0.02870562095364526, 0.02869763280226587, 0.028689797072534298, 0.028683452994310275, 0.0286765175118565, 0.02866973887382962, 0.02866205822224, 0.028657736670952928, 0.028652056135058362, 0.02864666359552192, 0.02864078268465654, 0.0286360479718674, 0.028631170445436383, 0.02862638856211702, 0.028621963451701714, 0.02861836705313579, 0.028614211497354707, 0.028609217856224157, 0.028604879889841336, 0.02860111572037147, 0.0285965928526729, 0.028593177588534947, 0.028584887594558753, 0.028587834863389432, 0.028586531530589897, 0.028581785771411836, 0.02857134256025951, 0.028575169697375977, 0.028571924197039085, 0.028568938800250715, 0.028566474892058706, 0.02856399589967269], \"yaxis\": \"y2\"}],\n",
       "                        {\"height\": 400, \"template\": {\"data\": {\"bar\": [{\"error_x\": {\"color\": \"#2a3f5f\"}, \"error_y\": {\"color\": \"#2a3f5f\"}, \"marker\": {\"line\": {\"color\": \"#E5ECF6\", \"width\": 0.5}}, \"type\": \"bar\"}], \"barpolar\": [{\"marker\": {\"line\": {\"color\": \"#E5ECF6\", \"width\": 0.5}}, \"type\": \"barpolar\"}], \"carpet\": [{\"aaxis\": {\"endlinecolor\": \"#2a3f5f\", \"gridcolor\": \"white\", \"linecolor\": \"white\", \"minorgridcolor\": \"white\", \"startlinecolor\": \"#2a3f5f\"}, \"baxis\": {\"endlinecolor\": \"#2a3f5f\", \"gridcolor\": \"white\", \"linecolor\": \"white\", \"minorgridcolor\": \"white\", \"startlinecolor\": \"#2a3f5f\"}, \"type\": \"carpet\"}], \"choropleth\": [{\"colorbar\": {\"outlinewidth\": 0, \"ticks\": \"\"}, \"type\": \"choropleth\"}], \"contour\": [{\"colorbar\": {\"outlinewidth\": 0, \"ticks\": \"\"}, \"colorscale\": [[0.0, \"#0d0887\"], [0.1111111111111111, \"#46039f\"], [0.2222222222222222, \"#7201a8\"], [0.3333333333333333, \"#9c179e\"], [0.4444444444444444, \"#bd3786\"], [0.5555555555555556, \"#d8576b\"], [0.6666666666666666, \"#ed7953\"], [0.7777777777777778, \"#fb9f3a\"], [0.8888888888888888, \"#fdca26\"], [1.0, \"#f0f921\"]], \"type\": \"contour\"}], \"contourcarpet\": [{\"colorbar\": {\"outlinewidth\": 0, \"ticks\": \"\"}, \"type\": \"contourcarpet\"}], \"heatmap\": [{\"colorbar\": {\"outlinewidth\": 0, \"ticks\": \"\"}, \"colorscale\": [[0.0, \"#0d0887\"], [0.1111111111111111, \"#46039f\"], [0.2222222222222222, \"#7201a8\"], [0.3333333333333333, \"#9c179e\"], [0.4444444444444444, \"#bd3786\"], [0.5555555555555556, \"#d8576b\"], [0.6666666666666666, \"#ed7953\"], [0.7777777777777778, \"#fb9f3a\"], [0.8888888888888888, \"#fdca26\"], [1.0, \"#f0f921\"]], \"type\": \"heatmap\"}], \"heatmapgl\": [{\"colorbar\": {\"outlinewidth\": 0, \"ticks\": \"\"}, \"colorscale\": [[0.0, \"#0d0887\"], [0.1111111111111111, \"#46039f\"], [0.2222222222222222, \"#7201a8\"], [0.3333333333333333, \"#9c179e\"], [0.4444444444444444, \"#bd3786\"], [0.5555555555555556, \"#d8576b\"], [0.6666666666666666, \"#ed7953\"], [0.7777777777777778, \"#fb9f3a\"], [0.8888888888888888, \"#fdca26\"], [1.0, \"#f0f921\"]], \"type\": \"heatmapgl\"}], \"histogram\": [{\"marker\": {\"colorbar\": {\"outlinewidth\": 0, \"ticks\": \"\"}}, \"type\": \"histogram\"}], \"histogram2d\": [{\"colorbar\": {\"outlinewidth\": 0, \"ticks\": \"\"}, \"colorscale\": [[0.0, \"#0d0887\"], [0.1111111111111111, \"#46039f\"], [0.2222222222222222, \"#7201a8\"], [0.3333333333333333, \"#9c179e\"], [0.4444444444444444, \"#bd3786\"], [0.5555555555555556, \"#d8576b\"], [0.6666666666666666, \"#ed7953\"], [0.7777777777777778, \"#fb9f3a\"], [0.8888888888888888, \"#fdca26\"], [1.0, \"#f0f921\"]], \"type\": \"histogram2d\"}], \"histogram2dcontour\": [{\"colorbar\": {\"outlinewidth\": 0, \"ticks\": \"\"}, \"colorscale\": [[0.0, \"#0d0887\"], [0.1111111111111111, \"#46039f\"], [0.2222222222222222, \"#7201a8\"], [0.3333333333333333, \"#9c179e\"], [0.4444444444444444, \"#bd3786\"], [0.5555555555555556, \"#d8576b\"], [0.6666666666666666, \"#ed7953\"], [0.7777777777777778, \"#fb9f3a\"], [0.8888888888888888, \"#fdca26\"], [1.0, \"#f0f921\"]], \"type\": \"histogram2dcontour\"}], \"mesh3d\": [{\"colorbar\": {\"outlinewidth\": 0, \"ticks\": \"\"}, \"type\": \"mesh3d\"}], \"parcoords\": [{\"line\": {\"colorbar\": {\"outlinewidth\": 0, \"ticks\": \"\"}}, \"type\": \"parcoords\"}], \"pie\": [{\"automargin\": true, \"type\": \"pie\"}], \"scatter\": [{\"marker\": {\"colorbar\": {\"outlinewidth\": 0, \"ticks\": \"\"}}, \"type\": \"scatter\"}], \"scatter3d\": [{\"line\": {\"colorbar\": {\"outlinewidth\": 0, \"ticks\": \"\"}}, \"marker\": {\"colorbar\": {\"outlinewidth\": 0, \"ticks\": \"\"}}, \"type\": \"scatter3d\"}], \"scattercarpet\": [{\"marker\": {\"colorbar\": {\"outlinewidth\": 0, \"ticks\": \"\"}}, \"type\": \"scattercarpet\"}], \"scattergeo\": [{\"marker\": {\"colorbar\": {\"outlinewidth\": 0, \"ticks\": \"\"}}, \"type\": \"scattergeo\"}], \"scattergl\": [{\"marker\": {\"colorbar\": {\"outlinewidth\": 0, \"ticks\": \"\"}}, \"type\": \"scattergl\"}], \"scattermapbox\": [{\"marker\": {\"colorbar\": {\"outlinewidth\": 0, \"ticks\": \"\"}}, \"type\": \"scattermapbox\"}], \"scatterpolar\": [{\"marker\": {\"colorbar\": {\"outlinewidth\": 0, \"ticks\": \"\"}}, \"type\": \"scatterpolar\"}], \"scatterpolargl\": [{\"marker\": {\"colorbar\": {\"outlinewidth\": 0, \"ticks\": \"\"}}, \"type\": \"scatterpolargl\"}], \"scatterternary\": [{\"marker\": {\"colorbar\": {\"outlinewidth\": 0, \"ticks\": \"\"}}, \"type\": \"scatterternary\"}], \"surface\": [{\"colorbar\": {\"outlinewidth\": 0, \"ticks\": \"\"}, \"colorscale\": [[0.0, \"#0d0887\"], [0.1111111111111111, \"#46039f\"], [0.2222222222222222, \"#7201a8\"], [0.3333333333333333, \"#9c179e\"], [0.4444444444444444, \"#bd3786\"], [0.5555555555555556, \"#d8576b\"], [0.6666666666666666, \"#ed7953\"], [0.7777777777777778, \"#fb9f3a\"], [0.8888888888888888, \"#fdca26\"], [1.0, \"#f0f921\"]], \"type\": \"surface\"}], \"table\": [{\"cells\": {\"fill\": {\"color\": \"#EBF0F8\"}, \"line\": {\"color\": \"white\"}}, \"header\": {\"fill\": {\"color\": \"#C8D4E3\"}, \"line\": {\"color\": \"white\"}}, \"type\": \"table\"}]}, \"layout\": {\"annotationdefaults\": {\"arrowcolor\": \"#2a3f5f\", \"arrowhead\": 0, \"arrowwidth\": 1}, \"coloraxis\": {\"colorbar\": {\"outlinewidth\": 0, \"ticks\": \"\"}}, \"colorscale\": {\"diverging\": [[0, \"#8e0152\"], [0.1, \"#c51b7d\"], [0.2, \"#de77ae\"], [0.3, \"#f1b6da\"], [0.4, \"#fde0ef\"], [0.5, \"#f7f7f7\"], [0.6, \"#e6f5d0\"], [0.7, \"#b8e186\"], [0.8, \"#7fbc41\"], [0.9, \"#4d9221\"], [1, \"#276419\"]], \"sequential\": [[0.0, \"#0d0887\"], [0.1111111111111111, \"#46039f\"], [0.2222222222222222, \"#7201a8\"], [0.3333333333333333, \"#9c179e\"], [0.4444444444444444, \"#bd3786\"], [0.5555555555555556, \"#d8576b\"], [0.6666666666666666, \"#ed7953\"], [0.7777777777777778, \"#fb9f3a\"], [0.8888888888888888, \"#fdca26\"], [1.0, \"#f0f921\"]], \"sequentialminus\": [[0.0, \"#0d0887\"], [0.1111111111111111, \"#46039f\"], [0.2222222222222222, \"#7201a8\"], [0.3333333333333333, \"#9c179e\"], [0.4444444444444444, \"#bd3786\"], [0.5555555555555556, \"#d8576b\"], [0.6666666666666666, \"#ed7953\"], [0.7777777777777778, \"#fb9f3a\"], [0.8888888888888888, \"#fdca26\"], [1.0, \"#f0f921\"]]}, \"colorway\": [\"#636efa\", \"#EF553B\", \"#00cc96\", \"#ab63fa\", \"#FFA15A\", \"#19d3f3\", \"#FF6692\", \"#B6E880\", \"#FF97FF\", \"#FECB52\"], \"font\": {\"color\": \"#2a3f5f\"}, \"geo\": {\"bgcolor\": \"white\", \"lakecolor\": \"white\", \"landcolor\": \"#E5ECF6\", \"showlakes\": true, \"showland\": true, \"subunitcolor\": \"white\"}, \"hoverlabel\": {\"align\": \"left\"}, \"hovermode\": \"closest\", \"mapbox\": {\"style\": \"light\"}, \"paper_bgcolor\": \"white\", \"plot_bgcolor\": \"#E5ECF6\", \"polar\": {\"angularaxis\": {\"gridcolor\": \"white\", \"linecolor\": \"white\", \"ticks\": \"\"}, \"bgcolor\": \"#E5ECF6\", \"radialaxis\": {\"gridcolor\": \"white\", \"linecolor\": \"white\", \"ticks\": \"\"}}, \"scene\": {\"xaxis\": {\"backgroundcolor\": \"#E5ECF6\", \"gridcolor\": \"white\", \"gridwidth\": 2, \"linecolor\": \"white\", \"showbackground\": true, \"ticks\": \"\", \"zerolinecolor\": \"white\"}, \"yaxis\": {\"backgroundcolor\": \"#E5ECF6\", \"gridcolor\": \"white\", \"gridwidth\": 2, \"linecolor\": \"white\", \"showbackground\": true, \"ticks\": \"\", \"zerolinecolor\": \"white\"}, \"zaxis\": {\"backgroundcolor\": \"#E5ECF6\", \"gridcolor\": \"white\", \"gridwidth\": 2, \"linecolor\": \"white\", \"showbackground\": true, \"ticks\": \"\", \"zerolinecolor\": \"white\"}}, \"shapedefaults\": {\"line\": {\"color\": \"#2a3f5f\"}}, \"ternary\": {\"aaxis\": {\"gridcolor\": \"white\", \"linecolor\": \"white\", \"ticks\": \"\"}, \"baxis\": {\"gridcolor\": \"white\", \"linecolor\": \"white\", \"ticks\": \"\"}, \"bgcolor\": \"#E5ECF6\", \"caxis\": {\"gridcolor\": \"white\", \"linecolor\": \"white\", \"ticks\": \"\"}}, \"title\": {\"x\": 0.05}, \"xaxis\": {\"automargin\": true, \"gridcolor\": \"white\", \"linecolor\": \"white\", \"ticks\": \"\", \"title\": {\"standoff\": 15}, \"zerolinecolor\": \"white\", \"zerolinewidth\": 2}, \"yaxis\": {\"automargin\": true, \"gridcolor\": \"white\", \"linecolor\": \"white\", \"ticks\": \"\", \"title\": {\"standoff\": 15}, \"zerolinecolor\": \"white\", \"zerolinewidth\": 2}}}, \"title\": {\"text\": \"Plots over \\u03be\"}, \"width\": 1000, \"xaxis\": {\"anchor\": \"y\", \"domain\": [0.0, 0.45], \"rangemode\": \"tozero\", \"title\": {\"text\": \"\\u03be\"}}, \"xaxis2\": {\"anchor\": \"y2\", \"domain\": [0.55, 1.0], \"rangemode\": \"tozero\", \"title\": {\"text\": \"\\u03be\"}}, \"yaxis\": {\"anchor\": \"x\", \"domain\": [0.0, 1.0], \"rangemode\": \"tozero\"}, \"yaxis2\": {\"anchor\": \"x2\", \"domain\": [0.0, 1.0], \"rangemode\": \"tozero\"}},\n",
       "                        {\"responsive\": true}\n",
       "                    ).then(function(){\n",
       "                            \n",
       "var gd = document.getElementById('6418fa2b-0bf4-498c-8cf5-77cbdc74c092');\n",
       "var x = new MutationObserver(function (mutations, observer) {{\n",
       "        var display = window.getComputedStyle(gd).display;\n",
       "        if (!display || display === 'none') {{\n",
       "            console.log([gd, 'removed!']);\n",
       "            Plotly.purge(gd);\n",
       "            observer.disconnect();\n",
       "        }}\n",
       "}});\n",
       "\n",
       "// Listen for the removal of the full notebook cells\n",
       "var notebookContainer = gd.closest('#notebook-container');\n",
       "if (notebookContainer) {{\n",
       "    x.observe(notebookContainer, {childList: true});\n",
       "}}\n",
       "\n",
       "// Listen for the clearing of the current output cell\n",
       "var outputEl = gd.closest('.output');\n",
       "if (outputEl) {{\n",
       "    x.observe(outputEl, {childList: true});\n",
       "}}\n",
       "\n",
       "                        })\n",
       "                };\n",
       "                });\n",
       "            </script>\n",
       "        </div>"
      ]
     },
     "metadata": {},
     "output_type": "display_data"
    }
   ],
   "source": [
    "# Plots for μ and RE\n",
    "fig = make_subplots(rows=1, cols=2)\n",
    "fig.add_trace(\n",
    "    go.Scatter(x=ξ_grid, y=bounds, name='E[Mg(X)]'),\n",
    "    row=1, col=1\n",
    ")\n",
    "fig.add_trace(\n",
    "    go.Scatter(x=ξ_grid, y=REs, name='RE'),\n",
    "    row=1, col=2\n",
    ")\n",
    "fig.update_layout(height=400, width=1000,title_text='Plots over ξ')\n",
    "fig.update_xaxes(rangemode=\"tozero\",title_text='ξ')\n",
    "fig.update_yaxes(rangemode=\"tozero\")\n",
    "fig.show()"
   ]
  },
  {
   "cell_type": "code",
   "execution_count": null,
   "metadata": {},
   "outputs": [],
   "source": []
  }
 ],
 "metadata": {
  "kernelspec": {
   "display_name": "Python 3",
   "language": "python",
   "name": "python3"
  },
  "language_info": {
   "codemirror_mode": {
    "name": "ipython",
    "version": 3
   },
   "file_extension": ".py",
   "mimetype": "text/x-python",
   "name": "python",
   "nbconvert_exporter": "python",
   "pygments_lexer": "ipython3",
   "version": "3.7.1"
  }
 },
 "nbformat": 4,
 "nbformat_minor": 4
}
