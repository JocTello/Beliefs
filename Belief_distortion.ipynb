{
 "cells": [
  {
   "cell_type": "code",
   "execution_count": 1,
   "metadata": {},
   "outputs": [],
   "source": [
    "import time\n",
    "import plotly.graph_objects as go\n",
    "from plotly.subplots import make_subplots\n",
    "from utilities_s7 import *\n",
    "from utilities_s8 import *"
   ]
  },
  {
   "cell_type": "markdown",
   "metadata": {},
   "source": [
    "## 7 Incorporating Conditional Information"
   ]
  },
  {
   "cell_type": "markdown",
   "metadata": {},
   "source": [
    "### 7.1 Approach I\n",
    "\n",
    "#### Basic problem:\n",
    "\n",
    "\\begin{equation}\n",
    "\\min_{M\\geq0}{\\mathbb E}\\left[Mg(X)\\right]\n",
    "\\end{equation}\n",
    "*subject to constraints:*\n",
    "\\begin{align*}\n",
    "&{\\mathbb E}\\left[M \\log M\\right] \\leq \\kappa, \\\\\n",
    "&{\\mathbb E}\\left[B^j M Y\\right] = 0, \\\\\n",
    "&{\\mathbb E}\\left[M\\right] = 1.\n",
    "\\end{align*}\n",
    "\n",
    "#### Dual problem:\n",
    "\n",
    "For computational purposes, we solve the dual problem after minimizing over $M$.  \n",
    "\n",
    "\\begin{equation*}\n",
    "\\sup_{\\xi>0}\\max_{\\hat{\\lambda}_j}    - \\xi \\log {\\mathbb E} \\left[ \\exp\\left( - {\\frac 1 {\\xi}} \\left[ g(X) + \\sum_{j}\\hat{\\lambda}_j \\cdot YB^j \\right] \\right)\\right]  -  \\xi \\kappa  \n",
    "\\end{equation*}\n",
    "\n",
    "$\\hat{\\lambda}$ and $\\xi$ are multipliers on the moment condition and relative entropy constraints. \n",
    "\n",
    "#### Formula for $M$:\n",
    "\n",
    "\\begin{equation*}\n",
    "M^* = \\frac{\\exp\\left[-\\frac{1}{\\xi^*}\\left(g(X) + \\hat{\\lambda}^*\\cdot f(X)\\right)\\right]}{\\mathbb E \\left( \\exp\\left[-\\frac{1}{\\xi^*}\\left(g(X) + \\hat{\\lambda}^*\\cdot f(X)\\right)\\right]\\right)}\n",
    "\\end{equation*}\n"
   ]
  },
  {
   "cell_type": "code",
   "execution_count": 2,
   "metadata": {},
   "outputs": [
    {
     "name": "stdout",
     "output_type": "stream",
     "text": [
      "---Approach I---\n",
      "Lower Bound for k: 0.05390640876535269\n",
      "\n",
      "\n",
      "---Setting and Results---\n",
      "k = 0.05929704964188796\n",
      "E[Mg(X)]= 0.0065056198610468005\n"
     ]
    }
   ],
   "source": [
    "# Set model paramters\n",
    "tol = 1e-12\n",
    "max_iter = 1000\n",
    "\n",
    "solver_s7 = StaDivConstraint(tol,max_iter)\n",
    "approach = 1\n",
    "\n",
    "# Calculate lower bound for k\n",
    "print(\"---Approach I---\")\n",
    "min_k_approach_1 = solver_s7.cal_min_k(approach)['result']\n",
    "print(\"Lower Bound for k: %s\" % min_k_approach_1)\n",
    "\n",
    "# Set k\n",
    "k = min_k_approach_1 * 1.1\n",
    "result_approach_1 = solver_s7.solve(k,approach)\n",
    "moment_bound_approach_1 = result_approach_1['result']\n",
    "print(\"\\n\")\n",
    "print(\"---Setting and Results---\")\n",
    "print(\"k = %s\" % k)\n",
    "print(\"E[Mg(X)]= %s\" % moment_bound_approach_1)"
   ]
  },
  {
   "cell_type": "code",
   "execution_count": 3,
   "metadata": {},
   "outputs": [],
   "source": [
    "# Calculate M\n",
    "temp = np.exp(-1./result_approach_1['ξ'] * (solver_s7.g + solver_s7.f@result_approach_1['λ']))\n",
    "M = temp/np.mean(temp)\n",
    "\n",
    "# Calculate transition matrix and stationary distribution under the original empirical probability\n",
    "P = np.zeros((solver_s7.n_states,solver_s7.n_states))\n",
    "for i in np.arange(1,solver_s7.n_states+1,1):\n",
    "    for j in np.arange(1,solver_s7.n_states+1,1):\n",
    "        P[i-1,j-1] = np.mean(solver_s7.pd_indicator[solver_s7.pd_lag_indicator[:,i-1]][:,j-1]) \n",
    "A = P.T - np.eye(solver_s7.n_states)\n",
    "A[-1] = np.ones(solver_s7.n_states)\n",
    "B = np.zeros(solver_s7.n_states)\n",
    "B[-1] = 1.\n",
    "π = np.linalg.solve(A, B)  \n",
    "\n",
    "# Calculate transition matrix and staionary distribution under distorted probability\n",
    "π_tilde = np.zeros_like(π)\n",
    "for i in np.arange(1,solver_s7.n_states+1,1):\n",
    "    π_tilde[i-1] = np.mean(M * solver_s7.pd_lag_indicator[:,i-1])\n",
    "#     π_tilde[i-1] = np.mean(M * solver_s7.pd_indicator[:,i-1])\n",
    "\n",
    "# Calculate conditional/unconditional moment bound\n",
    "moment_bound_cond = []\n",
    "for i in np.arange(1,solver_s7.n_states+1,1):\n",
    "    temp = np.mean(M[solver_s7.pd_lag_indicator[:,i-1]]*solver_s7.g[solver_s7.pd_lag_indicator[:,i-1]])\n",
    "    moment_bound_cond.append(temp)\n",
    "moment_bound_cond = np.array(moment_bound_cond)\n",
    "moment_bound = np.mean(M*solver_s7.g)\n",
    "\n",
    "# Calculate conditional/unconditional relative entropy\n",
    "RE_cond = []\n",
    "for i in np.arange(1,solver_s7.n_states+1,1):\n",
    "    temp = np.mean(M[solver_s7.pd_lag_indicator[:,i-1]]*np.log(M[solver_s7.pd_lag_indicator[:,i-1]]))\n",
    "    RE_cond.append(temp)\n",
    "RE_cond = np.array(RE_cond)\n",
    "RE = np.mean(M*np.log(M))"
   ]
  },
  {
   "cell_type": "code",
   "execution_count": 4,
   "metadata": {},
   "outputs": [
    {
     "name": "stdout",
     "output_type": "stream",
     "text": [
      "--- Distribution (Original) ---\n",
      "[0.41654572 0.31240929 0.27104499]\n",
      "\n",
      "\n",
      "--- Distribution (Distorted) ---\n",
      "[0.3551099  0.34137148 0.30351862]\n",
      "\n",
      "\n",
      "--- Conditional Moment Bound ---\n",
      "E[Mg(X)|state 1] = 0.004312583960382065 \n",
      "E[Mg(X)|state 2] = 0.006347712922077528 \n",
      "E[Mg(X)|state 3] = 0.008828316429743868 \n",
      "\n",
      "\n",
      "--- Unconditional Moment Bound ---\n",
      "E[Mg(X)] = 0.006505646186358005\n",
      "\n",
      "\n",
      "--- Conditional Relative Entropy ---\n",
      "E[MlogM|state 1] = 0.08508894155696599 \n",
      "E[MlogM|state 2] = 0.06377251191365019 \n",
      "E[MlogM|state 3] = 0.02939399541834139 \n",
      "\n",
      "\n",
      "--- Unconditional Relative Entropy ---\n",
      "E[MlogM] = 0.05929692633325046\n"
     ]
    }
   ],
   "source": [
    "# Print stationary distribution under the original empirical probability\n",
    "print(\"--- Distribution (Original) ---\")\n",
    "print(π)\n",
    "\n",
    "# Print stationary distribution under distorted probability\n",
    "print(\"\\n\")\n",
    "print(\"--- Distribution (Distorted) ---\")\n",
    "print(π_tilde)\n",
    "\n",
    "# Print conditional moment bound\n",
    "print(\"\\n\")\n",
    "print(\"--- Conditional Moment Bound ---\")\n",
    "print(\"E[Mg(X)|state 1] = %s \" % moment_bound_cond[0])\n",
    "print(\"E[Mg(X)|state 2] = %s \" % moment_bound_cond[1])\n",
    "print(\"E[Mg(X)|state 3] = %s \" % moment_bound_cond[2])\n",
    "\n",
    "# Print unconditional moment bound\n",
    "print(\"\\n\")\n",
    "print(\"--- Unconditional Moment Bound ---\")\n",
    "print(\"E[Mg(X)] = %s\" % moment_bound)\n",
    "\n",
    "# Print conditional relative entropy\n",
    "print(\"\\n\")\n",
    "print(\"--- Conditional Relative Entropy ---\")\n",
    "print(\"E[MlogM|state 1] = %s \" % RE_cond[0])\n",
    "print(\"E[MlogM|state 2] = %s \" % RE_cond[1])\n",
    "print(\"E[MlogM|state 3] = %s \" % RE_cond[2])\n",
    "\n",
    "# Print unconditional moment bound\n",
    "print(\"\\n\")\n",
    "print(\"--- Unconditional Relative Entropy ---\")\n",
    "print(\"E[MlogM] = %s\" % RE)"
   ]
  },
  {
   "cell_type": "markdown",
   "metadata": {},
   "source": [
    "### 7.3 Approach III\n",
    "\n",
    "#### Basic problem:\n",
    "\n",
    "\\begin{equation}\n",
    "\\min_{M\\geq0}{\\mathbb E}\\left[Mg(X)\\mid\\mathfrak{F}_0\\right]\n",
    "\\end{equation}\n",
    "*subject to constraints:*\n",
    "\\begin{align*}\n",
    "&{\\mathbb E}\\left[M \\log M\\mid\\mathfrak{F}_0\\right] \\leq \\kappa, \\\\\n",
    "&{\\mathbb E}\\left[M  Y\\mid\\mathfrak{F}_0\\right] = 0, \\\\\n",
    "&{\\mathbb E}\\left[M\\mid\\mathfrak{F}_0\\right] = 1.\n",
    "\\end{align*}\n",
    "\n",
    "#### Dual problem:\n",
    "For computational purposes, we solve the dual problem after minimizing over $M$.  \n",
    "\n",
    "\\begin{equation*}\n",
    "\\sup_{\\xi>0}\\max_{\\hat{\\lambda}}    - \\xi \\log {\\mathbb E} \\left[ \\exp\\left( - {\\frac 1 {\\xi}} \\left[ g(X) + \\hat{\\lambda} \\cdot Y \\right] \\right)\\mid\\mathfrak{F}_0\\right]  -  \\xi \\kappa  \n",
    "\\end{equation*}\n",
    "\n",
    "$\\hat{\\lambda}$ and $\\xi$ are multipliers on the moment condition and relative entropy constraints. "
   ]
  },
  {
   "cell_type": "code",
   "execution_count": 5,
   "metadata": {},
   "outputs": [
    {
     "name": "stdout",
     "output_type": "stream",
     "text": [
      "---Approach III, condition on state 1---\n",
      "Lower Bound for k: 0.05390640876535269\n",
      "\n",
      "\n",
      "---Setting and Results---\n",
      "k = 0.004387594749274993\n",
      "E[Mg(X)|state 1]= 0.005635026995385118\n"
     ]
    }
   ],
   "source": [
    "# Set model paramters\n",
    "tol = 1e-12\n",
    "max_iter = 1000\n",
    "\n",
    "solver_s7 = StaDivConstraint(tol,max_iter)\n",
    "approach = 3\n",
    "state = 1\n",
    "\n",
    "# Calculate lower bound for k\n",
    "print(\"---Approach III, condition on state %s---\" % state)\n",
    "min_k_approach_3 = solver_s7.cal_min_k(approach,state)['result']\n",
    "print(\"Lower Bound for k: %s\" % min_k_approach_1)\n",
    "\n",
    "# Set k\n",
    "k = min_k_approach_3 * 1.1\n",
    "moment_bound_approach_3 = solver_s7.solve(k,approach,state)['result']\n",
    "print(\"\\n\")\n",
    "print(\"---Setting and Results---\")\n",
    "print(\"k = %s\" % k)\n",
    "print(\"E[Mg(X)|state %s]= %s\" % (state,moment_bound_approach_3))"
   ]
  },
  {
   "cell_type": "markdown",
   "metadata": {},
   "source": [
    "## 8 Intertemporal Divergence Constraints\n",
    "\n",
    "### Proposition 8.6\n",
    "Problem 8.4 can be solved by finding the solution to:\n",
    "\n",
    "\\begin{equation}\n",
    "\\epsilon = \\min_\\hat{\\lambda}\\mathbb E \\left(\\exp \\left[-\\frac{1}{\\xi}g(X_1)+\\hat{\\lambda}\\cdot f(X_1)\\right]\\left( \\frac{e_1}{e_0}\\right) \\mid \\mathfrak{F}_0\\right)\n",
    "\\end{equation}\n",
    "\n",
    "*where*\n",
    "\\begin{align*}\n",
    "\\mu &= -\\xi \\log \\epsilon,\\\\\n",
    "v_0 &= -\\xi \\log e_0.\n",
    "\\end{align*}\n",
    "\n",
    "Denote $e^*$, $\\hat{\\lambda}^*$ as the solution to the above optimization problem. The implied solution for the probablity distortion is:\n",
    "\n",
    "\\begin{equation}\n",
    "M_1^* = \\frac{\\exp \\left[-\\frac{1}{\\xi}g(X_1)+\\hat{\\lambda}^*(Z_0)\\cdot f(X_1)\\right]e_1^*}{\\epsilon^*e_0^*}\n",
    "\\end{equation}"
   ]
  },
  {
   "cell_type": "code",
   "execution_count": 15,
   "metadata": {},
   "outputs": [
    {
     "name": "stdout",
     "output_type": "stream",
     "text": [
      "--- Iteration Ends ---\n",
      "ξ = 10.0\n",
      "Time spent: 0.592 seconds ---\n",
      "\n",
      "\n",
      "--- Transition Probability Matrix (Original) ---\n",
      "[[0.96341463 0.03658537 0.        ]\n",
      " [0.04878049 0.87804878 0.07317073]\n",
      " [0.         0.08433735 0.91566265]]\n",
      " \n",
      "--- Transition Probability Matrix (Distorted, lower bound problem) ---\n",
      "[[0.97856179 0.02143821 0.        ]\n",
      " [0.08214167 0.88190482 0.03595351]\n",
      " [0.         0.17247155 0.82752845]]\n",
      " \n",
      "--- Transition Probability Matrix (Distorted, upper bound problem) ---\n",
      "[[0.97833639 0.02166361 0.        ]\n",
      " [0.08173756 0.88208616 0.03617627]\n",
      " [0.         0.17188513 0.82811486]]\n",
      "\n",
      "\n",
      "--- Stationary Distribution (Original) ---\n",
      "[0.41654572 0.31240929 0.27104499]\n",
      " \n",
      "--- Stationary Distribution (Distorted, lower bound problem) ---\n",
      "[0.76022677 0.19841213 0.0413611 ]\n",
      " \n",
      "--- Stationary Distribution (Distorted, upper bound problem) ---\n",
      "[0.76022677 0.19841213 0.0413611 ]\n",
      "\n",
      "\n",
      "--- Relative Entropy (lower bound problem) ---\n",
      "E[MlogM|state 1] = 0.011489543594734638 \n",
      "E[MlogM|state 2] = 0.0647095856244338 \n",
      "E[MlogM|state 3] = 0.1659589059063648 \n",
      "E[MlogM]         = 0.02843806885396317 \n",
      " \n",
      "--- Relative Entropy (Upper bound problem) ---\n",
      "E[MlogM|state 1] = 0.011311195925594087 \n",
      "E[MlogM|state 2] = 0.06421254921121544 \n",
      "E[MlogM|state 3] = 0.1654915352226343 \n",
      "E[MlogM]         = 0.02843797540671246 \n",
      "\n",
      "\n",
      "--- Conditional Moment (Original) ---\n",
      "E[g(X)|state 1]  = 0.012796429232759752 \n",
      "E[g(X)|state 2]  = 0.008849587698681683 \n",
      "E[g(X)|state 3]  = 0.03473194978089916 \n",
      " \n",
      "--- Conditional Moment (Lower bound) ---\n",
      "E[Mg(X)|state 1] = 0.005432365352145849 \n",
      "E[Mg(X)|state 2] = 0.006826440338607194 \n",
      "E[Mg(X)|state 3] = 0.011999058754842256 \n",
      " \n",
      "--- Conditional Moment (Upper bound) ---\n",
      "E[Mg(X)|state 1] = 0.005482330673253758 \n",
      "E[Mg(X)|state 2] = 0.006840213072333249 \n",
      "E[Mg(X)|state 3] = 0.01201860376407618 \n",
      "\n",
      "\n",
      "--- Unconditional Moment (Original) ---\n",
      "E[g(X)]  = 0.018857187126286756 \n",
      " \n",
      "--- Unconditional Moment (Lower bound) ---\n",
      "E[Mg(X)] = 0.005980572427752193 \n",
      " \n",
      "--- Unconditional Moment (Upper bound) ---\n",
      "E[Mg(X)] = 0.0060308519718796005 \n"
     ]
    }
   ],
   "source": [
    "# Set ξ\n",
    "# ξ = 0.2  # 10% higher than the minimum RE\n",
    "# ξ = 0.14 # 20% higher than the minimum RE\n",
    "ξ = 10.\n",
    "\n",
    "# Set model paramters\n",
    "tol = 1e-9\n",
    "max_iter = 1000\n",
    "\n",
    "solver_s8 = InterDivConstraint(tol,max_iter)\n",
    "\n",
    "time_start = time.time() \n",
    "result = solver_s8.iterate(ξ)\n",
    "result_upper = solver_s8.iterate(ξ,lower=False)\n",
    "\n",
    "# Print iteration information\n",
    "print(\"--- Iteration Ends ---\")\n",
    "print(\"ξ = %s\" % ξ)\n",
    "print(\"Time spent: %s seconds ---\" % (round(time.time()-time_start,4)))\n",
    "# print(\"Numer of iterations: %s ---\" % result['count'])\n",
    "\n",
    "# # Print converged parameter results\n",
    "# print(\"\\n\")\n",
    "# print(\"--- Converged vlues for the lower bound problem ---\")\n",
    "# print(\"ϵ: %s\" % result['ϵ'])\n",
    "# print(\"e: %s\" % result['e'])\n",
    "# print(\"λ: %s\" % result['λ'])\n",
    "# print(\"μ: %s\" % result['μ'])\n",
    "\n",
    "# # Print E[M|state k]\n",
    "# print(\"\\n\")\n",
    "# print(\"--- Check 1 ---\")\n",
    "# print(\"E[M|state 1] = %s \" % result['E_M_cond'][0])\n",
    "# print(\"E[M|state 2] = %s \" % result['E_M_cond'][0])\n",
    "# print(\"E[M|state 3] = %s \" % result['E_M_cond'][0])\n",
    "\n",
    "# # Print two ways of calculating moment bound\n",
    "# print(\"\\n\")\n",
    "# print(\"--- Check 2 ---\")\n",
    "# print(\"E[Mg(X)] = %s (directly using M)\" % result['moment_bound'])\n",
    "# print(\"E[Mg(X)] = %s (indirectly using μ and RE)\" % result['moment_bound_check'])\n",
    "# print(\"Difference: %s\" % (result['moment_bound']-result['moment_bound_check']))\n",
    "\n",
    "# Print transition probability matrix under the original empirical probability\n",
    "print(\"\\n\")\n",
    "print(\"--- Transition Probability Matrix (Original) ---\")\n",
    "print(result['P'])\n",
    "\n",
    "# Print transition probability matrix under distorted probability, lower bound\n",
    "print(\" \")\n",
    "print(\"--- Transition Probability Matrix (Distorted, lower bound problem) ---\")\n",
    "print(result['P_tilde'])\n",
    "\n",
    "# Print transition probability matrix under distorted probability, upper bound\n",
    "print(\" \")\n",
    "print(\"--- Transition Probability Matrix (Distorted, upper bound problem) ---\")\n",
    "print(result_upper['P_tilde'])\n",
    "\n",
    "\n",
    "# Print stationary distribution under the original empirical probability\n",
    "print(\"\\n\")\n",
    "print(\"--- Stationary Distribution (Original) ---\")\n",
    "print(result['π'])\n",
    "\n",
    "# Print stationary distribution under distorted probability, lower bound\n",
    "print(\" \")\n",
    "print(\"--- Stationary Distribution (Distorted, lower bound problem) ---\")\n",
    "print(result['π_tilde'])\n",
    "\n",
    "# Print stationary distribution under distorted probability, upper bound\n",
    "print(\" \")\n",
    "print(\"--- Stationary Distribution (Distorted, upper bound problem) ---\")\n",
    "print(result['π_tilde'])\n",
    "\n",
    "# Print relative entropy\n",
    "print(\"\\n\")\n",
    "print(\"--- Relative Entropy (lower bound problem) ---\")\n",
    "print(\"E[MlogM|state 1] = %s \" % result['RE_cond'][0])\n",
    "print(\"E[MlogM|state 2] = %s \" % result['RE_cond'][1])\n",
    "print(\"E[MlogM|state 3] = %s \" % result['RE_cond'][2])\n",
    "print(\"E[MlogM]         = %s \" % result['RE'])\n",
    "\n",
    "# Print relative entropy\n",
    "print(\" \")\n",
    "print(\"--- Relative Entropy (Upper bound problem) ---\")\n",
    "print(\"E[MlogM|state 1] = %s \" % result_upper['RE_cond'][0])\n",
    "print(\"E[MlogM|state 2] = %s \" % result_upper['RE_cond'][1])\n",
    "print(\"E[MlogM|state 3] = %s \" % result_upper['RE_cond'][2])\n",
    "print(\"E[MlogM]         = %s \" % result_upper['RE'])\n",
    "\n",
    "# Print conditional moment & bounds\n",
    "print(\"\\n\")\n",
    "print(\"--- Conditional Moment (Original) ---\")\n",
    "print(\"E[g(X)|state 1]  = %s \" % result['moment_cond'][0])\n",
    "print(\"E[g(X)|state 2]  = %s \" % result['moment_cond'][1])\n",
    "print(\"E[g(X)|state 3]  = %s \" % result['moment_cond'][2])\n",
    "print(\" \")\n",
    "print(\"--- Conditional Moment (Lower bound) ---\")\n",
    "print(\"E[Mg(X)|state 1] = %s \" % result['moment_bound_cond'][0])\n",
    "print(\"E[Mg(X)|state 2] = %s \" % result['moment_bound_cond'][1])\n",
    "print(\"E[Mg(X)|state 3] = %s \" % result['moment_bound_cond'][2])\n",
    "print(\" \")\n",
    "print(\"--- Conditional Moment (Upper bound) ---\")\n",
    "print(\"E[Mg(X)|state 1] = %s \" % result_upper['moment_bound_cond'][0])\n",
    "print(\"E[Mg(X)|state 2] = %s \" % result_upper['moment_bound_cond'][1])\n",
    "print(\"E[Mg(X)|state 3] = %s \" % result_upper['moment_bound_cond'][2])\n",
    "\n",
    "# Print unconditional moment & bounds\n",
    "print(\"\\n\")\n",
    "print(\"--- Unconditional Moment (Original) ---\")\n",
    "print(\"E[g(X)]  = %s \" % result['moment'])\n",
    "print(\" \")\n",
    "print(\"--- Unconditional Moment (Lower bound) ---\")\n",
    "print(\"E[Mg(X)] = %s \" % result['moment_bound'])\n",
    "print(\" \")\n",
    "print(\"--- Unconditional Moment (Upper bound) ---\")\n",
    "print(\"E[Mg(X)] = %s \" % result_upper['moment_bound'])"
   ]
  },
  {
   "cell_type": "code",
   "execution_count": 7,
   "metadata": {},
   "outputs": [
    {
     "name": "stdout",
     "output_type": "stream",
     "text": [
      "Time spent: 25.6455 seconds ---\n"
     ]
    }
   ],
   "source": [
    "# Solve the minimization problems over a grid of ξ\n",
    "tol = 1e-9\n",
    "max_iter = 1000\n",
    "\n",
    "solver_s8 = InterDivConstraint(tol,max_iter)\n",
    "\n",
    "# Grid for ξ\n",
    "ξ_grid = np.arange(.01,1.01,.01)\n",
    "μs = np.zeros_like(ξ_grid)\n",
    "REs = np.zeros_like(ξ_grid)\n",
    "bounds = np.zeros_like(ξ_grid)\n",
    "bounds_cond_1 = np.zeros_like(ξ_grid)\n",
    "bounds_cond_2 = np.zeros_like(ξ_grid)\n",
    "bounds_cond_3 = np.zeros_like(ξ_grid)\n",
    "ϵs = np.zeros_like(ξ_grid)\n",
    "\n",
    "time_start = time.time() \n",
    "for i in range(len(ξ_grid)):\n",
    "    ξ = ξ_grid[i]\n",
    "    result = solver_s8.iterate(ξ)\n",
    "    μs[i] = result['μ']\n",
    "    REs[i] = result['RE']\n",
    "    bounds[i] = result['moment_bound']\n",
    "    bounds_cond_1[i] = result['moment_bound_cond'][0]\n",
    "    bounds_cond_2[i] = result['moment_bound_cond'][1]\n",
    "    bounds_cond_3[i] = result['moment_bound_cond'][2]\n",
    "    ϵs[i] = result['ϵ']\n",
    "\n",
    "print(\"Time spent: %s seconds ---\" % (round(time.time()-time_start,4)))"
   ]
  },
  {
   "cell_type": "code",
   "execution_count": 14,
   "metadata": {
    "scrolled": false
   },
   "outputs": [
    {
     "data": {
      "application/vnd.plotly.v1+json": {
       "config": {
        "plotlyServerURL": "https://plot.ly"
       },
       "data": [
        {
         "name": "RE",
         "type": "scatter",
         "x": [
          0.01,
          0.02,
          0.03,
          0.04,
          0.05,
          0.060000000000000005,
          0.06999999999999999,
          0.08,
          0.09,
          0.09999999999999999,
          0.11,
          0.12,
          0.13,
          0.14,
          0.15000000000000002,
          0.16,
          0.17,
          0.18000000000000002,
          0.19,
          0.2,
          0.21000000000000002,
          0.22,
          0.23,
          0.24000000000000002,
          0.25,
          0.26,
          0.27,
          0.28,
          0.29000000000000004,
          0.3,
          0.31,
          0.32,
          0.33,
          0.34,
          0.35000000000000003,
          0.36000000000000004,
          0.37,
          0.38,
          0.39,
          0.4,
          0.41000000000000003,
          0.42000000000000004,
          0.43,
          0.44,
          0.45,
          0.46,
          0.47000000000000003,
          0.48000000000000004,
          0.49,
          0.5,
          0.51,
          0.52,
          0.53,
          0.54,
          0.55,
          0.56,
          0.5700000000000001,
          0.5800000000000001,
          0.59,
          0.6,
          0.61,
          0.62,
          0.63,
          0.64,
          0.65,
          0.66,
          0.67,
          0.68,
          0.6900000000000001,
          0.7000000000000001,
          0.7100000000000001,
          0.72,
          0.73,
          0.74,
          0.75,
          0.76,
          0.77,
          0.78,
          0.79,
          0.8,
          0.81,
          0.8200000000000001,
          0.8300000000000001,
          0.8400000000000001,
          0.85,
          0.86,
          0.87,
          0.88,
          0.89,
          0.9,
          0.91,
          0.92,
          0.93,
          0.9400000000000001,
          0.9500000000000001,
          0.9600000000000001,
          0.97,
          0.98,
          0.99,
          1
         ],
         "xaxis": "x",
         "y": [
          0.6432419567515563,
          0.2173036506636406,
          0.12208853266916929,
          0.08539518117605051,
          0.06708674566885905,
          0.056493428602187784,
          0.04976167935603548,
          0.04519981804997494,
          0.041960008564944536,
          0.039573777847649955,
          0.037765651934606,
          0.036363488274672756,
          0.03525311401552093,
          0.034359776721830874,
          0.03363054642824304,
          0.03302753538932267,
          0.03252331103225371,
          0.03209749903856277,
          0.03173466480197498,
          0.031423150969151804,
          0.03115333406108845,
          0.030918578246796724,
          0.03071303410199363,
          0.030531737237251763,
          0.03037133951806487,
          0.030228805265038777,
          0.030101546951955067,
          0.02998732516284126,
          0.029884290333123113,
          0.029791012577360935,
          0.02970635866927314,
          0.029629378996604536,
          0.029559087036783734,
          0.029495017932982145,
          0.02943631787104667,
          0.02938238026884785,
          0.029331320733050847,
          0.029286595160697163,
          0.029244165796880182,
          0.029204862655005166,
          0.0291683049634042,
          0.02913426511188379,
          0.029102559848454158,
          0.02907422283366049,
          0.02904514785757113,
          0.029019133843975302,
          0.028995219111571116,
          0.028972327722377723,
          0.02895080013363458,
          0.02893070840367665,
          0.028911767456877124,
          0.02889375306854259,
          0.028876854407685778,
          0.02886081584376714,
          0.028845427171486533,
          0.028831240023386263,
          0.0288177363063696,
          0.028804795331074638,
          0.028792556787893445,
          0.028780843761201644,
          0.028769555057473455,
          0.028758962315702963,
          0.028748999728303175,
          0.02873947296815936,
          0.028730308431584032,
          0.02872152060828729,
          0.028713177261593364,
          0.028705194704227437,
          0.028697537776462473,
          0.028690114308700103,
          0.02868309175607869,
          0.028676312629596305,
          0.028669852451213097,
          0.028663597649437055,
          0.028657750630306664,
          0.028652027355360578,
          0.028646445715678405,
          0.028641176503507247,
          0.02863601615273491,
          0.02863115667279473,
          0.02862638761635627,
          0.028621800389532062,
          0.028617371085382058,
          0.028613113972832414,
          0.02860897752024608,
          0.028604728490661264,
          0.02860096593745173,
          0.02859750472813606,
          0.028593937824256087,
          0.028590285283799487,
          0.02858709336633163,
          0.028583385842435593,
          0.028580580425326626,
          0.028577734811471432,
          0.028574784814711617,
          0.028571950080804858,
          0.028569247973758677,
          0.0285665699361433,
          0.02856397964352162,
          0.02856151949904882
         ],
         "yaxis": "y"
        },
        {
         "name": "E[Mg(X)]",
         "type": "scatter",
         "x": [
          0.01,
          0.02,
          0.03,
          0.04,
          0.05,
          0.060000000000000005,
          0.06999999999999999,
          0.08,
          0.09,
          0.09999999999999999,
          0.11,
          0.12,
          0.13,
          0.14,
          0.15000000000000002,
          0.16,
          0.17,
          0.18000000000000002,
          0.19,
          0.2,
          0.21000000000000002,
          0.22,
          0.23,
          0.24000000000000002,
          0.25,
          0.26,
          0.27,
          0.28,
          0.29000000000000004,
          0.3,
          0.31,
          0.32,
          0.33,
          0.34,
          0.35000000000000003,
          0.36000000000000004,
          0.37,
          0.38,
          0.39,
          0.4,
          0.41000000000000003,
          0.42000000000000004,
          0.43,
          0.44,
          0.45,
          0.46,
          0.47000000000000003,
          0.48000000000000004,
          0.49,
          0.5,
          0.51,
          0.52,
          0.53,
          0.54,
          0.55,
          0.56,
          0.5700000000000001,
          0.5800000000000001,
          0.59,
          0.6,
          0.61,
          0.62,
          0.63,
          0.64,
          0.65,
          0.66,
          0.67,
          0.68,
          0.6900000000000001,
          0.7000000000000001,
          0.7100000000000001,
          0.72,
          0.73,
          0.74,
          0.75,
          0.76,
          0.77,
          0.78,
          0.79,
          0.8,
          0.81,
          0.8200000000000001,
          0.8300000000000001,
          0.8400000000000001,
          0.85,
          0.86,
          0.87,
          0.88,
          0.89,
          0.9,
          0.91,
          0.92,
          0.93,
          0.9400000000000001,
          0.9500000000000001,
          0.9600000000000001,
          0.97,
          0.98,
          0.99,
          1
         ],
         "xaxis": "x2",
         "y": [
          -0.008281247186945933,
          -0.002522524277290767,
          -0.0002291175867181653,
          0.0010311945878744486,
          0.0018459919889948144,
          0.002424252804125501,
          0.0028595589436685993,
          0.003200226134617676,
          0.00347480057027678,
          0.003700899086272021,
          0.0038903855315556304,
          0.0040510611159271835,
          0.004189826369498164,
          0.004310356003282521,
          0.00441600512475799,
          0.004509382883689396,
          0.004592507727570635,
          0.004666968628657355,
          0.004734045053164264,
          0.004794755641883109,
          0.004850137505012329,
          0.0049005153195117715,
          0.004946733416842599,
          0.004989282308442592,
          0.005028549420348565,
          0.005064787702533075,
          0.005098400505300216,
          0.00512975894553206,
          0.005159126247918922,
          0.005186674068077644,
          0.005212533603613926,
          0.005236831035471677,
          0.005259795150191692,
          0.005281352750425547,
          0.00530143377815547,
          0.005320605084279189,
          0.005339637772622968,
          0.0053560279413371195,
          0.005372339265826455,
          0.005387904400403172,
          0.005402728194011145,
          0.00541683242687652,
          0.005430279352844621,
          0.005443129261991914,
          0.005455482472999052,
          0.005467323083735173,
          0.005478578619507034,
          0.005489305490463576,
          0.005499718231753572,
          0.0055096850515826265,
          0.005519295196196477,
          0.005528549023323763,
          0.005537432386413588,
          0.0055459813417577586,
          0.005554239624315239,
          0.005562276696293174,
          0.0055698965472143,
          0.005577334607090642,
          0.005584494603028698,
          0.005591490190816676,
          0.005598311908662319,
          0.005604779421510831,
          0.005611008482611851,
          0.00561707636646047,
          0.005622998559046143,
          0.005628745097286563,
          0.005634308425789726,
          0.005639718029675255,
          0.005644986297665686,
          0.005650093465479929,
          0.005655055841616412,
          0.005659884388843978,
          0.00566460106944219,
          0.005669170903302658,
          0.005673598697686144,
          0.0056778939915972625,
          0.005682094548660218,
          0.005686168591910004,
          0.005690128848878825,
          0.0056940503649815285,
          0.0056978980093259045,
          0.005701658323666139,
          0.00570532463477903,
          0.005708888960426178,
          0.005712370170125975,
          0.00571591298769266,
          0.0057191478495402775,
          0.005722294007042146,
          0.0057254505614594995,
          0.005728575550741196,
          0.0057315738484978425,
          0.005734856653038715,
          0.00573755435670899,
          0.005740274149721978,
          0.005742994316977326,
          0.005745765168785022,
          0.005748417014705529,
          0.005751034881480076,
          0.005753598110957372,
          0.00575620608160032
         ],
         "yaxis": "y2"
        },
        {
         "line": {
          "dash": "dash"
         },
         "name": "E[Mg(X)|state 1]",
         "type": "scatter",
         "x": [
          0.01,
          0.02,
          0.03,
          0.04,
          0.05,
          0.060000000000000005,
          0.06999999999999999,
          0.08,
          0.09,
          0.09999999999999999,
          0.11,
          0.12,
          0.13,
          0.14,
          0.15000000000000002,
          0.16,
          0.17,
          0.18000000000000002,
          0.19,
          0.2,
          0.21000000000000002,
          0.22,
          0.23,
          0.24000000000000002,
          0.25,
          0.26,
          0.27,
          0.28,
          0.29000000000000004,
          0.3,
          0.31,
          0.32,
          0.33,
          0.34,
          0.35000000000000003,
          0.36000000000000004,
          0.37,
          0.38,
          0.39,
          0.4,
          0.41000000000000003,
          0.42000000000000004,
          0.43,
          0.44,
          0.45,
          0.46,
          0.47000000000000003,
          0.48000000000000004,
          0.49,
          0.5,
          0.51,
          0.52,
          0.53,
          0.54,
          0.55,
          0.56,
          0.5700000000000001,
          0.5800000000000001,
          0.59,
          0.6,
          0.61,
          0.62,
          0.63,
          0.64,
          0.65,
          0.66,
          0.67,
          0.68,
          0.6900000000000001,
          0.7000000000000001,
          0.7100000000000001,
          0.72,
          0.73,
          0.74,
          0.75,
          0.76,
          0.77,
          0.78,
          0.79,
          0.8,
          0.81,
          0.8200000000000001,
          0.8300000000000001,
          0.8400000000000001,
          0.85,
          0.86,
          0.87,
          0.88,
          0.89,
          0.9,
          0.91,
          0.92,
          0.93,
          0.9400000000000001,
          0.9500000000000001,
          0.9600000000000001,
          0.97,
          0.98,
          0.99,
          1
         ],
         "xaxis": "x2",
         "y": [
          -0.00836693892948166,
          -0.002657120135552274,
          -0.00041518146926713067,
          0.0007966296898669342,
          0.0015681285793998554,
          0.002109032177593935,
          0.0025127682912383944,
          0.002826996847532522,
          0.0030795046889713425,
          0.003287164665853647,
          0.0034612104036980357,
          0.003608760794411315,
          0.0037364958875381843,
          0.003847590936580454,
          0.003945121394176038,
          0.0040314846252206375,
          0.004108511007727462,
          0.0041776404580515375,
          0.004240031143934682,
          0.004296627050863457,
          0.0043483432329063315,
          0.0043954332895871995,
          0.004438702028406348,
          0.004478622844581744,
          0.004515492175826051,
          0.00454956213755023,
          0.004581182161687036,
          0.004610731735437815,
          0.004638477707997588,
          0.004664565711960396,
          0.004689100620120689,
          0.004712176755257173,
          0.0047339270136388155,
          0.00475437261958727,
          0.0047735925510945,
          0.004791855076690292,
          0.004810268217050477,
          0.004825595627167601,
          0.004841199906416328,
          0.004856072700949347,
          0.0048702514825571756,
          0.004883743306310095,
          0.004896614433762857,
          0.004908942653029505,
          0.004920784801810844,
          0.004932162614037682,
          0.004942956593313084,
          0.004953233122234953,
          0.004963249296324816,
          0.0049728289252446165,
          0.004982075472747891,
          0.00499099059569572,
          0.004999545006001375,
          0.005007775082712964,
          0.0050157389374348394,
          0.005023514508277721,
          0.005030843312293652,
          0.005038026715459378,
          0.005044932908537983,
          0.005051698595953433,
          0.00505829953515593,
          0.005064600608026056,
          0.005070595666594625,
          0.0050764516301199615,
          0.005082185286020839,
          0.005087753233420785,
          0.005093136742419609,
          0.00509837642072644,
          0.0051034959874427036,
          0.005108439842061829,
          0.005113251692196488,
          0.005117941041397545,
          0.005122520596720858,
          0.005126964127090715,
          0.005131256368961677,
          0.005135418484273882,
          0.005139472188450062,
          0.005143433911972423,
          0.0051473145159824695,
          0.0051511217473888616,
          0.005154859693981284,
          0.005158523778679403,
          0.005162099181056861,
          0.005165574171843191,
          0.0051689566083188655,
          0.005172456356359443,
          0.005175581228351647,
          0.005178615435640054,
          0.0051816883234374524,
          0.005184744046627814,
          0.005187656855230357,
          0.005190963970516217,
          0.005193528389073744,
          0.0051961422776775745,
          0.005198777825525968,
          0.0052014970581543436,
          0.005204093460512454,
          0.005206648161335608,
          0.005209149806217644,
          0.0052117256171998584
         ],
         "yaxis": "y2"
        },
        {
         "line": {
          "dash": "dash"
         },
         "name": "E[Mg(X)|state 2]",
         "type": "scatter",
         "x": [
          0.01,
          0.02,
          0.03,
          0.04,
          0.05,
          0.060000000000000005,
          0.06999999999999999,
          0.08,
          0.09,
          0.09999999999999999,
          0.11,
          0.12,
          0.13,
          0.14,
          0.15000000000000002,
          0.16,
          0.17,
          0.18000000000000002,
          0.19,
          0.2,
          0.21000000000000002,
          0.22,
          0.23,
          0.24000000000000002,
          0.25,
          0.26,
          0.27,
          0.28,
          0.29000000000000004,
          0.3,
          0.31,
          0.32,
          0.33,
          0.34,
          0.35000000000000003,
          0.36000000000000004,
          0.37,
          0.38,
          0.39,
          0.4,
          0.41000000000000003,
          0.42000000000000004,
          0.43,
          0.44,
          0.45,
          0.46,
          0.47000000000000003,
          0.48000000000000004,
          0.49,
          0.5,
          0.51,
          0.52,
          0.53,
          0.54,
          0.55,
          0.56,
          0.5700000000000001,
          0.5800000000000001,
          0.59,
          0.6,
          0.61,
          0.62,
          0.63,
          0.64,
          0.65,
          0.66,
          0.67,
          0.68,
          0.6900000000000001,
          0.7000000000000001,
          0.7100000000000001,
          0.72,
          0.73,
          0.74,
          0.75,
          0.76,
          0.77,
          0.78,
          0.79,
          0.8,
          0.81,
          0.8200000000000001,
          0.8300000000000001,
          0.8400000000000001,
          0.85,
          0.86,
          0.87,
          0.88,
          0.89,
          0.9,
          0.91,
          0.92,
          0.93,
          0.9400000000000001,
          0.9500000000000001,
          0.9600000000000001,
          0.97,
          0.98,
          0.99,
          1
         ],
         "xaxis": "x2",
         "y": [
          0.0017956500864417379,
          0.0035650543140317184,
          0.0045501360499810555,
          0.005100153711329184,
          0.00544192354517731,
          0.00567285762379322,
          0.00583873389745955,
          0.005963385169214446,
          0.006060514149723249,
          0.0061382057640406934,
          0.006201570851448315,
          0.0062546394677409295,
          0.006299359241181106,
          0.006337715662001475,
          0.006370955346138699,
          0.006399992789253283,
          0.00642560096452223,
          0.006448359518418706,
          0.00646871734232256,
          0.006486864787139422,
          0.006503569255214812,
          0.006518609416305335,
          0.00653242105496323,
          0.006544961815905506,
          0.006556624334159146,
          0.006567227267499514,
          0.0065771237081396735,
          0.006586342390780822,
          0.006594898006603058,
          0.0066028567435749575,
          0.006610285110875529,
          0.006617255129498777,
          0.006624374508871259,
          0.006630893538759722,
          0.006635884947318579,
          0.006641346827583381,
          0.006646553268344047,
          0.006651736286820748,
          0.006656168309043608,
          0.006660613258447926,
          0.006664833690883247,
          0.0066688587321068055,
          0.0066726709970255415,
          0.006676172289435398,
          0.006679823172021758,
          0.006683171565158183,
          0.006686365413858111,
          0.0066894398554087995,
          0.0066923792455666035,
          0.006695197692061145,
          0.00669792333429139,
          0.00670053399045618,
          0.006703050212132853,
          0.00670547550027576,
          0.006707809197913243,
          0.006710055087740302,
          0.006712221534693926,
          0.006714317306085477,
          0.006716352959151818,
          0.006718350021784974,
          0.006720360507865032,
          0.006721930933132041,
          0.00672373622779304,
          0.0067254696884288265,
          0.006727134174024369,
          0.006728739752089086,
          0.006730314369853699,
          0.006731839381992303,
          0.0067332734955292345,
          0.006734744174875971,
          0.006736118819205897,
          0.0067374730818141,
          0.006738795920861763,
          0.006740064825403603,
          0.006741316576112461,
          0.00674255426148992,
          0.006743776984599312,
          0.006744860156018502,
          0.006745785995718505,
          0.006746935051611936,
          0.0067480409653926056,
          0.006749108858608994,
          0.006750143136993694,
          0.006751147310931916,
          0.006752124100085282,
          0.006753075608976646,
          0.006754003491862983,
          0.00675490908289947,
          0.0067557934909088,
          0.006756657665488391,
          0.006757502442063767,
          0.006758328571836681,
          0.006759136742435657,
          0.006759927591310819,
          0.006760701715214494,
          0.00676145967657701,
          0.006762202007988356,
          0.006762929215505799,
          0.006763641781018263,
          0.006764340164084067
         ],
         "yaxis": "y2"
        },
        {
         "line": {
          "dash": "dash"
         },
         "name": "E[Mg(X)|state 3]",
         "type": "scatter",
         "x": [
          0.01,
          0.02,
          0.03,
          0.04,
          0.05,
          0.060000000000000005,
          0.06999999999999999,
          0.08,
          0.09,
          0.09999999999999999,
          0.11,
          0.12,
          0.13,
          0.14,
          0.15000000000000002,
          0.16,
          0.17,
          0.18000000000000002,
          0.19,
          0.2,
          0.21000000000000002,
          0.22,
          0.23,
          0.24000000000000002,
          0.25,
          0.26,
          0.27,
          0.28,
          0.29000000000000004,
          0.3,
          0.31,
          0.32,
          0.33,
          0.34,
          0.35000000000000003,
          0.36000000000000004,
          0.37,
          0.38,
          0.39,
          0.4,
          0.41000000000000003,
          0.42000000000000004,
          0.43,
          0.44,
          0.45,
          0.46,
          0.47000000000000003,
          0.48000000000000004,
          0.49,
          0.5,
          0.51,
          0.52,
          0.53,
          0.54,
          0.55,
          0.56,
          0.5700000000000001,
          0.5800000000000001,
          0.59,
          0.6,
          0.61,
          0.62,
          0.63,
          0.64,
          0.65,
          0.66,
          0.67,
          0.68,
          0.6900000000000001,
          0.7000000000000001,
          0.7100000000000001,
          0.72,
          0.73,
          0.74,
          0.75,
          0.76,
          0.77,
          0.78,
          0.79,
          0.8,
          0.81,
          0.8200000000000001,
          0.8300000000000001,
          0.8400000000000001,
          0.85,
          0.86,
          0.87,
          0.88,
          0.89,
          0.9,
          0.91,
          0.92,
          0.93,
          0.9400000000000001,
          0.9500000000000001,
          0.9600000000000001,
          0.97,
          0.98,
          0.99,
          1
         ],
         "xaxis": "x2",
         "y": [
          0.007320399256793647,
          0.00862791978295676,
          0.009479584744589169,
          0.009998158124873176,
          0.010341438422514516,
          0.010584601747440602,
          0.010765754483057478,
          0.010905913714397723,
          0.011017657221116594,
          0.01110879022263841,
          0.011184468024138795,
          0.011248453094704082,
          0.011303314356678697,
          0.011350711419499813,
          0.011392142133125617,
          0.011428667308036778,
          0.011461127950012737,
          0.011490113792172126,
          0.011516192351614897,
          0.011539788910289301,
          0.011561228266892562,
          0.01158083214727931,
          0.011598643491133317,
          0.011615176819921942,
          0.011630435706174037,
          0.011644518405631406,
          0.011657536736138976,
          0.01166972668482383,
          0.01168106044993406,
          0.011691677550883881,
          0.011701579676047666,
          0.01171099017686937,
          0.011719751727893383,
          0.011728040031563455,
          0.01173584117689584,
          0.01174326976151214,
          0.011750294348243458,
          0.01175680553859316,
          0.011763254359396872,
          0.01176927046924562,
          0.011774990697608763,
          0.011780431421190573,
          0.011785684209183026,
          0.01179061487800675,
          0.011795342165538819,
          0.011799914314261691,
          0.011804275265613319,
          0.011808381466508922,
          0.01181241542639061,
          0.011816305776750217,
          0.011820039200596736,
          0.011823631925459955,
          0.011827047783503136,
          0.011830390563202498,
          0.011833570451090637,
          0.011836616888004551,
          0.011839631582454265,
          0.01184250378742506,
          0.011845270482495843,
          0.01184798437287368,
          0.011850580267073021,
          0.011853100462617089,
          0.011855523493899789,
          0.011857871898428204,
          0.011860156828758916,
          0.011862379692131051,
          0.011864541406100309,
          0.011866643109871145,
          0.011868685155999668,
          0.011870666722289465,
          0.011872704647814761,
          0.01187446718989406,
          0.011876349213914339,
          0.01187801307429394,
          0.011879721963941324,
          0.011881220015637671,
          0.011883079928937048,
          0.011884679755609119,
          0.011886228831664718,
          0.011887645392425815,
          0.011889217266631618,
          0.01189063796894871,
          0.011891993729748552,
          0.01189327798888302,
          0.011894805372102074,
          0.011896119252443006,
          0.011897402157370833,
          0.011898655040302693,
          0.011899879115621808,
          0.01190107570260127,
          0.011902246071993793,
          0.01190339135120571,
          0.011904512494105006,
          0.011905610308989662,
          0.011906685520108432,
          0.011907738848176568,
          0.011908511121197113,
          0.011909575205883816,
          0.01191060786756587,
          0.01191161009992886
         ],
         "yaxis": "y2"
        }
       ],
       "layout": {
        "height": 400,
        "shapes": [
         {
          "line": {
           "width": 1.5
          },
          "type": "line",
          "x0": 0,
          "x1": 1,
          "xref": "x",
          "y0": 0.0314176714489537,
          "y1": 0.0314176714489537,
          "yref": "y"
         }
        ],
        "template": {
         "data": {
          "bar": [
           {
            "error_x": {
             "color": "#2a3f5f"
            },
            "error_y": {
             "color": "#2a3f5f"
            },
            "marker": {
             "line": {
              "color": "#E5ECF6",
              "width": 0.5
             }
            },
            "type": "bar"
           }
          ],
          "barpolar": [
           {
            "marker": {
             "line": {
              "color": "#E5ECF6",
              "width": 0.5
             }
            },
            "type": "barpolar"
           }
          ],
          "carpet": [
           {
            "aaxis": {
             "endlinecolor": "#2a3f5f",
             "gridcolor": "white",
             "linecolor": "white",
             "minorgridcolor": "white",
             "startlinecolor": "#2a3f5f"
            },
            "baxis": {
             "endlinecolor": "#2a3f5f",
             "gridcolor": "white",
             "linecolor": "white",
             "minorgridcolor": "white",
             "startlinecolor": "#2a3f5f"
            },
            "type": "carpet"
           }
          ],
          "choropleth": [
           {
            "colorbar": {
             "outlinewidth": 0,
             "ticks": ""
            },
            "type": "choropleth"
           }
          ],
          "contour": [
           {
            "colorbar": {
             "outlinewidth": 0,
             "ticks": ""
            },
            "colorscale": [
             [
              0,
              "#0d0887"
             ],
             [
              0.1111111111111111,
              "#46039f"
             ],
             [
              0.2222222222222222,
              "#7201a8"
             ],
             [
              0.3333333333333333,
              "#9c179e"
             ],
             [
              0.4444444444444444,
              "#bd3786"
             ],
             [
              0.5555555555555556,
              "#d8576b"
             ],
             [
              0.6666666666666666,
              "#ed7953"
             ],
             [
              0.7777777777777778,
              "#fb9f3a"
             ],
             [
              0.8888888888888888,
              "#fdca26"
             ],
             [
              1,
              "#f0f921"
             ]
            ],
            "type": "contour"
           }
          ],
          "contourcarpet": [
           {
            "colorbar": {
             "outlinewidth": 0,
             "ticks": ""
            },
            "type": "contourcarpet"
           }
          ],
          "heatmap": [
           {
            "colorbar": {
             "outlinewidth": 0,
             "ticks": ""
            },
            "colorscale": [
             [
              0,
              "#0d0887"
             ],
             [
              0.1111111111111111,
              "#46039f"
             ],
             [
              0.2222222222222222,
              "#7201a8"
             ],
             [
              0.3333333333333333,
              "#9c179e"
             ],
             [
              0.4444444444444444,
              "#bd3786"
             ],
             [
              0.5555555555555556,
              "#d8576b"
             ],
             [
              0.6666666666666666,
              "#ed7953"
             ],
             [
              0.7777777777777778,
              "#fb9f3a"
             ],
             [
              0.8888888888888888,
              "#fdca26"
             ],
             [
              1,
              "#f0f921"
             ]
            ],
            "type": "heatmap"
           }
          ],
          "heatmapgl": [
           {
            "colorbar": {
             "outlinewidth": 0,
             "ticks": ""
            },
            "colorscale": [
             [
              0,
              "#0d0887"
             ],
             [
              0.1111111111111111,
              "#46039f"
             ],
             [
              0.2222222222222222,
              "#7201a8"
             ],
             [
              0.3333333333333333,
              "#9c179e"
             ],
             [
              0.4444444444444444,
              "#bd3786"
             ],
             [
              0.5555555555555556,
              "#d8576b"
             ],
             [
              0.6666666666666666,
              "#ed7953"
             ],
             [
              0.7777777777777778,
              "#fb9f3a"
             ],
             [
              0.8888888888888888,
              "#fdca26"
             ],
             [
              1,
              "#f0f921"
             ]
            ],
            "type": "heatmapgl"
           }
          ],
          "histogram": [
           {
            "marker": {
             "colorbar": {
              "outlinewidth": 0,
              "ticks": ""
             }
            },
            "type": "histogram"
           }
          ],
          "histogram2d": [
           {
            "colorbar": {
             "outlinewidth": 0,
             "ticks": ""
            },
            "colorscale": [
             [
              0,
              "#0d0887"
             ],
             [
              0.1111111111111111,
              "#46039f"
             ],
             [
              0.2222222222222222,
              "#7201a8"
             ],
             [
              0.3333333333333333,
              "#9c179e"
             ],
             [
              0.4444444444444444,
              "#bd3786"
             ],
             [
              0.5555555555555556,
              "#d8576b"
             ],
             [
              0.6666666666666666,
              "#ed7953"
             ],
             [
              0.7777777777777778,
              "#fb9f3a"
             ],
             [
              0.8888888888888888,
              "#fdca26"
             ],
             [
              1,
              "#f0f921"
             ]
            ],
            "type": "histogram2d"
           }
          ],
          "histogram2dcontour": [
           {
            "colorbar": {
             "outlinewidth": 0,
             "ticks": ""
            },
            "colorscale": [
             [
              0,
              "#0d0887"
             ],
             [
              0.1111111111111111,
              "#46039f"
             ],
             [
              0.2222222222222222,
              "#7201a8"
             ],
             [
              0.3333333333333333,
              "#9c179e"
             ],
             [
              0.4444444444444444,
              "#bd3786"
             ],
             [
              0.5555555555555556,
              "#d8576b"
             ],
             [
              0.6666666666666666,
              "#ed7953"
             ],
             [
              0.7777777777777778,
              "#fb9f3a"
             ],
             [
              0.8888888888888888,
              "#fdca26"
             ],
             [
              1,
              "#f0f921"
             ]
            ],
            "type": "histogram2dcontour"
           }
          ],
          "mesh3d": [
           {
            "colorbar": {
             "outlinewidth": 0,
             "ticks": ""
            },
            "type": "mesh3d"
           }
          ],
          "parcoords": [
           {
            "line": {
             "colorbar": {
              "outlinewidth": 0,
              "ticks": ""
             }
            },
            "type": "parcoords"
           }
          ],
          "pie": [
           {
            "automargin": true,
            "type": "pie"
           }
          ],
          "scatter": [
           {
            "marker": {
             "colorbar": {
              "outlinewidth": 0,
              "ticks": ""
             }
            },
            "type": "scatter"
           }
          ],
          "scatter3d": [
           {
            "line": {
             "colorbar": {
              "outlinewidth": 0,
              "ticks": ""
             }
            },
            "marker": {
             "colorbar": {
              "outlinewidth": 0,
              "ticks": ""
             }
            },
            "type": "scatter3d"
           }
          ],
          "scattercarpet": [
           {
            "marker": {
             "colorbar": {
              "outlinewidth": 0,
              "ticks": ""
             }
            },
            "type": "scattercarpet"
           }
          ],
          "scattergeo": [
           {
            "marker": {
             "colorbar": {
              "outlinewidth": 0,
              "ticks": ""
             }
            },
            "type": "scattergeo"
           }
          ],
          "scattergl": [
           {
            "marker": {
             "colorbar": {
              "outlinewidth": 0,
              "ticks": ""
             }
            },
            "type": "scattergl"
           }
          ],
          "scattermapbox": [
           {
            "marker": {
             "colorbar": {
              "outlinewidth": 0,
              "ticks": ""
             }
            },
            "type": "scattermapbox"
           }
          ],
          "scatterpolar": [
           {
            "marker": {
             "colorbar": {
              "outlinewidth": 0,
              "ticks": ""
             }
            },
            "type": "scatterpolar"
           }
          ],
          "scatterpolargl": [
           {
            "marker": {
             "colorbar": {
              "outlinewidth": 0,
              "ticks": ""
             }
            },
            "type": "scatterpolargl"
           }
          ],
          "scatterternary": [
           {
            "marker": {
             "colorbar": {
              "outlinewidth": 0,
              "ticks": ""
             }
            },
            "type": "scatterternary"
           }
          ],
          "surface": [
           {
            "colorbar": {
             "outlinewidth": 0,
             "ticks": ""
            },
            "colorscale": [
             [
              0,
              "#0d0887"
             ],
             [
              0.1111111111111111,
              "#46039f"
             ],
             [
              0.2222222222222222,
              "#7201a8"
             ],
             [
              0.3333333333333333,
              "#9c179e"
             ],
             [
              0.4444444444444444,
              "#bd3786"
             ],
             [
              0.5555555555555556,
              "#d8576b"
             ],
             [
              0.6666666666666666,
              "#ed7953"
             ],
             [
              0.7777777777777778,
              "#fb9f3a"
             ],
             [
              0.8888888888888888,
              "#fdca26"
             ],
             [
              1,
              "#f0f921"
             ]
            ],
            "type": "surface"
           }
          ],
          "table": [
           {
            "cells": {
             "fill": {
              "color": "#EBF0F8"
             },
             "line": {
              "color": "white"
             }
            },
            "header": {
             "fill": {
              "color": "#C8D4E3"
             },
             "line": {
              "color": "white"
             }
            },
            "type": "table"
           }
          ]
         },
         "layout": {
          "annotationdefaults": {
           "arrowcolor": "#2a3f5f",
           "arrowhead": 0,
           "arrowwidth": 1
          },
          "coloraxis": {
           "colorbar": {
            "outlinewidth": 0,
            "ticks": ""
           }
          },
          "colorscale": {
           "diverging": [
            [
             0,
             "#8e0152"
            ],
            [
             0.1,
             "#c51b7d"
            ],
            [
             0.2,
             "#de77ae"
            ],
            [
             0.3,
             "#f1b6da"
            ],
            [
             0.4,
             "#fde0ef"
            ],
            [
             0.5,
             "#f7f7f7"
            ],
            [
             0.6,
             "#e6f5d0"
            ],
            [
             0.7,
             "#b8e186"
            ],
            [
             0.8,
             "#7fbc41"
            ],
            [
             0.9,
             "#4d9221"
            ],
            [
             1,
             "#276419"
            ]
           ],
           "sequential": [
            [
             0,
             "#0d0887"
            ],
            [
             0.1111111111111111,
             "#46039f"
            ],
            [
             0.2222222222222222,
             "#7201a8"
            ],
            [
             0.3333333333333333,
             "#9c179e"
            ],
            [
             0.4444444444444444,
             "#bd3786"
            ],
            [
             0.5555555555555556,
             "#d8576b"
            ],
            [
             0.6666666666666666,
             "#ed7953"
            ],
            [
             0.7777777777777778,
             "#fb9f3a"
            ],
            [
             0.8888888888888888,
             "#fdca26"
            ],
            [
             1,
             "#f0f921"
            ]
           ],
           "sequentialminus": [
            [
             0,
             "#0d0887"
            ],
            [
             0.1111111111111111,
             "#46039f"
            ],
            [
             0.2222222222222222,
             "#7201a8"
            ],
            [
             0.3333333333333333,
             "#9c179e"
            ],
            [
             0.4444444444444444,
             "#bd3786"
            ],
            [
             0.5555555555555556,
             "#d8576b"
            ],
            [
             0.6666666666666666,
             "#ed7953"
            ],
            [
             0.7777777777777778,
             "#fb9f3a"
            ],
            [
             0.8888888888888888,
             "#fdca26"
            ],
            [
             1,
             "#f0f921"
            ]
           ]
          },
          "colorway": [
           "#636efa",
           "#EF553B",
           "#00cc96",
           "#ab63fa",
           "#FFA15A",
           "#19d3f3",
           "#FF6692",
           "#B6E880",
           "#FF97FF",
           "#FECB52"
          ],
          "font": {
           "color": "#2a3f5f"
          },
          "geo": {
           "bgcolor": "white",
           "lakecolor": "white",
           "landcolor": "#E5ECF6",
           "showlakes": true,
           "showland": true,
           "subunitcolor": "white"
          },
          "hoverlabel": {
           "align": "left"
          },
          "hovermode": "closest",
          "mapbox": {
           "style": "light"
          },
          "paper_bgcolor": "white",
          "plot_bgcolor": "#E5ECF6",
          "polar": {
           "angularaxis": {
            "gridcolor": "white",
            "linecolor": "white",
            "ticks": ""
           },
           "bgcolor": "#E5ECF6",
           "radialaxis": {
            "gridcolor": "white",
            "linecolor": "white",
            "ticks": ""
           }
          },
          "scene": {
           "xaxis": {
            "backgroundcolor": "#E5ECF6",
            "gridcolor": "white",
            "gridwidth": 2,
            "linecolor": "white",
            "showbackground": true,
            "ticks": "",
            "zerolinecolor": "white"
           },
           "yaxis": {
            "backgroundcolor": "#E5ECF6",
            "gridcolor": "white",
            "gridwidth": 2,
            "linecolor": "white",
            "showbackground": true,
            "ticks": "",
            "zerolinecolor": "white"
           },
           "zaxis": {
            "backgroundcolor": "#E5ECF6",
            "gridcolor": "white",
            "gridwidth": 2,
            "linecolor": "white",
            "showbackground": true,
            "ticks": "",
            "zerolinecolor": "white"
           }
          },
          "shapedefaults": {
           "line": {
            "color": "#2a3f5f"
           }
          },
          "ternary": {
           "aaxis": {
            "gridcolor": "white",
            "linecolor": "white",
            "ticks": ""
           },
           "baxis": {
            "gridcolor": "white",
            "linecolor": "white",
            "ticks": ""
           },
           "bgcolor": "#E5ECF6",
           "caxis": {
            "gridcolor": "white",
            "linecolor": "white",
            "ticks": ""
           }
          },
          "title": {
           "x": 0.05
          },
          "xaxis": {
           "automargin": true,
           "gridcolor": "white",
           "linecolor": "white",
           "ticks": "",
           "title": {
            "standoff": 15
           },
           "zerolinecolor": "white",
           "zerolinewidth": 2
          },
          "yaxis": {
           "automargin": true,
           "gridcolor": "white",
           "linecolor": "white",
           "ticks": "",
           "title": {
            "standoff": 15
           },
           "zerolinecolor": "white",
           "zerolinewidth": 2
          }
         }
        },
        "width": 1000,
        "xaxis": {
         "anchor": "y",
         "domain": [
          0,
          0.45
         ],
         "rangemode": "tozero",
         "title": {
          "text": "ξ"
         }
        },
        "xaxis2": {
         "anchor": "y2",
         "domain": [
          0.55,
          1
         ],
         "range": [
          0,
          1
         ],
         "rangemode": "tozero",
         "title": {
          "text": "ξ"
         }
        },
        "yaxis": {
         "anchor": "x",
         "domain": [
          0,
          1
         ],
         "range": [
          0,
          0.06
         ],
         "rangemode": "tozero"
        },
        "yaxis2": {
         "anchor": "x2",
         "domain": [
          0,
          1
         ],
         "range": [
          -0.01,
          0.02
         ],
         "rangemode": "tozero"
        }
       }
      },
      "text/html": [
       "<div>\n",
       "        \n",
       "        \n",
       "            <div id=\"9f81c65e-9600-4d46-9029-7d524e4d2632\" class=\"plotly-graph-div\" style=\"height:400px; width:1000px;\"></div>\n",
       "            <script type=\"text/javascript\">\n",
       "                require([\"plotly\"], function(Plotly) {\n",
       "                    window.PLOTLYENV=window.PLOTLYENV || {};\n",
       "                    \n",
       "                if (document.getElementById(\"9f81c65e-9600-4d46-9029-7d524e4d2632\")) {\n",
       "                    Plotly.newPlot(\n",
       "                        '9f81c65e-9600-4d46-9029-7d524e4d2632',\n",
       "                        [{\"name\": \"RE\", \"type\": \"scatter\", \"x\": [0.01, 0.02, 0.03, 0.04, 0.05, 0.060000000000000005, 0.06999999999999999, 0.08, 0.09, 0.09999999999999999, 0.11, 0.12, 0.13, 0.14, 0.15000000000000002, 0.16, 0.17, 0.18000000000000002, 0.19, 0.2, 0.21000000000000002, 0.22, 0.23, 0.24000000000000002, 0.25, 0.26, 0.27, 0.28, 0.29000000000000004, 0.3, 0.31, 0.32, 0.33, 0.34, 0.35000000000000003, 0.36000000000000004, 0.37, 0.38, 0.39, 0.4, 0.41000000000000003, 0.42000000000000004, 0.43, 0.44, 0.45, 0.46, 0.47000000000000003, 0.48000000000000004, 0.49, 0.5, 0.51, 0.52, 0.53, 0.54, 0.55, 0.56, 0.5700000000000001, 0.5800000000000001, 0.59, 0.6, 0.61, 0.62, 0.63, 0.64, 0.65, 0.66, 0.67, 0.68, 0.6900000000000001, 0.7000000000000001, 0.7100000000000001, 0.72, 0.73, 0.74, 0.75, 0.76, 0.77, 0.78, 0.79, 0.8, 0.81, 0.8200000000000001, 0.8300000000000001, 0.8400000000000001, 0.85, 0.86, 0.87, 0.88, 0.89, 0.9, 0.91, 0.92, 0.93, 0.9400000000000001, 0.9500000000000001, 0.9600000000000001, 0.97, 0.98, 0.99, 1.0], \"xaxis\": \"x\", \"y\": [0.6432419567515563, 0.2173036506636406, 0.12208853266916929, 0.08539518117605051, 0.06708674566885905, 0.056493428602187784, 0.04976167935603548, 0.04519981804997494, 0.041960008564944536, 0.039573777847649955, 0.037765651934606, 0.036363488274672756, 0.03525311401552093, 0.034359776721830874, 0.03363054642824304, 0.03302753538932267, 0.03252331103225371, 0.03209749903856277, 0.03173466480197498, 0.031423150969151804, 0.03115333406108845, 0.030918578246796724, 0.03071303410199363, 0.030531737237251763, 0.03037133951806487, 0.030228805265038777, 0.030101546951955067, 0.02998732516284126, 0.029884290333123113, 0.029791012577360935, 0.02970635866927314, 0.029629378996604536, 0.029559087036783734, 0.029495017932982145, 0.02943631787104667, 0.02938238026884785, 0.029331320733050847, 0.029286595160697163, 0.029244165796880182, 0.029204862655005166, 0.0291683049634042, 0.02913426511188379, 0.029102559848454158, 0.02907422283366049, 0.02904514785757113, 0.029019133843975302, 0.028995219111571116, 0.028972327722377723, 0.02895080013363458, 0.02893070840367665, 0.028911767456877124, 0.02889375306854259, 0.028876854407685778, 0.02886081584376714, 0.028845427171486533, 0.028831240023386263, 0.0288177363063696, 0.028804795331074638, 0.028792556787893445, 0.028780843761201644, 0.028769555057473455, 0.028758962315702963, 0.028748999728303175, 0.02873947296815936, 0.028730308431584032, 0.02872152060828729, 0.028713177261593364, 0.028705194704227437, 0.028697537776462473, 0.028690114308700103, 0.02868309175607869, 0.028676312629596305, 0.028669852451213097, 0.028663597649437055, 0.028657750630306664, 0.028652027355360578, 0.028646445715678405, 0.028641176503507247, 0.02863601615273491, 0.02863115667279473, 0.02862638761635627, 0.028621800389532062, 0.028617371085382058, 0.028613113972832414, 0.02860897752024608, 0.028604728490661264, 0.02860096593745173, 0.02859750472813606, 0.028593937824256087, 0.028590285283799487, 0.02858709336633163, 0.028583385842435593, 0.028580580425326626, 0.028577734811471432, 0.028574784814711617, 0.028571950080804858, 0.028569247973758677, 0.0285665699361433, 0.02856397964352162, 0.02856151949904882], \"yaxis\": \"y\"}, {\"name\": \"E[Mg(X)]\", \"type\": \"scatter\", \"x\": [0.01, 0.02, 0.03, 0.04, 0.05, 0.060000000000000005, 0.06999999999999999, 0.08, 0.09, 0.09999999999999999, 0.11, 0.12, 0.13, 0.14, 0.15000000000000002, 0.16, 0.17, 0.18000000000000002, 0.19, 0.2, 0.21000000000000002, 0.22, 0.23, 0.24000000000000002, 0.25, 0.26, 0.27, 0.28, 0.29000000000000004, 0.3, 0.31, 0.32, 0.33, 0.34, 0.35000000000000003, 0.36000000000000004, 0.37, 0.38, 0.39, 0.4, 0.41000000000000003, 0.42000000000000004, 0.43, 0.44, 0.45, 0.46, 0.47000000000000003, 0.48000000000000004, 0.49, 0.5, 0.51, 0.52, 0.53, 0.54, 0.55, 0.56, 0.5700000000000001, 0.5800000000000001, 0.59, 0.6, 0.61, 0.62, 0.63, 0.64, 0.65, 0.66, 0.67, 0.68, 0.6900000000000001, 0.7000000000000001, 0.7100000000000001, 0.72, 0.73, 0.74, 0.75, 0.76, 0.77, 0.78, 0.79, 0.8, 0.81, 0.8200000000000001, 0.8300000000000001, 0.8400000000000001, 0.85, 0.86, 0.87, 0.88, 0.89, 0.9, 0.91, 0.92, 0.93, 0.9400000000000001, 0.9500000000000001, 0.9600000000000001, 0.97, 0.98, 0.99, 1.0], \"xaxis\": \"x2\", \"y\": [-0.008281247186945933, -0.002522524277290767, -0.0002291175867181653, 0.0010311945878744486, 0.0018459919889948144, 0.002424252804125501, 0.0028595589436685993, 0.003200226134617676, 0.00347480057027678, 0.003700899086272021, 0.0038903855315556304, 0.0040510611159271835, 0.004189826369498164, 0.004310356003282521, 0.00441600512475799, 0.004509382883689396, 0.004592507727570635, 0.004666968628657355, 0.004734045053164264, 0.004794755641883109, 0.004850137505012329, 0.0049005153195117715, 0.004946733416842599, 0.004989282308442592, 0.005028549420348565, 0.005064787702533075, 0.005098400505300216, 0.00512975894553206, 0.005159126247918922, 0.005186674068077644, 0.005212533603613926, 0.005236831035471677, 0.005259795150191692, 0.005281352750425547, 0.00530143377815547, 0.005320605084279189, 0.005339637772622968, 0.0053560279413371195, 0.005372339265826455, 0.005387904400403172, 0.005402728194011145, 0.00541683242687652, 0.005430279352844621, 0.005443129261991914, 0.005455482472999052, 0.005467323083735173, 0.005478578619507034, 0.005489305490463576, 0.005499718231753572, 0.0055096850515826265, 0.005519295196196477, 0.005528549023323763, 0.005537432386413588, 0.0055459813417577586, 0.005554239624315239, 0.005562276696293174, 0.0055698965472143, 0.005577334607090642, 0.005584494603028698, 0.005591490190816676, 0.005598311908662319, 0.005604779421510831, 0.005611008482611851, 0.00561707636646047, 0.005622998559046143, 0.005628745097286563, 0.005634308425789726, 0.005639718029675255, 0.005644986297665686, 0.005650093465479929, 0.005655055841616412, 0.005659884388843978, 0.00566460106944219, 0.005669170903302658, 0.005673598697686144, 0.0056778939915972625, 0.005682094548660218, 0.005686168591910004, 0.005690128848878825, 0.0056940503649815285, 0.0056978980093259045, 0.005701658323666139, 0.00570532463477903, 0.005708888960426178, 0.005712370170125975, 0.00571591298769266, 0.0057191478495402775, 0.005722294007042146, 0.0057254505614594995, 0.005728575550741196, 0.0057315738484978425, 0.005734856653038715, 0.00573755435670899, 0.005740274149721978, 0.005742994316977326, 0.005745765168785022, 0.005748417014705529, 0.005751034881480076, 0.005753598110957372, 0.00575620608160032], \"yaxis\": \"y2\"}, {\"line\": {\"dash\": \"dash\"}, \"name\": \"E[Mg(X)|state 1]\", \"type\": \"scatter\", \"x\": [0.01, 0.02, 0.03, 0.04, 0.05, 0.060000000000000005, 0.06999999999999999, 0.08, 0.09, 0.09999999999999999, 0.11, 0.12, 0.13, 0.14, 0.15000000000000002, 0.16, 0.17, 0.18000000000000002, 0.19, 0.2, 0.21000000000000002, 0.22, 0.23, 0.24000000000000002, 0.25, 0.26, 0.27, 0.28, 0.29000000000000004, 0.3, 0.31, 0.32, 0.33, 0.34, 0.35000000000000003, 0.36000000000000004, 0.37, 0.38, 0.39, 0.4, 0.41000000000000003, 0.42000000000000004, 0.43, 0.44, 0.45, 0.46, 0.47000000000000003, 0.48000000000000004, 0.49, 0.5, 0.51, 0.52, 0.53, 0.54, 0.55, 0.56, 0.5700000000000001, 0.5800000000000001, 0.59, 0.6, 0.61, 0.62, 0.63, 0.64, 0.65, 0.66, 0.67, 0.68, 0.6900000000000001, 0.7000000000000001, 0.7100000000000001, 0.72, 0.73, 0.74, 0.75, 0.76, 0.77, 0.78, 0.79, 0.8, 0.81, 0.8200000000000001, 0.8300000000000001, 0.8400000000000001, 0.85, 0.86, 0.87, 0.88, 0.89, 0.9, 0.91, 0.92, 0.93, 0.9400000000000001, 0.9500000000000001, 0.9600000000000001, 0.97, 0.98, 0.99, 1.0], \"xaxis\": \"x2\", \"y\": [-0.00836693892948166, -0.002657120135552274, -0.00041518146926713067, 0.0007966296898669342, 0.0015681285793998554, 0.002109032177593935, 0.0025127682912383944, 0.002826996847532522, 0.0030795046889713425, 0.003287164665853647, 0.0034612104036980357, 0.003608760794411315, 0.0037364958875381843, 0.003847590936580454, 0.003945121394176038, 0.0040314846252206375, 0.004108511007727462, 0.0041776404580515375, 0.004240031143934682, 0.004296627050863457, 0.0043483432329063315, 0.0043954332895871995, 0.004438702028406348, 0.004478622844581744, 0.004515492175826051, 0.00454956213755023, 0.004581182161687036, 0.004610731735437815, 0.004638477707997588, 0.004664565711960396, 0.004689100620120689, 0.004712176755257173, 0.0047339270136388155, 0.00475437261958727, 0.0047735925510945, 0.004791855076690292, 0.004810268217050477, 0.004825595627167601, 0.004841199906416328, 0.004856072700949347, 0.0048702514825571756, 0.004883743306310095, 0.004896614433762857, 0.004908942653029505, 0.004920784801810844, 0.004932162614037682, 0.004942956593313084, 0.004953233122234953, 0.004963249296324816, 0.0049728289252446165, 0.004982075472747891, 0.00499099059569572, 0.004999545006001375, 0.005007775082712964, 0.0050157389374348394, 0.005023514508277721, 0.005030843312293652, 0.005038026715459378, 0.005044932908537983, 0.005051698595953433, 0.00505829953515593, 0.005064600608026056, 0.005070595666594625, 0.0050764516301199615, 0.005082185286020839, 0.005087753233420785, 0.005093136742419609, 0.00509837642072644, 0.0051034959874427036, 0.005108439842061829, 0.005113251692196488, 0.005117941041397545, 0.005122520596720858, 0.005126964127090715, 0.005131256368961677, 0.005135418484273882, 0.005139472188450062, 0.005143433911972423, 0.0051473145159824695, 0.0051511217473888616, 0.005154859693981284, 0.005158523778679403, 0.005162099181056861, 0.005165574171843191, 0.0051689566083188655, 0.005172456356359443, 0.005175581228351647, 0.005178615435640054, 0.0051816883234374524, 0.005184744046627814, 0.005187656855230357, 0.005190963970516217, 0.005193528389073744, 0.0051961422776775745, 0.005198777825525968, 0.0052014970581543436, 0.005204093460512454, 0.005206648161335608, 0.005209149806217644, 0.0052117256171998584], \"yaxis\": \"y2\"}, {\"line\": {\"dash\": \"dash\"}, \"name\": \"E[Mg(X)|state 2]\", \"type\": \"scatter\", \"x\": [0.01, 0.02, 0.03, 0.04, 0.05, 0.060000000000000005, 0.06999999999999999, 0.08, 0.09, 0.09999999999999999, 0.11, 0.12, 0.13, 0.14, 0.15000000000000002, 0.16, 0.17, 0.18000000000000002, 0.19, 0.2, 0.21000000000000002, 0.22, 0.23, 0.24000000000000002, 0.25, 0.26, 0.27, 0.28, 0.29000000000000004, 0.3, 0.31, 0.32, 0.33, 0.34, 0.35000000000000003, 0.36000000000000004, 0.37, 0.38, 0.39, 0.4, 0.41000000000000003, 0.42000000000000004, 0.43, 0.44, 0.45, 0.46, 0.47000000000000003, 0.48000000000000004, 0.49, 0.5, 0.51, 0.52, 0.53, 0.54, 0.55, 0.56, 0.5700000000000001, 0.5800000000000001, 0.59, 0.6, 0.61, 0.62, 0.63, 0.64, 0.65, 0.66, 0.67, 0.68, 0.6900000000000001, 0.7000000000000001, 0.7100000000000001, 0.72, 0.73, 0.74, 0.75, 0.76, 0.77, 0.78, 0.79, 0.8, 0.81, 0.8200000000000001, 0.8300000000000001, 0.8400000000000001, 0.85, 0.86, 0.87, 0.88, 0.89, 0.9, 0.91, 0.92, 0.93, 0.9400000000000001, 0.9500000000000001, 0.9600000000000001, 0.97, 0.98, 0.99, 1.0], \"xaxis\": \"x2\", \"y\": [0.0017956500864417379, 0.0035650543140317184, 0.0045501360499810555, 0.005100153711329184, 0.00544192354517731, 0.00567285762379322, 0.00583873389745955, 0.005963385169214446, 0.006060514149723249, 0.0061382057640406934, 0.006201570851448315, 0.0062546394677409295, 0.006299359241181106, 0.006337715662001475, 0.006370955346138699, 0.006399992789253283, 0.00642560096452223, 0.006448359518418706, 0.00646871734232256, 0.006486864787139422, 0.006503569255214812, 0.006518609416305335, 0.00653242105496323, 0.006544961815905506, 0.006556624334159146, 0.006567227267499514, 0.0065771237081396735, 0.006586342390780822, 0.006594898006603058, 0.0066028567435749575, 0.006610285110875529, 0.006617255129498777, 0.006624374508871259, 0.006630893538759722, 0.006635884947318579, 0.006641346827583381, 0.006646553268344047, 0.006651736286820748, 0.006656168309043608, 0.006660613258447926, 0.006664833690883247, 0.0066688587321068055, 0.0066726709970255415, 0.006676172289435398, 0.006679823172021758, 0.006683171565158183, 0.006686365413858111, 0.0066894398554087995, 0.0066923792455666035, 0.006695197692061145, 0.00669792333429139, 0.00670053399045618, 0.006703050212132853, 0.00670547550027576, 0.006707809197913243, 0.006710055087740302, 0.006712221534693926, 0.006714317306085477, 0.006716352959151818, 0.006718350021784974, 0.006720360507865032, 0.006721930933132041, 0.00672373622779304, 0.0067254696884288265, 0.006727134174024369, 0.006728739752089086, 0.006730314369853699, 0.006731839381992303, 0.0067332734955292345, 0.006734744174875971, 0.006736118819205897, 0.0067374730818141, 0.006738795920861763, 0.006740064825403603, 0.006741316576112461, 0.00674255426148992, 0.006743776984599312, 0.006744860156018502, 0.006745785995718505, 0.006746935051611936, 0.0067480409653926056, 0.006749108858608994, 0.006750143136993694, 0.006751147310931916, 0.006752124100085282, 0.006753075608976646, 0.006754003491862983, 0.00675490908289947, 0.0067557934909088, 0.006756657665488391, 0.006757502442063767, 0.006758328571836681, 0.006759136742435657, 0.006759927591310819, 0.006760701715214494, 0.00676145967657701, 0.006762202007988356, 0.006762929215505799, 0.006763641781018263, 0.006764340164084067], \"yaxis\": \"y2\"}, {\"line\": {\"dash\": \"dash\"}, \"name\": \"E[Mg(X)|state 3]\", \"type\": \"scatter\", \"x\": [0.01, 0.02, 0.03, 0.04, 0.05, 0.060000000000000005, 0.06999999999999999, 0.08, 0.09, 0.09999999999999999, 0.11, 0.12, 0.13, 0.14, 0.15000000000000002, 0.16, 0.17, 0.18000000000000002, 0.19, 0.2, 0.21000000000000002, 0.22, 0.23, 0.24000000000000002, 0.25, 0.26, 0.27, 0.28, 0.29000000000000004, 0.3, 0.31, 0.32, 0.33, 0.34, 0.35000000000000003, 0.36000000000000004, 0.37, 0.38, 0.39, 0.4, 0.41000000000000003, 0.42000000000000004, 0.43, 0.44, 0.45, 0.46, 0.47000000000000003, 0.48000000000000004, 0.49, 0.5, 0.51, 0.52, 0.53, 0.54, 0.55, 0.56, 0.5700000000000001, 0.5800000000000001, 0.59, 0.6, 0.61, 0.62, 0.63, 0.64, 0.65, 0.66, 0.67, 0.68, 0.6900000000000001, 0.7000000000000001, 0.7100000000000001, 0.72, 0.73, 0.74, 0.75, 0.76, 0.77, 0.78, 0.79, 0.8, 0.81, 0.8200000000000001, 0.8300000000000001, 0.8400000000000001, 0.85, 0.86, 0.87, 0.88, 0.89, 0.9, 0.91, 0.92, 0.93, 0.9400000000000001, 0.9500000000000001, 0.9600000000000001, 0.97, 0.98, 0.99, 1.0], \"xaxis\": \"x2\", \"y\": [0.007320399256793647, 0.00862791978295676, 0.009479584744589169, 0.009998158124873176, 0.010341438422514516, 0.010584601747440602, 0.010765754483057478, 0.010905913714397723, 0.011017657221116594, 0.01110879022263841, 0.011184468024138795, 0.011248453094704082, 0.011303314356678697, 0.011350711419499813, 0.011392142133125617, 0.011428667308036778, 0.011461127950012737, 0.011490113792172126, 0.011516192351614897, 0.011539788910289301, 0.011561228266892562, 0.01158083214727931, 0.011598643491133317, 0.011615176819921942, 0.011630435706174037, 0.011644518405631406, 0.011657536736138976, 0.01166972668482383, 0.01168106044993406, 0.011691677550883881, 0.011701579676047666, 0.01171099017686937, 0.011719751727893383, 0.011728040031563455, 0.01173584117689584, 0.01174326976151214, 0.011750294348243458, 0.01175680553859316, 0.011763254359396872, 0.01176927046924562, 0.011774990697608763, 0.011780431421190573, 0.011785684209183026, 0.01179061487800675, 0.011795342165538819, 0.011799914314261691, 0.011804275265613319, 0.011808381466508922, 0.01181241542639061, 0.011816305776750217, 0.011820039200596736, 0.011823631925459955, 0.011827047783503136, 0.011830390563202498, 0.011833570451090637, 0.011836616888004551, 0.011839631582454265, 0.01184250378742506, 0.011845270482495843, 0.01184798437287368, 0.011850580267073021, 0.011853100462617089, 0.011855523493899789, 0.011857871898428204, 0.011860156828758916, 0.011862379692131051, 0.011864541406100309, 0.011866643109871145, 0.011868685155999668, 0.011870666722289465, 0.011872704647814761, 0.01187446718989406, 0.011876349213914339, 0.01187801307429394, 0.011879721963941324, 0.011881220015637671, 0.011883079928937048, 0.011884679755609119, 0.011886228831664718, 0.011887645392425815, 0.011889217266631618, 0.01189063796894871, 0.011891993729748552, 0.01189327798888302, 0.011894805372102074, 0.011896119252443006, 0.011897402157370833, 0.011898655040302693, 0.011899879115621808, 0.01190107570260127, 0.011902246071993793, 0.01190339135120571, 0.011904512494105006, 0.011905610308989662, 0.011906685520108432, 0.011907738848176568, 0.011908511121197113, 0.011909575205883816, 0.01191060786756587, 0.01191161009992886], \"yaxis\": \"y2\"}],\n",
       "                        {\"height\": 400, \"shapes\": [{\"line\": {\"width\": 1.5}, \"type\": \"line\", \"x0\": 0, \"x1\": 1, \"xref\": \"x\", \"y0\": 0.0314176714489537, \"y1\": 0.0314176714489537, \"yref\": \"y\"}], \"template\": {\"data\": {\"bar\": [{\"error_x\": {\"color\": \"#2a3f5f\"}, \"error_y\": {\"color\": \"#2a3f5f\"}, \"marker\": {\"line\": {\"color\": \"#E5ECF6\", \"width\": 0.5}}, \"type\": \"bar\"}], \"barpolar\": [{\"marker\": {\"line\": {\"color\": \"#E5ECF6\", \"width\": 0.5}}, \"type\": \"barpolar\"}], \"carpet\": [{\"aaxis\": {\"endlinecolor\": \"#2a3f5f\", \"gridcolor\": \"white\", \"linecolor\": \"white\", \"minorgridcolor\": \"white\", \"startlinecolor\": \"#2a3f5f\"}, \"baxis\": {\"endlinecolor\": \"#2a3f5f\", \"gridcolor\": \"white\", \"linecolor\": \"white\", \"minorgridcolor\": \"white\", \"startlinecolor\": \"#2a3f5f\"}, \"type\": \"carpet\"}], \"choropleth\": [{\"colorbar\": {\"outlinewidth\": 0, \"ticks\": \"\"}, \"type\": \"choropleth\"}], \"contour\": [{\"colorbar\": {\"outlinewidth\": 0, \"ticks\": \"\"}, \"colorscale\": [[0.0, \"#0d0887\"], [0.1111111111111111, \"#46039f\"], [0.2222222222222222, \"#7201a8\"], [0.3333333333333333, \"#9c179e\"], [0.4444444444444444, \"#bd3786\"], [0.5555555555555556, \"#d8576b\"], [0.6666666666666666, \"#ed7953\"], [0.7777777777777778, \"#fb9f3a\"], [0.8888888888888888, \"#fdca26\"], [1.0, \"#f0f921\"]], \"type\": \"contour\"}], \"contourcarpet\": [{\"colorbar\": {\"outlinewidth\": 0, \"ticks\": \"\"}, \"type\": \"contourcarpet\"}], \"heatmap\": [{\"colorbar\": {\"outlinewidth\": 0, \"ticks\": \"\"}, \"colorscale\": [[0.0, \"#0d0887\"], [0.1111111111111111, \"#46039f\"], [0.2222222222222222, \"#7201a8\"], [0.3333333333333333, \"#9c179e\"], [0.4444444444444444, \"#bd3786\"], [0.5555555555555556, \"#d8576b\"], [0.6666666666666666, \"#ed7953\"], [0.7777777777777778, \"#fb9f3a\"], [0.8888888888888888, \"#fdca26\"], [1.0, \"#f0f921\"]], \"type\": \"heatmap\"}], \"heatmapgl\": [{\"colorbar\": {\"outlinewidth\": 0, \"ticks\": \"\"}, \"colorscale\": [[0.0, \"#0d0887\"], [0.1111111111111111, \"#46039f\"], [0.2222222222222222, \"#7201a8\"], [0.3333333333333333, \"#9c179e\"], [0.4444444444444444, \"#bd3786\"], [0.5555555555555556, \"#d8576b\"], [0.6666666666666666, \"#ed7953\"], [0.7777777777777778, \"#fb9f3a\"], [0.8888888888888888, \"#fdca26\"], [1.0, \"#f0f921\"]], \"type\": \"heatmapgl\"}], \"histogram\": [{\"marker\": {\"colorbar\": {\"outlinewidth\": 0, \"ticks\": \"\"}}, \"type\": \"histogram\"}], \"histogram2d\": [{\"colorbar\": {\"outlinewidth\": 0, \"ticks\": \"\"}, \"colorscale\": [[0.0, \"#0d0887\"], [0.1111111111111111, \"#46039f\"], [0.2222222222222222, \"#7201a8\"], [0.3333333333333333, \"#9c179e\"], [0.4444444444444444, \"#bd3786\"], [0.5555555555555556, \"#d8576b\"], [0.6666666666666666, \"#ed7953\"], [0.7777777777777778, \"#fb9f3a\"], [0.8888888888888888, \"#fdca26\"], [1.0, \"#f0f921\"]], \"type\": \"histogram2d\"}], \"histogram2dcontour\": [{\"colorbar\": {\"outlinewidth\": 0, \"ticks\": \"\"}, \"colorscale\": [[0.0, \"#0d0887\"], [0.1111111111111111, \"#46039f\"], [0.2222222222222222, \"#7201a8\"], [0.3333333333333333, \"#9c179e\"], [0.4444444444444444, \"#bd3786\"], [0.5555555555555556, \"#d8576b\"], [0.6666666666666666, \"#ed7953\"], [0.7777777777777778, \"#fb9f3a\"], [0.8888888888888888, \"#fdca26\"], [1.0, \"#f0f921\"]], \"type\": \"histogram2dcontour\"}], \"mesh3d\": [{\"colorbar\": {\"outlinewidth\": 0, \"ticks\": \"\"}, \"type\": \"mesh3d\"}], \"parcoords\": [{\"line\": {\"colorbar\": {\"outlinewidth\": 0, \"ticks\": \"\"}}, \"type\": \"parcoords\"}], \"pie\": [{\"automargin\": true, \"type\": \"pie\"}], \"scatter\": [{\"marker\": {\"colorbar\": {\"outlinewidth\": 0, \"ticks\": \"\"}}, \"type\": \"scatter\"}], \"scatter3d\": [{\"line\": {\"colorbar\": {\"outlinewidth\": 0, \"ticks\": \"\"}}, \"marker\": {\"colorbar\": {\"outlinewidth\": 0, \"ticks\": \"\"}}, \"type\": \"scatter3d\"}], \"scattercarpet\": [{\"marker\": {\"colorbar\": {\"outlinewidth\": 0, \"ticks\": \"\"}}, \"type\": \"scattercarpet\"}], \"scattergeo\": [{\"marker\": {\"colorbar\": {\"outlinewidth\": 0, \"ticks\": \"\"}}, \"type\": \"scattergeo\"}], \"scattergl\": [{\"marker\": {\"colorbar\": {\"outlinewidth\": 0, \"ticks\": \"\"}}, \"type\": \"scattergl\"}], \"scattermapbox\": [{\"marker\": {\"colorbar\": {\"outlinewidth\": 0, \"ticks\": \"\"}}, \"type\": \"scattermapbox\"}], \"scatterpolar\": [{\"marker\": {\"colorbar\": {\"outlinewidth\": 0, \"ticks\": \"\"}}, \"type\": \"scatterpolar\"}], \"scatterpolargl\": [{\"marker\": {\"colorbar\": {\"outlinewidth\": 0, \"ticks\": \"\"}}, \"type\": \"scatterpolargl\"}], \"scatterternary\": [{\"marker\": {\"colorbar\": {\"outlinewidth\": 0, \"ticks\": \"\"}}, \"type\": \"scatterternary\"}], \"surface\": [{\"colorbar\": {\"outlinewidth\": 0, \"ticks\": \"\"}, \"colorscale\": [[0.0, \"#0d0887\"], [0.1111111111111111, \"#46039f\"], [0.2222222222222222, \"#7201a8\"], [0.3333333333333333, \"#9c179e\"], [0.4444444444444444, \"#bd3786\"], [0.5555555555555556, \"#d8576b\"], [0.6666666666666666, \"#ed7953\"], [0.7777777777777778, \"#fb9f3a\"], [0.8888888888888888, \"#fdca26\"], [1.0, \"#f0f921\"]], \"type\": \"surface\"}], \"table\": [{\"cells\": {\"fill\": {\"color\": \"#EBF0F8\"}, \"line\": {\"color\": \"white\"}}, \"header\": {\"fill\": {\"color\": \"#C8D4E3\"}, \"line\": {\"color\": \"white\"}}, \"type\": \"table\"}]}, \"layout\": {\"annotationdefaults\": {\"arrowcolor\": \"#2a3f5f\", \"arrowhead\": 0, \"arrowwidth\": 1}, \"coloraxis\": {\"colorbar\": {\"outlinewidth\": 0, \"ticks\": \"\"}}, \"colorscale\": {\"diverging\": [[0, \"#8e0152\"], [0.1, \"#c51b7d\"], [0.2, \"#de77ae\"], [0.3, \"#f1b6da\"], [0.4, \"#fde0ef\"], [0.5, \"#f7f7f7\"], [0.6, \"#e6f5d0\"], [0.7, \"#b8e186\"], [0.8, \"#7fbc41\"], [0.9, \"#4d9221\"], [1, \"#276419\"]], \"sequential\": [[0.0, \"#0d0887\"], [0.1111111111111111, \"#46039f\"], [0.2222222222222222, \"#7201a8\"], [0.3333333333333333, \"#9c179e\"], [0.4444444444444444, \"#bd3786\"], [0.5555555555555556, \"#d8576b\"], [0.6666666666666666, \"#ed7953\"], [0.7777777777777778, \"#fb9f3a\"], [0.8888888888888888, \"#fdca26\"], [1.0, \"#f0f921\"]], \"sequentialminus\": [[0.0, \"#0d0887\"], [0.1111111111111111, \"#46039f\"], [0.2222222222222222, \"#7201a8\"], [0.3333333333333333, \"#9c179e\"], [0.4444444444444444, \"#bd3786\"], [0.5555555555555556, \"#d8576b\"], [0.6666666666666666, \"#ed7953\"], [0.7777777777777778, \"#fb9f3a\"], [0.8888888888888888, \"#fdca26\"], [1.0, \"#f0f921\"]]}, \"colorway\": [\"#636efa\", \"#EF553B\", \"#00cc96\", \"#ab63fa\", \"#FFA15A\", \"#19d3f3\", \"#FF6692\", \"#B6E880\", \"#FF97FF\", \"#FECB52\"], \"font\": {\"color\": \"#2a3f5f\"}, \"geo\": {\"bgcolor\": \"white\", \"lakecolor\": \"white\", \"landcolor\": \"#E5ECF6\", \"showlakes\": true, \"showland\": true, \"subunitcolor\": \"white\"}, \"hoverlabel\": {\"align\": \"left\"}, \"hovermode\": \"closest\", \"mapbox\": {\"style\": \"light\"}, \"paper_bgcolor\": \"white\", \"plot_bgcolor\": \"#E5ECF6\", \"polar\": {\"angularaxis\": {\"gridcolor\": \"white\", \"linecolor\": \"white\", \"ticks\": \"\"}, \"bgcolor\": \"#E5ECF6\", \"radialaxis\": {\"gridcolor\": \"white\", \"linecolor\": \"white\", \"ticks\": \"\"}}, \"scene\": {\"xaxis\": {\"backgroundcolor\": \"#E5ECF6\", \"gridcolor\": \"white\", \"gridwidth\": 2, \"linecolor\": \"white\", \"showbackground\": true, \"ticks\": \"\", \"zerolinecolor\": \"white\"}, \"yaxis\": {\"backgroundcolor\": \"#E5ECF6\", \"gridcolor\": \"white\", \"gridwidth\": 2, \"linecolor\": \"white\", \"showbackground\": true, \"ticks\": \"\", \"zerolinecolor\": \"white\"}, \"zaxis\": {\"backgroundcolor\": \"#E5ECF6\", \"gridcolor\": \"white\", \"gridwidth\": 2, \"linecolor\": \"white\", \"showbackground\": true, \"ticks\": \"\", \"zerolinecolor\": \"white\"}}, \"shapedefaults\": {\"line\": {\"color\": \"#2a3f5f\"}}, \"ternary\": {\"aaxis\": {\"gridcolor\": \"white\", \"linecolor\": \"white\", \"ticks\": \"\"}, \"baxis\": {\"gridcolor\": \"white\", \"linecolor\": \"white\", \"ticks\": \"\"}, \"bgcolor\": \"#E5ECF6\", \"caxis\": {\"gridcolor\": \"white\", \"linecolor\": \"white\", \"ticks\": \"\"}}, \"title\": {\"x\": 0.05}, \"xaxis\": {\"automargin\": true, \"gridcolor\": \"white\", \"linecolor\": \"white\", \"ticks\": \"\", \"title\": {\"standoff\": 15}, \"zerolinecolor\": \"white\", \"zerolinewidth\": 2}, \"yaxis\": {\"automargin\": true, \"gridcolor\": \"white\", \"linecolor\": \"white\", \"ticks\": \"\", \"title\": {\"standoff\": 15}, \"zerolinecolor\": \"white\", \"zerolinewidth\": 2}}}, \"width\": 1000, \"xaxis\": {\"anchor\": \"y\", \"domain\": [0.0, 0.45], \"rangemode\": \"tozero\", \"title\": {\"text\": \"\\u03be\"}}, \"xaxis2\": {\"anchor\": \"y2\", \"domain\": [0.55, 1.0], \"range\": [0.0, 1.0], \"rangemode\": \"tozero\", \"title\": {\"text\": \"\\u03be\"}}, \"yaxis\": {\"anchor\": \"x\", \"domain\": [0.0, 1.0], \"range\": [0.0, 0.06], \"rangemode\": \"tozero\"}, \"yaxis2\": {\"anchor\": \"x2\", \"domain\": [0.0, 1.0], \"range\": [-0.01, 0.02], \"rangemode\": \"tozero\"}},\n",
       "                        {\"responsive\": true}\n",
       "                    ).then(function(){\n",
       "                            \n",
       "var gd = document.getElementById('9f81c65e-9600-4d46-9029-7d524e4d2632');\n",
       "var x = new MutationObserver(function (mutations, observer) {{\n",
       "        var display = window.getComputedStyle(gd).display;\n",
       "        if (!display || display === 'none') {{\n",
       "            console.log([gd, 'removed!']);\n",
       "            Plotly.purge(gd);\n",
       "            observer.disconnect();\n",
       "        }}\n",
       "}});\n",
       "\n",
       "// Listen for the removal of the full notebook cells\n",
       "var notebookContainer = gd.closest('#notebook-container');\n",
       "if (notebookContainer) {{\n",
       "    x.observe(notebookContainer, {childList: true});\n",
       "}}\n",
       "\n",
       "// Listen for the clearing of the current output cell\n",
       "var outputEl = gd.closest('.output');\n",
       "if (outputEl) {{\n",
       "    x.observe(outputEl, {childList: true});\n",
       "}}\n",
       "\n",
       "                        })\n",
       "                };\n",
       "                });\n",
       "            </script>\n",
       "        </div>"
      ]
     },
     "metadata": {},
     "output_type": "display_data"
    }
   ],
   "source": [
    "# Plots for μ and RE\n",
    "fig = make_subplots(rows=1, cols=2)\n",
    "fig.add_trace(\n",
    "    go.Scatter(x=ξ_grid, y=REs, name='RE'),\n",
    "    row=1, col=1\n",
    ")\n",
    "\n",
    "fig.add_trace(\n",
    "    go.Scatter(x=ξ_grid, y=bounds, name='E[Mg(X)]'),\n",
    "    row=1, col=2\n",
    ")\n",
    "\n",
    "fig.add_trace(\n",
    "    go.Scatter(x=ξ_grid, y=bounds_cond_1, name='E[Mg(X)|state 1]', line=dict(dash='dash')),\n",
    "    row=1, col=2\n",
    ")\n",
    "\n",
    "fig.add_trace(\n",
    "    go.Scatter(x=ξ_grid, y=bounds_cond_2, name='E[Mg(X)|state 2]', line=dict(dash='dash')),\n",
    "    row=1, col=2\n",
    ")\n",
    "\n",
    "fig.add_trace(\n",
    "    go.Scatter(x=ξ_grid, y=bounds_cond_3, name='E[Mg(X)|state 3]', line=dict(dash='dash')),\n",
    "    row=1, col=2\n",
    ")\n",
    "\n",
    "# Add lines\n",
    "fig.update_layout(\n",
    "    shapes=[dict(type=\"line\", xref=\"x1\", yref=\"y1\",\n",
    "            x0=0, y0=REs[-1]*1.1, x1=1, y1=REs[-1]*1.1\n",
    ", line_width=1.5)])\n",
    "\n",
    "fig.update_layout(height=400, width=1000)\n",
    "fig.update_xaxes(rangemode=\"tozero\",title_text='ξ')\n",
    "fig.update_yaxes(rangemode=\"tozero\")\n",
    "\n",
    "# fig['layout']['xaxis'+str(int(1))].update(range = (0,0.2))\n",
    "fig['layout']['yaxis'+str(int(1))].update(range = (0.,0.06))\n",
    "fig['layout']['xaxis'+str(int(2))].update(range = (0.,1.))\n",
    "fig['layout']['yaxis'+str(int(2))].update(range = (-0.01,0.02))\n",
    "\n",
    "fig.show()"
   ]
  },
  {
   "cell_type": "code",
   "execution_count": 9,
   "metadata": {},
   "outputs": [
    {
     "data": {
      "text/plain": [
       "0.0314176714489537"
      ]
     },
     "execution_count": 9,
     "metadata": {},
     "output_type": "execute_result"
    }
   ],
   "source": [
    "REs[-1]*1.1"
   ]
  }
 ],
 "metadata": {
  "kernelspec": {
   "display_name": "Python 3",
   "language": "python",
   "name": "python3"
  },
  "language_info": {
   "codemirror_mode": {
    "name": "ipython",
    "version": 3
   },
   "file_extension": ".py",
   "mimetype": "text/x-python",
   "name": "python",
   "nbconvert_exporter": "python",
   "pygments_lexer": "ipython3",
   "version": "3.7.1"
  }
 },
 "nbformat": 4,
 "nbformat_minor": 4
}
