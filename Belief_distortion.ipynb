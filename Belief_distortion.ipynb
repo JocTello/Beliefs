{
 "cells": [
  {
   "cell_type": "code",
   "execution_count": 1,
   "metadata": {},
   "outputs": [],
   "source": [
    "import time\n",
    "import plotly.graph_objects as go\n",
    "from plotly.subplots import make_subplots\n",
    "from utilities import *"
   ]
  },
  {
   "cell_type": "markdown",
   "metadata": {},
   "source": [
    "## 7 Incorporating Conditional Information\n",
    "\n",
    "### 7.1 Approach I\n",
    "\n",
    "#### Basic problem:\n",
    "\n",
    "\\begin{equation}\n",
    "\\min_{M_1\\geq0}{\\mathbb E}\\left[M_1g(X_1)\\right]\n",
    "\\end{equation}\n",
    "*subject to constraints:*\n",
    "\\begin{align*}\n",
    "&{\\mathbb E}\\left[M_1 \\log M_1\\right] \\leq \\kappa, \\\\\n",
    "&{\\mathbb E}\\left[B^j M_1 f(X_1)\\right] = 0, \\\\\n",
    "&{\\mathbb E}\\left[M_1\\right] = 1.\n",
    "\\end{align*}\n",
    "\n",
    "#### Dual problem:\n",
    "\n",
    "For computational purposes, we solve the dual problem after minimizing over $M_1$.  \n",
    "\n",
    "\\begin{equation*}\n",
    "\\sup_{\\xi>0}\\max_{\\hat{\\lambda}}    - \\xi \\log {\\mathbb E} \\left[ \\exp\\left( - {\\frac 1 {\\xi}} \\left[ g(X_1) + \\hat{\\lambda} \\cdot f(X_1)B^j \\right] \\right)\\right]  -  \\xi \\kappa  \n",
    "\\end{equation*}\n",
    "\n",
    "$\\hat{\\lambda}$ and $\\xi$ are multipliers on the moment condition and relative entropy constraints. "
   ]
  },
  {
   "cell_type": "code",
   "execution_count": null,
   "metadata": {},
   "outputs": [],
   "source": []
  },
  {
   "cell_type": "markdown",
   "metadata": {},
   "source": [
    "### 7.2 Approach II\n",
    "\n",
    "#### Basic problem:\n",
    "\n",
    "\\begin{equation}\n",
    "\\min_{M_1\\geq0}{\\mathbb E}\\left[M_1g(X_1)\\right]\n",
    "\\end{equation}\n",
    "*subject to constraints:*\n",
    "\\begin{align*}\n",
    "&{\\mathbb E}\\left[M_1 \\log M_1\\right] \\leq \\kappa, \\\\\n",
    "&{\\mathbb E}\\left[B^j M_1 {f(X_1)}\\right] = 0, \\\\\n",
    "&{\\mathbb E}\\left[B^j M_1-B^j\\right] = 0.\n",
    "\\end{align*}\n",
    "\n",
    "#### Dual problem:\n",
    "\n",
    "??"
   ]
  },
  {
   "cell_type": "code",
   "execution_count": null,
   "metadata": {},
   "outputs": [],
   "source": []
  },
  {
   "cell_type": "markdown",
   "metadata": {},
   "source": [
    "### 7.3 Approach III\n",
    "\n",
    "#### Basic problem:\n",
    "\n",
    "\\begin{equation}\n",
    "\\min_{M_1\\geq0}{\\mathbb E}\\left[M_1g(X_1)\\mid\\mathfrak{F}_0\\right]\n",
    "\\end{equation}\n",
    "*subject to constraints:*\n",
    "\\begin{align*}\n",
    "&{\\mathbb E}\\left[M_1 \\log M_1\\mid\\mathfrak{F}_0\\right] \\leq \\kappa, \\\\\n",
    "&{\\mathbb E}\\left[M_1  f(X_1)\\mid\\mathfrak{F}_0\\right] = 0, \\\\\n",
    "&{\\mathbb E}\\left[M_1\\mid\\mathfrak{F}_0\\right] = 1.\n",
    "\\end{align*}\n",
    "\n",
    "#### Dual problem:\n",
    "For computational purposes, we solve the dual problem after minimizing over $M_1$.  \n",
    "\n",
    "\\begin{equation*}\n",
    "\\sup_{\\xi>0}\\max_{\\hat{\\lambda}}    - \\xi \\log {\\mathbb E} \\left[ \\exp\\left( - {\\frac 1 {\\xi}} \\left[ g(X_1) + \\hat{\\lambda} \\cdot f(X_1) \\right] \\right)\\mid\\mathfrak{F}_0\\right]  -  \\xi \\kappa  \n",
    "\\end{equation*}\n",
    "\n",
    "$\\hat{\\lambda}$ and $\\xi$ are multipliers on the moment condition and relative entropy constraints. "
   ]
  },
  {
   "cell_type": "code",
   "execution_count": null,
   "metadata": {},
   "outputs": [],
   "source": []
  },
  {
   "cell_type": "markdown",
   "metadata": {},
   "source": [
    "## 8 Intertemporal Divergence Constraints\n",
    "\n",
    "### Proposition 8.6\n",
    "Problem 8.4 can be solved by finding the solution to:\n",
    "\n",
    "\\begin{equation}\n",
    "\\epsilon = \\min_\\hat{\\lambda}\\mathbb E \\left(\\exp \\left[-\\frac{1}{\\xi}g(X_1)+\\hat{\\lambda}\\cdot f(X_1)\\right]\\left( \\frac{e_1}{e_0}\\right) \\mid \\mathfrak{F}_0\\right)\n",
    "\\end{equation}\n",
    "\n",
    "*where*\n",
    "\\begin{align*}\n",
    "\\mu &= -\\xi \\log \\epsilon,\\\\\n",
    "v_0 &= -\\xi \\log e_0.\n",
    "\\end{align*}\n",
    "\n",
    "Denote $e^*$, $\\hat{\\lambda}^*$ as the solution to the above optimization problem. The implied solution for the probablity distortion is:\n",
    "\n",
    "\\begin{equation}\n",
    "M_1^* = \\frac{\\exp \\left[-\\frac{1}{\\xi}g(X_1)+\\hat{\\lambda}^*(Z_0)\\cdot f(X_1)\\right]e_1^*}{\\epsilon^*e_0^*}\n",
    "\\end{equation}"
   ]
  },
  {
   "cell_type": "code",
   "execution_count": 10,
   "metadata": {},
   "outputs": [
    {
     "name": "stdout",
     "output_type": "stream",
     "text": [
      "--- Iteration Ends ---\n",
      "ξ = 1.0\n",
      "Time spent: 0.4221 seconds ---\n",
      "Numer of iterations: 181 ---\n",
      "\n",
      "\n",
      "--- Converged parameter vlues ---\n",
      "ϵ: 0.9662646553757464\n",
      "e: [1.         0.44191823 0.19224322]\n",
      "λ: [ 1.204626    0.79533031 -0.31077119 -0.76068647  1.4266823   0.57325725\n",
      "  0.66139294 -5.97034234  2.68478972 -0.68487362 -3.48385636 -7.80332626]\n",
      "μ: 0.034317511924379644\n",
      "\n",
      "\n",
      "--- Check ---\n",
      "E[M|state 1] = 0.9999999995450543 \n",
      "E[M|state 2] = 0.9999999995450543 \n",
      "E[M|state 3] = 0.9999999995450543 \n",
      "\n",
      "\n",
      "--- Transition Probability Matrix ---\n",
      "[[0.97954794 0.02045206 0.        ]\n",
      " [0.08402222 0.88101521 0.03496255]\n",
      " [0.         0.1751475  0.82485247]]\n",
      "\n",
      "\n",
      "--- Stationary Distribution ---\n",
      "[0.77399257 0.18839952 0.03760792]\n",
      "\n",
      "\n",
      "--- Conditional Relative Entropy ---\n",
      "E[MlogM|state 1] = 0.012404187908431235 \n",
      "E[MlogM|state 2] = 0.06706699447967936 \n",
      "E[MlogM|state 3] = 0.1681934923932745 \n",
      "\n",
      "\n",
      "--- Unconditional Relative Entropy ---\n",
      "E[MlogM] = 0.02856154544655825 \n",
      "\n",
      "\n",
      "--- Conditional Moment Bound ---\n",
      "E[Mg(X)|state 1] = 0.005211719565562127 \n",
      "E[Mg(X)|state 2] = 0.006764313575067201 \n",
      "E[Mg(X)|state 3] = 0.011911575522033176 \n",
      "\n",
      "\n",
      "--- Unconditional Moment Bound ---\n",
      "E[Mg(X)] = 0.005755966477821395 \n"
     ]
    }
   ],
   "source": [
    "# Set ξ\n",
    "ξ = 1.\n",
    "\n",
    "# Set model paramters\n",
    "tol = 1e-8\n",
    "max_iter = 1000\n",
    "\n",
    "solver = intertemporal_div_constraint(tol,max_iter)\n",
    "\n",
    "time_start = time.time() \n",
    "result = solver.iterate(ξ)\n",
    "\n",
    "# Print iteration information\n",
    "print(\"--- Iteration Ends ---\")\n",
    "print(\"ξ = %s\" % ξ)\n",
    "print(\"Time spent: %s seconds ---\" % (round(time.time()-time_start,4)))\n",
    "print(\"Numer of iterations: %s ---\" % result['count'])\n",
    "\n",
    "# Print converged parameter results\n",
    "print(\"\\n\")\n",
    "print(\"--- Converged parameter vlues ---\")\n",
    "print(\"ϵ: %s\" % result['ϵ'])\n",
    "print(\"e: %s\" % result['e'])\n",
    "print(\"λ: %s\" % result['λ'])\n",
    "print(\"μ: %s\" % result['μ'])\n",
    "\n",
    "# Print E[M|state k]\n",
    "print(\"\\n\")\n",
    "print(\"--- Check ---\")\n",
    "print(\"E[M|state 1] = %s \" % result['E_M_cond'][0])\n",
    "print(\"E[M|state 2] = %s \" % result['E_M_cond'][0])\n",
    "print(\"E[M|state 3] = %s \" % result['E_M_cond'][0])\n",
    "\n",
    "# Print transition probability matrix\n",
    "print(\"\\n\")\n",
    "print(\"--- Transition Probability Matrix ---\")\n",
    "print(result['P'])\n",
    "\n",
    "# Print stationary distribution\n",
    "print(\"\\n\")\n",
    "print(\"--- Stationary Distribution ---\")\n",
    "print(result['π'])\n",
    "\n",
    "# Print conditional relative entropy\n",
    "print(\"\\n\")\n",
    "print(\"--- Conditional Relative Entropy ---\")\n",
    "print(\"E[MlogM|state 1] = %s \" % result['RE_cond'][0])\n",
    "print(\"E[MlogM|state 2] = %s \" % result['RE_cond'][1])\n",
    "print(\"E[MlogM|state 3] = %s \" % result['RE_cond'][2])\n",
    "\n",
    "# Print unconditional relative entropy\n",
    "print(\"\\n\")\n",
    "print(\"--- Unconditional Relative Entropy ---\")\n",
    "print(\"E[MlogM] = %s \" % result['RE'])\n",
    "\n",
    "# Print conditional moment bound\n",
    "print(\"\\n\")\n",
    "print(\"--- Conditional Moment Bound ---\")\n",
    "print(\"E[Mg(X)|state 1] = %s \" % result['moment_bound_cond'][0])\n",
    "print(\"E[Mg(X)|state 2] = %s \" % result['moment_bound_cond'][1])\n",
    "print(\"E[Mg(X)|state 3] = %s \" % result['moment_bound_cond'][2])\n",
    "\n",
    "# Print unconditional moment bound\n",
    "print(\"\\n\")\n",
    "print(\"--- Unconditional Moment Bound ---\")\n",
    "print(\"E[Mg(X)] = %s \" % result['moment_bound'])"
   ]
  },
  {
   "cell_type": "code",
   "execution_count": 14,
   "metadata": {},
   "outputs": [
    {
     "name": "stdout",
     "output_type": "stream",
     "text": [
      "Time spent: 31.5086 seconds ---\n"
     ]
    }
   ],
   "source": [
    "# Solve the minimization problems over a grid of ξ\n",
    "tol = 1e-7\n",
    "max_iter = 1000\n",
    "\n",
    "solver = intertemporal_div_constraint(tol,max_iter)\n",
    "\n",
    "# Grid for ξ\n",
    "ξ_grid = np.arange(.01,1.,.01)\n",
    "μs = np.zeros_like(ξ_grid)\n",
    "REs = np.zeros_like(ξ_grid)\n",
    "bounds = np.zeros_like(ξ_grid)\n",
    "ϵs = np.zeros_like(ξ_grid)\n",
    "\n",
    "time_start = time.time() \n",
    "for i in range(len(ξ_grid)):\n",
    "    ξ = ξ_grid[i]\n",
    "    result = solver.iterate(ξ)\n",
    "    μs[i] = result['μ']\n",
    "    REs[i] = result['RE']\n",
    "    bounds[i] = result['moment_bound']\n",
    "    ϵs[i] = result['ϵ']\n",
    "\n",
    "print(\"Time spent: %s seconds ---\" % (round(time.time()-time_start,4)))"
   ]
  },
  {
   "cell_type": "code",
   "execution_count": 15,
   "metadata": {
    "scrolled": false
   },
   "outputs": [
    {
     "data": {
      "application/vnd.plotly.v1+json": {
       "config": {
        "plotlyServerURL": "https://plot.ly"
       },
       "data": [
        {
         "name": "ϵ",
         "type": "scatter",
         "x": [
          0.01,
          0.02,
          0.03,
          0.04,
          0.05,
          0.060000000000000005,
          0.06999999999999999,
          0.08,
          0.09,
          0.09999999999999999,
          0.11,
          0.12,
          0.13,
          0.14,
          0.15000000000000002,
          0.16,
          0.17,
          0.18000000000000002,
          0.19,
          0.2,
          0.21000000000000002,
          0.22,
          0.23,
          0.24000000000000002,
          0.25,
          0.26,
          0.27,
          0.28,
          0.29000000000000004,
          0.3,
          0.31,
          0.32,
          0.33,
          0.34,
          0.35000000000000003,
          0.36000000000000004,
          0.37,
          0.38,
          0.39,
          0.4,
          0.41000000000000003,
          0.42000000000000004,
          0.43,
          0.44,
          0.45,
          0.46,
          0.47000000000000003,
          0.48000000000000004,
          0.49,
          0.5,
          0.51,
          0.52,
          0.53,
          0.54,
          0.55,
          0.56,
          0.5700000000000001,
          0.5800000000000001,
          0.59,
          0.6,
          0.61,
          0.62,
          0.63,
          0.64,
          0.65,
          0.66,
          0.67,
          0.68,
          0.6900000000000001,
          0.7000000000000001,
          0.7100000000000001,
          0.72,
          0.73,
          0.74,
          0.75,
          0.76,
          0.77,
          0.78,
          0.79,
          0.8,
          0.81,
          0.8200000000000001,
          0.8300000000000001,
          0.8400000000000001,
          0.85,
          0.86,
          0.87,
          0.88,
          0.89,
          0.9,
          0.91,
          0.92,
          0.93,
          0.9400000000000001,
          0.9500000000000001,
          0.9600000000000001,
          0.97,
          0.98,
          0.99
         ],
         "xaxis": "x",
         "y": [
          1.203077476785178,
          0.9128566480307241,
          0.8918560118407914,
          0.894779715612946,
          0.9012189288686067,
          0.9076478105422948,
          0.9133715260555932,
          0.9183250253997541,
          0.922590935472981,
          0.926275758385702,
          0.9294772262876302,
          0.9322773925568406,
          0.934743135722107,
          0.9369285008357663,
          0.938877155537863,
          0.9406245591811833,
          0.9421996597061519,
          0.9436262630809814,
          0.9449240828816275,
          0.9461095621211463,
          0.9471964938223082,
          0.9481965453319035,
          0.9491196306597309,
          0.9499742224743861,
          0.9507676177111587,
          0.9515061073821094,
          0.9521951694593873,
          0.9528395717933712,
          0.9534434912575112,
          0.9540106134288452,
          0.954544183061443,
          0.9550470795370016,
          0.9555218579317062,
          0.9559708112860216,
          0.9563959794897648,
          0.9567992081213196,
          0.9571821167599471,
          0.9575462304913905,
          0.9578928795815779,
          0.958223291895782,
          0.9585385808618765,
          0.9588397582039317,
          0.9591277481335623,
          0.9594034169460897,
          0.9596674727059562,
          0.9599206979233799,
          0.9601637223158332,
          0.9603971495931233,
          0.9606215363681659,
          0.9608373957837725,
          0.9610452052046807,
          0.9612454050987191,
          0.9614384060471787,
          0.9616245901083086,
          0.9618043073897109,
          0.9619778940159496,
          0.9621456486652813,
          0.962307871967805,
          0.962464827483096,
          0.96261676763217,
          0.9627639283671077,
          0.9629065318815688,
          0.9630447862666031,
          0.9631788872972887,
          0.9633090192619177,
          0.96343535541272,
          0.9635580594712699,
          0.963677285783667,
          0.9637931797399082,
          0.9639058792741656,
          0.9640155144941746,
          0.9641222086388752,
          0.9642260782636488,
          0.9643272294318673,
          0.9644257761419978,
          0.9645218135932037,
          0.9646154362693967,
          0.9647067340725326,
          0.964795792437715,
          0.9648826927544218,
          0.9649675124794534,
          0.965050325365666,
          0.9651312020643741,
          0.9652102089284447,
          0.9652874105842596,
          0.9653628681346141,
          0.9654366399181434,
          0.9655087818633206,
          0.9655793471833412,
          0.9656483898549147,
          0.9657159510437316,
          0.9657820844216319,
          0.9658468329623641,
          0.9659102417950207,
          0.9659723468107716,
          0.9660331923561203,
          0.9660928151319356,
          0.966151251457634,
          0.9662085363819101
         ],
         "yaxis": "y"
        },
        {
         "name": "RE",
         "type": "scatter",
         "x": [
          0.01,
          0.02,
          0.03,
          0.04,
          0.05,
          0.060000000000000005,
          0.06999999999999999,
          0.08,
          0.09,
          0.09999999999999999,
          0.11,
          0.12,
          0.13,
          0.14,
          0.15000000000000002,
          0.16,
          0.17,
          0.18000000000000002,
          0.19,
          0.2,
          0.21000000000000002,
          0.22,
          0.23,
          0.24000000000000002,
          0.25,
          0.26,
          0.27,
          0.28,
          0.29000000000000004,
          0.3,
          0.31,
          0.32,
          0.33,
          0.34,
          0.35000000000000003,
          0.36000000000000004,
          0.37,
          0.38,
          0.39,
          0.4,
          0.41000000000000003,
          0.42000000000000004,
          0.43,
          0.44,
          0.45,
          0.46,
          0.47000000000000003,
          0.48000000000000004,
          0.49,
          0.5,
          0.51,
          0.52,
          0.53,
          0.54,
          0.55,
          0.56,
          0.5700000000000001,
          0.5800000000000001,
          0.59,
          0.6,
          0.61,
          0.62,
          0.63,
          0.64,
          0.65,
          0.66,
          0.67,
          0.68,
          0.6900000000000001,
          0.7000000000000001,
          0.7100000000000001,
          0.72,
          0.73,
          0.74,
          0.75,
          0.76,
          0.77,
          0.78,
          0.79,
          0.8,
          0.81,
          0.8200000000000001,
          0.8300000000000001,
          0.8400000000000001,
          0.85,
          0.86,
          0.87,
          0.88,
          0.89,
          0.9,
          0.91,
          0.92,
          0.93,
          0.9400000000000001,
          0.9500000000000001,
          0.9600000000000001,
          0.97,
          0.98,
          0.99
         ],
         "xaxis": "x2",
         "y": [
          0.643229194530781,
          0.21728955796403307,
          0.12208711217208291,
          0.0853936107305067,
          0.06709041129512575,
          0.05649407598217197,
          0.04975785216662588,
          0.045200078057049904,
          0.041960414783713165,
          0.03957885197254424,
          0.03777488403437954,
          0.036371112276465806,
          0.03525703491057949,
          0.034361838946549865,
          0.03363202487357483,
          0.03302886708237142,
          0.03252439832660915,
          0.03209828034302245,
          0.03173488733501967,
          0.031423323570649184,
          0.031153782866742388,
          0.030918721733301985,
          0.03071426595353893,
          0.03053387369369943,
          0.03037491575044149,
          0.030234707329614547,
          0.030107985471158224,
          0.02999350166213995,
          0.02989215435666577,
          0.02979795525652945,
          0.02971013348656942,
          0.029633323006125027,
          0.029559105821335495,
          0.02949447171854514,
          0.029436138343218416,
          0.029397028080451137,
          0.029331449621514682,
          0.029274375639520782,
          0.029234208418604562,
          0.02919777566738556,
          0.02916251298726556,
          0.029128278620856932,
          0.029096921937942694,
          0.02908165003905714,
          0.029040167121038477,
          0.029015283050796745,
          0.02899305009105862,
          0.028972659725823094,
          0.02895299812577761,
          0.028931666455924036,
          0.02891025544453186,
          0.028893573361195295,
          0.02887716298758601,
          0.028855667585046478,
          0.02884578916867879,
          0.02883234285365497,
          0.02881740971066154,
          0.02880599011420916,
          0.028792580411008427,
          0.028781656141399943,
          0.02876944572985178,
          0.028758805579002417,
          0.028748873660068272,
          0.028739428159331577,
          0.02873070786509648,
          0.02872108141365732,
          0.028713130259226248,
          0.02870562095364526,
          0.02869763280226587,
          0.028689797072534298,
          0.028683452994310275,
          0.0286765175118565,
          0.02866973887382962,
          0.02866205822224,
          0.028657736670952928,
          0.028652056135058362,
          0.02864666359552192,
          0.02864078268465654,
          0.0286360479718674,
          0.028631170445436383,
          0.02862638856211702,
          0.028621963451701714,
          0.02861836705313579,
          0.028614211497354707,
          0.028609217856224157,
          0.028604879889841336,
          0.02860111572037147,
          0.0285965928526729,
          0.028593177588534947,
          0.028584887594558753,
          0.028587834863389432,
          0.028586531530589897,
          0.028581785771411836,
          0.02857134256025951,
          0.028575169697375977,
          0.028571924197039085,
          0.028568938800250715,
          0.028566474892058706,
          0.02856399589967269
         ],
         "yaxis": "y2"
        }
       ],
       "layout": {
        "height": 400,
        "template": {
         "data": {
          "bar": [
           {
            "error_x": {
             "color": "#2a3f5f"
            },
            "error_y": {
             "color": "#2a3f5f"
            },
            "marker": {
             "line": {
              "color": "#E5ECF6",
              "width": 0.5
             }
            },
            "type": "bar"
           }
          ],
          "barpolar": [
           {
            "marker": {
             "line": {
              "color": "#E5ECF6",
              "width": 0.5
             }
            },
            "type": "barpolar"
           }
          ],
          "carpet": [
           {
            "aaxis": {
             "endlinecolor": "#2a3f5f",
             "gridcolor": "white",
             "linecolor": "white",
             "minorgridcolor": "white",
             "startlinecolor": "#2a3f5f"
            },
            "baxis": {
             "endlinecolor": "#2a3f5f",
             "gridcolor": "white",
             "linecolor": "white",
             "minorgridcolor": "white",
             "startlinecolor": "#2a3f5f"
            },
            "type": "carpet"
           }
          ],
          "choropleth": [
           {
            "colorbar": {
             "outlinewidth": 0,
             "ticks": ""
            },
            "type": "choropleth"
           }
          ],
          "contour": [
           {
            "colorbar": {
             "outlinewidth": 0,
             "ticks": ""
            },
            "colorscale": [
             [
              0,
              "#0d0887"
             ],
             [
              0.1111111111111111,
              "#46039f"
             ],
             [
              0.2222222222222222,
              "#7201a8"
             ],
             [
              0.3333333333333333,
              "#9c179e"
             ],
             [
              0.4444444444444444,
              "#bd3786"
             ],
             [
              0.5555555555555556,
              "#d8576b"
             ],
             [
              0.6666666666666666,
              "#ed7953"
             ],
             [
              0.7777777777777778,
              "#fb9f3a"
             ],
             [
              0.8888888888888888,
              "#fdca26"
             ],
             [
              1,
              "#f0f921"
             ]
            ],
            "type": "contour"
           }
          ],
          "contourcarpet": [
           {
            "colorbar": {
             "outlinewidth": 0,
             "ticks": ""
            },
            "type": "contourcarpet"
           }
          ],
          "heatmap": [
           {
            "colorbar": {
             "outlinewidth": 0,
             "ticks": ""
            },
            "colorscale": [
             [
              0,
              "#0d0887"
             ],
             [
              0.1111111111111111,
              "#46039f"
             ],
             [
              0.2222222222222222,
              "#7201a8"
             ],
             [
              0.3333333333333333,
              "#9c179e"
             ],
             [
              0.4444444444444444,
              "#bd3786"
             ],
             [
              0.5555555555555556,
              "#d8576b"
             ],
             [
              0.6666666666666666,
              "#ed7953"
             ],
             [
              0.7777777777777778,
              "#fb9f3a"
             ],
             [
              0.8888888888888888,
              "#fdca26"
             ],
             [
              1,
              "#f0f921"
             ]
            ],
            "type": "heatmap"
           }
          ],
          "heatmapgl": [
           {
            "colorbar": {
             "outlinewidth": 0,
             "ticks": ""
            },
            "colorscale": [
             [
              0,
              "#0d0887"
             ],
             [
              0.1111111111111111,
              "#46039f"
             ],
             [
              0.2222222222222222,
              "#7201a8"
             ],
             [
              0.3333333333333333,
              "#9c179e"
             ],
             [
              0.4444444444444444,
              "#bd3786"
             ],
             [
              0.5555555555555556,
              "#d8576b"
             ],
             [
              0.6666666666666666,
              "#ed7953"
             ],
             [
              0.7777777777777778,
              "#fb9f3a"
             ],
             [
              0.8888888888888888,
              "#fdca26"
             ],
             [
              1,
              "#f0f921"
             ]
            ],
            "type": "heatmapgl"
           }
          ],
          "histogram": [
           {
            "marker": {
             "colorbar": {
              "outlinewidth": 0,
              "ticks": ""
             }
            },
            "type": "histogram"
           }
          ],
          "histogram2d": [
           {
            "colorbar": {
             "outlinewidth": 0,
             "ticks": ""
            },
            "colorscale": [
             [
              0,
              "#0d0887"
             ],
             [
              0.1111111111111111,
              "#46039f"
             ],
             [
              0.2222222222222222,
              "#7201a8"
             ],
             [
              0.3333333333333333,
              "#9c179e"
             ],
             [
              0.4444444444444444,
              "#bd3786"
             ],
             [
              0.5555555555555556,
              "#d8576b"
             ],
             [
              0.6666666666666666,
              "#ed7953"
             ],
             [
              0.7777777777777778,
              "#fb9f3a"
             ],
             [
              0.8888888888888888,
              "#fdca26"
             ],
             [
              1,
              "#f0f921"
             ]
            ],
            "type": "histogram2d"
           }
          ],
          "histogram2dcontour": [
           {
            "colorbar": {
             "outlinewidth": 0,
             "ticks": ""
            },
            "colorscale": [
             [
              0,
              "#0d0887"
             ],
             [
              0.1111111111111111,
              "#46039f"
             ],
             [
              0.2222222222222222,
              "#7201a8"
             ],
             [
              0.3333333333333333,
              "#9c179e"
             ],
             [
              0.4444444444444444,
              "#bd3786"
             ],
             [
              0.5555555555555556,
              "#d8576b"
             ],
             [
              0.6666666666666666,
              "#ed7953"
             ],
             [
              0.7777777777777778,
              "#fb9f3a"
             ],
             [
              0.8888888888888888,
              "#fdca26"
             ],
             [
              1,
              "#f0f921"
             ]
            ],
            "type": "histogram2dcontour"
           }
          ],
          "mesh3d": [
           {
            "colorbar": {
             "outlinewidth": 0,
             "ticks": ""
            },
            "type": "mesh3d"
           }
          ],
          "parcoords": [
           {
            "line": {
             "colorbar": {
              "outlinewidth": 0,
              "ticks": ""
             }
            },
            "type": "parcoords"
           }
          ],
          "pie": [
           {
            "automargin": true,
            "type": "pie"
           }
          ],
          "scatter": [
           {
            "marker": {
             "colorbar": {
              "outlinewidth": 0,
              "ticks": ""
             }
            },
            "type": "scatter"
           }
          ],
          "scatter3d": [
           {
            "line": {
             "colorbar": {
              "outlinewidth": 0,
              "ticks": ""
             }
            },
            "marker": {
             "colorbar": {
              "outlinewidth": 0,
              "ticks": ""
             }
            },
            "type": "scatter3d"
           }
          ],
          "scattercarpet": [
           {
            "marker": {
             "colorbar": {
              "outlinewidth": 0,
              "ticks": ""
             }
            },
            "type": "scattercarpet"
           }
          ],
          "scattergeo": [
           {
            "marker": {
             "colorbar": {
              "outlinewidth": 0,
              "ticks": ""
             }
            },
            "type": "scattergeo"
           }
          ],
          "scattergl": [
           {
            "marker": {
             "colorbar": {
              "outlinewidth": 0,
              "ticks": ""
             }
            },
            "type": "scattergl"
           }
          ],
          "scattermapbox": [
           {
            "marker": {
             "colorbar": {
              "outlinewidth": 0,
              "ticks": ""
             }
            },
            "type": "scattermapbox"
           }
          ],
          "scatterpolar": [
           {
            "marker": {
             "colorbar": {
              "outlinewidth": 0,
              "ticks": ""
             }
            },
            "type": "scatterpolar"
           }
          ],
          "scatterpolargl": [
           {
            "marker": {
             "colorbar": {
              "outlinewidth": 0,
              "ticks": ""
             }
            },
            "type": "scatterpolargl"
           }
          ],
          "scatterternary": [
           {
            "marker": {
             "colorbar": {
              "outlinewidth": 0,
              "ticks": ""
             }
            },
            "type": "scatterternary"
           }
          ],
          "surface": [
           {
            "colorbar": {
             "outlinewidth": 0,
             "ticks": ""
            },
            "colorscale": [
             [
              0,
              "#0d0887"
             ],
             [
              0.1111111111111111,
              "#46039f"
             ],
             [
              0.2222222222222222,
              "#7201a8"
             ],
             [
              0.3333333333333333,
              "#9c179e"
             ],
             [
              0.4444444444444444,
              "#bd3786"
             ],
             [
              0.5555555555555556,
              "#d8576b"
             ],
             [
              0.6666666666666666,
              "#ed7953"
             ],
             [
              0.7777777777777778,
              "#fb9f3a"
             ],
             [
              0.8888888888888888,
              "#fdca26"
             ],
             [
              1,
              "#f0f921"
             ]
            ],
            "type": "surface"
           }
          ],
          "table": [
           {
            "cells": {
             "fill": {
              "color": "#EBF0F8"
             },
             "line": {
              "color": "white"
             }
            },
            "header": {
             "fill": {
              "color": "#C8D4E3"
             },
             "line": {
              "color": "white"
             }
            },
            "type": "table"
           }
          ]
         },
         "layout": {
          "annotationdefaults": {
           "arrowcolor": "#2a3f5f",
           "arrowhead": 0,
           "arrowwidth": 1
          },
          "coloraxis": {
           "colorbar": {
            "outlinewidth": 0,
            "ticks": ""
           }
          },
          "colorscale": {
           "diverging": [
            [
             0,
             "#8e0152"
            ],
            [
             0.1,
             "#c51b7d"
            ],
            [
             0.2,
             "#de77ae"
            ],
            [
             0.3,
             "#f1b6da"
            ],
            [
             0.4,
             "#fde0ef"
            ],
            [
             0.5,
             "#f7f7f7"
            ],
            [
             0.6,
             "#e6f5d0"
            ],
            [
             0.7,
             "#b8e186"
            ],
            [
             0.8,
             "#7fbc41"
            ],
            [
             0.9,
             "#4d9221"
            ],
            [
             1,
             "#276419"
            ]
           ],
           "sequential": [
            [
             0,
             "#0d0887"
            ],
            [
             0.1111111111111111,
             "#46039f"
            ],
            [
             0.2222222222222222,
             "#7201a8"
            ],
            [
             0.3333333333333333,
             "#9c179e"
            ],
            [
             0.4444444444444444,
             "#bd3786"
            ],
            [
             0.5555555555555556,
             "#d8576b"
            ],
            [
             0.6666666666666666,
             "#ed7953"
            ],
            [
             0.7777777777777778,
             "#fb9f3a"
            ],
            [
             0.8888888888888888,
             "#fdca26"
            ],
            [
             1,
             "#f0f921"
            ]
           ],
           "sequentialminus": [
            [
             0,
             "#0d0887"
            ],
            [
             0.1111111111111111,
             "#46039f"
            ],
            [
             0.2222222222222222,
             "#7201a8"
            ],
            [
             0.3333333333333333,
             "#9c179e"
            ],
            [
             0.4444444444444444,
             "#bd3786"
            ],
            [
             0.5555555555555556,
             "#d8576b"
            ],
            [
             0.6666666666666666,
             "#ed7953"
            ],
            [
             0.7777777777777778,
             "#fb9f3a"
            ],
            [
             0.8888888888888888,
             "#fdca26"
            ],
            [
             1,
             "#f0f921"
            ]
           ]
          },
          "colorway": [
           "#636efa",
           "#EF553B",
           "#00cc96",
           "#ab63fa",
           "#FFA15A",
           "#19d3f3",
           "#FF6692",
           "#B6E880",
           "#FF97FF",
           "#FECB52"
          ],
          "font": {
           "color": "#2a3f5f"
          },
          "geo": {
           "bgcolor": "white",
           "lakecolor": "white",
           "landcolor": "#E5ECF6",
           "showlakes": true,
           "showland": true,
           "subunitcolor": "white"
          },
          "hoverlabel": {
           "align": "left"
          },
          "hovermode": "closest",
          "mapbox": {
           "style": "light"
          },
          "paper_bgcolor": "white",
          "plot_bgcolor": "#E5ECF6",
          "polar": {
           "angularaxis": {
            "gridcolor": "white",
            "linecolor": "white",
            "ticks": ""
           },
           "bgcolor": "#E5ECF6",
           "radialaxis": {
            "gridcolor": "white",
            "linecolor": "white",
            "ticks": ""
           }
          },
          "scene": {
           "xaxis": {
            "backgroundcolor": "#E5ECF6",
            "gridcolor": "white",
            "gridwidth": 2,
            "linecolor": "white",
            "showbackground": true,
            "ticks": "",
            "zerolinecolor": "white"
           },
           "yaxis": {
            "backgroundcolor": "#E5ECF6",
            "gridcolor": "white",
            "gridwidth": 2,
            "linecolor": "white",
            "showbackground": true,
            "ticks": "",
            "zerolinecolor": "white"
           },
           "zaxis": {
            "backgroundcolor": "#E5ECF6",
            "gridcolor": "white",
            "gridwidth": 2,
            "linecolor": "white",
            "showbackground": true,
            "ticks": "",
            "zerolinecolor": "white"
           }
          },
          "shapedefaults": {
           "line": {
            "color": "#2a3f5f"
           }
          },
          "ternary": {
           "aaxis": {
            "gridcolor": "white",
            "linecolor": "white",
            "ticks": ""
           },
           "baxis": {
            "gridcolor": "white",
            "linecolor": "white",
            "ticks": ""
           },
           "bgcolor": "#E5ECF6",
           "caxis": {
            "gridcolor": "white",
            "linecolor": "white",
            "ticks": ""
           }
          },
          "title": {
           "x": 0.05
          },
          "xaxis": {
           "automargin": true,
           "gridcolor": "white",
           "linecolor": "white",
           "ticks": "",
           "title": {
            "standoff": 15
           },
           "zerolinecolor": "white",
           "zerolinewidth": 2
          },
          "yaxis": {
           "automargin": true,
           "gridcolor": "white",
           "linecolor": "white",
           "ticks": "",
           "title": {
            "standoff": 15
           },
           "zerolinecolor": "white",
           "zerolinewidth": 2
          }
         }
        },
        "title": {
         "text": "Plots over ξ"
        },
        "width": 1000,
        "xaxis": {
         "anchor": "y",
         "domain": [
          0,
          0.45
         ],
         "rangemode": "tozero",
         "title": {
          "text": "ξ"
         }
        },
        "xaxis2": {
         "anchor": "y2",
         "domain": [
          0.55,
          1
         ],
         "rangemode": "tozero",
         "title": {
          "text": "ξ"
         }
        },
        "yaxis": {
         "anchor": "x",
         "domain": [
          0,
          1
         ],
         "rangemode": "tozero"
        },
        "yaxis2": {
         "anchor": "x2",
         "domain": [
          0,
          1
         ],
         "rangemode": "tozero"
        }
       }
      },
      "text/html": [
       "<div>\n",
       "        \n",
       "        \n",
       "            <div id=\"e0f6faaa-d2d4-4e17-8c0a-d04649178439\" class=\"plotly-graph-div\" style=\"height:400px; width:1000px;\"></div>\n",
       "            <script type=\"text/javascript\">\n",
       "                require([\"plotly\"], function(Plotly) {\n",
       "                    window.PLOTLYENV=window.PLOTLYENV || {};\n",
       "                    \n",
       "                if (document.getElementById(\"e0f6faaa-d2d4-4e17-8c0a-d04649178439\")) {\n",
       "                    Plotly.newPlot(\n",
       "                        'e0f6faaa-d2d4-4e17-8c0a-d04649178439',\n",
       "                        [{\"name\": \"\\u03f5\", \"type\": \"scatter\", \"x\": [0.01, 0.02, 0.03, 0.04, 0.05, 0.060000000000000005, 0.06999999999999999, 0.08, 0.09, 0.09999999999999999, 0.11, 0.12, 0.13, 0.14, 0.15000000000000002, 0.16, 0.17, 0.18000000000000002, 0.19, 0.2, 0.21000000000000002, 0.22, 0.23, 0.24000000000000002, 0.25, 0.26, 0.27, 0.28, 0.29000000000000004, 0.3, 0.31, 0.32, 0.33, 0.34, 0.35000000000000003, 0.36000000000000004, 0.37, 0.38, 0.39, 0.4, 0.41000000000000003, 0.42000000000000004, 0.43, 0.44, 0.45, 0.46, 0.47000000000000003, 0.48000000000000004, 0.49, 0.5, 0.51, 0.52, 0.53, 0.54, 0.55, 0.56, 0.5700000000000001, 0.5800000000000001, 0.59, 0.6, 0.61, 0.62, 0.63, 0.64, 0.65, 0.66, 0.67, 0.68, 0.6900000000000001, 0.7000000000000001, 0.7100000000000001, 0.72, 0.73, 0.74, 0.75, 0.76, 0.77, 0.78, 0.79, 0.8, 0.81, 0.8200000000000001, 0.8300000000000001, 0.8400000000000001, 0.85, 0.86, 0.87, 0.88, 0.89, 0.9, 0.91, 0.92, 0.93, 0.9400000000000001, 0.9500000000000001, 0.9600000000000001, 0.97, 0.98, 0.99], \"xaxis\": \"x\", \"y\": [1.203077476785178, 0.9128566480307241, 0.8918560118407914, 0.894779715612946, 0.9012189288686067, 0.9076478105422948, 0.9133715260555932, 0.9183250253997541, 0.922590935472981, 0.926275758385702, 0.9294772262876302, 0.9322773925568406, 0.934743135722107, 0.9369285008357663, 0.938877155537863, 0.9406245591811833, 0.9421996597061519, 0.9436262630809814, 0.9449240828816275, 0.9461095621211463, 0.9471964938223082, 0.9481965453319035, 0.9491196306597309, 0.9499742224743861, 0.9507676177111587, 0.9515061073821094, 0.9521951694593873, 0.9528395717933712, 0.9534434912575112, 0.9540106134288452, 0.954544183061443, 0.9550470795370016, 0.9555218579317062, 0.9559708112860216, 0.9563959794897648, 0.9567992081213196, 0.9571821167599471, 0.9575462304913905, 0.9578928795815779, 0.958223291895782, 0.9585385808618765, 0.9588397582039317, 0.9591277481335623, 0.9594034169460897, 0.9596674727059562, 0.9599206979233799, 0.9601637223158332, 0.9603971495931233, 0.9606215363681659, 0.9608373957837725, 0.9610452052046807, 0.9612454050987191, 0.9614384060471787, 0.9616245901083086, 0.9618043073897109, 0.9619778940159496, 0.9621456486652813, 0.962307871967805, 0.962464827483096, 0.96261676763217, 0.9627639283671077, 0.9629065318815688, 0.9630447862666031, 0.9631788872972887, 0.9633090192619177, 0.96343535541272, 0.9635580594712699, 0.963677285783667, 0.9637931797399082, 0.9639058792741656, 0.9640155144941746, 0.9641222086388752, 0.9642260782636488, 0.9643272294318673, 0.9644257761419978, 0.9645218135932037, 0.9646154362693967, 0.9647067340725326, 0.964795792437715, 0.9648826927544218, 0.9649675124794534, 0.965050325365666, 0.9651312020643741, 0.9652102089284447, 0.9652874105842596, 0.9653628681346141, 0.9654366399181434, 0.9655087818633206, 0.9655793471833412, 0.9656483898549147, 0.9657159510437316, 0.9657820844216319, 0.9658468329623641, 0.9659102417950207, 0.9659723468107716, 0.9660331923561203, 0.9660928151319356, 0.966151251457634, 0.9662085363819101], \"yaxis\": \"y\"}, {\"name\": \"RE\", \"type\": \"scatter\", \"x\": [0.01, 0.02, 0.03, 0.04, 0.05, 0.060000000000000005, 0.06999999999999999, 0.08, 0.09, 0.09999999999999999, 0.11, 0.12, 0.13, 0.14, 0.15000000000000002, 0.16, 0.17, 0.18000000000000002, 0.19, 0.2, 0.21000000000000002, 0.22, 0.23, 0.24000000000000002, 0.25, 0.26, 0.27, 0.28, 0.29000000000000004, 0.3, 0.31, 0.32, 0.33, 0.34, 0.35000000000000003, 0.36000000000000004, 0.37, 0.38, 0.39, 0.4, 0.41000000000000003, 0.42000000000000004, 0.43, 0.44, 0.45, 0.46, 0.47000000000000003, 0.48000000000000004, 0.49, 0.5, 0.51, 0.52, 0.53, 0.54, 0.55, 0.56, 0.5700000000000001, 0.5800000000000001, 0.59, 0.6, 0.61, 0.62, 0.63, 0.64, 0.65, 0.66, 0.67, 0.68, 0.6900000000000001, 0.7000000000000001, 0.7100000000000001, 0.72, 0.73, 0.74, 0.75, 0.76, 0.77, 0.78, 0.79, 0.8, 0.81, 0.8200000000000001, 0.8300000000000001, 0.8400000000000001, 0.85, 0.86, 0.87, 0.88, 0.89, 0.9, 0.91, 0.92, 0.93, 0.9400000000000001, 0.9500000000000001, 0.9600000000000001, 0.97, 0.98, 0.99], \"xaxis\": \"x2\", \"y\": [0.643229194530781, 0.21728955796403307, 0.12208711217208291, 0.0853936107305067, 0.06709041129512575, 0.05649407598217197, 0.04975785216662588, 0.045200078057049904, 0.041960414783713165, 0.03957885197254424, 0.03777488403437954, 0.036371112276465806, 0.03525703491057949, 0.034361838946549865, 0.03363202487357483, 0.03302886708237142, 0.03252439832660915, 0.03209828034302245, 0.03173488733501967, 0.031423323570649184, 0.031153782866742388, 0.030918721733301985, 0.03071426595353893, 0.03053387369369943, 0.03037491575044149, 0.030234707329614547, 0.030107985471158224, 0.02999350166213995, 0.02989215435666577, 0.02979795525652945, 0.02971013348656942, 0.029633323006125027, 0.029559105821335495, 0.02949447171854514, 0.029436138343218416, 0.029397028080451137, 0.029331449621514682, 0.029274375639520782, 0.029234208418604562, 0.02919777566738556, 0.02916251298726556, 0.029128278620856932, 0.029096921937942694, 0.02908165003905714, 0.029040167121038477, 0.029015283050796745, 0.02899305009105862, 0.028972659725823094, 0.02895299812577761, 0.028931666455924036, 0.02891025544453186, 0.028893573361195295, 0.02887716298758601, 0.028855667585046478, 0.02884578916867879, 0.02883234285365497, 0.02881740971066154, 0.02880599011420916, 0.028792580411008427, 0.028781656141399943, 0.02876944572985178, 0.028758805579002417, 0.028748873660068272, 0.028739428159331577, 0.02873070786509648, 0.02872108141365732, 0.028713130259226248, 0.02870562095364526, 0.02869763280226587, 0.028689797072534298, 0.028683452994310275, 0.0286765175118565, 0.02866973887382962, 0.02866205822224, 0.028657736670952928, 0.028652056135058362, 0.02864666359552192, 0.02864078268465654, 0.0286360479718674, 0.028631170445436383, 0.02862638856211702, 0.028621963451701714, 0.02861836705313579, 0.028614211497354707, 0.028609217856224157, 0.028604879889841336, 0.02860111572037147, 0.0285965928526729, 0.028593177588534947, 0.028584887594558753, 0.028587834863389432, 0.028586531530589897, 0.028581785771411836, 0.02857134256025951, 0.028575169697375977, 0.028571924197039085, 0.028568938800250715, 0.028566474892058706, 0.02856399589967269], \"yaxis\": \"y2\"}],\n",
       "                        {\"height\": 400, \"template\": {\"data\": {\"bar\": [{\"error_x\": {\"color\": \"#2a3f5f\"}, \"error_y\": {\"color\": \"#2a3f5f\"}, \"marker\": {\"line\": {\"color\": \"#E5ECF6\", \"width\": 0.5}}, \"type\": \"bar\"}], \"barpolar\": [{\"marker\": {\"line\": {\"color\": \"#E5ECF6\", \"width\": 0.5}}, \"type\": \"barpolar\"}], \"carpet\": [{\"aaxis\": {\"endlinecolor\": \"#2a3f5f\", \"gridcolor\": \"white\", \"linecolor\": \"white\", \"minorgridcolor\": \"white\", \"startlinecolor\": \"#2a3f5f\"}, \"baxis\": {\"endlinecolor\": \"#2a3f5f\", \"gridcolor\": \"white\", \"linecolor\": \"white\", \"minorgridcolor\": \"white\", \"startlinecolor\": \"#2a3f5f\"}, \"type\": \"carpet\"}], \"choropleth\": [{\"colorbar\": {\"outlinewidth\": 0, \"ticks\": \"\"}, \"type\": \"choropleth\"}], \"contour\": [{\"colorbar\": {\"outlinewidth\": 0, \"ticks\": \"\"}, \"colorscale\": [[0.0, \"#0d0887\"], [0.1111111111111111, \"#46039f\"], [0.2222222222222222, \"#7201a8\"], [0.3333333333333333, \"#9c179e\"], [0.4444444444444444, \"#bd3786\"], [0.5555555555555556, \"#d8576b\"], [0.6666666666666666, \"#ed7953\"], [0.7777777777777778, \"#fb9f3a\"], [0.8888888888888888, \"#fdca26\"], [1.0, \"#f0f921\"]], \"type\": \"contour\"}], \"contourcarpet\": [{\"colorbar\": {\"outlinewidth\": 0, \"ticks\": \"\"}, \"type\": \"contourcarpet\"}], \"heatmap\": [{\"colorbar\": {\"outlinewidth\": 0, \"ticks\": \"\"}, \"colorscale\": [[0.0, \"#0d0887\"], [0.1111111111111111, \"#46039f\"], [0.2222222222222222, \"#7201a8\"], [0.3333333333333333, \"#9c179e\"], [0.4444444444444444, \"#bd3786\"], [0.5555555555555556, \"#d8576b\"], [0.6666666666666666, \"#ed7953\"], [0.7777777777777778, \"#fb9f3a\"], [0.8888888888888888, \"#fdca26\"], [1.0, \"#f0f921\"]], \"type\": \"heatmap\"}], \"heatmapgl\": [{\"colorbar\": {\"outlinewidth\": 0, \"ticks\": \"\"}, \"colorscale\": [[0.0, \"#0d0887\"], [0.1111111111111111, \"#46039f\"], [0.2222222222222222, \"#7201a8\"], [0.3333333333333333, \"#9c179e\"], [0.4444444444444444, \"#bd3786\"], [0.5555555555555556, \"#d8576b\"], [0.6666666666666666, \"#ed7953\"], [0.7777777777777778, \"#fb9f3a\"], [0.8888888888888888, \"#fdca26\"], [1.0, \"#f0f921\"]], \"type\": \"heatmapgl\"}], \"histogram\": [{\"marker\": {\"colorbar\": {\"outlinewidth\": 0, \"ticks\": \"\"}}, \"type\": \"histogram\"}], \"histogram2d\": [{\"colorbar\": {\"outlinewidth\": 0, \"ticks\": \"\"}, \"colorscale\": [[0.0, \"#0d0887\"], [0.1111111111111111, \"#46039f\"], [0.2222222222222222, \"#7201a8\"], [0.3333333333333333, \"#9c179e\"], [0.4444444444444444, \"#bd3786\"], [0.5555555555555556, \"#d8576b\"], [0.6666666666666666, \"#ed7953\"], [0.7777777777777778, \"#fb9f3a\"], [0.8888888888888888, \"#fdca26\"], [1.0, \"#f0f921\"]], \"type\": \"histogram2d\"}], \"histogram2dcontour\": [{\"colorbar\": {\"outlinewidth\": 0, \"ticks\": \"\"}, \"colorscale\": [[0.0, \"#0d0887\"], [0.1111111111111111, \"#46039f\"], [0.2222222222222222, \"#7201a8\"], [0.3333333333333333, \"#9c179e\"], [0.4444444444444444, \"#bd3786\"], [0.5555555555555556, \"#d8576b\"], [0.6666666666666666, \"#ed7953\"], [0.7777777777777778, \"#fb9f3a\"], [0.8888888888888888, \"#fdca26\"], [1.0, \"#f0f921\"]], \"type\": \"histogram2dcontour\"}], \"mesh3d\": [{\"colorbar\": {\"outlinewidth\": 0, \"ticks\": \"\"}, \"type\": \"mesh3d\"}], \"parcoords\": [{\"line\": {\"colorbar\": {\"outlinewidth\": 0, \"ticks\": \"\"}}, \"type\": \"parcoords\"}], \"pie\": [{\"automargin\": true, \"type\": \"pie\"}], \"scatter\": [{\"marker\": {\"colorbar\": {\"outlinewidth\": 0, \"ticks\": \"\"}}, \"type\": \"scatter\"}], \"scatter3d\": [{\"line\": {\"colorbar\": {\"outlinewidth\": 0, \"ticks\": \"\"}}, \"marker\": {\"colorbar\": {\"outlinewidth\": 0, \"ticks\": \"\"}}, \"type\": \"scatter3d\"}], \"scattercarpet\": [{\"marker\": {\"colorbar\": {\"outlinewidth\": 0, \"ticks\": \"\"}}, \"type\": \"scattercarpet\"}], \"scattergeo\": [{\"marker\": {\"colorbar\": {\"outlinewidth\": 0, \"ticks\": \"\"}}, \"type\": \"scattergeo\"}], \"scattergl\": [{\"marker\": {\"colorbar\": {\"outlinewidth\": 0, \"ticks\": \"\"}}, \"type\": \"scattergl\"}], \"scattermapbox\": [{\"marker\": {\"colorbar\": {\"outlinewidth\": 0, \"ticks\": \"\"}}, \"type\": \"scattermapbox\"}], \"scatterpolar\": [{\"marker\": {\"colorbar\": {\"outlinewidth\": 0, \"ticks\": \"\"}}, \"type\": \"scatterpolar\"}], \"scatterpolargl\": [{\"marker\": {\"colorbar\": {\"outlinewidth\": 0, \"ticks\": \"\"}}, \"type\": \"scatterpolargl\"}], \"scatterternary\": [{\"marker\": {\"colorbar\": {\"outlinewidth\": 0, \"ticks\": \"\"}}, \"type\": \"scatterternary\"}], \"surface\": [{\"colorbar\": {\"outlinewidth\": 0, \"ticks\": \"\"}, \"colorscale\": [[0.0, \"#0d0887\"], [0.1111111111111111, \"#46039f\"], [0.2222222222222222, \"#7201a8\"], [0.3333333333333333, \"#9c179e\"], [0.4444444444444444, \"#bd3786\"], [0.5555555555555556, \"#d8576b\"], [0.6666666666666666, \"#ed7953\"], [0.7777777777777778, \"#fb9f3a\"], [0.8888888888888888, \"#fdca26\"], [1.0, \"#f0f921\"]], \"type\": \"surface\"}], \"table\": [{\"cells\": {\"fill\": {\"color\": \"#EBF0F8\"}, \"line\": {\"color\": \"white\"}}, \"header\": {\"fill\": {\"color\": \"#C8D4E3\"}, \"line\": {\"color\": \"white\"}}, \"type\": \"table\"}]}, \"layout\": {\"annotationdefaults\": {\"arrowcolor\": \"#2a3f5f\", \"arrowhead\": 0, \"arrowwidth\": 1}, \"coloraxis\": {\"colorbar\": {\"outlinewidth\": 0, \"ticks\": \"\"}}, \"colorscale\": {\"diverging\": [[0, \"#8e0152\"], [0.1, \"#c51b7d\"], [0.2, \"#de77ae\"], [0.3, \"#f1b6da\"], [0.4, \"#fde0ef\"], [0.5, \"#f7f7f7\"], [0.6, \"#e6f5d0\"], [0.7, \"#b8e186\"], [0.8, \"#7fbc41\"], [0.9, \"#4d9221\"], [1, \"#276419\"]], \"sequential\": [[0.0, \"#0d0887\"], [0.1111111111111111, \"#46039f\"], [0.2222222222222222, \"#7201a8\"], [0.3333333333333333, \"#9c179e\"], [0.4444444444444444, \"#bd3786\"], [0.5555555555555556, \"#d8576b\"], [0.6666666666666666, \"#ed7953\"], [0.7777777777777778, \"#fb9f3a\"], [0.8888888888888888, \"#fdca26\"], [1.0, \"#f0f921\"]], \"sequentialminus\": [[0.0, \"#0d0887\"], [0.1111111111111111, \"#46039f\"], [0.2222222222222222, \"#7201a8\"], [0.3333333333333333, \"#9c179e\"], [0.4444444444444444, \"#bd3786\"], [0.5555555555555556, \"#d8576b\"], [0.6666666666666666, \"#ed7953\"], [0.7777777777777778, \"#fb9f3a\"], [0.8888888888888888, \"#fdca26\"], [1.0, \"#f0f921\"]]}, \"colorway\": [\"#636efa\", \"#EF553B\", \"#00cc96\", \"#ab63fa\", \"#FFA15A\", \"#19d3f3\", \"#FF6692\", \"#B6E880\", \"#FF97FF\", \"#FECB52\"], \"font\": {\"color\": \"#2a3f5f\"}, \"geo\": {\"bgcolor\": \"white\", \"lakecolor\": \"white\", \"landcolor\": \"#E5ECF6\", \"showlakes\": true, \"showland\": true, \"subunitcolor\": \"white\"}, \"hoverlabel\": {\"align\": \"left\"}, \"hovermode\": \"closest\", \"mapbox\": {\"style\": \"light\"}, \"paper_bgcolor\": \"white\", \"plot_bgcolor\": \"#E5ECF6\", \"polar\": {\"angularaxis\": {\"gridcolor\": \"white\", \"linecolor\": \"white\", \"ticks\": \"\"}, \"bgcolor\": \"#E5ECF6\", \"radialaxis\": {\"gridcolor\": \"white\", \"linecolor\": \"white\", \"ticks\": \"\"}}, \"scene\": {\"xaxis\": {\"backgroundcolor\": \"#E5ECF6\", \"gridcolor\": \"white\", \"gridwidth\": 2, \"linecolor\": \"white\", \"showbackground\": true, \"ticks\": \"\", \"zerolinecolor\": \"white\"}, \"yaxis\": {\"backgroundcolor\": \"#E5ECF6\", \"gridcolor\": \"white\", \"gridwidth\": 2, \"linecolor\": \"white\", \"showbackground\": true, \"ticks\": \"\", \"zerolinecolor\": \"white\"}, \"zaxis\": {\"backgroundcolor\": \"#E5ECF6\", \"gridcolor\": \"white\", \"gridwidth\": 2, \"linecolor\": \"white\", \"showbackground\": true, \"ticks\": \"\", \"zerolinecolor\": \"white\"}}, \"shapedefaults\": {\"line\": {\"color\": \"#2a3f5f\"}}, \"ternary\": {\"aaxis\": {\"gridcolor\": \"white\", \"linecolor\": \"white\", \"ticks\": \"\"}, \"baxis\": {\"gridcolor\": \"white\", \"linecolor\": \"white\", \"ticks\": \"\"}, \"bgcolor\": \"#E5ECF6\", \"caxis\": {\"gridcolor\": \"white\", \"linecolor\": \"white\", \"ticks\": \"\"}}, \"title\": {\"x\": 0.05}, \"xaxis\": {\"automargin\": true, \"gridcolor\": \"white\", \"linecolor\": \"white\", \"ticks\": \"\", \"title\": {\"standoff\": 15}, \"zerolinecolor\": \"white\", \"zerolinewidth\": 2}, \"yaxis\": {\"automargin\": true, \"gridcolor\": \"white\", \"linecolor\": \"white\", \"ticks\": \"\", \"title\": {\"standoff\": 15}, \"zerolinecolor\": \"white\", \"zerolinewidth\": 2}}}, \"title\": {\"text\": \"Plots over \\u03be\"}, \"width\": 1000, \"xaxis\": {\"anchor\": \"y\", \"domain\": [0.0, 0.45], \"rangemode\": \"tozero\", \"title\": {\"text\": \"\\u03be\"}}, \"xaxis2\": {\"anchor\": \"y2\", \"domain\": [0.55, 1.0], \"rangemode\": \"tozero\", \"title\": {\"text\": \"\\u03be\"}}, \"yaxis\": {\"anchor\": \"x\", \"domain\": [0.0, 1.0], \"rangemode\": \"tozero\"}, \"yaxis2\": {\"anchor\": \"x2\", \"domain\": [0.0, 1.0], \"rangemode\": \"tozero\"}},\n",
       "                        {\"responsive\": true}\n",
       "                    ).then(function(){\n",
       "                            \n",
       "var gd = document.getElementById('e0f6faaa-d2d4-4e17-8c0a-d04649178439');\n",
       "var x = new MutationObserver(function (mutations, observer) {{\n",
       "        var display = window.getComputedStyle(gd).display;\n",
       "        if (!display || display === 'none') {{\n",
       "            console.log([gd, 'removed!']);\n",
       "            Plotly.purge(gd);\n",
       "            observer.disconnect();\n",
       "        }}\n",
       "}});\n",
       "\n",
       "// Listen for the removal of the full notebook cells\n",
       "var notebookContainer = gd.closest('#notebook-container');\n",
       "if (notebookContainer) {{\n",
       "    x.observe(notebookContainer, {childList: true});\n",
       "}}\n",
       "\n",
       "// Listen for the clearing of the current output cell\n",
       "var outputEl = gd.closest('.output');\n",
       "if (outputEl) {{\n",
       "    x.observe(outputEl, {childList: true});\n",
       "}}\n",
       "\n",
       "                        })\n",
       "                };\n",
       "                });\n",
       "            </script>\n",
       "        </div>"
      ]
     },
     "metadata": {},
     "output_type": "display_data"
    }
   ],
   "source": [
    "# Plots for μ and RE\n",
    "fig = make_subplots(rows=1, cols=2)\n",
    "fig.add_trace(\n",
    "    go.Scatter(x=ξ_grid, y=ϵs, name='ϵ'),\n",
    "    row=1, col=1\n",
    ")\n",
    "fig.add_trace(\n",
    "    go.Scatter(x=ξ_grid, y=REs, name='RE'),\n",
    "    row=1, col=2\n",
    ")\n",
    "fig.update_layout(height=400, width=1000,title_text='Plots over ξ')\n",
    "fig.update_xaxes(rangemode=\"tozero\",title_text='ξ')\n",
    "fig.update_yaxes(rangemode=\"tozero\")\n",
    "fig.show()"
   ]
  },
  {
   "cell_type": "code",
   "execution_count": null,
   "metadata": {},
   "outputs": [],
   "source": []
  },
  {
   "cell_type": "code",
   "execution_count": null,
   "metadata": {},
   "outputs": [],
   "source": []
  }
 ],
 "metadata": {
  "kernelspec": {
   "display_name": "Python 3",
   "language": "python",
   "name": "python3"
  },
  "language_info": {
   "codemirror_mode": {
    "name": "ipython",
    "version": 3
   },
   "file_extension": ".py",
   "mimetype": "text/x-python",
   "name": "python",
   "nbconvert_exporter": "python",
   "pygments_lexer": "ipython3",
   "version": "3.7.1"
  }
 },
 "nbformat": 4,
 "nbformat_minor": 4
}
