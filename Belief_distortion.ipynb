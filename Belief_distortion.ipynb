{
 "cells": [
  {
   "cell_type": "code",
   "execution_count": 1,
   "metadata": {},
   "outputs": [],
   "source": [
    "import time\n",
    "import plotly.graph_objects as go\n",
    "from plotly.subplots import make_subplots\n",
    "from utilities_s7 import *\n",
    "from utilities_s8 import *"
   ]
  },
  {
   "cell_type": "markdown",
   "metadata": {},
   "source": [
    "## 7 Incorporating Conditional Information"
   ]
  },
  {
   "cell_type": "code",
   "execution_count": 47,
   "metadata": {},
   "outputs": [],
   "source": [
    "# Set k\n",
    "k = .5\n",
    "\n",
    "# Set model paramters\n",
    "tol = 1e-12\n",
    "max_iter = 1000\n",
    "\n",
    "solver_s7 = StaDivConstraint(tol,max_iter)"
   ]
  },
  {
   "cell_type": "markdown",
   "metadata": {},
   "source": [
    "### 7.1 Approach I\n",
    "\n",
    "#### Basic problem:\n",
    "\n",
    "\\begin{equation}\n",
    "\\min_{M\\geq0}{\\mathbb E}\\left[Mg(X)\\right]\n",
    "\\end{equation}\n",
    "*subject to constraints:*\n",
    "\\begin{align*}\n",
    "&{\\mathbb E}\\left[M \\log M\\right] \\leq \\kappa, \\\\\n",
    "&{\\mathbb E}\\left[B^j M Y\\right] = 0, \\\\\n",
    "&{\\mathbb E}\\left[M\\right] = 1.\n",
    "\\end{align*}\n",
    "\n",
    "#### Dual problem:\n",
    "\n",
    "For computational purposes, we solve the dual problem after minimizing over $M$.  \n",
    "\n",
    "\\begin{equation*}\n",
    "\\sup_{\\xi>0}\\max_{\\hat{\\lambda}_j}    - \\xi \\log {\\mathbb E} \\left[ \\exp\\left( - {\\frac 1 {\\xi}} \\left[ g(X_1) + \\sum_{j}\\hat{\\lambda}_j \\cdot YB^j \\right] \\right)\\right]  -  \\xi \\kappa  \n",
    "\\end{equation*}\n",
    "\n",
    "$\\hat{\\lambda}$ and $\\xi$ are multipliers on the moment condition and relative entropy constraints. "
   ]
  },
  {
   "cell_type": "code",
   "execution_count": 49,
   "metadata": {},
   "outputs": [
    {
     "data": {
      "text/plain": [
       "{'result': -0.003154222876988816,\n",
       " 'success': True,\n",
       " 'message': b'CONVERGENCE: REL_REDUCTION_OF_F_<=_FACTR*EPSMCH',\n",
       " 'nit': 215,\n",
       " 'ξ': 0.01139072363622233,\n",
       " 'λ': array([-41.92752239,  43.9329023 ,  -1.89573135,   0.06765741,\n",
       "        -42.53722984,  44.54534309,  -4.14394679,  -9.59885735,\n",
       "        -40.80976131,  42.81460188,  -4.95117194,  -4.46182306])}"
      ]
     },
     "execution_count": 49,
     "metadata": {},
     "output_type": "execute_result"
    }
   ],
   "source": [
    "solver_s7.solve(k,approach=1)"
   ]
  },
  {
   "cell_type": "markdown",
   "metadata": {},
   "source": [
    "### 7.2 Approach II\n",
    "\n",
    "#### Basic problem:\n",
    "\n",
    "\\begin{equation}\n",
    "\\min_{M_1\\geq0}{\\mathbb E}\\left[M_1g(X_1)\\right]\n",
    "\\end{equation}\n",
    "*subject to constraints:*\n",
    "\\begin{align*}\n",
    "&{\\mathbb E}\\left[M_1 \\log M_1\\right] \\leq \\kappa, \\\\\n",
    "&{\\mathbb E}\\left[B^j M_1 Y_1\\right] = 0, \\\\\n",
    "&{\\mathbb E}\\left[B^j M_1-B^j\\right] = 0.\n",
    "\\end{align*}\n",
    "\n",
    "#### Dual problem:\n",
    "\n",
    "For computational purposes, we solve the dual problem after minimizing over $M_1$.  \n",
    "\n",
    "\\begin{equation*}\n",
    "\\sup_{\\xi>0}\\max_{\\hat{\\lambda}_j}    - \\xi \\sum_{j}\\mathbb E[B^j]\\log {\\mathbb E} \\left[ \\exp\\left( - {\\frac 1 {\\xi}} \\left[ g(X_1) + \\hat{\\lambda}_j \\cdot Y_1 \\right] \\right)\\right]  -  \\xi \\kappa  \n",
    "\\end{equation*}\n",
    "\n",
    "$\\hat{\\lambda}$ and $\\xi$ are multipliers on the moment condition and relative entropy constraints. "
   ]
  },
  {
   "cell_type": "code",
   "execution_count": 50,
   "metadata": {},
   "outputs": [
    {
     "data": {
      "text/plain": [
       "{'result': -0.0024944273503736147,\n",
       " 'success': True,\n",
       " 'message': b'CONVERGENCE: REL_REDUCTION_OF_F_<=_FACTR*EPSMCH',\n",
       " 'nit': 205,\n",
       " 'ξ': 0.010298853066474024,\n",
       " 'λ': array([-46.54706704,  48.54715479,  -2.3126995 ,  -0.26138998,\n",
       "        -47.33513665,  49.33582501,  -5.13699403, -11.05599556,\n",
       "        -45.62418906,  47.62300862,  -5.46868445,  -3.53841202])}"
      ]
     },
     "execution_count": 50,
     "metadata": {},
     "output_type": "execute_result"
    }
   ],
   "source": [
    "solver_s7.solve(k,approach=2)"
   ]
  },
  {
   "cell_type": "markdown",
   "metadata": {},
   "source": [
    "### 7.3 Approach III\n",
    "\n",
    "#### Basic problem:\n",
    "\n",
    "\\begin{equation}\n",
    "\\min_{M_1\\geq0}{\\mathbb E}\\left[M_1g(X_1)\\mid\\mathfrak{F}_0\\right]\n",
    "\\end{equation}\n",
    "*subject to constraints:*\n",
    "\\begin{align*}\n",
    "&{\\mathbb E}\\left[M_1 \\log M_1\\mid\\mathfrak{F}_0\\right] \\leq \\kappa, \\\\\n",
    "&{\\mathbb E}\\left[M_1  Y_1\\mid\\mathfrak{F}_0\\right] = 0, \\\\\n",
    "&{\\mathbb E}\\left[M_1\\mid\\mathfrak{F}_0\\right] = 1.\n",
    "\\end{align*}\n",
    "\n",
    "#### Dual problem:\n",
    "For computational purposes, we solve the dual problem after minimizing over $M_1$.  \n",
    "\n",
    "\\begin{equation*}\n",
    "\\sup_{\\xi>0}\\max_{\\hat{\\lambda}}    - \\xi \\log {\\mathbb E} \\left[ \\exp\\left( - {\\frac 1 {\\xi}} \\left[ g(X_1) + \\hat{\\lambda} \\cdot Y_1 \\right] \\right)\\mid\\mathfrak{F}_0\\right]  -  \\xi \\kappa  \n",
    "\\end{equation*}\n",
    "\n",
    "$\\hat{\\lambda}$ and $\\xi$ are multipliers on the moment condition and relative entropy constraints. "
   ]
  },
  {
   "cell_type": "code",
   "execution_count": 51,
   "metadata": {},
   "outputs": [
    {
     "data": {
      "text/plain": [
       "{'result': 0.001640716366361136,\n",
       " 'success': True,\n",
       " 'message': b'CONVERGENCE: REL_REDUCTION_OF_F_<=_FACTR*EPSMCH',\n",
       " 'nit': 93,\n",
       " 'ξ': 0.010568151037177061,\n",
       " 'λ': array([-44.41474256,  46.41404401,  -5.66063623,  -3.37964178])}"
      ]
     },
     "execution_count": 51,
     "metadata": {},
     "output_type": "execute_result"
    }
   ],
   "source": [
    "solver_s7.solve(k,approach=3,state=3)"
   ]
  },
  {
   "cell_type": "markdown",
   "metadata": {},
   "source": [
    "## 8 Intertemporal Divergence Constraints\n",
    "\n",
    "### Proposition 8.6\n",
    "Problem 8.4 can be solved by finding the solution to:\n",
    "\n",
    "\\begin{equation}\n",
    "\\epsilon = \\min_\\hat{\\lambda}\\mathbb E \\left(\\exp \\left[-\\frac{1}{\\xi}g(X_1)+\\hat{\\lambda}\\cdot f(X_1)\\right]\\left( \\frac{e_1}{e_0}\\right) \\mid \\mathfrak{F}_0\\right)\n",
    "\\end{equation}\n",
    "\n",
    "*where*\n",
    "\\begin{align*}\n",
    "\\mu &= -\\xi \\log \\epsilon,\\\\\n",
    "v_0 &= -\\xi \\log e_0.\n",
    "\\end{align*}\n",
    "\n",
    "Denote $e^*$, $\\hat{\\lambda}^*$ as the solution to the above optimization problem. The implied solution for the probablity distortion is:\n",
    "\n",
    "\\begin{equation}\n",
    "M_1^* = \\frac{\\exp \\left[-\\frac{1}{\\xi}g(X_1)+\\hat{\\lambda}^*(Z_0)\\cdot f(X_1)\\right]e_1^*}{\\epsilon^*e_0^*}\n",
    "\\end{equation}"
   ]
  },
  {
   "cell_type": "code",
   "execution_count": 38,
   "metadata": {},
   "outputs": [
    {
     "name": "stdout",
     "output_type": "stream",
     "text": [
      "--- Iteration Ends ---\n",
      "ξ = 1.0\n",
      "Time spent: 0.272 seconds ---\n",
      "Numer of iterations: 208 ---\n",
      "\n",
      "\n",
      "--- Converged parameter vlues ---\n",
      "ϵ: 0.9662646505331379\n",
      "e: [1.         0.44191813 0.19224315]\n",
      "λ: [ 1.20464269  0.79535731 -0.31081682 -0.76069675  1.42671132  0.57328868\n",
      "  0.66140712 -5.97031608  2.68482733 -0.68482733 -3.48386646 -7.80331602]\n",
      "μ: 0.034317516936058806\n",
      "\n",
      "\n",
      "--- Check 1 ---\n",
      "E[M|state 1] = 0.9999999999543142 \n",
      "E[M|state 2] = 0.9999999999543142 \n",
      "E[M|state 3] = 0.9999999999543142 \n",
      "\n",
      "\n",
      "--- Check 2 ---\n",
      "E[Mg(X)] = 0.00575620608160032 (directly using M)\n",
      "E[Mg(X)] = 0.005755997437009986 (indirectly using μ and RE)\n",
      "Difference: 2.0864459033403948e-07\n",
      "\n",
      "\n",
      "--- Transition Probability Matrix ---\n",
      "[[0.9795479  0.0204521  0.        ]\n",
      " [0.0840223  0.88101517 0.03496253]\n",
      " [0.         0.17514752 0.82485248]]\n",
      "\n",
      "\n",
      "--- Stationary Distribution ---\n",
      "[0.7739925  0.18839962 0.03760788]\n",
      "\n",
      "\n",
      "--- Conditional Relative Entropy ---\n",
      "E[MlogM|state 1] = 0.012404221376960935 \n",
      "E[MlogM|state 2] = 0.06706674330664886 \n",
      "E[MlogM|state 3] = 0.16819336033938262 \n",
      "\n",
      "\n",
      "--- Unconditional Relative Entropy ---\n",
      "E[MlogM] = 0.02856151949904882 \n",
      "\n",
      "\n",
      "--- Conditional Moment Bound ---\n",
      "E[Mg(X)|state 1] = 0.0052117256171998584 \n",
      "E[Mg(X)|state 2] = 0.006764340164084067 \n",
      "E[Mg(X)|state 3] = 0.01191161009992886 \n",
      "\n",
      "\n",
      "--- Unconditional Moment Bound ---\n",
      "E[Mg(X)] = 0.00575620608160032 \n"
     ]
    }
   ],
   "source": [
    "# Set ξ\n",
    "ξ = 1.\n",
    "\n",
    "# Set model paramters\n",
    "tol = 1e-9\n",
    "max_iter = 1000\n",
    "\n",
    "solver_s8 = InterDivConstraint(tol,max_iter)\n",
    "\n",
    "time_start = time.time() \n",
    "result = solver_s8.iterate(ξ)\n",
    "\n",
    "# Print iteration information\n",
    "print(\"--- Iteration Ends ---\")\n",
    "print(\"ξ = %s\" % ξ)\n",
    "print(\"Time spent: %s seconds ---\" % (round(time.time()-time_start,4)))\n",
    "print(\"Numer of iterations: %s ---\" % result['count'])\n",
    "\n",
    "# Print converged parameter results\n",
    "print(\"\\n\")\n",
    "print(\"--- Converged parameter vlues ---\")\n",
    "print(\"ϵ: %s\" % result['ϵ'])\n",
    "print(\"e: %s\" % result['e'])\n",
    "print(\"λ: %s\" % result['λ'])\n",
    "print(\"μ: %s\" % result['μ'])\n",
    "\n",
    "# Print E[M|state k]\n",
    "print(\"\\n\")\n",
    "print(\"--- Check 1 ---\")\n",
    "print(\"E[M|state 1] = %s \" % result['E_M_cond'][0])\n",
    "print(\"E[M|state 2] = %s \" % result['E_M_cond'][0])\n",
    "print(\"E[M|state 3] = %s \" % result['E_M_cond'][0])\n",
    "\n",
    "# Print two ways of calculating moment bound\n",
    "print(\"\\n\")\n",
    "print(\"--- Check 2 ---\")\n",
    "print(\"E[Mg(X)] = %s (directly using M)\" % result['moment_bound'])\n",
    "print(\"E[Mg(X)] = %s (indirectly using μ and RE)\" % result['moment_bound_check'])\n",
    "print(\"Difference: %s\" % (result['moment_bound']-result['moment_bound_check']))\n",
    "\n",
    "# Print transition probability matrix\n",
    "print(\"\\n\")\n",
    "print(\"--- Transition Probability Matrix ---\")\n",
    "print(result['P'])\n",
    "\n",
    "# Print stationary distribution\n",
    "print(\"\\n\")\n",
    "print(\"--- Stationary Distribution ---\")\n",
    "print(result['π'])\n",
    "\n",
    "# Print conditional relative entropy\n",
    "print(\"\\n\")\n",
    "print(\"--- Conditional Relative Entropy ---\")\n",
    "print(\"E[MlogM|state 1] = %s \" % result['RE_cond'][0])\n",
    "print(\"E[MlogM|state 2] = %s \" % result['RE_cond'][1])\n",
    "print(\"E[MlogM|state 3] = %s \" % result['RE_cond'][2])\n",
    "\n",
    "# Print unconditional relative entropy\n",
    "print(\"\\n\")\n",
    "print(\"--- Unconditional Relative Entropy ---\")\n",
    "print(\"E[MlogM] = %s \" % result['RE'])\n",
    "\n",
    "# Print conditional moment bound\n",
    "print(\"\\n\")\n",
    "print(\"--- Conditional Moment Bound ---\")\n",
    "print(\"E[Mg(X)|state 1] = %s \" % result['moment_bound_cond'][0])\n",
    "print(\"E[Mg(X)|state 2] = %s \" % result['moment_bound_cond'][1])\n",
    "print(\"E[Mg(X)|state 3] = %s \" % result['moment_bound_cond'][2])\n",
    "\n",
    "# Print unconditional moment bound\n",
    "print(\"\\n\")\n",
    "print(\"--- Unconditional Moment Bound ---\")\n",
    "print(\"E[Mg(X)] = %s \" % result['moment_bound'])"
   ]
  },
  {
   "cell_type": "code",
   "execution_count": 39,
   "metadata": {},
   "outputs": [
    {
     "name": "stdout",
     "output_type": "stream",
     "text": [
      "Time spent: 25.5999 seconds ---\n"
     ]
    }
   ],
   "source": [
    "# Solve the minimization problems over a grid of ξ\n",
    "tol = 1e-9\n",
    "max_iter = 1000\n",
    "\n",
    "solver_s8 = InterDivConstraint(tol,max_iter)\n",
    "\n",
    "# Grid for ξ\n",
    "ξ_grid = np.arange(.01,1.,.01)\n",
    "μs = np.zeros_like(ξ_grid)\n",
    "REs = np.zeros_like(ξ_grid)\n",
    "bounds = np.zeros_like(ξ_grid)\n",
    "ϵs = np.zeros_like(ξ_grid)\n",
    "\n",
    "time_start = time.time() \n",
    "for i in range(len(ξ_grid)):\n",
    "    ξ = ξ_grid[i]\n",
    "    result = solver_s8.iterate(ξ)\n",
    "    μs[i] = result['μ']\n",
    "    REs[i] = result['RE']\n",
    "    bounds[i] = result['moment_bound']\n",
    "    ϵs[i] = result['ϵ']\n",
    "\n",
    "print(\"Time spent: %s seconds ---\" % (round(time.time()-time_start,4)))"
   ]
  },
  {
   "cell_type": "code",
   "execution_count": 40,
   "metadata": {
    "scrolled": false
   },
   "outputs": [
    {
     "data": {
      "application/vnd.plotly.v1+json": {
       "config": {
        "plotlyServerURL": "https://plot.ly"
       },
       "data": [
        {
         "name": "E[Mg(X)]",
         "type": "scatter",
         "x": [
          0.01,
          0.02,
          0.03,
          0.04,
          0.05,
          0.060000000000000005,
          0.06999999999999999,
          0.08,
          0.09,
          0.09999999999999999,
          0.11,
          0.12,
          0.13,
          0.14,
          0.15000000000000002,
          0.16,
          0.17,
          0.18000000000000002,
          0.19,
          0.2,
          0.21000000000000002,
          0.22,
          0.23,
          0.24000000000000002,
          0.25,
          0.26,
          0.27,
          0.28,
          0.29000000000000004,
          0.3,
          0.31,
          0.32,
          0.33,
          0.34,
          0.35000000000000003,
          0.36000000000000004,
          0.37,
          0.38,
          0.39,
          0.4,
          0.41000000000000003,
          0.42000000000000004,
          0.43,
          0.44,
          0.45,
          0.46,
          0.47000000000000003,
          0.48000000000000004,
          0.49,
          0.5,
          0.51,
          0.52,
          0.53,
          0.54,
          0.55,
          0.56,
          0.5700000000000001,
          0.5800000000000001,
          0.59,
          0.6,
          0.61,
          0.62,
          0.63,
          0.64,
          0.65,
          0.66,
          0.67,
          0.68,
          0.6900000000000001,
          0.7000000000000001,
          0.7100000000000001,
          0.72,
          0.73,
          0.74,
          0.75,
          0.76,
          0.77,
          0.78,
          0.79,
          0.8,
          0.81,
          0.8200000000000001,
          0.8300000000000001,
          0.8400000000000001,
          0.85,
          0.86,
          0.87,
          0.88,
          0.89,
          0.9,
          0.91,
          0.92,
          0.93,
          0.9400000000000001,
          0.9500000000000001,
          0.9600000000000001,
          0.97,
          0.98,
          0.99
         ],
         "xaxis": "x",
         "y": [
          -0.008281247186945933,
          -0.002522524277290767,
          -0.0002291175867181653,
          0.0010311945878744486,
          0.0018459919889948144,
          0.002424252804125501,
          0.0028595589436685993,
          0.003200226134617676,
          0.00347480057027678,
          0.003700899086272021,
          0.0038903855315556304,
          0.0040510611159271835,
          0.004189826369498164,
          0.004310356003282521,
          0.00441600512475799,
          0.004509382883689396,
          0.004592507727570635,
          0.004666968628657355,
          0.004734045053164264,
          0.004794755641883109,
          0.004850137505012329,
          0.0049005153195117715,
          0.004946733416842599,
          0.004989282308442592,
          0.005028549420348565,
          0.005064787702533075,
          0.005098400505300216,
          0.00512975894553206,
          0.005159126247918922,
          0.005186674068077644,
          0.005212533603613926,
          0.005236831035471677,
          0.005259795150191692,
          0.005281352750425547,
          0.00530143377815547,
          0.005320605084279189,
          0.005339637772622968,
          0.0053560279413371195,
          0.005372339265826455,
          0.005387904400403172,
          0.005402728194011145,
          0.00541683242687652,
          0.005430279352844621,
          0.005443129261991914,
          0.005455482472999052,
          0.005467323083735173,
          0.005478578619507034,
          0.005489305490463576,
          0.005499718231753572,
          0.0055096850515826265,
          0.005519295196196477,
          0.005528549023323763,
          0.005537432386413588,
          0.0055459813417577586,
          0.005554239624315239,
          0.005562276696293174,
          0.0055698965472143,
          0.005577334607090642,
          0.005584494603028698,
          0.005591490190816676,
          0.005598311908662319,
          0.005604779421510831,
          0.005611008482611851,
          0.00561707636646047,
          0.005622998559046143,
          0.005628745097286563,
          0.005634308425789726,
          0.005639718029675255,
          0.005644986297665686,
          0.005650093465479929,
          0.005655055841616412,
          0.005659884388843978,
          0.00566460106944219,
          0.005669170903302658,
          0.005673598697686144,
          0.0056778939915972625,
          0.005682094548660218,
          0.005686168591910004,
          0.005690128848878825,
          0.0056940503649815285,
          0.0056978980093259045,
          0.005701658323666139,
          0.00570532463477903,
          0.005708888960426178,
          0.005712370170125975,
          0.00571591298769266,
          0.0057191478495402775,
          0.005722294007042146,
          0.0057254505614594995,
          0.005728575550741196,
          0.0057315738484978425,
          0.005734856653038715,
          0.00573755435670899,
          0.005740274149721978,
          0.005742994316977326,
          0.005745765168785022,
          0.005748417014705529,
          0.005751034881480076,
          0.005753598110957372
         ],
         "yaxis": "y"
        },
        {
         "name": "RE",
         "type": "scatter",
         "x": [
          0.01,
          0.02,
          0.03,
          0.04,
          0.05,
          0.060000000000000005,
          0.06999999999999999,
          0.08,
          0.09,
          0.09999999999999999,
          0.11,
          0.12,
          0.13,
          0.14,
          0.15000000000000002,
          0.16,
          0.17,
          0.18000000000000002,
          0.19,
          0.2,
          0.21000000000000002,
          0.22,
          0.23,
          0.24000000000000002,
          0.25,
          0.26,
          0.27,
          0.28,
          0.29000000000000004,
          0.3,
          0.31,
          0.32,
          0.33,
          0.34,
          0.35000000000000003,
          0.36000000000000004,
          0.37,
          0.38,
          0.39,
          0.4,
          0.41000000000000003,
          0.42000000000000004,
          0.43,
          0.44,
          0.45,
          0.46,
          0.47000000000000003,
          0.48000000000000004,
          0.49,
          0.5,
          0.51,
          0.52,
          0.53,
          0.54,
          0.55,
          0.56,
          0.5700000000000001,
          0.5800000000000001,
          0.59,
          0.6,
          0.61,
          0.62,
          0.63,
          0.64,
          0.65,
          0.66,
          0.67,
          0.68,
          0.6900000000000001,
          0.7000000000000001,
          0.7100000000000001,
          0.72,
          0.73,
          0.74,
          0.75,
          0.76,
          0.77,
          0.78,
          0.79,
          0.8,
          0.81,
          0.8200000000000001,
          0.8300000000000001,
          0.8400000000000001,
          0.85,
          0.86,
          0.87,
          0.88,
          0.89,
          0.9,
          0.91,
          0.92,
          0.93,
          0.9400000000000001,
          0.9500000000000001,
          0.9600000000000001,
          0.97,
          0.98,
          0.99
         ],
         "xaxis": "x2",
         "y": [
          0.6432419567515563,
          0.2173036506636406,
          0.12208853266916929,
          0.08539518117605051,
          0.06708674566885905,
          0.056493428602187784,
          0.04976167935603548,
          0.04519981804997494,
          0.041960008564944536,
          0.039573777847649955,
          0.037765651934606,
          0.036363488274672756,
          0.03525311401552093,
          0.034359776721830874,
          0.03363054642824304,
          0.03302753538932267,
          0.03252331103225371,
          0.03209749903856277,
          0.03173466480197498,
          0.031423150969151804,
          0.03115333406108845,
          0.030918578246796724,
          0.03071303410199363,
          0.030531737237251763,
          0.03037133951806487,
          0.030228805265038777,
          0.030101546951955067,
          0.02998732516284126,
          0.029884290333123113,
          0.029791012577360935,
          0.02970635866927314,
          0.029629378996604536,
          0.029559087036783734,
          0.029495017932982145,
          0.02943631787104667,
          0.02938238026884785,
          0.029331320733050847,
          0.029286595160697163,
          0.029244165796880182,
          0.029204862655005166,
          0.0291683049634042,
          0.02913426511188379,
          0.029102559848454158,
          0.02907422283366049,
          0.02904514785757113,
          0.029019133843975302,
          0.028995219111571116,
          0.028972327722377723,
          0.02895080013363458,
          0.02893070840367665,
          0.028911767456877124,
          0.02889375306854259,
          0.028876854407685778,
          0.02886081584376714,
          0.028845427171486533,
          0.028831240023386263,
          0.0288177363063696,
          0.028804795331074638,
          0.028792556787893445,
          0.028780843761201644,
          0.028769555057473455,
          0.028758962315702963,
          0.028748999728303175,
          0.02873947296815936,
          0.028730308431584032,
          0.02872152060828729,
          0.028713177261593364,
          0.028705194704227437,
          0.028697537776462473,
          0.028690114308700103,
          0.02868309175607869,
          0.028676312629596305,
          0.028669852451213097,
          0.028663597649437055,
          0.028657750630306664,
          0.028652027355360578,
          0.028646445715678405,
          0.028641176503507247,
          0.02863601615273491,
          0.02863115667279473,
          0.02862638761635627,
          0.028621800389532062,
          0.028617371085382058,
          0.028613113972832414,
          0.02860897752024608,
          0.028604728490661264,
          0.02860096593745173,
          0.02859750472813606,
          0.028593937824256087,
          0.028590285283799487,
          0.02858709336633163,
          0.028583385842435593,
          0.028580580425326626,
          0.028577734811471432,
          0.028574784814711617,
          0.028571950080804858,
          0.028569247973758677,
          0.0285665699361433,
          0.02856397964352162
         ],
         "yaxis": "y2"
        }
       ],
       "layout": {
        "height": 400,
        "template": {
         "data": {
          "bar": [
           {
            "error_x": {
             "color": "#2a3f5f"
            },
            "error_y": {
             "color": "#2a3f5f"
            },
            "marker": {
             "line": {
              "color": "#E5ECF6",
              "width": 0.5
             }
            },
            "type": "bar"
           }
          ],
          "barpolar": [
           {
            "marker": {
             "line": {
              "color": "#E5ECF6",
              "width": 0.5
             }
            },
            "type": "barpolar"
           }
          ],
          "carpet": [
           {
            "aaxis": {
             "endlinecolor": "#2a3f5f",
             "gridcolor": "white",
             "linecolor": "white",
             "minorgridcolor": "white",
             "startlinecolor": "#2a3f5f"
            },
            "baxis": {
             "endlinecolor": "#2a3f5f",
             "gridcolor": "white",
             "linecolor": "white",
             "minorgridcolor": "white",
             "startlinecolor": "#2a3f5f"
            },
            "type": "carpet"
           }
          ],
          "choropleth": [
           {
            "colorbar": {
             "outlinewidth": 0,
             "ticks": ""
            },
            "type": "choropleth"
           }
          ],
          "contour": [
           {
            "colorbar": {
             "outlinewidth": 0,
             "ticks": ""
            },
            "colorscale": [
             [
              0,
              "#0d0887"
             ],
             [
              0.1111111111111111,
              "#46039f"
             ],
             [
              0.2222222222222222,
              "#7201a8"
             ],
             [
              0.3333333333333333,
              "#9c179e"
             ],
             [
              0.4444444444444444,
              "#bd3786"
             ],
             [
              0.5555555555555556,
              "#d8576b"
             ],
             [
              0.6666666666666666,
              "#ed7953"
             ],
             [
              0.7777777777777778,
              "#fb9f3a"
             ],
             [
              0.8888888888888888,
              "#fdca26"
             ],
             [
              1,
              "#f0f921"
             ]
            ],
            "type": "contour"
           }
          ],
          "contourcarpet": [
           {
            "colorbar": {
             "outlinewidth": 0,
             "ticks": ""
            },
            "type": "contourcarpet"
           }
          ],
          "heatmap": [
           {
            "colorbar": {
             "outlinewidth": 0,
             "ticks": ""
            },
            "colorscale": [
             [
              0,
              "#0d0887"
             ],
             [
              0.1111111111111111,
              "#46039f"
             ],
             [
              0.2222222222222222,
              "#7201a8"
             ],
             [
              0.3333333333333333,
              "#9c179e"
             ],
             [
              0.4444444444444444,
              "#bd3786"
             ],
             [
              0.5555555555555556,
              "#d8576b"
             ],
             [
              0.6666666666666666,
              "#ed7953"
             ],
             [
              0.7777777777777778,
              "#fb9f3a"
             ],
             [
              0.8888888888888888,
              "#fdca26"
             ],
             [
              1,
              "#f0f921"
             ]
            ],
            "type": "heatmap"
           }
          ],
          "heatmapgl": [
           {
            "colorbar": {
             "outlinewidth": 0,
             "ticks": ""
            },
            "colorscale": [
             [
              0,
              "#0d0887"
             ],
             [
              0.1111111111111111,
              "#46039f"
             ],
             [
              0.2222222222222222,
              "#7201a8"
             ],
             [
              0.3333333333333333,
              "#9c179e"
             ],
             [
              0.4444444444444444,
              "#bd3786"
             ],
             [
              0.5555555555555556,
              "#d8576b"
             ],
             [
              0.6666666666666666,
              "#ed7953"
             ],
             [
              0.7777777777777778,
              "#fb9f3a"
             ],
             [
              0.8888888888888888,
              "#fdca26"
             ],
             [
              1,
              "#f0f921"
             ]
            ],
            "type": "heatmapgl"
           }
          ],
          "histogram": [
           {
            "marker": {
             "colorbar": {
              "outlinewidth": 0,
              "ticks": ""
             }
            },
            "type": "histogram"
           }
          ],
          "histogram2d": [
           {
            "colorbar": {
             "outlinewidth": 0,
             "ticks": ""
            },
            "colorscale": [
             [
              0,
              "#0d0887"
             ],
             [
              0.1111111111111111,
              "#46039f"
             ],
             [
              0.2222222222222222,
              "#7201a8"
             ],
             [
              0.3333333333333333,
              "#9c179e"
             ],
             [
              0.4444444444444444,
              "#bd3786"
             ],
             [
              0.5555555555555556,
              "#d8576b"
             ],
             [
              0.6666666666666666,
              "#ed7953"
             ],
             [
              0.7777777777777778,
              "#fb9f3a"
             ],
             [
              0.8888888888888888,
              "#fdca26"
             ],
             [
              1,
              "#f0f921"
             ]
            ],
            "type": "histogram2d"
           }
          ],
          "histogram2dcontour": [
           {
            "colorbar": {
             "outlinewidth": 0,
             "ticks": ""
            },
            "colorscale": [
             [
              0,
              "#0d0887"
             ],
             [
              0.1111111111111111,
              "#46039f"
             ],
             [
              0.2222222222222222,
              "#7201a8"
             ],
             [
              0.3333333333333333,
              "#9c179e"
             ],
             [
              0.4444444444444444,
              "#bd3786"
             ],
             [
              0.5555555555555556,
              "#d8576b"
             ],
             [
              0.6666666666666666,
              "#ed7953"
             ],
             [
              0.7777777777777778,
              "#fb9f3a"
             ],
             [
              0.8888888888888888,
              "#fdca26"
             ],
             [
              1,
              "#f0f921"
             ]
            ],
            "type": "histogram2dcontour"
           }
          ],
          "mesh3d": [
           {
            "colorbar": {
             "outlinewidth": 0,
             "ticks": ""
            },
            "type": "mesh3d"
           }
          ],
          "parcoords": [
           {
            "line": {
             "colorbar": {
              "outlinewidth": 0,
              "ticks": ""
             }
            },
            "type": "parcoords"
           }
          ],
          "pie": [
           {
            "automargin": true,
            "type": "pie"
           }
          ],
          "scatter": [
           {
            "marker": {
             "colorbar": {
              "outlinewidth": 0,
              "ticks": ""
             }
            },
            "type": "scatter"
           }
          ],
          "scatter3d": [
           {
            "line": {
             "colorbar": {
              "outlinewidth": 0,
              "ticks": ""
             }
            },
            "marker": {
             "colorbar": {
              "outlinewidth": 0,
              "ticks": ""
             }
            },
            "type": "scatter3d"
           }
          ],
          "scattercarpet": [
           {
            "marker": {
             "colorbar": {
              "outlinewidth": 0,
              "ticks": ""
             }
            },
            "type": "scattercarpet"
           }
          ],
          "scattergeo": [
           {
            "marker": {
             "colorbar": {
              "outlinewidth": 0,
              "ticks": ""
             }
            },
            "type": "scattergeo"
           }
          ],
          "scattergl": [
           {
            "marker": {
             "colorbar": {
              "outlinewidth": 0,
              "ticks": ""
             }
            },
            "type": "scattergl"
           }
          ],
          "scattermapbox": [
           {
            "marker": {
             "colorbar": {
              "outlinewidth": 0,
              "ticks": ""
             }
            },
            "type": "scattermapbox"
           }
          ],
          "scatterpolar": [
           {
            "marker": {
             "colorbar": {
              "outlinewidth": 0,
              "ticks": ""
             }
            },
            "type": "scatterpolar"
           }
          ],
          "scatterpolargl": [
           {
            "marker": {
             "colorbar": {
              "outlinewidth": 0,
              "ticks": ""
             }
            },
            "type": "scatterpolargl"
           }
          ],
          "scatterternary": [
           {
            "marker": {
             "colorbar": {
              "outlinewidth": 0,
              "ticks": ""
             }
            },
            "type": "scatterternary"
           }
          ],
          "surface": [
           {
            "colorbar": {
             "outlinewidth": 0,
             "ticks": ""
            },
            "colorscale": [
             [
              0,
              "#0d0887"
             ],
             [
              0.1111111111111111,
              "#46039f"
             ],
             [
              0.2222222222222222,
              "#7201a8"
             ],
             [
              0.3333333333333333,
              "#9c179e"
             ],
             [
              0.4444444444444444,
              "#bd3786"
             ],
             [
              0.5555555555555556,
              "#d8576b"
             ],
             [
              0.6666666666666666,
              "#ed7953"
             ],
             [
              0.7777777777777778,
              "#fb9f3a"
             ],
             [
              0.8888888888888888,
              "#fdca26"
             ],
             [
              1,
              "#f0f921"
             ]
            ],
            "type": "surface"
           }
          ],
          "table": [
           {
            "cells": {
             "fill": {
              "color": "#EBF0F8"
             },
             "line": {
              "color": "white"
             }
            },
            "header": {
             "fill": {
              "color": "#C8D4E3"
             },
             "line": {
              "color": "white"
             }
            },
            "type": "table"
           }
          ]
         },
         "layout": {
          "annotationdefaults": {
           "arrowcolor": "#2a3f5f",
           "arrowhead": 0,
           "arrowwidth": 1
          },
          "coloraxis": {
           "colorbar": {
            "outlinewidth": 0,
            "ticks": ""
           }
          },
          "colorscale": {
           "diverging": [
            [
             0,
             "#8e0152"
            ],
            [
             0.1,
             "#c51b7d"
            ],
            [
             0.2,
             "#de77ae"
            ],
            [
             0.3,
             "#f1b6da"
            ],
            [
             0.4,
             "#fde0ef"
            ],
            [
             0.5,
             "#f7f7f7"
            ],
            [
             0.6,
             "#e6f5d0"
            ],
            [
             0.7,
             "#b8e186"
            ],
            [
             0.8,
             "#7fbc41"
            ],
            [
             0.9,
             "#4d9221"
            ],
            [
             1,
             "#276419"
            ]
           ],
           "sequential": [
            [
             0,
             "#0d0887"
            ],
            [
             0.1111111111111111,
             "#46039f"
            ],
            [
             0.2222222222222222,
             "#7201a8"
            ],
            [
             0.3333333333333333,
             "#9c179e"
            ],
            [
             0.4444444444444444,
             "#bd3786"
            ],
            [
             0.5555555555555556,
             "#d8576b"
            ],
            [
             0.6666666666666666,
             "#ed7953"
            ],
            [
             0.7777777777777778,
             "#fb9f3a"
            ],
            [
             0.8888888888888888,
             "#fdca26"
            ],
            [
             1,
             "#f0f921"
            ]
           ],
           "sequentialminus": [
            [
             0,
             "#0d0887"
            ],
            [
             0.1111111111111111,
             "#46039f"
            ],
            [
             0.2222222222222222,
             "#7201a8"
            ],
            [
             0.3333333333333333,
             "#9c179e"
            ],
            [
             0.4444444444444444,
             "#bd3786"
            ],
            [
             0.5555555555555556,
             "#d8576b"
            ],
            [
             0.6666666666666666,
             "#ed7953"
            ],
            [
             0.7777777777777778,
             "#fb9f3a"
            ],
            [
             0.8888888888888888,
             "#fdca26"
            ],
            [
             1,
             "#f0f921"
            ]
           ]
          },
          "colorway": [
           "#636efa",
           "#EF553B",
           "#00cc96",
           "#ab63fa",
           "#FFA15A",
           "#19d3f3",
           "#FF6692",
           "#B6E880",
           "#FF97FF",
           "#FECB52"
          ],
          "font": {
           "color": "#2a3f5f"
          },
          "geo": {
           "bgcolor": "white",
           "lakecolor": "white",
           "landcolor": "#E5ECF6",
           "showlakes": true,
           "showland": true,
           "subunitcolor": "white"
          },
          "hoverlabel": {
           "align": "left"
          },
          "hovermode": "closest",
          "mapbox": {
           "style": "light"
          },
          "paper_bgcolor": "white",
          "plot_bgcolor": "#E5ECF6",
          "polar": {
           "angularaxis": {
            "gridcolor": "white",
            "linecolor": "white",
            "ticks": ""
           },
           "bgcolor": "#E5ECF6",
           "radialaxis": {
            "gridcolor": "white",
            "linecolor": "white",
            "ticks": ""
           }
          },
          "scene": {
           "xaxis": {
            "backgroundcolor": "#E5ECF6",
            "gridcolor": "white",
            "gridwidth": 2,
            "linecolor": "white",
            "showbackground": true,
            "ticks": "",
            "zerolinecolor": "white"
           },
           "yaxis": {
            "backgroundcolor": "#E5ECF6",
            "gridcolor": "white",
            "gridwidth": 2,
            "linecolor": "white",
            "showbackground": true,
            "ticks": "",
            "zerolinecolor": "white"
           },
           "zaxis": {
            "backgroundcolor": "#E5ECF6",
            "gridcolor": "white",
            "gridwidth": 2,
            "linecolor": "white",
            "showbackground": true,
            "ticks": "",
            "zerolinecolor": "white"
           }
          },
          "shapedefaults": {
           "line": {
            "color": "#2a3f5f"
           }
          },
          "ternary": {
           "aaxis": {
            "gridcolor": "white",
            "linecolor": "white",
            "ticks": ""
           },
           "baxis": {
            "gridcolor": "white",
            "linecolor": "white",
            "ticks": ""
           },
           "bgcolor": "#E5ECF6",
           "caxis": {
            "gridcolor": "white",
            "linecolor": "white",
            "ticks": ""
           }
          },
          "title": {
           "x": 0.05
          },
          "xaxis": {
           "automargin": true,
           "gridcolor": "white",
           "linecolor": "white",
           "ticks": "",
           "title": {
            "standoff": 15
           },
           "zerolinecolor": "white",
           "zerolinewidth": 2
          },
          "yaxis": {
           "automargin": true,
           "gridcolor": "white",
           "linecolor": "white",
           "ticks": "",
           "title": {
            "standoff": 15
           },
           "zerolinecolor": "white",
           "zerolinewidth": 2
          }
         }
        },
        "title": {
         "text": "Plots over ξ"
        },
        "width": 1000,
        "xaxis": {
         "anchor": "y",
         "domain": [
          0,
          0.45
         ],
         "rangemode": "tozero",
         "title": {
          "text": "ξ"
         }
        },
        "xaxis2": {
         "anchor": "y2",
         "domain": [
          0.55,
          1
         ],
         "rangemode": "tozero",
         "title": {
          "text": "ξ"
         }
        },
        "yaxis": {
         "anchor": "x",
         "domain": [
          0,
          1
         ],
         "rangemode": "tozero"
        },
        "yaxis2": {
         "anchor": "x2",
         "domain": [
          0,
          1
         ],
         "rangemode": "tozero"
        }
       }
      },
      "text/html": [
       "<div>\n",
       "        \n",
       "        \n",
       "            <div id=\"7a51af4d-4c4f-4b96-994f-3b09df136f41\" class=\"plotly-graph-div\" style=\"height:400px; width:1000px;\"></div>\n",
       "            <script type=\"text/javascript\">\n",
       "                require([\"plotly\"], function(Plotly) {\n",
       "                    window.PLOTLYENV=window.PLOTLYENV || {};\n",
       "                    \n",
       "                if (document.getElementById(\"7a51af4d-4c4f-4b96-994f-3b09df136f41\")) {\n",
       "                    Plotly.newPlot(\n",
       "                        '7a51af4d-4c4f-4b96-994f-3b09df136f41',\n",
       "                        [{\"name\": \"E[Mg(X)]\", \"type\": \"scatter\", \"x\": [0.01, 0.02, 0.03, 0.04, 0.05, 0.060000000000000005, 0.06999999999999999, 0.08, 0.09, 0.09999999999999999, 0.11, 0.12, 0.13, 0.14, 0.15000000000000002, 0.16, 0.17, 0.18000000000000002, 0.19, 0.2, 0.21000000000000002, 0.22, 0.23, 0.24000000000000002, 0.25, 0.26, 0.27, 0.28, 0.29000000000000004, 0.3, 0.31, 0.32, 0.33, 0.34, 0.35000000000000003, 0.36000000000000004, 0.37, 0.38, 0.39, 0.4, 0.41000000000000003, 0.42000000000000004, 0.43, 0.44, 0.45, 0.46, 0.47000000000000003, 0.48000000000000004, 0.49, 0.5, 0.51, 0.52, 0.53, 0.54, 0.55, 0.56, 0.5700000000000001, 0.5800000000000001, 0.59, 0.6, 0.61, 0.62, 0.63, 0.64, 0.65, 0.66, 0.67, 0.68, 0.6900000000000001, 0.7000000000000001, 0.7100000000000001, 0.72, 0.73, 0.74, 0.75, 0.76, 0.77, 0.78, 0.79, 0.8, 0.81, 0.8200000000000001, 0.8300000000000001, 0.8400000000000001, 0.85, 0.86, 0.87, 0.88, 0.89, 0.9, 0.91, 0.92, 0.93, 0.9400000000000001, 0.9500000000000001, 0.9600000000000001, 0.97, 0.98, 0.99], \"xaxis\": \"x\", \"y\": [-0.008281247186945933, -0.002522524277290767, -0.0002291175867181653, 0.0010311945878744486, 0.0018459919889948144, 0.002424252804125501, 0.0028595589436685993, 0.003200226134617676, 0.00347480057027678, 0.003700899086272021, 0.0038903855315556304, 0.0040510611159271835, 0.004189826369498164, 0.004310356003282521, 0.00441600512475799, 0.004509382883689396, 0.004592507727570635, 0.004666968628657355, 0.004734045053164264, 0.004794755641883109, 0.004850137505012329, 0.0049005153195117715, 0.004946733416842599, 0.004989282308442592, 0.005028549420348565, 0.005064787702533075, 0.005098400505300216, 0.00512975894553206, 0.005159126247918922, 0.005186674068077644, 0.005212533603613926, 0.005236831035471677, 0.005259795150191692, 0.005281352750425547, 0.00530143377815547, 0.005320605084279189, 0.005339637772622968, 0.0053560279413371195, 0.005372339265826455, 0.005387904400403172, 0.005402728194011145, 0.00541683242687652, 0.005430279352844621, 0.005443129261991914, 0.005455482472999052, 0.005467323083735173, 0.005478578619507034, 0.005489305490463576, 0.005499718231753572, 0.0055096850515826265, 0.005519295196196477, 0.005528549023323763, 0.005537432386413588, 0.0055459813417577586, 0.005554239624315239, 0.005562276696293174, 0.0055698965472143, 0.005577334607090642, 0.005584494603028698, 0.005591490190816676, 0.005598311908662319, 0.005604779421510831, 0.005611008482611851, 0.00561707636646047, 0.005622998559046143, 0.005628745097286563, 0.005634308425789726, 0.005639718029675255, 0.005644986297665686, 0.005650093465479929, 0.005655055841616412, 0.005659884388843978, 0.00566460106944219, 0.005669170903302658, 0.005673598697686144, 0.0056778939915972625, 0.005682094548660218, 0.005686168591910004, 0.005690128848878825, 0.0056940503649815285, 0.0056978980093259045, 0.005701658323666139, 0.00570532463477903, 0.005708888960426178, 0.005712370170125975, 0.00571591298769266, 0.0057191478495402775, 0.005722294007042146, 0.0057254505614594995, 0.005728575550741196, 0.0057315738484978425, 0.005734856653038715, 0.00573755435670899, 0.005740274149721978, 0.005742994316977326, 0.005745765168785022, 0.005748417014705529, 0.005751034881480076, 0.005753598110957372], \"yaxis\": \"y\"}, {\"name\": \"RE\", \"type\": \"scatter\", \"x\": [0.01, 0.02, 0.03, 0.04, 0.05, 0.060000000000000005, 0.06999999999999999, 0.08, 0.09, 0.09999999999999999, 0.11, 0.12, 0.13, 0.14, 0.15000000000000002, 0.16, 0.17, 0.18000000000000002, 0.19, 0.2, 0.21000000000000002, 0.22, 0.23, 0.24000000000000002, 0.25, 0.26, 0.27, 0.28, 0.29000000000000004, 0.3, 0.31, 0.32, 0.33, 0.34, 0.35000000000000003, 0.36000000000000004, 0.37, 0.38, 0.39, 0.4, 0.41000000000000003, 0.42000000000000004, 0.43, 0.44, 0.45, 0.46, 0.47000000000000003, 0.48000000000000004, 0.49, 0.5, 0.51, 0.52, 0.53, 0.54, 0.55, 0.56, 0.5700000000000001, 0.5800000000000001, 0.59, 0.6, 0.61, 0.62, 0.63, 0.64, 0.65, 0.66, 0.67, 0.68, 0.6900000000000001, 0.7000000000000001, 0.7100000000000001, 0.72, 0.73, 0.74, 0.75, 0.76, 0.77, 0.78, 0.79, 0.8, 0.81, 0.8200000000000001, 0.8300000000000001, 0.8400000000000001, 0.85, 0.86, 0.87, 0.88, 0.89, 0.9, 0.91, 0.92, 0.93, 0.9400000000000001, 0.9500000000000001, 0.9600000000000001, 0.97, 0.98, 0.99], \"xaxis\": \"x2\", \"y\": [0.6432419567515563, 0.2173036506636406, 0.12208853266916929, 0.08539518117605051, 0.06708674566885905, 0.056493428602187784, 0.04976167935603548, 0.04519981804997494, 0.041960008564944536, 0.039573777847649955, 0.037765651934606, 0.036363488274672756, 0.03525311401552093, 0.034359776721830874, 0.03363054642824304, 0.03302753538932267, 0.03252331103225371, 0.03209749903856277, 0.03173466480197498, 0.031423150969151804, 0.03115333406108845, 0.030918578246796724, 0.03071303410199363, 0.030531737237251763, 0.03037133951806487, 0.030228805265038777, 0.030101546951955067, 0.02998732516284126, 0.029884290333123113, 0.029791012577360935, 0.02970635866927314, 0.029629378996604536, 0.029559087036783734, 0.029495017932982145, 0.02943631787104667, 0.02938238026884785, 0.029331320733050847, 0.029286595160697163, 0.029244165796880182, 0.029204862655005166, 0.0291683049634042, 0.02913426511188379, 0.029102559848454158, 0.02907422283366049, 0.02904514785757113, 0.029019133843975302, 0.028995219111571116, 0.028972327722377723, 0.02895080013363458, 0.02893070840367665, 0.028911767456877124, 0.02889375306854259, 0.028876854407685778, 0.02886081584376714, 0.028845427171486533, 0.028831240023386263, 0.0288177363063696, 0.028804795331074638, 0.028792556787893445, 0.028780843761201644, 0.028769555057473455, 0.028758962315702963, 0.028748999728303175, 0.02873947296815936, 0.028730308431584032, 0.02872152060828729, 0.028713177261593364, 0.028705194704227437, 0.028697537776462473, 0.028690114308700103, 0.02868309175607869, 0.028676312629596305, 0.028669852451213097, 0.028663597649437055, 0.028657750630306664, 0.028652027355360578, 0.028646445715678405, 0.028641176503507247, 0.02863601615273491, 0.02863115667279473, 0.02862638761635627, 0.028621800389532062, 0.028617371085382058, 0.028613113972832414, 0.02860897752024608, 0.028604728490661264, 0.02860096593745173, 0.02859750472813606, 0.028593937824256087, 0.028590285283799487, 0.02858709336633163, 0.028583385842435593, 0.028580580425326626, 0.028577734811471432, 0.028574784814711617, 0.028571950080804858, 0.028569247973758677, 0.0285665699361433, 0.02856397964352162], \"yaxis\": \"y2\"}],\n",
       "                        {\"height\": 400, \"template\": {\"data\": {\"bar\": [{\"error_x\": {\"color\": \"#2a3f5f\"}, \"error_y\": {\"color\": \"#2a3f5f\"}, \"marker\": {\"line\": {\"color\": \"#E5ECF6\", \"width\": 0.5}}, \"type\": \"bar\"}], \"barpolar\": [{\"marker\": {\"line\": {\"color\": \"#E5ECF6\", \"width\": 0.5}}, \"type\": \"barpolar\"}], \"carpet\": [{\"aaxis\": {\"endlinecolor\": \"#2a3f5f\", \"gridcolor\": \"white\", \"linecolor\": \"white\", \"minorgridcolor\": \"white\", \"startlinecolor\": \"#2a3f5f\"}, \"baxis\": {\"endlinecolor\": \"#2a3f5f\", \"gridcolor\": \"white\", \"linecolor\": \"white\", \"minorgridcolor\": \"white\", \"startlinecolor\": \"#2a3f5f\"}, \"type\": \"carpet\"}], \"choropleth\": [{\"colorbar\": {\"outlinewidth\": 0, \"ticks\": \"\"}, \"type\": \"choropleth\"}], \"contour\": [{\"colorbar\": {\"outlinewidth\": 0, \"ticks\": \"\"}, \"colorscale\": [[0.0, \"#0d0887\"], [0.1111111111111111, \"#46039f\"], [0.2222222222222222, \"#7201a8\"], [0.3333333333333333, \"#9c179e\"], [0.4444444444444444, \"#bd3786\"], [0.5555555555555556, \"#d8576b\"], [0.6666666666666666, \"#ed7953\"], [0.7777777777777778, \"#fb9f3a\"], [0.8888888888888888, \"#fdca26\"], [1.0, \"#f0f921\"]], \"type\": \"contour\"}], \"contourcarpet\": [{\"colorbar\": {\"outlinewidth\": 0, \"ticks\": \"\"}, \"type\": \"contourcarpet\"}], \"heatmap\": [{\"colorbar\": {\"outlinewidth\": 0, \"ticks\": \"\"}, \"colorscale\": [[0.0, \"#0d0887\"], [0.1111111111111111, \"#46039f\"], [0.2222222222222222, \"#7201a8\"], [0.3333333333333333, \"#9c179e\"], [0.4444444444444444, \"#bd3786\"], [0.5555555555555556, \"#d8576b\"], [0.6666666666666666, \"#ed7953\"], [0.7777777777777778, \"#fb9f3a\"], [0.8888888888888888, \"#fdca26\"], [1.0, \"#f0f921\"]], \"type\": \"heatmap\"}], \"heatmapgl\": [{\"colorbar\": {\"outlinewidth\": 0, \"ticks\": \"\"}, \"colorscale\": [[0.0, \"#0d0887\"], [0.1111111111111111, \"#46039f\"], [0.2222222222222222, \"#7201a8\"], [0.3333333333333333, \"#9c179e\"], [0.4444444444444444, \"#bd3786\"], [0.5555555555555556, \"#d8576b\"], [0.6666666666666666, \"#ed7953\"], [0.7777777777777778, \"#fb9f3a\"], [0.8888888888888888, \"#fdca26\"], [1.0, \"#f0f921\"]], \"type\": \"heatmapgl\"}], \"histogram\": [{\"marker\": {\"colorbar\": {\"outlinewidth\": 0, \"ticks\": \"\"}}, \"type\": \"histogram\"}], \"histogram2d\": [{\"colorbar\": {\"outlinewidth\": 0, \"ticks\": \"\"}, \"colorscale\": [[0.0, \"#0d0887\"], [0.1111111111111111, \"#46039f\"], [0.2222222222222222, \"#7201a8\"], [0.3333333333333333, \"#9c179e\"], [0.4444444444444444, \"#bd3786\"], [0.5555555555555556, \"#d8576b\"], [0.6666666666666666, \"#ed7953\"], [0.7777777777777778, \"#fb9f3a\"], [0.8888888888888888, \"#fdca26\"], [1.0, \"#f0f921\"]], \"type\": \"histogram2d\"}], \"histogram2dcontour\": [{\"colorbar\": {\"outlinewidth\": 0, \"ticks\": \"\"}, \"colorscale\": [[0.0, \"#0d0887\"], [0.1111111111111111, \"#46039f\"], [0.2222222222222222, \"#7201a8\"], [0.3333333333333333, \"#9c179e\"], [0.4444444444444444, \"#bd3786\"], [0.5555555555555556, \"#d8576b\"], [0.6666666666666666, \"#ed7953\"], [0.7777777777777778, \"#fb9f3a\"], [0.8888888888888888, \"#fdca26\"], [1.0, \"#f0f921\"]], \"type\": \"histogram2dcontour\"}], \"mesh3d\": [{\"colorbar\": {\"outlinewidth\": 0, \"ticks\": \"\"}, \"type\": \"mesh3d\"}], \"parcoords\": [{\"line\": {\"colorbar\": {\"outlinewidth\": 0, \"ticks\": \"\"}}, \"type\": \"parcoords\"}], \"pie\": [{\"automargin\": true, \"type\": \"pie\"}], \"scatter\": [{\"marker\": {\"colorbar\": {\"outlinewidth\": 0, \"ticks\": \"\"}}, \"type\": \"scatter\"}], \"scatter3d\": [{\"line\": {\"colorbar\": {\"outlinewidth\": 0, \"ticks\": \"\"}}, \"marker\": {\"colorbar\": {\"outlinewidth\": 0, \"ticks\": \"\"}}, \"type\": \"scatter3d\"}], \"scattercarpet\": [{\"marker\": {\"colorbar\": {\"outlinewidth\": 0, \"ticks\": \"\"}}, \"type\": \"scattercarpet\"}], \"scattergeo\": [{\"marker\": {\"colorbar\": {\"outlinewidth\": 0, \"ticks\": \"\"}}, \"type\": \"scattergeo\"}], \"scattergl\": [{\"marker\": {\"colorbar\": {\"outlinewidth\": 0, \"ticks\": \"\"}}, \"type\": \"scattergl\"}], \"scattermapbox\": [{\"marker\": {\"colorbar\": {\"outlinewidth\": 0, \"ticks\": \"\"}}, \"type\": \"scattermapbox\"}], \"scatterpolar\": [{\"marker\": {\"colorbar\": {\"outlinewidth\": 0, \"ticks\": \"\"}}, \"type\": \"scatterpolar\"}], \"scatterpolargl\": [{\"marker\": {\"colorbar\": {\"outlinewidth\": 0, \"ticks\": \"\"}}, \"type\": \"scatterpolargl\"}], \"scatterternary\": [{\"marker\": {\"colorbar\": {\"outlinewidth\": 0, \"ticks\": \"\"}}, \"type\": \"scatterternary\"}], \"surface\": [{\"colorbar\": {\"outlinewidth\": 0, \"ticks\": \"\"}, \"colorscale\": [[0.0, \"#0d0887\"], [0.1111111111111111, \"#46039f\"], [0.2222222222222222, \"#7201a8\"], [0.3333333333333333, \"#9c179e\"], [0.4444444444444444, \"#bd3786\"], [0.5555555555555556, \"#d8576b\"], [0.6666666666666666, \"#ed7953\"], [0.7777777777777778, \"#fb9f3a\"], [0.8888888888888888, \"#fdca26\"], [1.0, \"#f0f921\"]], \"type\": \"surface\"}], \"table\": [{\"cells\": {\"fill\": {\"color\": \"#EBF0F8\"}, \"line\": {\"color\": \"white\"}}, \"header\": {\"fill\": {\"color\": \"#C8D4E3\"}, \"line\": {\"color\": \"white\"}}, \"type\": \"table\"}]}, \"layout\": {\"annotationdefaults\": {\"arrowcolor\": \"#2a3f5f\", \"arrowhead\": 0, \"arrowwidth\": 1}, \"coloraxis\": {\"colorbar\": {\"outlinewidth\": 0, \"ticks\": \"\"}}, \"colorscale\": {\"diverging\": [[0, \"#8e0152\"], [0.1, \"#c51b7d\"], [0.2, \"#de77ae\"], [0.3, \"#f1b6da\"], [0.4, \"#fde0ef\"], [0.5, \"#f7f7f7\"], [0.6, \"#e6f5d0\"], [0.7, \"#b8e186\"], [0.8, \"#7fbc41\"], [0.9, \"#4d9221\"], [1, \"#276419\"]], \"sequential\": [[0.0, \"#0d0887\"], [0.1111111111111111, \"#46039f\"], [0.2222222222222222, \"#7201a8\"], [0.3333333333333333, \"#9c179e\"], [0.4444444444444444, \"#bd3786\"], [0.5555555555555556, \"#d8576b\"], [0.6666666666666666, \"#ed7953\"], [0.7777777777777778, \"#fb9f3a\"], [0.8888888888888888, \"#fdca26\"], [1.0, \"#f0f921\"]], \"sequentialminus\": [[0.0, \"#0d0887\"], [0.1111111111111111, \"#46039f\"], [0.2222222222222222, \"#7201a8\"], [0.3333333333333333, \"#9c179e\"], [0.4444444444444444, \"#bd3786\"], [0.5555555555555556, \"#d8576b\"], [0.6666666666666666, \"#ed7953\"], [0.7777777777777778, \"#fb9f3a\"], [0.8888888888888888, \"#fdca26\"], [1.0, \"#f0f921\"]]}, \"colorway\": [\"#636efa\", \"#EF553B\", \"#00cc96\", \"#ab63fa\", \"#FFA15A\", \"#19d3f3\", \"#FF6692\", \"#B6E880\", \"#FF97FF\", \"#FECB52\"], \"font\": {\"color\": \"#2a3f5f\"}, \"geo\": {\"bgcolor\": \"white\", \"lakecolor\": \"white\", \"landcolor\": \"#E5ECF6\", \"showlakes\": true, \"showland\": true, \"subunitcolor\": \"white\"}, \"hoverlabel\": {\"align\": \"left\"}, \"hovermode\": \"closest\", \"mapbox\": {\"style\": \"light\"}, \"paper_bgcolor\": \"white\", \"plot_bgcolor\": \"#E5ECF6\", \"polar\": {\"angularaxis\": {\"gridcolor\": \"white\", \"linecolor\": \"white\", \"ticks\": \"\"}, \"bgcolor\": \"#E5ECF6\", \"radialaxis\": {\"gridcolor\": \"white\", \"linecolor\": \"white\", \"ticks\": \"\"}}, \"scene\": {\"xaxis\": {\"backgroundcolor\": \"#E5ECF6\", \"gridcolor\": \"white\", \"gridwidth\": 2, \"linecolor\": \"white\", \"showbackground\": true, \"ticks\": \"\", \"zerolinecolor\": \"white\"}, \"yaxis\": {\"backgroundcolor\": \"#E5ECF6\", \"gridcolor\": \"white\", \"gridwidth\": 2, \"linecolor\": \"white\", \"showbackground\": true, \"ticks\": \"\", \"zerolinecolor\": \"white\"}, \"zaxis\": {\"backgroundcolor\": \"#E5ECF6\", \"gridcolor\": \"white\", \"gridwidth\": 2, \"linecolor\": \"white\", \"showbackground\": true, \"ticks\": \"\", \"zerolinecolor\": \"white\"}}, \"shapedefaults\": {\"line\": {\"color\": \"#2a3f5f\"}}, \"ternary\": {\"aaxis\": {\"gridcolor\": \"white\", \"linecolor\": \"white\", \"ticks\": \"\"}, \"baxis\": {\"gridcolor\": \"white\", \"linecolor\": \"white\", \"ticks\": \"\"}, \"bgcolor\": \"#E5ECF6\", \"caxis\": {\"gridcolor\": \"white\", \"linecolor\": \"white\", \"ticks\": \"\"}}, \"title\": {\"x\": 0.05}, \"xaxis\": {\"automargin\": true, \"gridcolor\": \"white\", \"linecolor\": \"white\", \"ticks\": \"\", \"title\": {\"standoff\": 15}, \"zerolinecolor\": \"white\", \"zerolinewidth\": 2}, \"yaxis\": {\"automargin\": true, \"gridcolor\": \"white\", \"linecolor\": \"white\", \"ticks\": \"\", \"title\": {\"standoff\": 15}, \"zerolinecolor\": \"white\", \"zerolinewidth\": 2}}}, \"title\": {\"text\": \"Plots over \\u03be\"}, \"width\": 1000, \"xaxis\": {\"anchor\": \"y\", \"domain\": [0.0, 0.45], \"rangemode\": \"tozero\", \"title\": {\"text\": \"\\u03be\"}}, \"xaxis2\": {\"anchor\": \"y2\", \"domain\": [0.55, 1.0], \"rangemode\": \"tozero\", \"title\": {\"text\": \"\\u03be\"}}, \"yaxis\": {\"anchor\": \"x\", \"domain\": [0.0, 1.0], \"rangemode\": \"tozero\"}, \"yaxis2\": {\"anchor\": \"x2\", \"domain\": [0.0, 1.0], \"rangemode\": \"tozero\"}},\n",
       "                        {\"responsive\": true}\n",
       "                    ).then(function(){\n",
       "                            \n",
       "var gd = document.getElementById('7a51af4d-4c4f-4b96-994f-3b09df136f41');\n",
       "var x = new MutationObserver(function (mutations, observer) {{\n",
       "        var display = window.getComputedStyle(gd).display;\n",
       "        if (!display || display === 'none') {{\n",
       "            console.log([gd, 'removed!']);\n",
       "            Plotly.purge(gd);\n",
       "            observer.disconnect();\n",
       "        }}\n",
       "}});\n",
       "\n",
       "// Listen for the removal of the full notebook cells\n",
       "var notebookContainer = gd.closest('#notebook-container');\n",
       "if (notebookContainer) {{\n",
       "    x.observe(notebookContainer, {childList: true});\n",
       "}}\n",
       "\n",
       "// Listen for the clearing of the current output cell\n",
       "var outputEl = gd.closest('.output');\n",
       "if (outputEl) {{\n",
       "    x.observe(outputEl, {childList: true});\n",
       "}}\n",
       "\n",
       "                        })\n",
       "                };\n",
       "                });\n",
       "            </script>\n",
       "        </div>"
      ]
     },
     "metadata": {},
     "output_type": "display_data"
    }
   ],
   "source": [
    "# Plots for μ and RE\n",
    "fig = make_subplots(rows=1, cols=2)\n",
    "fig.add_trace(\n",
    "    go.Scatter(x=ξ_grid, y=bounds, name='E[Mg(X)]'),\n",
    "    row=1, col=1\n",
    ")\n",
    "fig.add_trace(\n",
    "    go.Scatter(x=ξ_grid, y=REs, name='RE'),\n",
    "    row=1, col=2\n",
    ")\n",
    "fig.update_layout(height=400, width=1000,title_text='Plots over ξ')\n",
    "fig.update_xaxes(rangemode=\"tozero\",title_text='ξ')\n",
    "fig.update_yaxes(rangemode=\"tozero\")\n",
    "fig.show()"
   ]
  },
  {
   "cell_type": "code",
   "execution_count": null,
   "metadata": {},
   "outputs": [],
   "source": []
  }
 ],
 "metadata": {
  "kernelspec": {
   "display_name": "Python 3",
   "language": "python",
   "name": "python3"
  },
  "language_info": {
   "codemirror_mode": {
    "name": "ipython",
    "version": 3
   },
   "file_extension": ".py",
   "mimetype": "text/x-python",
   "name": "python",
   "nbconvert_exporter": "python",
   "pygments_lexer": "ipython3",
   "version": "3.7.1"
  }
 },
 "nbformat": 4,
 "nbformat_minor": 4
}
