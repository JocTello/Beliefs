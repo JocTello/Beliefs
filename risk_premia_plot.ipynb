{
 "cells": [
  {
   "cell_type": "code",
   "execution_count": null,
   "metadata": {},
   "outputs": [],
   "source": [
    "# Load packages\n",
    "import time\n",
    "from utilities import *"
   ]
  },
  {
   "cell_type": "markdown",
   "metadata": {},
   "source": [
    "### Remark 5.8. Bounding risk premia\n",
    "\n",
    "- Set objective function to be $g_1(x)+\\zeta g_2(x)$ and vary $\\xi$ to hit the relative entropy constraint for alternative $\\zeta$ with no sign restrictions on $\\zeta$.\n",
    "\n",
    "\n",
    "- Compute \n",
    "$$\n",
    "\\log \\int \\mathbb{E}\\left[N_1^*g_1(X_1)\\mid \\mathfrak{I}_0\\right]d Q_0^* - \\log \\int \\mathbb{E}\\left[N_1^*g_2(X_1)\\mid \\mathfrak{I}_0\\right]d Q_0^*\n",
    "$$\n",
    "which will depend on $\\zeta$.\n",
    "\n",
    "\n",
    "- Minimize over $\\zeta$.\n",
    "\n",
    "\n",
    "- Perform this for $g_1(X_1)=R_1^w$ and $g_2(X_1)=R_1^f$ to compute a lower bound on the proportional risk premium."
   ]
  },
  {
   "cell_type": "code",
   "execution_count": null,
   "metadata": {},
   "outputs": [],
   "source": [
    "# Min RE\n",
    "solver = InterDivConstraint(tol=1e-9,max_iter=1000)\n",
    "solver.g = solver.log_Rw\n",
    "result = solver.iterate(100.,lower=True)\n",
    "\n",
    "g1 = np.exp(solver.log_Rw)\n",
    "g2 = (solver.X[:,0]+1.)*np.exp(solver.log_Rw)\n",
    "\n",
    "# Calculate risk premia, distorted, under min case\n",
    "# Term 1\n",
    "moment_bound_cond_g1 = []\n",
    "for i in np.arange(1,solver.n_states+1,1):\n",
    "    temp = np.mean(result['N'][solver.pd_lag_indicator[:,i-1]]*g1[solver.pd_lag_indicator[:,i-1]])\n",
    "    moment_bound_cond_g1.append(temp)\n",
    "moment_bound_cond_g1 = np.array(moment_bound_cond_g1)\n",
    "moment_bound_g1 = moment_bound_cond_g1@result['π_tilde']\n",
    "\n",
    "# Term 2\n",
    "moment_bound_cond_g2 = []\n",
    "for i in np.arange(1,solver.n_states+1,1):\n",
    "    temp = np.mean(result['N'][solver.pd_lag_indicator[:,i-1]]*g2[solver.pd_lag_indicator[:,i-1]])\n",
    "    moment_bound_cond_g2.append(temp)\n",
    "moment_bound_cond_g2 = np.array(moment_bound_cond_g2)\n",
    "moment_bound_g2 = moment_bound_cond_g2@result['π_tilde']\n",
    "\n",
    "# Combine term 1 and term 2\n",
    "risk_premia_min = np.log(moment_bound_g1) - np.log(moment_bound_g2)\n",
    "risk_premia_cond_min = np.log(moment_bound_cond_g1) - np.log(moment_bound_cond_g2)"
   ]
  },
  {
   "cell_type": "code",
   "execution_count": null,
   "metadata": {},
   "outputs": [],
   "source": [
    "# 20% higher RE, lower bound\n",
    "risk_premia_lower, risk_premia_cond_lower, risk_premia_empirical, risk_premia_cond_empirical = risk_premia(-1.0064,x_min_RE=1.2,lower=True,ξ_tol=1e-7)\n",
    "\n",
    "# 20% higher RE, upper bound\n",
    "risk_premia_upper, risk_premia_cond_upper,_,_ = risk_premia(-1.0074,x_min_RE=1.2,lower=False,ξ_tol=1e-7)"
   ]
  },
  {
   "cell_type": "code",
   "execution_count": null,
   "metadata": {},
   "outputs": [],
   "source": [
    "print(\"--- risk premium (empirical, annualized) ---\")\n",
    "print(\"State 1: %s \" % (np.round(risk_premia_cond_empirical[0]*400,2)))\n",
    "print(\"State 2: %s \" % (np.round(risk_premia_cond_empirical[1]*400,2)))\n",
    "print(\"State 3: %s \" % (np.round(risk_premia_cond_empirical[2]*400,2)))\n",
    "print(\"Unconditional: %s \" % (np.round(risk_premia_empirical*400,2)))\n",
    "print(\" \")\n",
    "print(\"--- risk premium (min rel entropy, annualized) ---\")\n",
    "print(\"State 1: %s \" % (np.round(risk_premia_cond_min[0]*400,2)))\n",
    "print(\"State 2: %s \" % (np.round(risk_premia_cond_min[1]*400,2)))\n",
    "print(\"State 3: %s \" % (np.round(risk_premia_cond_min[2]*400,2)))\n",
    "print(\"Unconditional: %s \" % (np.round(risk_premia_min*400,2)))\n",
    "print(\" \")\n",
    "print(\"--- risk premium (lower bound, annualized) ---\")\n",
    "print(\"State 1: %s \" % (np.round(risk_premia_cond_lower[0]*400,2)))\n",
    "print(\"State 2: %s \" % (np.round(risk_premia_cond_lower[1]*400,2)))\n",
    "print(\"State 3: %s \" % (np.round(risk_premia_cond_lower[2]*400,2)))\n",
    "print(\"Unconditional: %s \" % (np.round(risk_premia_lower*400,2)))\n",
    "print(\" \")\n",
    "print(\"--- risk premium (upper bound, annualized) ---\")\n",
    "print(\"State 1: %s \" % (np.round(risk_premia_cond_upper[0]*400,2)))\n",
    "print(\"State 2: %s \" % (np.round(risk_premia_cond_upper[1]*400,2)))\n",
    "print(\"State 3: %s \" % (np.round(risk_premia_cond_upper[2]*400,2)))\n",
    "print(\"Unconditional: %s \" % (np.round(risk_premia_upper*400,2)))"
   ]
  },
  {
   "cell_type": "code",
   "execution_count": null,
   "metadata": {},
   "outputs": [],
   "source": [
    "import matplotlib.pyplot as plt\n",
    "\n",
    "conditioning = ['low D/P', 'middle D/P', 'high D/P', 'unconditional']\n",
    "min_entropy_implied = np.array([risk_premia_cond_min[0]*400, risk_premia_cond_min[1]*400, risk_premia_cond_min[2]*400, risk_premia_min*400])\n",
    "empirical_average = np.array([risk_premia_cond_empirical[0]*400, risk_premia_cond_empirical[1]*400, risk_premia_cond_empirical[2]*400, risk_premia_empirical*400])\n",
    "\n",
    "# Each number is repeated once in order to form a desirable shape of boxes\n",
    "low_bound_20 = np.array([risk_premia_cond_lower[0]*400, risk_premia_cond_lower[0]*400, risk_premia_cond_upper[0]*400, risk_premia_cond_upper[0]*400]) \n",
    "middle_bound_20 = np.array([risk_premia_cond_lower[1]*400, risk_premia_cond_lower[1]*400, risk_premia_cond_upper[1]*400, risk_premia_cond_upper[1]*400])\n",
    "high_bound_20 = np.array([risk_premia_cond_lower[2]*400,risk_premia_cond_lower[2]*400,risk_premia_cond_upper[2]*400,risk_premia_cond_upper[2]*400])\n",
    "unconditional_bound_20 = np.array([risk_premia_lower*400, risk_premia_lower*400, risk_premia_upper*400, risk_premia_upper*400])\n",
    "\n",
    "fig, ax = plt.subplots()\n",
    "bplot = ax.boxplot(np.vstack((low_bound_20, middle_bound_20, high_bound_20, unconditional_bound_20)).T,\n",
    "               usermedians = min_entropy_implied, #override the automatically calculated median\n",
    "               labels = conditioning, widths = 0.4, \n",
    "               medianprops = dict(linestyle='-.', linewidth = 0, color = 'black'),\n",
    "               patch_artist = True)\n",
    "\n",
    "for box in bplot['boxes']:\n",
    "    box.set(facecolor = 'salmon')\n",
    "\n",
    "splot = ax.scatter(x = np.arange(1, 5), y = empirical_average, c = 'black')\n",
    "\n",
    "ax.axvline(x = 3.5, color = 'black', linestyle = '--', linewidth = 1)\n",
    "\n",
    "ax.set_ylim(0.,14.5)\n",
    "\n",
    "plt.show()\n",
    "    \n",
    "fig.savefig(\"risk_premia_full_20%.png\",dpi=300)"
   ]
  }
 ],
 "metadata": {
  "kernelspec": {
   "display_name": "Python 3",
   "language": "python",
   "name": "python3"
  },
  "language_info": {
   "codemirror_mode": {
    "name": "ipython",
    "version": 3
   },
   "file_extension": ".py",
   "mimetype": "text/x-python",
   "name": "python",
   "nbconvert_exporter": "python",
   "pygments_lexer": "ipython3",
   "version": "3.7.1"
  }
 },
 "nbformat": 4,
 "nbformat_minor": 4
}
