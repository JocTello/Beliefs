{
 "cells": [
  {
   "cell_type": "markdown",
   "metadata": {},
   "source": [
    "# Robust Identification of Investor Beliefs\n",
    "\n",
    "by [Xiaohong Chen](https://economics.yale.edu/people/faculty/xiaohong-chen), [Lars Peter Hansen](http://larspeterhansen.org/) and [Peter G. Hansen](https://mitsloan.mit.edu/phd/students/peter-hansen).\n",
    "\n",
    "The latest version of the paper can be found [here](http://larspeterhansen.org/research/papers/).\n",
    "\n",
    "Notebook by: Han Xu, Zhenhuan Xie."
   ]
  },
  {
   "cell_type": "markdown",
   "metadata": {},
   "source": [
    "## 1. Overview\n",
    "\n",
    "This notebook provides the source code and explanations for how we solve the dynamic problem in Section 3 of the paper. It also provides the source code for the figures in Section 4 as well as additional results that we did not report in the paper. Before we describe and implement the computation, let's first install and load necessary `Python packages` (and set up the server environment if you are running this notebook on `Goolge Colab`) by running the following cell."
   ]
  },
  {
   "cell_type": "code",
   "execution_count": 1,
   "metadata": {},
   "outputs": [
    {
     "name": "stdout",
     "output_type": "stream",
     "text": [
      "----------Successfully Loaded Python Packages----------\n"
     ]
    }
   ],
   "source": [
    "# Check if the notebook is open in Google Colab\n",
    "try:\n",
    "    from google.colab import drive\n",
    "    IN_COLAB = True\n",
    "except:\n",
    "    IN_COLAB = False\n",
    "\n",
    "# Set up Google Colab environment\n",
    "if IN_COLAB:\n",
    "    import os\n",
    "    # Link your Goolge Drive to Goolge Colab\n",
    "    drive.mount('/content/gdrive')\n",
    "    %cd '/content/gdrive/My Drive'\n",
    "    # Create a folder to store our project\n",
    "    if 'Belief_project' in os.listdir():\n",
    "        %cd '/content/gdrive/My Drive/Belief_project'\n",
    "    else:\n",
    "        ! mkdir '/content/gdrive/My Drive/Belief_project/'\n",
    "        %cd '/content/gdrive/My Drive/Belief_project/'\n",
    "    # Clone GitHub repo to the folder and change working directory to the repo\n",
    "    if 'Beliefs' not in os.listdir():\n",
    "        ! git clone https://github.com/lphansen/Beliefs.git\n",
    "    %cd '/content/gdrive/My Drive/Belief_project/Beliefs'\n",
    "\n",
    "# Set up local environment\n",
    "else:\n",
    "    try:\n",
    "        import plotly\n",
    "    except:\n",
    "        import sys\n",
    "        !{sys.executable} -m pip install plotly\n",
    "\n",
    "import time\n",
    "import pandas as pd\n",
    "import numpy as np\n",
    "from source.preprocessing import preprocess_data\n",
    "from source.solver import solve, find_ξ\n",
    "print('----------Successfully Loaded Python Packages----------')"
   ]
  },
  {
   "cell_type": "markdown",
   "metadata": {},
   "source": [
    "## 2. Moment Bounds\n",
    "\n",
    "### 2.1 Relative Entropy Specification\n",
    "Recall **Problem 3.2** in the paper.  For a real number $\\mu$ and a random variable $v_0$, \n",
    "\n",
    "\\begin{equation}\n",
    "\\mu = \\min_{N_1 \\ge 0} \\mathbb{E}\\left(N_1\\left[g(X_1)+\\xi\\log N_1 + v_1\\right]\\mid \\mathfrak{I}_0\\right) - v_0\n",
    "\\end{equation}\n",
    "*subject to constraints*:\n",
    "\\begin{align*}\n",
    "\\mathbb{E}\\left[N_1 f(X_1)\\mid\\mathfrak{I}_0\\right] &= 0\\\\\n",
    "\\mathbb{E}\\left[N_1 \\mid \\mathfrak{I}_0\\right] &= 1\n",
    "\\end{align*}\n",
    "where $v_1$ is a version of $v_0$ shifted forward one time period.\n",
    "\n",
    "By **Proposition 3.8**, this problem can be solved by finding the solution to:\n",
    "\n",
    "\\begin{equation}\n",
    "\\epsilon = \\min_{\\lambda_0}\\mathbb E \\left(\\exp \\left[-\\frac{1}{\\xi}g(X_1)+\\lambda_0\\cdot f(X_1)\\right]\\left( \\frac{e_1}{e_0}\\right) \\mid \\mathfrak{I}_0\\right)\n",
    "\\end{equation}\n",
    "\n",
    "*where*\n",
    "\\begin{align*}\n",
    "\\mu &= -\\xi \\log \\epsilon,\\\\\n",
    "v_0 &= -\\xi \\log e_0.\n",
    "\\end{align*}\n",
    "\n",
    "The optimized results will depend on the choice of $\\xi$. Alternative values of $\\xi$ imply alternative bounds on the expectation of $g(X_1)$ and the corresponding relative entropy.  Below is an illustration of how the minimized objectives $\\mu^*$ and $\\epsilon^*$ change with $\\xi$. Data and calculation details are described later in Section 3. "
   ]
  },
  {
   "cell_type": "code",
   "execution_count": null,
   "metadata": {
    "scrolled": false
   },
   "outputs": [],
   "source": [
    "from source.plots import objective_vs_ξ\n",
    "time_start = time.time()\n",
    "objective_vs_ξ(n_states=3) # Here we use relative entropy divergence\n",
    "print('Time spent:', round(time.time()-time_start,2),'s')"
   ]
  },
  {
   "cell_type": "markdown",
   "metadata": {},
   "source": [
    "The implied solution for the probablity distortion is:\n",
    "\n",
    "\\begin{equation}\n",
    "N_1^* = \\frac{\\exp \\left[-\\frac{1}{\\xi}g(X_1)+\\lambda^*_0(Z_0)\\cdot f(X_1)\\right]e_1^*}{\\epsilon^*e_0^*}\n",
    "\\end{equation}\n",
    "\n",
    "where $\\lambda^*_0$ is the optimizing choice for $\\lambda_0$ and $\\left(\\epsilon^*,e_0^*\\right)$ are selected so that the resulting $\\sf Q$ induces stochastically stable. The conditional expectation implied by the bound is\n",
    "\n",
    "\\begin{equation}\n",
    "\\mathbb{E}\\left[N_1^*g(X_1)\\mid \\mathfrak{I}_0\\right]\n",
    "\\end{equation}\n",
    "\n",
    "which in turn implies a bound on the unconditional expectation equal to\n",
    "\n",
    "\\begin{equation}\n",
    "\\int \\mathbb{E}\\left[N_1^*g(X_1)\\mid\\mathfrak{I}_0\\right]d \\sf Q_0^*\n",
    "\\end{equation}\n",
    "\n",
    "The implied relative entropy is\n",
    "\n",
    "\\begin{equation}\n",
    "\\int \\mathbb{E}\\left(N_1^*\\log N_1^*\\mid \\mathfrak{I}_0\\right)d \\sf Q_0^*\n",
    "\\end{equation}"
   ]
  },
  {
   "cell_type": "markdown",
   "metadata": {},
   "source": [
    "### 2.2 Quadratic Specification\n",
    "\n",
    "Intead of using relative entropy as the divergence measure, we can also use quadratic specification as discussed in the appendix of the paper. For a real number $\\mu$ and a random variable $v_0$,\n",
    "\\begin{equation}\n",
    "\\mu = \\min_{N_1\\geq 0}\\mathbb E \\left(N_1 \\left[g(X_1)+v_1\\right]+\\frac{\\xi}{2}(N_1^2-N_1) \\mid \\mathfrak{I}_0\\right) - v_0\n",
    "\\end{equation}\n",
    "\n",
    "*subject to constraints*:\n",
    "\\begin{align*}\n",
    "&\\mathbb{E}\\left[N_1f(X_1)\\mid\\mathfrak{I}_0\\right] = 0\\\\\n",
    "&\\mathbb{E}\\left[N_1\\mid\\mathfrak{I}_0\\right] = 1\n",
    "\\end{align*}\n",
    "\n",
    "Similarly, the problem can be solved by finding the solution to:\n",
    "\n",
    "\\begin{equation}\n",
    "\\mu = \\max_{\\lambda_1,\\lambda_2} -\\frac{\\xi}{2}\\mathbb{E}\\left[\\left(\\left[\\frac{1}{2}-\\frac{1}{\\xi}\\left[g(X_1)+v_1+\\lambda_1 \\cdot f(X_1) + \\lambda_2\\right]\\right]^+\\right)^2\\mid\\mathfrak{I}_0\\right]-\\lambda_2-v_0\n",
    "\\end{equation}\n",
    "\n",
    "The implied solution for the probablity distortion is:\n",
    "\n",
    "\\begin{equation}\n",
    "N_1^* = \\left[\\frac{1}{2} - \\frac{1}{\\xi^*}\\left[g(X_1)+v_1^*+\\lambda_1^*\\cdot f(X_1)+\\lambda_2^*\\right]\\right]^+\n",
    "\\end{equation}"
   ]
  },
  {
   "cell_type": "markdown",
   "metadata": {},
   "source": [
    "### 2.3 Chernoff Entropy\n",
    "\n",
    "In addition, we show how to calculate the Chernoff entropy mentioned in the paper. Suppose $P$ and $\\tilde{P}$ are transition probability matrices of two Markov processes.\n",
    "\n",
    "- Fix 0<s<1. Calculate the matrix $H_s\\left(P,\\tilde{P}\\right)$:\n",
    "$$\n",
    "H_s\\left(P,\\tilde{P}\\right)_{ij} = [P_{ij}]^s [\\tilde{P}_{ij}]^{1-s}\n",
    "$$ \n",
    "for $1\\leq i,j \\leq 741$.\n",
    "\n",
    "\n",
    "- Calculate the spectral radius of $H_s\\left(P,\\tilde{P}\\right)$:\n",
    "$$\n",
    "r = \\max_{1\\leq i\\leq 741} \\left\\{|\\lambda_i|\\right\\}\n",
    "$$\n",
    "where $\\{\\lambda_i\\}$ are the (possibly complex) eigenvalues for $H_s\\left(P,\\tilde{P}\\right)$.\n",
    "\n",
    "\n",
    "- Minimize $r$ with respect to $s$. Denote the minimized $r$ as $r^*$. Then $1-r^*$ is the Chernoff entropy.\n",
    "\n",
    "The Chernoff measure is motivated by a common decay rate imposed on type I and type II errors of testing one model against another and is expected to be considerably smaller. We computed it using the approach described in Newman and Stuck (1979) for Markov processes. While symmetric, this measure is less tractable to implement and not included in the family of recursive divergences that we describe. We use it merely to provide, ex post, additional information about the magnitude of the bound.\n"
   ]
  },
  {
   "cell_type": "markdown",
   "metadata": {},
   "source": [
    "To compute the bounds on the expected logarithmic return on market, we let the logarithm of this return on wealth be our $g$; \n",
    "\n",
    "To compute the bounds on risk premium and generalized volatility, we extend the previous approach as follows:"
   ]
  },
  {
   "cell_type": "markdown",
   "metadata": {},
   "source": [
    "### 2.4 Bounding Risk Premia\n",
    "\n",
    "- Set $g(X_1)=R^w_1-\\zeta R^f_1$ where $\\zeta$ is a \"multiplier\" that we will search over;\n",
    "\n",
    "\n",
    "- for alternative $\\zeta$, deduce $N_1^*(\\zeta)$ and $\\sf Q_0^*(\\zeta)$ as described in the paper;\n",
    "\n",
    "\n",
    "- compute:\n",
    "\n",
    "$$\n",
    "\\log \\int \\mathbb{E}\\left[N_1^*(\\zeta)R^w_1\\mid \\mathfrak{I}_0\\right]d \\sf Q_0^*(\\zeta) - \\log \\int \\mathbb{E}\\left[N_1^*(\\zeta)R^f_1\\mid \\mathfrak{I}_0\\right]d \\sf Q_0^*(\\zeta)\n",
    "$$\n",
    "and minimize with respect to $\\zeta$;\n",
    "\n",
    "\n",
    "- set $g(X_1)=-R^w_1+\\zeta R^f_1$, repeat, and use the negative of the minimizer to obtain the upper bound."
   ]
  },
  {
   "cell_type": "markdown",
   "metadata": {},
   "source": [
    "### 2.5 Bounding Volatility\n",
    "\n",
    "We show how to bound an entropic measure of volatility.  Other measures could be computed using a similar approch.  \n",
    "\n",
    "- Set $g(X_1)=R^w_1-\\zeta \\log R^w_1$ where $\\zeta$ is a \"multiplier\" that we will search over;\n",
    "\n",
    "\n",
    "- for alternative $\\zeta$, deduce $N_1^*(\\zeta)$ and $\\sf Q_0^*(\\zeta)$ as described in the paper;\n",
    "\n",
    "\n",
    "- compute:\n",
    "\n",
    "$$\n",
    "\\log \\int \\mathbb{E}\\left[N_1^*(\\zeta)R^w_1\\mid \\mathfrak{I}_0\\right]d {\\sf Q_0}^*(\\zeta) - \\int \\mathbb{E}\\left[N_1^*(\\zeta)\\log R^w_1\\mid \\mathfrak{I}_0\\right]d {\\sf Q_0}^*(\\zeta)\n",
    "$$\n",
    "and minimize with respect to $\\zeta$;\n",
    "\n",
    "\n",
    "- set $g(X_1)=-R^w_1+\\zeta \\log R^w_1$, repeat, and use the negative of the minimizer to obtain the upper bound."
   ]
  },
  {
   "cell_type": "markdown",
   "metadata": {},
   "source": [
    "## 3. Code Implementation"
   ]
  },
  {
   "cell_type": "markdown",
   "metadata": {},
   "source": [
    "### 3.1 Data\n",
    "The file “UnitaryData.csv” contains the following data from 1954-2016:\n",
    "\n",
    "- The first four columns contain Euler equation errors from the unitary risk aversion model corresponding to the 3-month T-bill rate, the market excess return, the SMB excess return, and the HML excess return respectively. Under a feasible belief distortion, all four of these variables should have expectation of zero (conditional or unconditional).\n",
    "\n",
    "\n",
    "- The column “d.p” contains the dividend-price ratio for the CRSP value-weighted index, computed at the start of the return period. Hence functions of d.p[i] (i.e. quantile indicator functions) are valid instruments for the returns in row i.\n",
    "\n",
    "\n",
    "- The final column “log.RW” contains values of the logarithmic return on CRSP value-weighted index. We use this as a proxy for the logarithmic return on wealth. This is the random variable whose expectation we are intersted in bounding.\n",
    "\n",
    "All returns are quarterly and inflation-adjusted."
   ]
  },
  {
   "cell_type": "code",
   "execution_count": null,
   "metadata": {
    "scrolled": true
   },
   "outputs": [],
   "source": [
    "# Load data\n",
    "data = pd.read_csv('data/UnitaryData.csv')\n",
    "# Show statistics of the data\n",
    "data.describe()"
   ]
  },
  {
   "cell_type": "markdown",
   "metadata": {},
   "source": [
    "Given our direct use of dividend-price measures, we purposefully choose a coarse conditioning of information and split the dividend price ratios into $n$ bins using the empirical percentiles. We take the dividend-price percentiles to be a $n$-state Markov process. Then we multiply each of the first four columns by each of the $n$ columns of the indicator function of dividend-price percentiles to form a $4n$-dimensional $f$. \n",
    "\n",
    "When bounding the expected logarithmic return on wealth, we take $\\log R^w$ as our $g$. When bounding the risk premium and volatility, we define $g$ as discussed above in Section 2.4 and 2.5. "
   ]
  },
  {
   "cell_type": "markdown",
   "metadata": {},
   "source": [
    "### 3.2 Computational Strategy\n",
    "\n",
    "Since we have $n$ distinct states in our application, we can represent the function $e(\\cdot)$ as a $n$-dimensional vector. Additionally, we are free to impose the normalization $e_1=1$. We can solve the dual problem numerically by something analogous to value function iteration for $e=(1,e_2,...,e_n)$. Here is the iteration scheme:\n",
    "\n",
    "\n",
    "1\\. Guess $e={\\mathbb{1}}_{n\\times 1}$.\n",
    "\n",
    "2\\. For $k \\in \\{1,2,...,n\\}$, solve\n",
    "\\begin{equation}\n",
    "v_k = \\min_{\\lambda_0} \\hat{\\mathbb{E}}\\left(\\exp \\left[-\\frac{1}{\\xi}g(X_1) + \\lambda_0 \\cdot f(X_1)\\right]e(Z_0)\\mid Z_0 = k\\right)\n",
    "\\end{equation}\n",
    "\n",
    "3\\. Store\n",
    "\\begin{align*}\n",
    "\\hat{e} &= v/v_1 \\\\\n",
    "\\hat{\\epsilon} &= v_1 \\\\\n",
    "\\text{error} &= \\|\\hat{e}-e\\|\n",
    "\\end{align*}\n",
    "\n",
    "4\\. Set $e = \\hat{e}$.\n",
    "\n",
    "5\\. Iterate steps 2-4 until error is smaller than $10^{-9}$.\n",
    "\n",
    "Once we have (approximately) stationary values for $\\epsilon^*$ and $e^*$ as well as the optimizing $\\lambda_0^*$, we can form the conditional belief distortion\n",
    "\\begin{equation}\n",
    "N_1 = \\frac{1}{\\epsilon^*} \\exp \\left[-\\frac{1}{\\xi}g(X_1)+\\lambda_0^* \\cdot f(X_1)\\right]\\frac{e^*(Z_1)}{e^*(Z_0)}\n",
    "\\end{equation}\n",
    "\n",
    "To obtain the unconditional relative entropy, we need to average across states using the implied stationary distribution coming from the distorted probabilities. Define a $n\\times n$ matrix $\\tilde{P}$ by \n",
    "$$\n",
    "\\tilde{P}_{i,j} = \\hat{\\mathbb{E}}\\left[N_1 \\mathcal{1}\\left(Z_1 = j\\right)\\mid Z_0 = i\\right]\n",
    "$$\n",
    "\n",
    "We should have that $\\tilde{P}$ is a transition probability matrix, so $\\tilde{P}\\mathbb{1}=\\mathbb{1}$. Next, solve for the stationary distribution $\\pi\\in \\mathbb{R}^n$ as the dominant left eigenvector of $\\tilde{P}$, i.e.\n",
    "\\begin{equation}\n",
    "\\tilde{\\pi}^\\prime \\tilde{P} = \\tilde{\\pi}^\\prime\n",
    "\\end{equation}\n",
    "\n",
    "Then, the unconditional relative entropy can be computed as\n",
    "\\begin{equation}\n",
    "\\text{RE}(\\xi) = \\sum_{k=1}^{n}\\hat{\\mathbb{E}}\\left[N_1\\log N_1 \\mid Z_0 = k\\right]\\cdot \\tilde{\\pi}_k\n",
    "\\end{equation}\n",
    "\n",
    "Note 1: the implementation is assuming a relative entropy divergence, but the iteration scheme also works for the quadratic specification of divergence.\n",
    "\n",
    "Note 2: in the following code implementation, we set $n=3$ as used in the paper. Users can specify a different $n$ by changing the `n_states` argument."
   ]
  },
  {
   "cell_type": "markdown",
   "metadata": {},
   "source": [
    "### 3.3 Results"
   ]
  },
  {
   "cell_type": "code",
   "execution_count": 2,
   "metadata": {},
   "outputs": [
    {
     "name": "stdout",
     "output_type": "stream",
     "text": [
      "--- Iteration information ---\n",
      "Number of iterations (lower bound problem): 186\n",
      "Number of iterations (upper bound problem): 221\n",
      "\n",
      "\n",
      "--- Converged values for the lower bound problem ---\n",
      "ϵ: 0.94\n",
      "e: [1.   0.37 0.13]\n",
      "λ: [-1.68  3.68 -0.39 -0.87 -1.36  3.36  0.73 -6.54 -0.28  2.28 -3.77 -7.08]\n",
      " \n",
      "--- Converged values for the upper bound problem ---\n",
      "ϵ: 1.02\n",
      "e: [1.   0.52 0.29]\n",
      "λ: [ 4.8  -2.8  -0.34 -0.44  4.96 -2.96  0.61 -5.44  6.46 -4.46 -3.21 -8.73]\n",
      "\n",
      "\n",
      "--- Transition Probability Matrix (Original) ---\n",
      "[[0.96 0.04 0.  ]\n",
      " [0.05 0.88 0.07]\n",
      " [0.   0.08 0.92]]\n",
      " \n",
      "--- Transition Probability Matrix (Distorted, lower bound problem) ---\n",
      "[[0.98 0.02 0.  ]\n",
      " [0.1  0.87 0.03]\n",
      " [0.   0.19 0.81]]\n",
      " \n",
      "--- Transition Probability Matrix (Distorted, upper bound problem) ---\n",
      "[[0.97 0.03 0.  ]\n",
      " [0.07 0.88 0.04]\n",
      " [0.   0.15 0.85]]\n",
      "\n",
      "\n",
      "--- Stationary Distribution (Original) ---\n",
      "[0.42 0.31 0.27]\n",
      " \n",
      "--- Stationary Distribution (Distorted, lower bound problem) ---\n",
      "[0.85 0.13 0.02]\n",
      " \n",
      "--- Stationary Distribution (Distorted, upper bound problem) ---\n",
      "[0.65 0.27 0.08]\n",
      "\n",
      "\n",
      "--- Relative Entropy (lower bound problem) ---\n",
      "E[NlogN|state 1] = 0.0075\n",
      "E[NlogN|state 2] = 0.0292\n",
      "E[NlogN|state 3] = 0.0634\n",
      "E[NlogN]         = 0.0114 \n",
      " \n",
      "--- Relative Entropy (Upper bound problem) ---\n",
      "E[NlogN|state 1] = 0.0038\n",
      "E[NlogN|state 2] = 0.0176\n",
      "E[NlogN|state 3] = 0.0524\n",
      "E[NlogN]         = 0.0114 \n",
      "\n",
      "\n",
      "--- Moment (Empirical, annualized, %) ---\n",
      "E[g(X)|state 1] = 5.12\n",
      "E[g(X)|state 2] = 3.54\n",
      "E[g(X)|state 3] = 13.89\n",
      "E[g(X)]  = 7.54 \n",
      " \n",
      "--- Moment (Lower bound, annualized, %) ---\n",
      "E[Ng(X)|state 1] = 1.55\n",
      "E[Ng(X)|state 2] = 2.54\n",
      "E[Ng(X)|state 3] = 4.54\n",
      "E[Ng(X)] = 1.73 \n",
      " \n",
      "--- Moment (Upper bound, annualized, %) ---\n",
      "E[Ng(X)|state 1] = 2.91\n",
      "E[Ng(X)|state 2] = 2.92\n",
      "E[Ng(X)|state 3] = 5.08\n",
      "E[Ng(X)] = 3.08 \n",
      "\n",
      "\n",
      "Time spent: 22.0 s\n"
     ]
    }
   ],
   "source": [
    "from source.plots import print_results\n",
    "time_start = time.time()\n",
    "\n",
    "n_states = 3 # User can set to other positive integers\n",
    "quadratic = False # User can set to True to use quadratic divergence\n",
    "\n",
    "div = 'QD' if quadratic else 'RE'\n",
    "f, log_Rw, z0, z1, Rf, Rm, SMB, HML = preprocess_data(n_states)\n",
    "g = log_Rw # Set g to be log return on wealth\n",
    "\n",
    "# Minimum divergence case\n",
    "result_min = solve(f, g, z0, z1, ξ=10., quadratic=quadratic,\n",
    "                   tol=1e-9, max_iter=1000)\n",
    "\n",
    "# 20% higher divergence case, lower bound problem\n",
    "ξ_20_lower = find_ξ(solver_args=(f, g, z0, z1, quadratic, 1e-9, 1000),\n",
    "                    min_div=result_min[div], pct=0.2, initial_guess=1.,\n",
    "                    interval=(0, 10.), tol=1e-5, max_iter=100)\n",
    "result_lower = solve(f, g, z0, z1, ξ=ξ_20_lower, quadratic=quadratic,\n",
    "                     tol=1e-9, max_iter=1000)\n",
    "\n",
    "# 20% higher divergence case, upper bound problem\n",
    "ξ_20_upper = find_ξ(solver_args=(f, -g, z0, z1, quadratic, 1e-9, 1000),\n",
    "                    min_div=result_min[div], pct=0.2, initial_guess=1.,\n",
    "                    interval=(0, 10.), tol=1e-5, max_iter=100)\n",
    "result_upper = solve(f, -g, z0, z1, ξ=ξ_20_upper, quadratic=quadratic,\n",
    "                     tol=1e-9, max_iter=1000)\n",
    "\n",
    "print_results(result_lower, result_upper, quadratic)\n",
    "\n",
    "print('Time spent:', round(time.time()-time_start,2),'s')"
   ]
  },
  {
   "cell_type": "code",
   "execution_count": 6,
   "metadata": {},
   "outputs": [
    {
     "data": {
      "text/plain": [
       "                     N: array([0.70179198, 0.53648493, 0.27769094, 0.62100734, 0.71308403,\n",
       "       1.00354469, 0.86507899, 0.82745863, 1.41520342, 1.11951996,\n",
       "       0.91747298, 1.00229453, 1.05166396, 1.64586659, 2.37639176,\n",
       "       0.55613835, 0.61034369, 0.36954931, 0.72985427, 1.68257022,\n",
       "       0.78650799, 1.04081771, 1.3049379 , 1.33417212, 1.47408515,\n",
       "       0.87707414, 0.31597462, 1.11455483, 0.8469281 , 1.00179376,\n",
       "       0.75054618, 0.77988875, 0.96212111, 1.18052179, 0.63457586,\n",
       "       0.59900115, 0.67786161, 0.92919611, 0.83905921, 0.57379886,\n",
       "       0.81374109, 0.78770565, 1.28303629, 0.89281716, 1.14808208,\n",
       "       0.85828322, 0.85294561, 1.16212005, 1.29823961, 1.09508238,\n",
       "       1.05346843, 0.80138325, 1.08036274, 0.8593807 , 1.58634366,\n",
       "       0.86015565, 0.82793375, 0.63897325, 0.91456621, 0.96314028,\n",
       "       1.18033493, 1.71076618, 1.69111541, 0.18910664, 2.15143846,\n",
       "       0.43853736, 0.71568531, 1.51088033, 1.2905055 , 1.13039493,\n",
       "       1.11289416, 1.18462744, 1.32417555, 0.68187061, 0.70725879,\n",
       "       2.1688711 , 0.49710177, 1.19245926, 0.70329402, 0.91502194,\n",
       "       0.55134794, 1.33768927, 2.08967623, 0.15954981, 0.59428056,\n",
       "       1.99011353, 0.75213003, 0.13044575, 1.11211161, 0.93847506,\n",
       "       0.58568224, 0.76495515, 0.65560829, 1.3276541 , 0.73393216,\n",
       "       0.6093747 , 0.79336336, 0.62535439, 2.4187642 , 0.54311815,\n",
       "       0.71959402, 0.82094448, 1.73335406, 2.1040797 , 0.47655607,\n",
       "       1.2182659 , 1.4125787 , 0.46843079, 0.51519098, 1.12609111,\n",
       "       0.69278686, 0.58422135, 0.90078965, 0.58515303, 0.51993374,\n",
       "       0.398839  , 0.66434112, 0.55349462, 0.73324233, 0.59409841,\n",
       "       1.27373262, 0.57288714, 0.79920192, 0.63761074, 0.65041305,\n",
       "       1.10958696, 0.7076411 , 0.52354284, 2.08678666, 0.53545751,\n",
       "       0.97755644, 1.11608502, 0.93377958, 0.94128441, 0.39130743,\n",
       "       0.39064711, 0.69426979, 0.90882559, 0.9670256 , 0.68836665,\n",
       "       0.90854372, 2.64521727, 1.07265655, 0.48664318, 4.56447679,\n",
       "       1.22822363, 0.43177299, 0.3964069 , 2.53644579, 1.09961485,\n",
       "       1.24754127, 0.40130894, 0.57101002, 1.14907314, 1.03085571,\n",
       "       0.42320512, 0.91638283, 0.94723263, 2.60043076, 1.04096027,\n",
       "       0.37550011, 1.29695783, 1.19532526, 0.76606565, 2.22141718,\n",
       "       0.87158722, 0.94561853, 0.97010563, 1.01425939, 0.95295606,\n",
       "       0.91817487, 0.9843717 , 0.73883258, 0.81368195, 0.94653127,\n",
       "       0.75942262, 0.97931159, 1.24299755, 0.73722352, 1.04655867,\n",
       "       0.87631181, 1.22616361, 0.92645882, 1.12589565, 1.05351049,\n",
       "       0.95792301, 1.03689179, 0.93731807, 0.89055769, 1.19717906,\n",
       "       0.66912509, 0.96204904, 1.3292134 , 1.40684684, 0.87339848,\n",
       "       1.2871124 , 0.60674209, 1.05314209, 0.81600981, 1.07688454,\n",
       "       1.0800383 , 1.09677447, 0.94694106, 1.04613927, 1.03558843,\n",
       "       1.17279797, 1.01329092, 0.91512174, 1.10993839, 1.0017865 ,\n",
       "       0.72814633, 1.07639945, 1.05540763, 1.13799423, 1.34051521,\n",
       "       1.2858447 , 1.40533211, 1.23723636, 0.36274554, 2.25035192,\n",
       "       0.22385845, 1.12393393, 1.05577766, 0.93731243, 1.19459116,\n",
       "       0.91271594, 0.92653315, 1.11303589, 1.2994411 , 1.48301848,\n",
       "       0.85317441, 0.86925729, 1.15161534, 0.96741843, 1.06245371,\n",
       "       0.8440338 , 0.94270028, 1.00363484, 0.87557881, 1.03811415,\n",
       "       1.02606587, 1.13472158, 0.90826161, 0.86879314, 1.13518779,\n",
       "       1.26319436, 0.94140107])\n",
       "                     P: array([[0.96341463, 0.03658537, 0.        ],\n",
       "       [0.04878049, 0.87804878, 0.07317073],\n",
       "       [0.        , 0.08433735, 0.91566265]])\n",
       "               P_tilde: array([[0.98493479, 0.01506521, 0.        ],\n",
       "       [0.09895918, 0.87218529, 0.02885552],\n",
       "       [0.        , 0.19446906, 0.80553094]])\n",
       "                    RE: 0.011362473051828472\n",
       "               RE_cond: array([0.00746985, 0.02921568, 0.06336602])\n",
       "                 count: 186\n",
       "                     e: array([1.        , 0.3707617 , 0.13002601])\n",
       "          moment_bound: 0.004335488217694616\n",
       "     moment_bound_cond: array([0.00387078, 0.00634566, 0.01136058])\n",
       "      moment_empirical: 0.01885718712628676\n",
       " moment_empirical_cond: array([0.01279643, 0.00884959, 0.03473195])\n",
       "                     v: array([-0.        ,  0.14115504,  0.29022421])\n",
       "                     λ: array([-1.68249747,  3.68249747, -0.39023565, -0.8704583 , -1.3550512 ,\n",
       "        3.3550512 ,  0.73344494, -6.53944199, -0.27650711,  2.27650711,\n",
       "       -3.77214275, -7.07899831])\n",
       "                     μ: 0.00919840162386765\n",
       "                     ξ: 0.14226531982421875\n",
       "                     π: array([0.41654572, 0.31240929, 0.27104499])\n",
       "               π_tilde: array([0.85119012, 0.12958232, 0.01922756])\n",
       "                     ϵ: 0.9373892433844149"
      ]
     },
     "execution_count": 6,
     "metadata": {},
     "output_type": "execute_result"
    }
   ],
   "source": [
    "result_lower"
   ]
  },
  {
   "cell_type": "code",
   "execution_count": null,
   "metadata": {},
   "outputs": [],
   "source": [
    "from source.utilities import construct_transition_matrix, chernoff_entropy\n",
    "time_start = time.time()\n",
    "# Compute Chernoff entropy for empirical distribution and distorted distribution with min rel entropy\n",
    "P_big, P_big_tilde = construct_transition_matrix(f, g, z0, z1, result_min['ξ'],\n",
    "                                                 result_min['P'], result_min['P_tilde'],\n",
    "                                                 result_min['λ'], result_min['v'],\n",
    "                                                 result_min['μ'], quadratic)\n",
    "decay_rate, optimal_s = chernoff_entropy(P_big, P_big_tilde, grid_size=1000)\n",
    "print('Chernoff entropy at the minimum: ', np.around(decay_rate,4))\n",
    "print('Time spent:', round(time.time()-time_start,2),'s')"
   ]
  },
  {
   "cell_type": "code",
   "execution_count": null,
   "metadata": {},
   "outputs": [],
   "source": [
    "from source.plots import entropy_moment_bounds\n",
    "time_start = time.time() \n",
    "entropy_moment_bounds(n_states) # Here we use relative entropy divergence\n",
    "print(\"Time spent: %s seconds ---\" % (round(time.time()-time_start,4)))"
   ]
  },
  {
   "cell_type": "markdown",
   "metadata": {},
   "source": [
    "## 4. Tables and plots"
   ]
  },
  {
   "cell_type": "code",
   "execution_count": null,
   "metadata": {},
   "outputs": [],
   "source": [
    "from source.plots import figure_1\n",
    "time_start = time.time()\n",
    "print('Figure 1: Expected log market return')\n",
    "figure_1()\n",
    "print('Note 1: here we use n_states = 3 and a relative entropy divergence.')\n",
    "print('Note 2: user can control the slider to change the percent increase')\n",
    "print('        of relative entropy from minimum.')\n",
    "print(\"Time spent: %s seconds ---\" % (round(time.time()-time_start,4)))"
   ]
  },
  {
   "cell_type": "code",
   "execution_count": null,
   "metadata": {},
   "outputs": [],
   "source": [
    "from source.plots import figure_2\n",
    "time_start = time.time()\n",
    "print(\"Figure 2: Proportional risk compensations\")\n",
    "figure_2()\n",
    "print('Note 1: here we use n_states = 3 and a relative entropy divergence.')\n",
    "print('Note 2: user can control the slider to change the percent increase')\n",
    "print('        of relative entropy from minimum.')\n",
    "print(\"Time spent: %s seconds ---\" % (round(time.time()-time_start,4)))"
   ]
  },
  {
   "cell_type": "code",
   "execution_count": null,
   "metadata": {},
   "outputs": [],
   "source": [
    "from source.plots import table_1\n",
    "time_start = time.time()\n",
    "table_1(n_states=3, quadratic=False)\n",
    "print(\"Time spent: %s seconds ---\" % (round(time.time()-time_start,4)))"
   ]
  },
  {
   "cell_type": "code",
   "execution_count": null,
   "metadata": {},
   "outputs": [],
   "source": [
    "from source.plots import table_2\n",
    "time_start = time.time()\n",
    "table_2()\n",
    "print(\"Time spent: %s seconds ---\" % (round(time.time()-time_start,4)))"
   ]
  },
  {
   "cell_type": "code",
   "execution_count": null,
   "metadata": {},
   "outputs": [],
   "source": [
    "from source.plots import table_3\n",
    "time_start = time.time()\n",
    "table_3()\n",
    "print(\"Time spent: %s seconds ---\" % (round(time.time()-time_start,4)))    "
   ]
  },
  {
   "cell_type": "code",
   "execution_count": null,
   "metadata": {},
   "outputs": [],
   "source": [
    "from source.plots import table_4\n",
    "time_start = time.time()\n",
    "table_4()\n",
    "print(\"Time spent: %s seconds ---\" % (round(time.time()-time_start,4)))    "
   ]
  },
  {
   "cell_type": "code",
   "execution_count": null,
   "metadata": {},
   "outputs": [],
   "source": [
    "from source.plots import table_5\n",
    "time_start = time.time()\n",
    "table_5(n_states=3)\n",
    "print(\"Time spent: %s seconds ---\" % (round(time.time()-time_start,4)))    "
   ]
  }
 ],
 "metadata": {
  "kernelspec": {
   "display_name": "Python 3",
   "language": "python",
   "name": "python3"
  },
  "language_info": {
   "codemirror_mode": {
    "name": "ipython",
    "version": 3
   },
   "file_extension": ".py",
   "mimetype": "text/x-python",
   "name": "python",
   "nbconvert_exporter": "python",
   "pygments_lexer": "ipython3",
   "version": "3.8.3"
  }
 },
 "nbformat": 4,
 "nbformat_minor": 4
}
