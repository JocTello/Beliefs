{
 "cells": [
  {
   "cell_type": "code",
   "execution_count": 1,
   "metadata": {},
   "outputs": [],
   "source": [
    "# Load packages\n",
    "import time\n",
    "from utilities import *"
   ]
  },
  {
   "cell_type": "markdown",
   "metadata": {},
   "source": [
    "### Remark 5.8. Bounding volatility\n",
    "\n",
    "- Set objective function to be $g_1(x)+\\zeta g_2(x)$ and vary $\\xi$ to hit the relative entropy constraint for alternative $\\zeta$ with no sign restrictions on $\\zeta$.\n",
    "\n",
    "\n",
    "- Compute \n",
    "$$\n",
    "\\log \\int \\mathbb{E}\\left[N_1^*g_1(X_1)\\mid \\mathfrak{I}_0\\right]d Q_0^* - \\int \\mathbb{E}\\left[N_1^*g_2(X_1)\\mid \\mathfrak{I}_0\\right]d Q_0^*\n",
    "$$\n",
    "which will depend on $\\zeta$.\n",
    "\n",
    "\n",
    "- Minimize over $\\zeta$.\n",
    "\n",
    "\n",
    "- Perform this for $g_1(X_1)=R_1^w$ and $g_2(X_1)=\\log R_1^w$ to compute a lower bound on the proportional risk premium."
   ]
  },
  {
   "cell_type": "code",
   "execution_count": 17,
   "metadata": {},
   "outputs": [
    {
     "name": "stdout",
     "output_type": "stream",
     "text": [
      "--- processing: #0 ---\n",
      "--- processing: #10 ---\n",
      "--- finished ---\n",
      "Time spent: 144.8144 seconds ---\n"
     ]
    }
   ],
   "source": [
    "# Lower bound\n",
    "# Count time\n",
    "time_start = time.time() \n",
    "\n",
    "# Use a grid for ζ\n",
    "ζ_min = -1.008\n",
    "ζ_max = -1.007\n",
    "ζ_points = 20\n",
    "ζ_step = (ζ_max-ζ_min)/ζ_points\n",
    "ζ_grid = np.arange(ζ_min,ζ_max,ζ_step)\n",
    "vol_array = np.zeros_like(ζ_grid)\n",
    "\n",
    "# Do computation for each ζ\n",
    "for i in range(len(ζ_grid)):\n",
    "    if i%10 == 0:\n",
    "        print('--- processing: #%s ---' % i)\n",
    "    ζ = ζ_grid[i]\n",
    "    vol_array[i],_,_,_ = volatility(ζ=ζ,x_min_RE=1.2,lower=True,ξ_tol=1e-7)\n",
    "print('--- finished ---')\n",
    "\n",
    "# Print out the time spent\n",
    "time_spent = round(time.time()-time_start,4)\n",
    "print(\"Time spent: %s seconds ---\" % (time_spent))"
   ]
  },
  {
   "cell_type": "code",
   "execution_count": 18,
   "metadata": {},
   "outputs": [
    {
     "data": {
      "image/png": "[encoded data removed]",
      "text/plain": [
       "<Figure size 576x360 with 1 Axes>"
      ]
     },
     "metadata": {
      "needs_background": "light"
     },
     "output_type": "display_data"
    }
   ],
   "source": [
    "import matplotlib.pyplot as plt\n",
    "%matplotlib inline\n",
    "plt.rcParams[\"figure.figsize\"] = (8,5)\n",
    "\n",
    "plt.plot(ζ_grid,vol_array)\n",
    "plt.xlabel('ζ')\n",
    "plt.ylabel('volatility lower bound')\n",
    "# plt.savefig('vol_plot_20%',dpi=100)\n",
    "plt.show()"
   ]
  },
  {
   "cell_type": "code",
   "execution_count": 21,
   "metadata": {},
   "outputs": [
    {
     "name": "stdout",
     "output_type": "stream",
     "text": [
      "Optimal ζ: -1.0074\n",
      "Lower bound on the proportional risk premium: 0.003048588795792815\n"
     ]
    }
   ],
   "source": [
    "vol_optimal = vol_array.min()\n",
    "ζ_optimal = ζ_grid[vol_array == vol_optimal][0]\n",
    "print('Optimal ζ: %s' % np.round(ζ_optimal,4))\n",
    "print('Lower bound on the proportional risk premium: %s' % vol_optimal)"
   ]
  }
 ],
 "metadata": {
  "kernelspec": {
   "display_name": "Python 3",
   "language": "python",
   "name": "python3"
  },
  "language_info": {
   "codemirror_mode": {
    "name": "ipython",
    "version": 3
   },
   "file_extension": ".py",
   "mimetype": "text/x-python",
   "name": "python",
   "nbconvert_exporter": "python",
   "pygments_lexer": "ipython3",
   "version": "3.7.1"
  }
 },
 "nbformat": 4,
 "nbformat_minor": 4
}
