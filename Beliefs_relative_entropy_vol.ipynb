{
 "cells": [
  {
   "cell_type": "code",
   "execution_count": 1,
   "metadata": {},
   "outputs": [],
   "source": [
    "# Load packages\n",
    "import time\n",
    "from utilities import *"
   ]
  },
  {
   "cell_type": "markdown",
   "metadata": {},
   "source": [
    "### Remark 5.8. Bounding volatility\n",
    "\n",
    "- Set objective function to be $g_1(x)+\\zeta g_2(x)$ and vary $\\xi$ to hit the relative entropy constraint for alternative $\\zeta$ with no sign restrictions on $\\zeta$.\n",
    "\n",
    "\n",
    "- Compute \n",
    "$$\n",
    "\\log \\int \\mathbb{E}\\left[N_1^*g_1(X_1)\\mid \\mathfrak{I}_0\\right]d Q_0^* - \\int \\mathbb{E}\\left[N_1^*g_2(X_1)\\mid \\mathfrak{I}_0\\right]d Q_0^*\n",
    "$$\n",
    "which will depend on $\\zeta$.\n",
    "\n",
    "\n",
    "- Minimize over $\\zeta$.\n",
    "\n",
    "\n",
    "- Perform this for $g_1(X_1)=R_1^w$ and $g_2(X_1)=\\log R_1^w$ to compute a lower bound on the proportional risk premium."
   ]
  },
  {
   "cell_type": "code",
   "execution_count": 23,
   "metadata": {},
   "outputs": [
    {
     "name": "stdout",
     "output_type": "stream",
     "text": [
      "--- processing: #0 ---\n",
      "--- processing: #10 ---\n",
      "--- processing: #20 ---\n",
      "--- processing: #30 ---\n",
      "--- processing: #40 ---\n",
      "--- processing: #50 ---\n",
      "--- processing: #60 ---\n",
      "--- processing: #70 ---\n",
      "--- finished ---\n",
      "Time spent: 618.1917 seconds ---\n"
     ]
    }
   ],
   "source": [
    "# Lower bound\n",
    "# Count time\n",
    "time_start = time.time() \n",
    "\n",
    "# Use a grid for ζ\n",
    "ζ_min = -1.04\n",
    "ζ_max = -0.96\n",
    "ζ_points = 20*4\n",
    "ζ_step = (ζ_max-ζ_min)/ζ_points\n",
    "ζ_grid = np.arange(ζ_min,ζ_max,ζ_step)\n",
    "vol_array = np.zeros_like(ζ_grid)\n",
    "\n",
    "# Do computation for each ζ\n",
    "for i in range(len(ζ_grid)):\n",
    "    if i%10 == 0:\n",
    "        print('--- processing: #%s ---' % i)\n",
    "    ζ = ζ_grid[i]\n",
    "    vol_array[i],_,_,_ = volatility(ζ=ζ,x_min_RE=1.2,lower=True,ξ_tol=1e-7)\n",
    "print('--- finished ---')\n",
    "\n",
    "# Print out the time spent\n",
    "time_spent = round(time.time()-time_start,4)\n",
    "print(\"Time spent: %s seconds ---\" % (time_spent))"
   ]
  },
  {
   "cell_type": "code",
   "execution_count": 24,
   "metadata": {},
   "outputs": [
    {
     "data": {
      "image/png": "[encoded data removed]",
      "text/plain": [
       "<Figure size 576x360 with 1 Axes>"
      ]
     },
     "metadata": {
      "needs_background": "light"
     },
     "output_type": "display_data"
    }
   ],
   "source": [
    "import matplotlib.pyplot as plt\n",
    "%matplotlib inline\n",
    "plt.rcParams[\"figure.figsize\"] = (8,5)\n",
    "\n",
    "plt.plot(ζ_grid,vol_array)\n",
    "plt.xlabel('ζ')\n",
    "plt.ylabel('volatility lower bound')\n",
    "# plt.savefig('vol_plot_20%',dpi=100)\n",
    "plt.show()"
   ]
  },
  {
   "cell_type": "code",
   "execution_count": 25,
   "metadata": {},
   "outputs": [
    {
     "name": "stdout",
     "output_type": "stream",
     "text": [
      "Optimal ζ: -1.008\n",
      "Lower bound on the proportional risk premium: 0.003048588972812712\n"
     ]
    }
   ],
   "source": [
    "vol_optimal = vol_array.min()\n",
    "ζ_optimal = ζ_grid[vol_array == vol_optimal][0]\n",
    "print('Optimal ζ: %s' % np.round(ζ_optimal,4))\n",
    "print('Lower bound on the proportional risk premium: %s' % vol_optimal)"
   ]
  },
  {
   "cell_type": "code",
   "execution_count": 26,
   "metadata": {},
   "outputs": [
    {
     "data": {
      "text/plain": [
       "array([-1.04 , -1.039, -1.038, -1.037, -1.036, -1.035, -1.034, -1.033,\n",
       "       -1.032, -1.031, -1.03 , -1.029, -1.028, -1.027, -1.026, -1.025,\n",
       "       -1.024, -1.023, -1.022, -1.021, -1.02 , -1.019, -1.018, -1.017,\n",
       "       -1.016, -1.015, -1.014, -1.013, -1.012, -1.011, -1.01 , -1.009,\n",
       "       -1.008, -1.007, -1.006, -1.005, -1.004, -1.003, -1.002, -1.001,\n",
       "       -1.   , -0.999, -0.998, -0.997, -0.996, -0.995, -0.994, -0.993,\n",
       "       -0.992, -0.991, -0.99 , -0.989, -0.988, -0.987, -0.986, -0.985,\n",
       "       -0.984, -0.983, -0.982, -0.981, -0.98 , -0.979, -0.978, -0.977,\n",
       "       -0.976, -0.975, -0.974, -0.973, -0.972, -0.971, -0.97 , -0.969,\n",
       "       -0.968, -0.967, -0.966, -0.965, -0.964, -0.963, -0.962, -0.961])"
      ]
     },
     "execution_count": 26,
     "metadata": {},
     "output_type": "execute_result"
    }
   ],
   "source": [
    "ζ_grid"
   ]
  }
 ],
 "metadata": {
  "kernelspec": {
   "display_name": "Python 3",
   "language": "python",
   "name": "python3"
  },
  "language_info": {
   "codemirror_mode": {
    "name": "ipython",
    "version": 3
   },
   "file_extension": ".py",
   "mimetype": "text/x-python",
   "name": "python",
   "nbconvert_exporter": "python",
   "pygments_lexer": "ipython3",
   "version": "3.7.1"
  }
 },
 "nbformat": 4,
 "nbformat_minor": 4
}
