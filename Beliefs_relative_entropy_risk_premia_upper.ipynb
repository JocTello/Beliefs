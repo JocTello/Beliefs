{
 "cells": [
  {
   "cell_type": "code",
   "execution_count": 1,
   "metadata": {},
   "outputs": [],
   "source": [
    "# Load packages\n",
    "import time\n",
    "from utilities import *"
   ]
  },
  {
   "cell_type": "markdown",
   "metadata": {},
   "source": [
    "### Remark 5.8. Bounding risk premia\n",
    "\n",
    "- Set objective function to be $g_1(x)+\\zeta g_2(x)$ and vary $\\xi$ to hit the relative entropy constraint for alternative $\\zeta$ with no sign restrictions on $\\zeta$.\n",
    "\n",
    "\n",
    "- Compute \n",
    "$$\n",
    "\\log \\int \\mathbb{E}\\left[N_1^*g_1(X_1)\\mid \\mathfrak{I}_0\\right]d Q_0^* - \\log \\int \\mathbb{E}\\left[N_1^*g_2(X_1)\\mid \\mathfrak{I}_0\\right]d Q_0^*\n",
    "$$\n",
    "which will depend on $\\zeta$.\n",
    "\n",
    "\n",
    "- Minimize over $\\zeta$.\n",
    "\n",
    "\n",
    "- Perform this for $g_1(X_1)=R_1^w$ and $g_2(X_1)=R_1^f$ to compute a lower bound on the proportional risk premium."
   ]
  },
  {
   "cell_type": "code",
   "execution_count": 3,
   "metadata": {},
   "outputs": [],
   "source": [
    "def risk_premia(ζ,lower=True,ξ_tol=1e-7):\n",
    "    # Initialize the solver\n",
    "    solver = InterDivConstraint(tol=1e-9,max_iter=1000)\n",
    "\n",
    "    # Define g(X) = Rw + ζ*Rf\n",
    "    g1 = np.exp(solver.log_Rw)\n",
    "    g2 = (solver.X[:,0]+1.)*np.exp(solver.log_Rw)\n",
    "\n",
    "    solver.g = g1 + ζ*g2\n",
    "\n",
    "    # Find ξ that corresponds to 120% min RE\n",
    "    x_min_RE = 1.2\n",
    "    ξ = solver.find_ξ(x_min_RE=x_min_RE,lower=lower,tol=ξ_tol,max_iter=100)\n",
    "\n",
    "    # Solve models with the chosen ξ\n",
    "    result = solver.iterate(ξ,lower=lower)\n",
    "\n",
    "    # Calculate risk premia\n",
    "    # Term 1\n",
    "    moment_bound_cond_g1 = []\n",
    "    for i in np.arange(1,solver.n_states+1,1):\n",
    "        temp = np.mean(result['N'][solver.pd_lag_indicator[:,i-1]]*g1[solver.pd_lag_indicator[:,i-1]])\n",
    "        moment_bound_cond_g1.append(temp)\n",
    "    moment_bound_cond_g1 = np.array(moment_bound_cond_g1)\n",
    "    moment_bound_g1 = moment_bound_cond_g1@result['π_tilde']\n",
    "    \n",
    "    # Term 2\n",
    "    moment_bound_cond_g2 = []\n",
    "    for i in np.arange(1,solver.n_states+1,1):\n",
    "        temp = np.mean(result['N'][solver.pd_lag_indicator[:,i-1]]*g2[solver.pd_lag_indicator[:,i-1]])\n",
    "        moment_bound_cond_g2.append(temp)\n",
    "    moment_bound_cond_g2 = np.array(moment_bound_cond_g2)\n",
    "    moment_bound_g2 = moment_bound_cond_g2@result['π_tilde']\n",
    "    \n",
    "    # Combine term 1 and term 2\n",
    "    risk_premia = np.log(moment_bound_g1) - np.log(moment_bound_g2)\n",
    "    \n",
    "    return risk_premia"
   ]
  },
  {
   "cell_type": "code",
   "execution_count": 4,
   "metadata": {},
   "outputs": [
    {
     "name": "stdout",
     "output_type": "stream",
     "text": [
      "--- processing: #0 ---\n",
      "--- processing: #10 ---\n",
      "--- processing: #20 ---\n",
      "--- processing: #30 ---\n",
      "--- processing: #40 ---\n",
      "--- processing: #50 ---\n",
      "--- processing: #60 ---\n",
      "--- processing: #70 ---\n",
      "--- processing: #80 ---\n",
      "--- processing: #90 ---\n",
      "--- processing: #100 ---\n",
      "--- processing: #110 ---\n",
      "--- processing: #120 ---\n",
      "--- processing: #130 ---\n",
      "--- processing: #140 ---\n",
      "--- processing: #150 ---\n",
      "--- processing: #160 ---\n",
      "--- processing: #170 ---\n",
      "--- processing: #180 ---\n",
      "--- processing: #190 ---\n",
      "--- processing: #200 ---\n",
      "--- finished ---\n",
      "Time spent: 1997.9438 seconds ---\n"
     ]
    }
   ],
   "source": [
    "# Upper bound\n",
    "# Count time\n",
    "time_start = time.time() \n",
    "\n",
    "# Use a grid for ζ\n",
    "ζ_min = -1.1\n",
    "ζ_max = -0.9\n",
    "ζ_points = 200\n",
    "ζ_step = (ζ_max-ζ_min)/ζ_points\n",
    "ζ_grid = np.arange(ζ_min,ζ_max,ζ_step)\n",
    "risk_premia_array = np.zeros_like(ζ_grid)\n",
    "\n",
    "# Do computation for each ζ\n",
    "for i in range(len(ζ_grid)):\n",
    "    if i%10 == 0:\n",
    "        print('--- processing: #%s ---' % i)\n",
    "    ζ = ζ_grid[i]\n",
    "    risk_premia_array[i] = risk_premia(ζ,lower=False,ξ_tol=1e-7)\n",
    "print('--- finished ---')\n",
    "\n",
    "# Print out the time spent\n",
    "time_spent = round(time.time()-time_start,4)\n",
    "print(\"Time spent: %s seconds ---\" % (time_spent))"
   ]
  },
  {
   "cell_type": "code",
   "execution_count": 5,
   "metadata": {},
   "outputs": [
    {
     "data": {
      "image/png": "[encoded data removed]",
      "text/plain": [
       "<Figure size 576x360 with 1 Axes>"
      ]
     },
     "metadata": {
      "needs_background": "light"
     },
     "output_type": "display_data"
    }
   ],
   "source": [
    "import matplotlib.pyplot as plt\n",
    "%matplotlib inline\n",
    "plt.rcParams[\"figure.figsize\"] = (8,5)\n",
    "\n",
    "plt.plot(ζ_grid,risk_premia_array)\n",
    "plt.xlabel('ζ')\n",
    "plt.ylabel('risk premia upper bound')\n",
    "plt.savefig('risk_premia_plot_20%',dpi=100)\n",
    "plt.show()"
   ]
  },
  {
   "cell_type": "code",
   "execution_count": 31,
   "metadata": {},
   "outputs": [
    {
     "name": "stdout",
     "output_type": "stream",
     "text": [
      "Optimal ζ: -1.007\n",
      "Upper bound on the proportional risk premium: 0.00814297373755317\n"
     ]
    }
   ],
   "source": [
    "risk_premia_optimal = risk_premia_array.max()\n",
    "ζ_optimal = ζ_grid[risk_premia_array == risk_premia_optimal][0]\n",
    "print('Optimal ζ: %s' % np.round(ζ_optimal,3))\n",
    "print('Upper bound on the proportional risk premium: %s' % risk_premia_optimal)"
   ]
  },
  {
   "cell_type": "code",
   "execution_count": 29,
   "metadata": {},
   "outputs": [
    {
     "data": {
      "text/plain": [
       "1.0"
      ]
     },
     "execution_count": 29,
     "metadata": {},
     "output_type": "execute_result"
    }
   ],
   "source": [
    "np.sign(0.5)"
   ]
  }
 ],
 "metadata": {
  "kernelspec": {
   "display_name": "Python 3",
   "language": "python",
   "name": "python3"
  },
  "language_info": {
   "codemirror_mode": {
    "name": "ipython",
    "version": 3
   },
   "file_extension": ".py",
   "mimetype": "text/x-python",
   "name": "python",
   "nbconvert_exporter": "python",
   "pygments_lexer": "ipython3",
   "version": "3.7.1"
  }
 },
 "nbformat": 4,
 "nbformat_minor": 4
}
