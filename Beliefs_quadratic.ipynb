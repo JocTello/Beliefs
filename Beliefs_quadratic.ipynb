{
 "cells": [
  {
   "cell_type": "markdown",
   "metadata": {},
   "source": [
    "## 1. Quadratic Divergence\n",
    "\n",
    "#### 1.1 Basic problem\n",
    "\n",
    "Find a pair $(\\mu,v)$ that satisfy\n",
    "\\begin{equation}\n",
    "\\mu = \\min_{N_1\\in \\mathcal{N}}\\mathbb E \\left(N_1 \\left[g(X_1)+v_1\\right]+\\frac{\\xi}{2}(N_1^2-N_1) \\mid \\mathfrak{I}_0\\right) - v_0\n",
    "\\end{equation}\n",
    "\n",
    "subject to:\n",
    "\\begin{align*}\n",
    "&\\mathbb{E}\\left[N_1f(X_1)\\mid\\mathfrak{I}_0\\right] = 0\\\\\n",
    "&\\mathbb{E}\\left[N_1\\mid\\mathfrak{I}_0\\right] = 1\n",
    "\\end{align*}\n",
    "\n",
    "#### 1.2 Dual problem\n",
    "\\begin{equation}\n",
    "\\mu = \\max_{\\lambda_1,\\lambda_2} -\\frac{\\xi}{2}\\mathbb{E}\\left[\\left(\\left[\\frac{1}{2}-\\frac{1}{\\xi}\\left[g(X)+v_1+\\lambda_1 \\cdot f(X) + \\lambda_2\\right]\\right]^+\\right)^2\\mid\\mathfrak{I}_0\\right]-\\lambda_2-v_0\n",
    "\\end{equation}\n",
    "\n",
    "The implied solution for the probablity distortion is:\n",
    "\n",
    "\\begin{equation}\n",
    "N_1^* = \\left[\\frac{1}{2} - \\frac{1}{\\xi^*}\\left[\\left(g(X)+v_1^*-v_0^*-\\mu^*\\right)+\\lambda_1^*\\cdot f(X)+\\lambda_2^*\\right]\\right]^+\n",
    "\\end{equation}"
   ]
  },
  {
   "cell_type": "code",
   "execution_count": null,
   "metadata": {},
   "outputs": [],
   "source": [
    "# Load packages\n",
    "import time\n",
    "from utilities_quadratic import *"
   ]
  },
  {
   "cell_type": "code",
   "execution_count": null,
   "metadata": {},
   "outputs": [],
   "source": [
    "# Initialize the solver\n",
    "solver = InterDivConstraint(tol=1e-9,max_iter=1000)\n",
    "\n",
    "# Define g(X) = log Rw\n",
    "solver.g = solver.log_Rw\n",
    "\n",
    "# Solve models with the chosen ξ\n",
    "result_min = solver.iterate(1.,lower=True)"
   ]
  },
  {
   "cell_type": "code",
   "execution_count": null,
   "metadata": {},
   "outputs": [],
   "source": [
    "np.mean(solver.f*result_min['M'].reshape(247,-1))"
   ]
  },
  {
   "cell_type": "code",
   "execution_count": 1,
   "metadata": {},
   "outputs": [],
   "source": [
    "from utilities_static_test import *"
   ]
  },
  {
   "cell_type": "code",
   "execution_count": 4,
   "metadata": {},
   "outputs": [],
   "source": [
    "solver = StaDivConstraint(tol=1e-8,max_iter=1000)\n",
    "result = solver.solve(k=1.,lower=True)"
   ]
  },
  {
   "cell_type": "code",
   "execution_count": 5,
   "metadata": {},
   "outputs": [
    {
     "ename": "KeyError",
     "evalue": "'M'",
     "output_type": "error",
     "traceback": [
      "\u001b[0;31m---------------------------------------------------------------------------\u001b[0m",
      "\u001b[0;31mKeyError\u001b[0m                                  Traceback (most recent call last)",
      "\u001b[0;32m<ipython-input-5-297b7c10cd84>\u001b[0m in \u001b[0;36m<module>\u001b[0;34m\u001b[0m\n\u001b[0;32m----> 1\u001b[0;31m \u001b[0mnp\u001b[0m\u001b[0;34m.\u001b[0m\u001b[0mmean\u001b[0m\u001b[0;34m(\u001b[0m\u001b[0msolver\u001b[0m\u001b[0;34m.\u001b[0m\u001b[0mf\u001b[0m\u001b[0;34m*\u001b[0m\u001b[0mresult\u001b[0m\u001b[0;34m[\u001b[0m\u001b[0;34m'M'\u001b[0m\u001b[0;34m]\u001b[0m\u001b[0;34m.\u001b[0m\u001b[0mreshape\u001b[0m\u001b[0;34m(\u001b[0m\u001b[0;36m247\u001b[0m\u001b[0;34m,\u001b[0m\u001b[0;34m-\u001b[0m\u001b[0;36m1\u001b[0m\u001b[0;34m)\u001b[0m\u001b[0;34m)\u001b[0m\u001b[0;34m\u001b[0m\u001b[0;34m\u001b[0m\u001b[0m\n\u001b[0m",
      "\u001b[0;31mKeyError\u001b[0m: 'M'"
     ]
    }
   ],
   "source": [
    "np.mean(solver.f*result['M'].reshape(247,-1))"
   ]
  }
 ],
 "metadata": {
  "kernelspec": {
   "display_name": "Python 3",
   "language": "python",
   "name": "python3"
  },
  "language_info": {
   "codemirror_mode": {
    "name": "ipython",
    "version": 3
   },
   "file_extension": ".py",
   "mimetype": "text/x-python",
   "name": "python",
   "nbconvert_exporter": "python",
   "pygments_lexer": "ipython3",
   "version": "3.7.1"
  }
 },
 "nbformat": 4,
 "nbformat_minor": 4
}
