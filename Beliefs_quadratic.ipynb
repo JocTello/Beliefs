{
 "cells": [
  {
   "cell_type": "markdown",
   "metadata": {},
   "source": [
    "## 1. Quadratic Divergence\n",
    "\n",
    "#### 1.1 Basic problem\n",
    "\n",
    "Find a pair $(\\mu,v)$ that satisfy\n",
    "\\begin{equation}\n",
    "\\mu = \\min_{N_1\\in \\mathcal{N}}\\mathbb E \\left(N_1 \\left[g(X_1)+v_1\\right]+\\frac{\\xi}{2}(N_1^2-N_1) \\mid \\mathfrak{I}_0\\right) - v_0\n",
    "\\end{equation}\n",
    "\n",
    "subject to:\n",
    "\\begin{align*}\n",
    "&\\mathbb{E}\\left[N_1f(X_1)\\mid\\mathfrak{I}_0\\right] = 0\\\\\n",
    "&\\mathbb{E}\\left[N_1\\right] = 1\n",
    "\\end{align*}\n",
    "\n",
    "#### 1.2 Dual problem\n",
    "\\begin{equation}\n",
    "\\mu = \\max_{\\lambda_1,\\lambda_2} -\\frac{\\xi}{2}\\mathbb{E}\\left[\\left(\\left[\\frac{1}{2}-\\frac{1}{\\xi}\\left[g(X)+v_1+\\lambda_1 \\cdot f(X) + \\lambda_2\\right]\\right]^+\\right)^2\\mid\\mathfrak{I}_0\\right]-\\lambda_2-v_0\n",
    "\\end{equation}\n",
    "\n",
    "The implied solution for the probablity distortion is:\n",
    "\n",
    "\\begin{equation}\n",
    "N_1^* = \\left[\\frac{1}{2} - \\frac{1}{\\xi^*}\\left[\\left(g(X)+v_1^*-v_0^*-\\mu^*\\right)+\\lambda_1^*\\cdot f(X)+\\lambda_2^*\\right]\\right]^+\n",
    "\\end{equation}"
   ]
  },
  {
   "cell_type": "code",
   "execution_count": null,
   "metadata": {},
   "outputs": [],
   "source": []
  }
 ],
 "metadata": {
  "kernelspec": {
   "display_name": "Python 3",
   "language": "python",
   "name": "python3"
  },
  "language_info": {
   "codemirror_mode": {
    "name": "ipython",
    "version": 3
   },
   "file_extension": ".py",
   "mimetype": "text/x-python",
   "name": "python",
   "nbconvert_exporter": "python",
   "pygments_lexer": "ipython3",
   "version": "3.7.1"
  }
 },
 "nbformat": 4,
 "nbformat_minor": 4
}
