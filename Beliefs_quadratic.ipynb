{
 "cells": [
  {
   "cell_type": "markdown",
   "metadata": {},
   "source": [
    "## 1. Quadratic Divergence\n",
    "\n",
    "#### 1.1 Basic problem\n",
    "\n",
    "Find a pair $(\\mu,v)$ that satisfy\n",
    "\\begin{equation}\n",
    "\\mu = \\min_{N_1\\in \\mathcal{N}}\\mathbb E \\left(N_1 \\left[g(X_1)+v_1\\right]+\\frac{\\xi}{2}(N_1^2-N_1) \\mid \\mathfrak{I}_0\\right) - v_0\n",
    "\\end{equation}\n",
    "\n",
    "subject to:\n",
    "\\begin{align*}\n",
    "&\\mathbb{E}\\left[N_1f(X_1)\\mid\\mathfrak{I}_0\\right] = 0\\\\\n",
    "&\\mathbb{E}\\left[N_1\\mid\\mathfrak{I}_0\\right] = 1\n",
    "\\end{align*}\n",
    "\n",
    "#### 1.2 Dual problem\n",
    "\\begin{equation}\n",
    "\\mu = \\max_{\\lambda_1,\\lambda_2} -\\frac{\\xi}{2}\\mathbb{E}\\left[\\left(\\left[\\frac{1}{2}-\\frac{1}{\\xi}\\left[g(X)+v_1+\\lambda_1 \\cdot f(X) + \\lambda_2\\right]\\right]^+\\right)^2\\mid\\mathfrak{I}_0\\right]-\\lambda_2-v_0\n",
    "\\end{equation}\n",
    "\n",
    "The implied solution for the probablity distortion is:\n",
    "\n",
    "\\begin{equation}\n",
    "N_1^* = \\left[\\frac{1}{2} - \\frac{1}{\\xi^*}\\left[g(X)+v_1^*+\\lambda_1^*\\cdot f(X)+\\lambda_2^*\\right]\\right]^+\n",
    "\\end{equation}"
   ]
  },
  {
   "cell_type": "code",
   "execution_count": 1,
   "metadata": {},
   "outputs": [],
   "source": [
    "# Load packages\n",
    "import time\n",
    "from utilities_quadratic import *"
   ]
  },
  {
   "cell_type": "code",
   "execution_count": 8,
   "metadata": {},
   "outputs": [
    {
     "name": "stdout",
     "output_type": "stream",
     "text": [
      "Total: 266 iterations\n"
     ]
    }
   ],
   "source": [
    "# Initialize the solver\n",
    "solver = InterDivConstraint(tol=1e-10,max_iter=1000)\n",
    "\n",
    "# Define g(X) = log Rw\n",
    "solver.g = solver.log_Rw\n",
    "\n",
    "# Solve models with the chosen ξ\n",
    "result_min = solver.iterate(1.,lower=True)"
   ]
  },
  {
   "cell_type": "code",
   "execution_count": 9,
   "metadata": {},
   "outputs": [
    {
     "data": {
      "text/plain": [
       "array([1.00000004, 1.00000012, 1.00000007])"
      ]
     },
     "execution_count": 9,
     "metadata": {},
     "output_type": "execute_result"
    }
   ],
   "source": [
    "result_min['E_M_cond']"
   ]
  },
  {
   "cell_type": "code",
   "execution_count": null,
   "metadata": {},
   "outputs": [],
   "source": []
  },
  {
   "cell_type": "code",
   "execution_count": null,
   "metadata": {},
   "outputs": [],
   "source": []
  },
  {
   "cell_type": "code",
   "execution_count": null,
   "metadata": {},
   "outputs": [],
   "source": []
  }
 ],
 "metadata": {
  "kernelspec": {
   "display_name": "Python 3",
   "language": "python",
   "name": "python3"
  },
  "language_info": {
   "codemirror_mode": {
    "name": "ipython",
    "version": 3
   },
   "file_extension": ".py",
   "mimetype": "text/x-python",
   "name": "python",
   "nbconvert_exporter": "python",
   "pygments_lexer": "ipython3",
   "version": "3.7.1"
  }
 },
 "nbformat": 4,
 "nbformat_minor": 4
}
